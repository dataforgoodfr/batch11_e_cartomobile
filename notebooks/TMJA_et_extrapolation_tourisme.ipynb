{
 "cells": [
  {
   "cell_type": "code",
   "execution_count": 4,
   "metadata": {},
   "outputs": [],
   "source": [
    "import geopandas as gpd\n",
    "import os"
   ]
  },
  {
   "cell_type": "code",
   "execution_count": 5,
   "metadata": {},
   "outputs": [],
   "source": [
    "# data_path = 'C:/Users/demo/Desktop/Lattitude/datas/'\n",
    "data_path = 'datas'\n",
    "os.makedirs(data_path, exist_ok=True)"
   ]
  },
  {
   "cell_type": "code",
   "execution_count": 8,
   "metadata": {},
   "outputs": [],
   "source": [
    "# Load the data for French garge points\n",
    "file_name = 'dataset_charge_points.feather'\n",
    "\n",
    "bornes = gpd.read_feather(os.path.join(data_path, file_name))\n",
    "\n",
    "# Load the data for the communes\n",
    "file_name = 'dataset_communes.feather'\n",
    "\n",
    "datas = gpd.read_feather(os.path.join(data_path, file_name))\n",
    "\n",
    "file_name = 'TMJA2018'\n",
    "\n",
    "tmja = gpd.read_feather(os.path.join(data_path,file_name + '.feather'))"
   ]
  },
  {
   "attachments": {},
   "cell_type": "markdown",
   "metadata": {},
   "source": [
    "--------"
   ]
  },
  {
   "cell_type": "code",
   "execution_count": 24,
   "metadata": {},
   "outputs": [],
   "source": [
    "tmja_wrs84 = tmja.to_crs(4326)"
   ]
  },
  {
   "cell_type": "code",
   "execution_count": 31,
   "metadata": {},
   "outputs": [
    {
     "data": {
      "text/plain": [
       "Index(['dateRefere', 'route', 'longueur', 'prD', 'depPrD', 'concession',\n",
       "       'absD', 'cumulD', 'xD', 'yD', 'zD', 'prF', 'depPrF', 'concessi_1',\n",
       "       'absF', 'cumulF', 'xF', 'yF', 'zF', 'cote', 'anneeMesur', 'typeCompta',\n",
       "       'tmja', 'pctPL', 'geometry'],\n",
       "      dtype='object')"
      ]
     },
     "execution_count": 31,
     "metadata": {},
     "output_type": "execute_result"
    }
   ],
   "source": [
    "tmja_wrs84.keys()"
   ]
  },
  {
   "cell_type": "code",
   "execution_count": 48,
   "metadata": {},
   "outputs": [],
   "source": [
    "geo_list = tmja_wrs84.geometry"
   ]
  },
  {
   "cell_type": "code",
   "execution_count": 57,
   "metadata": {},
   "outputs": [],
   "source": [
    "points_list = []"
   ]
  },
  {
   "cell_type": "code",
   "execution_count": 58,
   "metadata": {},
   "outputs": [],
   "source": [
    "lenght_geolist = len(geo_list)\n",
    "\n",
    "for i in range(lenght_geolist):\n",
    "    points_list.append(list(geo_list[0].coords))\n",
    "\n",
    "tmja_wrs84['list_points'] = points_list"
   ]
  },
  {
   "attachments": {},
   "cell_type": "markdown",
   "metadata": {},
   "source": [
    "---------"
   ]
  },
  {
   "cell_type": "code",
   "execution_count": 65,
   "metadata": {},
   "outputs": [
    {
     "data": {
      "text/html": [
       "<div>\n",
       "<style scoped>\n",
       "    .dataframe tbody tr th:only-of-type {\n",
       "        vertical-align: middle;\n",
       "    }\n",
       "\n",
       "    .dataframe tbody tr th {\n",
       "        vertical-align: top;\n",
       "    }\n",
       "\n",
       "    .dataframe thead th {\n",
       "        text-align: right;\n",
       "    }\n",
       "</style>\n",
       "<table border=\"1\" class=\"dataframe\">\n",
       "  <thead>\n",
       "    <tr style=\"text-align: right;\">\n",
       "      <th></th>\n",
       "      <th>nb_vp</th>\n",
       "      <th>nb_vp_rechargeables_gaz</th>\n",
       "      <th>nb_vp_rechargeables_el</th>\n",
       "    </tr>\n",
       "  </thead>\n",
       "  <tbody>\n",
       "    <tr>\n",
       "      <th>count</th>\n",
       "      <td>314535.000000</td>\n",
       "      <td>314535.000000</td>\n",
       "      <td>314535.000000</td>\n",
       "    </tr>\n",
       "    <tr>\n",
       "      <th>mean</th>\n",
       "      <td>1863.089103</td>\n",
       "      <td>0.119955</td>\n",
       "      <td>19.333298</td>\n",
       "    </tr>\n",
       "    <tr>\n",
       "      <th>std</th>\n",
       "      <td>7242.008462</td>\n",
       "      <td>2.711924</td>\n",
       "      <td>103.856129</td>\n",
       "    </tr>\n",
       "    <tr>\n",
       "      <th>min</th>\n",
       "      <td>1.000000</td>\n",
       "      <td>0.000000</td>\n",
       "      <td>0.000000</td>\n",
       "    </tr>\n",
       "    <tr>\n",
       "      <th>25%</th>\n",
       "      <td>236.000000</td>\n",
       "      <td>0.000000</td>\n",
       "      <td>1.000000</td>\n",
       "    </tr>\n",
       "    <tr>\n",
       "      <th>50%</th>\n",
       "      <td>522.000000</td>\n",
       "      <td>0.000000</td>\n",
       "      <td>3.000000</td>\n",
       "    </tr>\n",
       "    <tr>\n",
       "      <th>75%</th>\n",
       "      <td>1285.000000</td>\n",
       "      <td>0.000000</td>\n",
       "      <td>10.000000</td>\n",
       "    </tr>\n",
       "    <tr>\n",
       "      <th>max</th>\n",
       "      <td>405637.000000</td>\n",
       "      <td>371.000000</td>\n",
       "      <td>6156.000000</td>\n",
       "    </tr>\n",
       "  </tbody>\n",
       "</table>\n",
       "</div>"
      ],
      "text/plain": [
       "               nb_vp  nb_vp_rechargeables_gaz  nb_vp_rechargeables_el\n",
       "count  314535.000000            314535.000000           314535.000000\n",
       "mean     1863.089103                 0.119955               19.333298\n",
       "std      7242.008462                 2.711924              103.856129\n",
       "min         1.000000                 0.000000                0.000000\n",
       "25%       236.000000                 0.000000                1.000000\n",
       "50%       522.000000                 0.000000                3.000000\n",
       "75%      1285.000000                 0.000000               10.000000\n",
       "max    405637.000000               371.000000             6156.000000"
      ]
     },
     "execution_count": 65,
     "metadata": {},
     "output_type": "execute_result"
    }
   ],
   "source": [
    "datas[['nb_vp', 'nb_vp_rechargeables_gaz', 'nb_vp_rechargeables_el']].describe()"
   ]
  },
  {
   "cell_type": "code",
   "execution_count": 76,
   "metadata": {},
   "outputs": [
    {
     "data": {
      "text/plain": [
       "Index(['insee', 'nom', 'wikipedia', 'surf_ha', 'geometry', 'PMUN', 'PCAP',\n",
       "       'PTOT', 'nb_vp', 'libepci', 'libgeo', 'nb_vp_rechargeables_gaz',\n",
       "       'date_arrete', 'epci', 'nb_vp_rechargeables_el', 'dep', 'dep_name',\n",
       "       'region_name'],\n",
       "      dtype='object')"
      ]
     },
     "execution_count": 76,
     "metadata": {},
     "output_type": "execute_result"
    }
   ],
   "source": [
    "datas.keys()"
   ]
  },
  {
   "cell_type": "code",
   "execution_count": 77,
   "metadata": {},
   "outputs": [],
   "source": [
    "communes_fin_2022 = datas.loc[datas['date_arrete']=='2022-12-31']"
   ]
  },
  {
   "cell_type": "code",
   "execution_count": 79,
   "metadata": {},
   "outputs": [
    {
     "data": {
      "text/plain": [
       "nb_vp                      65944969.0\n",
       "nb_vp_rechargeables_gaz        4562.0\n",
       "nb_vp_rechargeables_el       992737.0\n",
       "dtype: float64"
      ]
     },
     "execution_count": 79,
     "metadata": {},
     "output_type": "execute_result"
    }
   ],
   "source": [
    "communes_fin_2022[['nb_vp', 'nb_vp_rechargeables_gaz', 'nb_vp_rechargeables_el']].sum()"
   ]
  },
  {
   "cell_type": "code",
   "execution_count": 80,
   "metadata": {},
   "outputs": [
    {
     "name": "stderr",
     "output_type": "stream",
     "text": [
      "/tmp/ipykernel_178142/1716971962.py:1: UserWarning: Geometry is in a geographic CRS. Results from 'centroid' are likely incorrect. Use 'GeoSeries.to_crs()' to re-project geometries to a projected CRS before this operation.\n",
      "\n",
      "  communes_fin_2022['coords_centre'] = communes_fin_2022.geometry.centroid\n",
      "/home/jesshuan/miniconda3/envs/ECartoMobile/lib/python3.11/site-packages/geopandas/geodataframe.py:1443: SettingWithCopyWarning: \n",
      "A value is trying to be set on a copy of a slice from a DataFrame.\n",
      "Try using .loc[row_indexer,col_indexer] = value instead\n",
      "\n",
      "See the caveats in the documentation: https://pandas.pydata.org/pandas-docs/stable/user_guide/indexing.html#returning-a-view-versus-a-copy\n",
      "  super().__setitem__(key, value)\n"
     ]
    }
   ],
   "source": [
    "communes_fin_2022['coords_centre'] = communes_fin_2022.geometry.centroid"
   ]
  },
  {
   "cell_type": "code",
   "execution_count": null,
   "metadata": {},
   "outputs": [],
   "source": []
  }
 ],
 "metadata": {
  "kernelspec": {
   "display_name": "ECartoMobile",
   "language": "python",
   "name": "python3"
  },
  "language_info": {
   "codemirror_mode": {
    "name": "ipython",
    "version": 3
   },
   "file_extension": ".py",
   "mimetype": "text/x-python",
   "name": "python",
   "nbconvert_exporter": "python",
   "pygments_lexer": "ipython3",
   "version": "3.11.3"
  },
  "orig_nbformat": 4
 },
 "nbformat": 4,
 "nbformat_minor": 2
}
