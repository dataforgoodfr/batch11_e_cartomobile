{
 "cells": [
  {
   "attachments": {},
   "cell_type": "markdown",
   "metadata": {},
   "source": [
    "Auteur: Michaël Leroy\n",
    "\n",
    "    Création  geodataframe des Noeuds du graph:\n",
    "        attributs:\n",
    "          * osmid : id openstreetmap de ref de la commune  <- index\n",
    "          * codegeo: code insee pour pouvoir requeter sur les autres datasets\n",
    "          * y: longitude point central de la commune\n",
    "          * x: lattitude point centra de la commune\t\n",
    "\n",
    "          * counts: décompte du nombre de tags label 1 contenus dans le polygone de la commune\n",
    "          * geometry: area shape de la commune\n",
    "\n",
    "        ( A reprendre ou a requeter dans les datasets consolidés ?)\n",
    "            pop:  nombre d'habitants\n",
    "            bornes: \n",
    "            puissances:\n",
    "            ....\n",
    "\n",
    "  Les edges sont crées entre le centre commune et les 5 plus proches centres voisins (BallTree sklearn, distance Haversine), mais sans attributs à ce stade\n",
    "\n",
    "\n",
    "  [TODO] vérifier si il ne faut pas mettre (v,u,1) quand (u,v,0)\n",
    "          existe pour tenir compte de l'eventuelle non réciprocité des trajets routier\n",
    "          en fonction des voies empruntées. En théorie pas nécessaire dataframe avec multi index,\n",
    "          mais....\n"
   ]
  },
  {
   "cell_type": "code",
   "execution_count": null,
   "metadata": {},
   "outputs": [],
   "source": [
    "class CFG:\n",
    "    area = [\n",
    "        'Auvergne-Rhône-Alpes',\n",
    "    'Bourgogne-Franche-Comté',\n",
    "    'Brittany',\n",
    "    'Centre-Val de Loire',\n",
    "    'Grand Est',\n",
    "    'Hauts-de-France',\n",
    "    'Île-de-France',\n",
    "    'Normandie',\n",
    "    'Nouvelle-Aquitaine',\n",
    "    'Occitanie',\n",
    "    'Pays de la Loire',\n",
    "    'Provence-Alpes-Côte d\\'Azur'\n",
    "]\n",
    "    area_name = 'france'      #'_'.join(area)\n",
    "\n",
    "    \n",
    "\n",
    "    bornes = False\n",
    "\n",
    "    viz = True\n",
    "\n",
    "    roads = (\n",
    "        '|motorway'\n",
    "        '|motorway_link'\n",
    "        '|trunk'\n",
    "        '|trunk_link'\n",
    "        '|primary'\n",
    "        '|primary_link'\n",
    "        '|secondary'\n",
    "        '|secondary_link'\n",
    "        '|tertiary'\n",
    "         '|tertiary_link'\n",
    "    )\n",
    "\n",
    "        # '|primary'\n",
    "        # '|motorway_link'\n",
    "        \n",
    "        # '|primary_link'\n",
    "\n",
    "        # '|secondary'\n",
    "        # '|secondary_link'\n",
    "        \n",
    "        \n",
    "        #  '|tertiary'\n",
    "        #  '|tertiary_link'\n",
    "\n",
    "    data_path = './osm_datas/'\n",
    "\n",
    "import joblib\n",
    "joblib.dump(CFG.area, 'CFG.pkl')    \n",
    "\n",
    "import os\n",
    "os.environ['USE_PYGEOS'] = '0'\n",
    "\n",
    "%load_ext autoreload\n",
    "%autoreload\n",
    "\n",
    "\n",
    "%aimport OSM_helper_functions\n",
    "%aimport OCM_helper_functions\n",
    "\n",
    "import os\n",
    "os.environ['USE_PYGEOS'] = '0'\n",
    "import geopandas as gpd\n",
    "import osmnx as ox\n",
    "import networkx as nx\n",
    "from tqdm.notebook import tqdm\n",
    "from OSM_helper_functions import *\n",
    "from OCM_helper_functions import *\n",
    "\n",
    "\n",
    "ox.settings.log_console=True\n",
    "ox.settings.use_cache=True\n",
    "''' To retrieve http data from OSMnx and cache them locally\n",
    "    before building graph. Raise and exception if requests\n",
    "    are all done. intercept then set to False and retry.'''\n",
    "# ox.settings.cache_only_mode=True \n",
    "\n",
    "Administratives = {\n",
    "    'Auvergne-Rhône-Alpes': ['Ain', 'Allier', 'Ardèche', 'Cantal', 'Drôme', 'Isère', 'Loire', 'Haute-Loire', 'Puy-de-Dôme', 'Rhône', 'Savoie', 'Haute-Savoie'],\n",
    "    'Bourgogne-Franche-Comté': ['Côte-d\\'Or', 'Doubs', 'Jura', 'Nièvre', 'Haute-Saône', 'Saône-et-Loire', 'Yonne', 'Territoire de Belfort'],\n",
    "    'Brittany': ['Côtes-d\\'Armor', 'Finistère', 'Ille-et-Vilaine', 'Morbihan'],\n",
    "    'Centre-Val de Loire': ['Cher', 'Eure-et-Loir', 'Indre', 'Indre-et-Loire', 'Loir-et-Cher', 'Loiret'],\n",
    "    # 'Corse': ['Corse-du-Sud', 'Haute-Corse'],\n",
    "    'Grand Est': ['Ardennes', 'Aube', 'Marne', 'Haute-Marne', 'Meurthe-et-Moselle', 'Meuse', 'Moselle', 'Bas-Rhin', 'Haut-Rhin', 'Vosges'],\n",
    "    'Hauts-de-France': ['Aisne', 'Nord', 'Oise', 'Pas-de-Calais', 'Somme'],\n",
    "    'Île-de-France': ['Paris', 'Seine-et-Marne', 'Yvelines', 'Essonne', 'Hauts-de-Seine', 'Seine-Saint-Denis', 'Val-de-Marne', 'Val-d\\'Oise'],\n",
    "    'Normandie': ['Calvados', 'Eure', 'Manche', 'Orne', 'Seine-Maritime'],\n",
    "    'Nouvelle-Aquitaine': ['Charente', 'Charente-Maritime', 'Corrèze', 'Creuse', 'Dordogne', 'Gironde', 'Landes', 'Lot-et-Garonne', 'Pyrénées-Atlantiques', 'Deux-Sèvres', 'Vienne', 'Haute-Vienne'],\n",
    "    'Occitanie': ['Ariège', 'Aude', 'Aveyron', 'Gard', 'Haute-Garonne', 'Gers', 'Hérault', 'Lot', 'Lozère', 'Hautes-Pyrénées', 'Pyrénées-Orientales', 'Tarn', 'Tarn-et-Garonne'],\n",
    "    'Pays de la Loire': ['Loire-Atlantique', 'Maine-et-Loire', 'Mayenne', 'Sarthe', 'Vendée'],\n",
    "    'Provence-Alpes-Côte d\\'Azur': ['Alpes-de-Haute-Provence', 'Hautes-Alpes', 'Alpes-Maritimes', 'Bouches-du-Rhône', 'Var', 'Vaucluse']\n",
    "}\n",
    "\n",
    "Regions = [\n",
    "    'Auvergne-Rhône-Alpes',\n",
    "    'Bourgogne-Franche-Comté',\n",
    "    'Brittany',\n",
    "    'Centre-Val de Loire',\n",
    "    # 'Corse',\n",
    "    'Grand Est',\n",
    "    'Hauts-de-France',\n",
    "    'Île-de-France',\n",
    "    'Normandie',\n",
    "    'Nouvelle-Aquitaine',\n",
    "    'Occitanie',\n",
    "    'Pays de la Loire',\n",
    "    'Provence-Alpes-Côte d\\'Azur'\n",
    "]\n",
    "\n",
    "Name2num = {\n",
    "    'Ain': '01',\n",
    "    'Aisne': '02',\n",
    "    'Allier': '03',\n",
    "    'Alpes-de-Haute-Provence': '04',\n",
    "    'Hautes-Alpes': '05',\n",
    "    'Alpes-Maritimes': '06',\n",
    "    'Ardèche': '07',\n",
    "    'Ardennes': '08',\n",
    "    'Ariège': '09',\n",
    "    'Aube': '10',\n",
    "    'Aude': '11',\n",
    "    'Aveyron': '12',\n",
    "    'Bouches-du-Rhône': '13',\n",
    "    'Calvados': '14',\n",
    "    'Cantal': '15',\n",
    "    'Charente': '16',\n",
    "    'Charente-Maritime': '17',\n",
    "    'Cher': '18',\n",
    "    'Corrèze': '19',\n",
    "    # 'Corse-du-Sud': '2A',\n",
    "    # 'Haute-Corse': '2B',\n",
    "    'Côte-d\\'Or': '21',\n",
    "    'Côtes-d\\'Armor': '22',\n",
    "    'Creuse': '23',\n",
    "    'Dordogne': '24',\n",
    "    'Doubs': '25',\n",
    "    'Drôme': '26',\n",
    "    'Eure': '27',\n",
    "    'Eure-et-Loir': '28',\n",
    "    'Finistère': '29',\n",
    "    'Gard': '30',\n",
    "    'Haute-Garonne': '31',\n",
    "    'Gers': '32',\n",
    "    'Gironde': '33',\n",
    "    'Hérault': '34',\n",
    "    'Ille-et-Vilaine': '35',\n",
    "    'Indre': '36',\n",
    "    'Indre-et-Loire': '37',\n",
    "    'Isère': '38',\n",
    "    'Jura': '39',\n",
    "    'Landes': '40',\n",
    "    'Loir-et-Cher': '41',\n",
    "    'Loire': '42',\n",
    "    'Haute-Loire': '43',\n",
    "    'Loire-Atlantique': '44',\n",
    "    'Loiret': '45',\n",
    "    'Lot': '46',\n",
    "    'Lot-et-Garonne': '47',\n",
    "    'Lozère': '48',\n",
    "    'Maine-et-Loire': '49',\n",
    "    'Manche': '50',\n",
    "    'Marne': '51',\n",
    "    'Haute-Marne': '52',\n",
    "    'Mayenne': '53',\n",
    "    'Meurthe-et-Moselle': '54',\n",
    "    'Meuse': '55',\n",
    "    'Morbihan': '56',\n",
    "    'Moselle': '57',\n",
    "    'Nièvre': '58',\n",
    "    'Nord': '59',\n",
    "    'Oise': '60',\n",
    "    'Orne': '61',\n",
    "    'Pas-de-Calais': '62',\n",
    "    'Puy-de-Dôme': '63',\n",
    "    'Pyrénées-Atlantiques': '64',\n",
    "    'Hautes-Pyrénées': '65',\n",
    "    'Pyrénées-Orientales': '66',\n",
    "    'Bas-Rhin': '67',\n",
    "    'Haut-Rhin': '68',\n",
    "    'Rhône': '69',\n",
    "    'Haute-Saône': '70',\n",
    "    'Saône-et-Loire': '71',\n",
    "    'Sarthe': '72',\n",
    "    'Savoie': '73',\n",
    "    'Haute-Savoie': '74',\n",
    "    'Paris': '75',\n",
    "    'Seine-Maritime': '76',\n",
    "    'Seine-et-Marne': '77',\n",
    "    'Yvelines': '78',\n",
    "    'Deux-Sèvres': '79',\n",
    "    'Somme': '80',\n",
    "    'Tarn': '81',\n",
    "    'Tarn-et-Garonne': '82',\n",
    "    'Var': '83',\n",
    "    'Vaucluse': '84',\n",
    "    'Vendée': '85',\n",
    "    'Vienne': '86',\n",
    "    'Haute-Vienne': '87',\n",
    "    'Vosges': '88',\n",
    "    'Yonne': '89',\n",
    "    'Territoire de Belfort': '90',\n",
    "    'Essonne': '91',\n",
    "    'Hauts-de-Seine': '92',\n",
    "    'Seine-Saint-Denis': '93',\n",
    "    'Val-de-Marne': '94',\n",
    "    'Val-d\\'Oise': '95'\n",
    "}\n",
    "\n",
    "\n",
    "AREA = []\n",
    "for area in CFG.area:\n",
    "    AREA.extend(Administratives[area] )\n",
    "# AREA"
   ]
  },
  {
   "cell_type": "code",
   "execution_count": null,
   "metadata": {},
   "outputs": [],
   "source": [
    "data_path = './datas'\n",
    "file_name = 'decoupage_administratif'\n",
    "\n",
    "\n",
    "communes = gpd.read_feather(os.path.join(data_path,f'[{CFG.area_name}]{file_name}_osmid_centre.feather'))\n",
    "\n",
    "communes.crs"
   ]
  },
  {
   "cell_type": "code",
   "execution_count": null,
   "metadata": {},
   "outputs": [],
   "source": [
    "metro = Name2num.values()\n",
    "communes = communes.query(\"dep in @metro\")"
   ]
  },
  {
   "attachments": {},
   "cell_type": "markdown",
   "metadata": {},
   "source": [
    "Dirty fix on errors in osmid from previous notebook\n",
    "\n",
    "# TODO : enquire why, move fix to prevoius notebook"
   ]
  },
  {
   "cell_type": "code",
   "execution_count": null,
   "metadata": {},
   "outputs": [],
   "source": [
    "# MANUAL FIX FOR MISSING OSMID ON Nominatim resquests failures\n",
    "communes.loc[5228 , ['osmid','x','y']] = (89493,45.34241,0.14665)\n",
    "communes.loc[5229 , ['osmid','x','y']] = (63211,45.32810,-0.19941)\n",
    "communes.loc[10916, ['osmid','x','y']] = (59355,44.000480,4.368443)\n",
    "communes.loc[34954, ['osmid','x','y']] = (78755,48.21385,-0.21375)"
   ]
  },
  {
   "cell_type": "code",
   "execution_count": null,
   "metadata": {},
   "outputs": [],
   "source": [
    "dup = communes[communes[['osmid']].duplicated()]\n",
    "dup"
   ]
  },
  {
   "cell_type": "code",
   "execution_count": null,
   "metadata": {},
   "outputs": [],
   "source": [
    "for n, idx in enumerate(dup.index):\n",
    "    communes.loc[idx,'osmid'] = n + 10"
   ]
  },
  {
   "cell_type": "code",
   "execution_count": null,
   "metadata": {},
   "outputs": [],
   "source": [
    "dup = communes[communes[['osmid']].duplicated()]\n",
    "dup"
   ]
  },
  {
   "cell_type": "code",
   "execution_count": null,
   "metadata": {},
   "outputs": [],
   "source": [
    "# # Test on a sample\n",
    "# deps = ['56']  #+['51','52','08','10']\n",
    "# communes = communes.query(\"dep in @deps\")\n",
    "\n"
   ]
  },
  {
   "cell_type": "code",
   "execution_count": null,
   "metadata": {},
   "outputs": [],
   "source": [
    "\n",
    "\n",
    "display(communes.head(1))\n",
    "display(communes.info())\n",
    "communes.shape"
   ]
  },
  {
   "cell_type": "code",
   "execution_count": null,
   "metadata": {},
   "outputs": [],
   "source": [
    "communes[communes.x.isna()]"
   ]
  },
  {
   "cell_type": "code",
   "execution_count": null,
   "metadata": {},
   "outputs": [],
   "source": [
    "communes['osmid'] = communes['osmid'].astype(int)\n",
    "communes['osmid'] = communes['osmid'].astype(str)"
   ]
  },
  {
   "cell_type": "code",
   "execution_count": null,
   "metadata": {},
   "outputs": [],
   "source": [
    "candidate_labels = joblib.load( os.path.join(CFG.data_path,f'[{CFG.area_name}]candidate_labels.pkl'))\n",
    "labels2legend = joblib.load( os.path.join(CFG.data_path,f'[{CFG.area_name}]labels2legend.pkl'))\n",
    "\n",
    "file_name = 'datatourisme-place-20230529-tagged'\n",
    "\n",
    "tourism = gpd.read_feather(os.path.join(CFG.data_path,file_name + '.feather'))\n"
   ]
  },
  {
   "cell_type": "code",
   "execution_count": null,
   "metadata": {},
   "outputs": [],
   "source": [
    "tourism.set_crs(crs=4326)"
   ]
  },
  {
   "cell_type": "code",
   "execution_count": null,
   "metadata": {},
   "outputs": [],
   "source": [
    "tourism.crs"
   ]
  },
  {
   "attachments": {},
   "cell_type": "markdown",
   "metadata": {},
   "source": [
    "# Create Node geodataframe"
   ]
  },
  {
   "cell_type": "code",
   "execution_count": null,
   "metadata": {},
   "outputs": [],
   "source": [
    "display(communes.head(1),tourism.head(1)) "
   ]
  },
  {
   "cell_type": "code",
   "execution_count": null,
   "metadata": {},
   "outputs": [],
   "source": [
    "tourism['label'] = tourism.Class.map(labels2legend) \n",
    "\n",
    "tourism = tourism[['label','geometry']]\n"
   ]
  },
  {
   "cell_type": "code",
   "execution_count": null,
   "metadata": {},
   "outputs": [],
   "source": [
    "communes = communes[['osmid','x','y','codgeo','dep','reg','geometry']]"
   ]
  },
  {
   "cell_type": "code",
   "execution_count": null,
   "metadata": {},
   "outputs": [],
   "source": [
    "# joblib.load( os.path.join(CFG.data_path, f'[{CFG.area_name}]Gnodes.pkl')).head(1)"
   ]
  },
  {
   "cell_type": "code",
   "execution_count": null,
   "metadata": {},
   "outputs": [],
   "source": [
    "labels2legend.values()"
   ]
  },
  {
   "cell_type": "code",
   "execution_count": null,
   "metadata": {},
   "outputs": [],
   "source": [
    "tourism.set_geometry('geometry')"
   ]
  },
  {
   "cell_type": "code",
   "execution_count": null,
   "metadata": {},
   "outputs": [],
   "source": [
    "def get_tag_counts(geom):\n",
    "    sub = tourism[tourism['geometry'].within(geom)]\n",
    "    counts = sub.label.value_counts()\n",
    "    return counts\n",
    "\n",
    "\n",
    "counts = get_tag_counts(communes.iloc[15]['geometry'])\n",
    "counts "
   ]
  },
  {
   "cell_type": "code",
   "execution_count": null,
   "metadata": {},
   "outputs": [],
   "source": [
    "for key , value in zip(counts.index, counts):\n",
    "    display({key:value})"
   ]
  },
  {
   "cell_type": "code",
   "execution_count": null,
   "metadata": {},
   "outputs": [],
   "source": [
    "communes = communes.sample(frac=1.0)"
   ]
  },
  {
   "cell_type": "code",
   "execution_count": null,
   "metadata": {},
   "outputs": [],
   "source": [
    "from shapely import Point\n",
    "from networkx import MultiDiGraph\n",
    "G = MultiDiGraph(crs = 4326)\n",
    "\n",
    "total = communes.shape[0]\n",
    "for n, (i, row) in enumerate(communes.iterrows()):\n",
    "    counts = get_tag_counts(row['geometry'])\n",
    "    # display(counts)\n",
    "    print(f'{n+1}/{total} ~ {(n + 1) / total:.2%} ', end=' '*50 + '\\r')\n",
    "    attr = {\n",
    "        'y': float(row.x),\n",
    "        'x': float(row.y),\n",
    "        # 'geometry': Point(float(row.x),float(row.y)),\n",
    "        'codgeo': row.codgeo, \n",
    "        'area': row['geometry']\n",
    "    }\n",
    "    for key , value in zip(counts.index, counts):\n",
    "        attr.update({key:int(value)})\n",
    "\n",
    "    G.add_node(\n",
    "        row.osmid,\n",
    "        **attr\n",
    "    )\n",
    "    # if n == 1000 :\n",
    "        # break\n",
    "\n"
   ]
  },
  {
   "cell_type": "code",
   "execution_count": null,
   "metadata": {},
   "outputs": [],
   "source": [
    "# Check\n",
    "nodes = ox.graph_to_gdfs(G, nodes=True, edges=False)\n",
    "display(nodes.info(),nodes.head(5),nodes.tail(5))\n",
    "nodes.plot()\n",
    "del nodes"
   ]
  },
  {
   "cell_type": "code",
   "execution_count": null,
   "metadata": {},
   "outputs": [],
   "source": []
  },
  {
   "cell_type": "code",
   "execution_count": null,
   "metadata": {},
   "outputs": [],
   "source": [
    "######## BACKUP POINT ################\n",
    "\n",
    "# backup = G.copy()\n",
    "# G = backup.copy()"
   ]
  },
  {
   "cell_type": "code",
   "execution_count": null,
   "metadata": {},
   "outputs": [],
   "source": [
    "from sklearn.neighbors import BallTree\n",
    "\n",
    "def get_nearest(src_points, candidates, k_neighbors=1):\n",
    "    \"\"\"Find nearest neighbors for all source points from a set of candidate points\"\"\"\n",
    "    tree = BallTree(candidates, leaf_size=20, metric='haversine')\n",
    "    distances, indices = tree.query(src_points, k=k_neighbors)\n",
    "    if src_points.shape[0] > 1 :\n",
    "        distances = distances.transpose()\n",
    "        indices = indices.transpose()\n",
    "    closest = indices[0]\n",
    "    closest_dist = distances[0]\n",
    "    return (closest, closest_dist)"
   ]
  },
  {
   "cell_type": "code",
   "execution_count": null,
   "metadata": {},
   "outputs": [],
   "source": [
    "ANGLE = 0.04\n",
    "\n",
    "print(f'Distance for geopandas buffer: {6371 * ANGLE:.2f}')"
   ]
  },
  {
   "cell_type": "code",
   "execution_count": null,
   "metadata": {},
   "outputs": [],
   "source": [
    "from shapely import Point\n",
    "import numpy as np\n",
    "\n",
    "ANGLE = 0.04\n",
    "\n",
    "error_edges = []\n",
    "coord = ['x', 'y']\n",
    "print(f\"Distance for geopandas buffer: {6371 * ANGLE:.2f} (gros doute sur l\\'unité).\")\n",
    "for n, (i, row) in enumerate(communes.iterrows()):\n",
    "    try:\n",
    "        commune_center = Point(row.y,row.x)\n",
    "\n",
    "        sub_communes = communes[communes['geometry'].intersects(commune_center.buffer(ANGLE))]\n",
    "\n",
    "    \n",
    "        closests, distances = get_nearest(src_points= np.array(row[coord]).reshape(1, -1), \n",
    "                              candidates= sub_communes[coord],\n",
    "                              k_neighbors= min(sub_communes.shape[0], 5))\n",
    "        # print('>>>>>',row.codgeo, sub_communes.shape[0], closests)\n",
    "        \n",
    "\n",
    "        # Dirty fix for incomprehensible long edges\n",
    "        # distances = [ x for x in distances if x <= ANGLE]\n",
    "        # closest= [closest[i]for i in distances]\n",
    "        # stays 2 edges with abnornal non cloness edges (in south-est)\n",
    "\n",
    "        index = sub_communes.index\n",
    "        for _id in closests:\n",
    "            \n",
    "            node_id = sub_communes.loc[index[_id],'osmid']\n",
    "            # print(row.osmid,\n",
    "            #     node_id)\n",
    "            # start = row.osmid\n",
    "            # end = node_id\n",
    "            # line, length = get_path_attributes(Graph_routier, Nodes_routier,start,end)\n",
    "            # # display(line, length)\n",
    "            # # TODO: faire une fonction pour recuperér depuis le graph france le plus court chemin \n",
    "            # #       entre les deux nodes et concatener linestrings distances et durées    \n",
    "            # attr = {\n",
    "            #     'geometry': line,\n",
    "            #     'length': length\n",
    "            # }\n",
    "\n",
    "\n",
    "            G.add_edge(\n",
    "                row.osmid,\n",
    "                node_id,\n",
    "                0,\n",
    "                # **attr\n",
    "            )\n",
    "    except:\n",
    "        error_edges.append(n)       \n",
    "\n",
    "\n",
    "    # if n > 1000 : break\n",
    "    print(f'{n+1}/{total} ~ {(n + 1) / total:.2%} ', end=' '*50 + '\\r')    \n",
    "\n",
    "\n",
    "print(f'Errors edges: {error_edges}              ')    "
   ]
  },
  {
   "cell_type": "code",
   "execution_count": null,
   "metadata": {},
   "outputs": [],
   "source": [
    "G.number_of_nodes(), G.number_of_edges()"
   ]
  },
  {
   "cell_type": "code",
   "execution_count": null,
   "metadata": {},
   "outputs": [],
   "source": [
    "ox.plot.plot_graph(G, ax=None, figsize=(8, 8), bgcolor='#000000', node_color='r', node_size=.5, node_alpha=0.2, node_edgecolor='r', node_zorder=1, edge_color='blue', edge_linewidth=0.8, edge_alpha=0.2, show=True, close=False, save=False, filepath=None, dpi=300, bbox=None)\n"
   ]
  },
  {
   "attachments": {},
   "cell_type": "markdown",
   "metadata": {},
   "source": [
    "## Edges cleaning\n",
    "\n",
    "    remove (u,u) edges\n",
    "    remove edges with distance in Lambert projection > 100 km"
   ]
  },
  {
   "cell_type": "code",
   "execution_count": null,
   "metadata": {},
   "outputs": [],
   "source": [
    "nodes, edges = ox.graph_to_gdfs(G, nodes=True, edges=True)"
   ]
  },
  {
   "cell_type": "code",
   "execution_count": null,
   "metadata": {},
   "outputs": [],
   "source": [
    "# display(nodes.info(), nodes.head(5))"
   ]
  },
  {
   "cell_type": "code",
   "execution_count": null,
   "metadata": {},
   "outputs": [],
   "source": [
    "# nodes['y'] = nodes.y.astype(float)\n",
    "# nodes['x'] = nodes.x.astype(float)"
   ]
  },
  {
   "cell_type": "code",
   "execution_count": null,
   "metadata": {},
   "outputs": [],
   "source": [
    "# points = []\n",
    "# new_x =[]\n",
    "# new_y =[]\n",
    "# for x, y in zip(nodes.x, nodes.y):\n",
    "#     points.append(Point(y,x))\n",
    "#     new_x.append(y)\n",
    "#     new_y.append(x)"
   ]
  },
  {
   "cell_type": "code",
   "execution_count": null,
   "metadata": {},
   "outputs": [],
   "source": [
    "# nodes['geometry'] = points\n",
    "# nodes.set_geometry('geometry')"
   ]
  },
  {
   "cell_type": "code",
   "execution_count": null,
   "metadata": {},
   "outputs": [],
   "source": [
    "# nodes['x'] = new_x\n",
    "# nodes['y'] = new_y"
   ]
  },
  {
   "cell_type": "code",
   "execution_count": null,
   "metadata": {},
   "outputs": [],
   "source": [
    "# nodes.head(5)"
   ]
  },
  {
   "cell_type": "code",
   "execution_count": null,
   "metadata": {},
   "outputs": [],
   "source": [
    "# projection to Lambert, calculate distance, filter on distance, reproject to WS84\n",
    "display(edges.info(), edges.head(5))\n",
    "edges = ox.projection.project_gdf(edges,  to_crs=2154, to_latlong=False)  \n",
    "edges['dist'] = edges.geometry.length\n",
    "\n",
    "display(edges.dist.min(), edges.dist.max() )\n",
    "\n",
    "edges = edges.query(\"dist >0 and dist < 100000\")\n",
    "\n",
    "display(edges.reset_index().shape)\n",
    "\n",
    "edges.drop('dist', axis=1, inplace=True)\n",
    "edges = ox.projection.project_gdf(edges,  to_crs=4326, to_latlong=False)  \n"
   ]
  },
  {
   "cell_type": "code",
   "execution_count": null,
   "metadata": {},
   "outputs": [],
   "source": [
    "G1 = ox.graph_from_gdfs(nodes, edges)"
   ]
  },
  {
   "cell_type": "code",
   "execution_count": null,
   "metadata": {},
   "outputs": [],
   "source": [
    "ox.plot.plot_graph(G1, ax=None, figsize=(8, 8), bgcolor='#000000', node_color='r', node_size=.5, node_alpha=0.2, node_edgecolor='r', node_zorder=1, edge_color='blue', edge_linewidth=0.8, edge_alpha=0.2, show=True, close=False, save=False, filepath=None, dpi=300, bbox=None)"
   ]
  },
  {
   "cell_type": "code",
   "execution_count": null,
   "metadata": {},
   "outputs": [],
   "source": [
    "joblib.dump(nodes,os.path.join(CFG.data_path, f'[{CFG.area_name}]Gnodes_communes.pkl'))\n",
    "joblib.dump(edges,os.path.join(CFG.data_path, f'[{CFG.area_name}]Gedges_communes.pkl'))\n"
   ]
  },
  {
   "cell_type": "code",
   "execution_count": null,
   "metadata": {},
   "outputs": [],
   "source": [
    "ox.folium.plot_graph_folium(G1, \n",
    "                            graph_map=None, \n",
    "                            popup_attribute=None, \n",
    "                            tiles='cartodbpositron', \n",
    "                            zoom=1, \n",
    "                            fit_bounds=True)"
   ]
  },
  {
   "attachments": {},
   "cell_type": "markdown",
   "metadata": {},
   "source": [
    "------------------------------------------------------"
   ]
  },
  {
   "cell_type": "code",
   "execution_count": null,
   "metadata": {},
   "outputs": [],
   "source": [
    "# betweeness = nx.betweenness_centrality(\n",
    "#     G1, \n",
    "#     # k=None, \n",
    "#     # normalized=True, \n",
    "#     # weight='distance', \n",
    "#     # endpoints=False, \n",
    "#     # seed=42\n",
    "# )\n",
    "\n",
    "# betweeness.describe()"
   ]
  },
  {
   "cell_type": "code",
   "execution_count": null,
   "metadata": {},
   "outputs": [],
   "source": []
  }
 ],
 "metadata": {
  "kernelspec": {
   "display_name": "motion",
   "language": "python",
   "name": "python3"
  },
  "language_info": {
   "codemirror_mode": {
    "name": "ipython",
    "version": 3
   },
   "file_extension": ".py",
   "mimetype": "text/x-python",
   "name": "python",
   "nbconvert_exporter": "python",
   "pygments_lexer": "ipython3",
   "version": "3.9.16"
  },
  "orig_nbformat": 4
 },
 "nbformat": 4,
 "nbformat_minor": 2
}
