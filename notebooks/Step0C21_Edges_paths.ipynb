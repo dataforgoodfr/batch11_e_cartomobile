{
 "cells": [
  {
   "attachments": {},
   "cell_type": "markdown",
   "metadata": {},
   "source": [
    "Auteur: Michaël Leroy\n",
    "\n",
    "\n",
    "Modification du traitement pour la création des edges graph communes, essai sur geodataframe pour profiter de la vectorisation:\n",
    "        testé jusqu'a la recherche de paths... qui n'est pas vect et du coup hyper long (j'ai killé au bout de 3h)\n",
    "\n",
    "    Création geodataframe Edges:\n",
    "\n",
    "        calcul des edges attributes:\n",
    "            - shortest path depuis le graph routier => distance, durée\n",
    "            - geométrie: somme des LineString\n",
    "            - length : somme des longeurs de chaque tronçons en mètres\n",
    "\n",
    "[+] A faire:\n",
    "        \n",
    "        - prolonger les geometries des linestrings routes jusqu'au points centraux communes si on veut se servir des tracés sur une carte, sinon pas grave.\n",
    "\n",
    "[-] Cons:\n",
    "        \n",
    "        40 min pour 250 nodes et 1219 edges\n",
    "\n",
    "        -> temps estimé pour 170188 edges ~76h\n"
   ]
  },
  {
   "cell_type": "code",
   "execution_count": 1,
   "metadata": {},
   "outputs": [
    {
     "name": "stderr",
     "output_type": "stream",
     "text": [
      "C:\\Users\\demo\\AppData\\Roaming\\Python\\Python39\\site-packages\\scipy\\__init__.py:155: UserWarning: A NumPy version >=1.18.5 and <1.25.0 is required for this version of SciPy (detected version 1.25.0\n",
      "  warnings.warn(f\"A NumPy version >={np_minversion} and <{np_maxversion}\"\n"
     ]
    }
   ],
   "source": [
    "class CFG:\n",
    "    area = [\n",
    "        'Auvergne-Rhône-Alpes',\n",
    "    'Bourgogne-Franche-Comté',\n",
    "    'Brittany',\n",
    "    'Centre-Val de Loire',\n",
    "    'Grand Est',\n",
    "    'Hauts-de-France',\n",
    "    'Île-de-France',\n",
    "    'Normandie',\n",
    "    'Nouvelle-Aquitaine',\n",
    "    'Occitanie',\n",
    "    'Pays de la Loire',\n",
    "    'Provence-Alpes-Côte d\\'Azur'\n",
    "]\n",
    "    area_name = 'france'      #'_'.join(area)\n",
    "\n",
    "    \n",
    "\n",
    "    bornes = False\n",
    "\n",
    "    viz = True\n",
    "\n",
    "    roads = (\n",
    "        '|motorway'\n",
    "        '|motorway_link'\n",
    "        '|trunk'\n",
    "        '|trunk_link'\n",
    "        '|primary'\n",
    "        '|primary_link'\n",
    "        '|secondary'\n",
    "        '|secondary_link'\n",
    "        '|tertiary'\n",
    "         '|tertiary_link'\n",
    "    )\n",
    "\n",
    "        # '|primary'\n",
    "        # '|motorway_link'\n",
    "        \n",
    "        # '|primary_link'\n",
    "\n",
    "        # '|secondary'\n",
    "        # '|secondary_link'\n",
    "        \n",
    "        \n",
    "        #  '|tertiary'\n",
    "        #  '|tertiary_link'\n",
    "\n",
    "    data_path = './osm_datas/'\n",
    "\n",
    "import joblib\n",
    "joblib.dump(CFG.area, 'CFG.pkl')    \n",
    "\n",
    "import os\n",
    "os.environ['USE_PYGEOS'] = '0'\n",
    "\n",
    "%load_ext autoreload\n",
    "%autoreload\n",
    "\n",
    "\n",
    "%aimport OSM_helper_functions\n",
    "%aimport OCM_helper_functions\n",
    "\n",
    "import os\n",
    "os.environ['USE_PYGEOS'] = '0'\n",
    "import geopandas as gpd\n",
    "import osmnx as ox\n",
    "import networkx as nx\n",
    "from tqdm.notebook import tqdm\n",
    "from OSM_helper_functions import *\n",
    "from OCM_helper_functions import *\n",
    "\n",
    "\n",
    "ox.settings.log_console=True\n",
    "ox.settings.use_cache=True\n",
    "''' To retrieve http data from OSMnx and cache them locally\n",
    "    before building graph. Raise and exception if requests\n",
    "    are all done. intercept then set to False and retry.'''\n",
    "# ox.settings.cache_only_mode=True \n",
    "\n",
    "Administratives = {\n",
    "    'Auvergne-Rhône-Alpes': ['Ain', 'Allier', 'Ardèche', 'Cantal', 'Drôme', 'Isère', 'Loire', 'Haute-Loire', 'Puy-de-Dôme', 'Rhône', 'Savoie', 'Haute-Savoie'],\n",
    "    'Bourgogne-Franche-Comté': ['Côte-d\\'Or', 'Doubs', 'Jura', 'Nièvre', 'Haute-Saône', 'Saône-et-Loire', 'Yonne', 'Territoire de Belfort'],\n",
    "    'Brittany': ['Côtes-d\\'Armor', 'Finistère', 'Ille-et-Vilaine', 'Morbihan'],\n",
    "    'Centre-Val de Loire': ['Cher', 'Eure-et-Loir', 'Indre', 'Indre-et-Loire', 'Loir-et-Cher', 'Loiret'],\n",
    "    # 'Corse': ['Corse-du-Sud', 'Haute-Corse'],\n",
    "    'Grand Est': ['Ardennes', 'Aube', 'Marne', 'Haute-Marne', 'Meurthe-et-Moselle', 'Meuse', 'Moselle', 'Bas-Rhin', 'Haut-Rhin', 'Vosges'],\n",
    "    'Hauts-de-France': ['Aisne', 'Nord', 'Oise', 'Pas-de-Calais', 'Somme'],\n",
    "    'Île-de-France': ['Paris', 'Seine-et-Marne', 'Yvelines', 'Essonne', 'Hauts-de-Seine', 'Seine-Saint-Denis', 'Val-de-Marne', 'Val-d\\'Oise'],\n",
    "    'Normandie': ['Calvados', 'Eure', 'Manche', 'Orne', 'Seine-Maritime'],\n",
    "    'Nouvelle-Aquitaine': ['Charente', 'Charente-Maritime', 'Corrèze', 'Creuse', 'Dordogne', 'Gironde', 'Landes', 'Lot-et-Garonne', 'Pyrénées-Atlantiques', 'Deux-Sèvres', 'Vienne', 'Haute-Vienne'],\n",
    "    'Occitanie': ['Ariège', 'Aude', 'Aveyron', 'Gard', 'Haute-Garonne', 'Gers', 'Hérault', 'Lot', 'Lozère', 'Hautes-Pyrénées', 'Pyrénées-Orientales', 'Tarn', 'Tarn-et-Garonne'],\n",
    "    'Pays de la Loire': ['Loire-Atlantique', 'Maine-et-Loire', 'Mayenne', 'Sarthe', 'Vendée'],\n",
    "    'Provence-Alpes-Côte d\\'Azur': ['Alpes-de-Haute-Provence', 'Hautes-Alpes', 'Alpes-Maritimes', 'Bouches-du-Rhône', 'Var', 'Vaucluse']\n",
    "}\n",
    "\n",
    "Regions = [\n",
    "    'Auvergne-Rhône-Alpes',\n",
    "    'Bourgogne-Franche-Comté',\n",
    "    'Brittany',\n",
    "    'Centre-Val de Loire',\n",
    "    # 'Corse',\n",
    "    'Grand Est',\n",
    "    'Hauts-de-France',\n",
    "    'Île-de-France',\n",
    "    'Normandie',\n",
    "    'Nouvelle-Aquitaine',\n",
    "    'Occitanie',\n",
    "    'Pays de la Loire',\n",
    "    'Provence-Alpes-Côte d\\'Azur'\n",
    "]\n",
    "\n",
    "Name2num = {\n",
    "    'Ain': '01',\n",
    "    'Aisne': '02',\n",
    "    'Allier': '03',\n",
    "    'Alpes-de-Haute-Provence': '04',\n",
    "    'Hautes-Alpes': '05',\n",
    "    'Alpes-Maritimes': '06',\n",
    "    'Ardèche': '07',\n",
    "    'Ardennes': '08',\n",
    "    'Ariège': '09',\n",
    "    'Aube': '10',\n",
    "    'Aude': '11',\n",
    "    'Aveyron': '12',\n",
    "    'Bouches-du-Rhône': '13',\n",
    "    'Calvados': '14',\n",
    "    'Cantal': '15',\n",
    "    'Charente': '16',\n",
    "    'Charente-Maritime': '17',\n",
    "    'Cher': '18',\n",
    "    'Corrèze': '19',\n",
    "    # 'Corse-du-Sud': '2A',\n",
    "    # 'Haute-Corse': '2B',\n",
    "    'Côte-d\\'Or': '21',\n",
    "    'Côtes-d\\'Armor': '22',\n",
    "    'Creuse': '23',\n",
    "    'Dordogne': '24',\n",
    "    'Doubs': '25',\n",
    "    'Drôme': '26',\n",
    "    'Eure': '27',\n",
    "    'Eure-et-Loir': '28',\n",
    "    'Finistère': '29',\n",
    "    'Gard': '30',\n",
    "    'Haute-Garonne': '31',\n",
    "    'Gers': '32',\n",
    "    'Gironde': '33',\n",
    "    'Hérault': '34',\n",
    "    'Ille-et-Vilaine': '35',\n",
    "    'Indre': '36',\n",
    "    'Indre-et-Loire': '37',\n",
    "    'Isère': '38',\n",
    "    'Jura': '39',\n",
    "    'Landes': '40',\n",
    "    'Loir-et-Cher': '41',\n",
    "    'Loire': '42',\n",
    "    'Haute-Loire': '43',\n",
    "    'Loire-Atlantique': '44',\n",
    "    'Loiret': '45',\n",
    "    'Lot': '46',\n",
    "    'Lot-et-Garonne': '47',\n",
    "    'Lozère': '48',\n",
    "    'Maine-et-Loire': '49',\n",
    "    'Manche': '50',\n",
    "    'Marne': '51',\n",
    "    'Haute-Marne': '52',\n",
    "    'Mayenne': '53',\n",
    "    'Meurthe-et-Moselle': '54',\n",
    "    'Meuse': '55',\n",
    "    'Morbihan': '56',\n",
    "    'Moselle': '57',\n",
    "    'Nièvre': '58',\n",
    "    'Nord': '59',\n",
    "    'Oise': '60',\n",
    "    'Orne': '61',\n",
    "    'Pas-de-Calais': '62',\n",
    "    'Puy-de-Dôme': '63',\n",
    "    'Pyrénées-Atlantiques': '64',\n",
    "    'Hautes-Pyrénées': '65',\n",
    "    'Pyrénées-Orientales': '66',\n",
    "    'Bas-Rhin': '67',\n",
    "    'Haut-Rhin': '68',\n",
    "    'Rhône': '69',\n",
    "    'Haute-Saône': '70',\n",
    "    'Saône-et-Loire': '71',\n",
    "    'Sarthe': '72',\n",
    "    'Savoie': '73',\n",
    "    'Haute-Savoie': '74',\n",
    "    'Paris': '75',\n",
    "    'Seine-Maritime': '76',\n",
    "    'Seine-et-Marne': '77',\n",
    "    'Yvelines': '78',\n",
    "    'Deux-Sèvres': '79',\n",
    "    'Somme': '80',\n",
    "    'Tarn': '81',\n",
    "    'Tarn-et-Garonne': '82',\n",
    "    'Var': '83',\n",
    "    'Vaucluse': '84',\n",
    "    'Vendée': '85',\n",
    "    'Vienne': '86',\n",
    "    'Haute-Vienne': '87',\n",
    "    'Vosges': '88',\n",
    "    'Yonne': '89',\n",
    "    'Territoire de Belfort': '90',\n",
    "    'Essonne': '91',\n",
    "    'Hauts-de-Seine': '92',\n",
    "    'Seine-Saint-Denis': '93',\n",
    "    'Val-de-Marne': '94',\n",
    "    'Val-d\\'Oise': '95'\n",
    "}\n",
    "\n",
    "\n",
    "AREA = []\n",
    "for area in CFG.area:\n",
    "    AREA.extend(Administratives[area] )\n",
    "# AREA"
   ]
  },
  {
   "cell_type": "code",
   "execution_count": 2,
   "metadata": {},
   "outputs": [],
   "source": [
    "\n",
    "# # Nodes = joblib.load(os.path.join(CFG.data_path, f'[{CFG.area_name}]Gnodes_communes.pkl'))\n",
    "# Edges = gpd.read_feather(os.path.join(CFG.data_path, f'[{CFG.area_name}]Gedges_communes_0.feather'))\n",
    "# # G_communes = ox.graph_from_gdfs(Nodes, Edges)\n",
    "\n",
    "# Edges.reset_index(inplace=True)\n",
    "\n",
    "# Edges.sample(2)"
   ]
  },
  {
   "cell_type": "code",
   "execution_count": 3,
   "metadata": {},
   "outputs": [],
   "source": [
    "# Edges.info()"
   ]
  },
  {
   "cell_type": "code",
   "execution_count": 4,
   "metadata": {},
   "outputs": [],
   "source": [
    "# Nodes_routier = joblib.load( os.path.join(CFG.data_path, f'[{CFG.area_name}]Gnodes.pkl'))\n",
    "Graph_routier = ox.graph_from_gdfs(\n",
    "    joblib.load( os.path.join(CFG.data_path, f'[{CFG.area_name}]Gnodes.pkl')), \n",
    "    joblib.load( os.path.join(CFG.data_path, f'[{CFG.area_name}]Gedges.pkl'))\n",
    "    )"
   ]
  },
  {
   "cell_type": "code",
   "execution_count": 5,
   "metadata": {},
   "outputs": [],
   "source": [
    "# Edges = Edges.sample(1000)"
   ]
  },
  {
   "cell_type": "code",
   "execution_count": 6,
   "metadata": {},
   "outputs": [],
   "source": [
    "# # TODO: 1 voir pour vectoriser cette étape\n",
    "# #            - sub classer la classe source \n",
    "# #            _ modiifer le code source\n",
    "\n",
    "# from tqdm.notebook import tqdm\n",
    "# tqdm.pandas()\n",
    "\n",
    "\n",
    "def get_shortest_path( arg: tuple[int, int]) -> list: #, graph_routier=Graph_routier):\n",
    "    return nx.shortest_path(Graph_routier, \n",
    "                            source=arg[-2], \n",
    "                            target=arg[-1], \n",
    "                            weight='travel_time', \n",
    "                            method='dijkstra')\n",
    "\n",
    "# display(get_path((1424062767, 1651507178)))    \n",
    "\n",
    "\n",
    "# %time Edges['path'] = Edges.src_trgt.progress_apply(get_shortest_path)\n",
    "# Edges.sample(2)"
   ]
  },
  {
   "cell_type": "code",
   "execution_count": 7,
   "metadata": {},
   "outputs": [],
   "source": [
    "# from tqdm.notebook import tqdm\n",
    "# tqdm.pandas()\n",
    "# from math import sqrt, pow\n",
    "\n",
    "\n",
    "def dist(a:int, b: int) -> float:\n",
    "    node_a = Graph_routier.nodes[a]\n",
    "    node_b = Graph_routier.nodes[b]\n",
    "\n",
    "    (x1, y1) = node_a['x'], node_a['y']\n",
    "    (x2, y2) = node_b['x'], node_b['y']\n",
    "    return sqrt(pow(x1 - x2, 2) + pow(y1 - y2, 2) )\n",
    "\n",
    "\n",
    "\n",
    "def get_astar_path( arg: tuple[int, int]) -> list: #, graph_routier=Graph_routier):\n",
    "    return nx.astar_path(Graph_routier, \n",
    "                            source=arg[-2], \n",
    "                            target=arg[-1], \n",
    "                            weight='travel_time', \n",
    "                            heuristic=dist)\n",
    "\n",
    "# display(get_path((1424062767, 1651507178)))    \n",
    "\n",
    "\n",
    "# %time Edges['path'] = Edges.src_trgt.progress_apply(get_astar_path)\n",
    "# Edges.sample(2)"
   ]
  },
  {
   "attachments": {},
   "cell_type": "markdown",
   "metadata": {},
   "source": [
    "------------------------------"
   ]
  },
  {
   "cell_type": "code",
   "execution_count": 8,
   "metadata": {},
   "outputs": [],
   "source": [
    "from tqdm.notebook import tqdm\n",
    "tqdm.pandas(position=1, leave=False)\n"
   ]
  },
  {
   "cell_type": "code",
   "execution_count": 9,
   "metadata": {},
   "outputs": [
    {
     "data": {
      "application/vnd.jupyter.widget-view+json": {
       "model_id": "098da9c966ea497ab3d3970baa331cbe",
       "version_major": 2,
       "version_minor": 0
      },
      "text/plain": [
       "edges: 40000it [00:00, ?it/s]"
      ]
     },
     "metadata": {},
     "output_type": "display_data"
    },
    {
     "data": {
      "application/vnd.jupyter.widget-view+json": {
       "model_id": "24e83eeb7eca4db2bc23767e1bf9eb33",
       "version_major": 2,
       "version_minor": 0
      },
      "text/plain": [
       "  0%|          | 0/10000 [00:00<?, ?it/s]"
      ]
     },
     "metadata": {},
     "output_type": "display_data"
    },
    {
     "data": {
      "application/vnd.jupyter.widget-view+json": {
       "model_id": "4026ab828050400784476d2227416313",
       "version_major": 2,
       "version_minor": 0
      },
      "text/plain": [
       "  0%|          | 0/10000 [00:00<?, ?it/s]"
      ]
     },
     "metadata": {},
     "output_type": "display_data"
    },
    {
     "data": {
      "application/vnd.jupyter.widget-view+json": {
       "model_id": "e8c58c65f96d46279a7fc107d49d743f",
       "version_major": 2,
       "version_minor": 0
      },
      "text/plain": [
       "  0%|          | 0/10000 [00:00<?, ?it/s]"
      ]
     },
     "metadata": {},
     "output_type": "display_data"
    },
    {
     "data": {
      "application/vnd.jupyter.widget-view+json": {
       "model_id": "9e9ece722cb14c7ebb1854d1997f16c5",
       "version_major": 2,
       "version_minor": 0
      },
      "text/plain": [
       "  0%|          | 0/10000 [00:00<?, ?it/s]"
      ]
     },
     "metadata": {},
     "output_type": "display_data"
    },
    {
     "data": {
      "application/vnd.jupyter.widget-view+json": {
       "model_id": "4223285b08074b5f9b2283a70bd541e6",
       "version_major": 2,
       "version_minor": 0
      },
      "text/plain": [
       "  0%|          | 0/10000 [00:00<?, ?it/s]"
      ]
     },
     "metadata": {},
     "output_type": "display_data"
    },
    {
     "data": {
      "application/vnd.jupyter.widget-view+json": {
       "model_id": "1b746208f24f4ae68cd80330f83ee19e",
       "version_major": 2,
       "version_minor": 0
      },
      "text/plain": [
       "  0%|          | 0/10000 [00:00<?, ?it/s]"
      ]
     },
     "metadata": {},
     "output_type": "display_data"
    },
    {
     "data": {
      "application/vnd.jupyter.widget-view+json": {
       "model_id": "ae4285a7addf4473bec839ccd2909ff9",
       "version_major": 2,
       "version_minor": 0
      },
      "text/plain": [
       "  0%|          | 0/10000 [00:00<?, ?it/s]"
      ]
     },
     "metadata": {},
     "output_type": "display_data"
    },
    {
     "data": {
      "application/vnd.jupyter.widget-view+json": {
       "model_id": "06d5689382994972b7d407e512d146db",
       "version_major": 2,
       "version_minor": 0
      },
      "text/plain": [
       "  0%|          | 0/10000 [00:00<?, ?it/s]"
      ]
     },
     "metadata": {},
     "output_type": "display_data"
    },
    {
     "data": {
      "application/vnd.jupyter.widget-view+json": {
       "model_id": "6755228811c04757be78182e64080af5",
       "version_major": 2,
       "version_minor": 0
      },
      "text/plain": [
       "  0%|          | 0/10000 [00:00<?, ?it/s]"
      ]
     },
     "metadata": {},
     "output_type": "display_data"
    },
    {
     "data": {
      "application/vnd.jupyter.widget-view+json": {
       "model_id": "5b76756ae7244546b830c508ef9107f6",
       "version_major": 2,
       "version_minor": 0
      },
      "text/plain": [
       "  0%|          | 0/10000 [00:00<?, ?it/s]"
      ]
     },
     "metadata": {},
     "output_type": "display_data"
    },
    {
     "data": {
      "application/vnd.jupyter.widget-view+json": {
       "model_id": "2cd5404bb1bb42fe9f9e3c9d2950c940",
       "version_major": 2,
       "version_minor": 0
      },
      "text/plain": [
       "  0%|          | 0/10000 [00:00<?, ?it/s]"
      ]
     },
     "metadata": {},
     "output_type": "display_data"
    },
    {
     "data": {
      "application/vnd.jupyter.widget-view+json": {
       "model_id": "d30f02bd8fbd4882bd84ad1ae49e940a",
       "version_major": 2,
       "version_minor": 0
      },
      "text/plain": [
       "  0%|          | 0/10000 [00:00<?, ?it/s]"
      ]
     },
     "metadata": {},
     "output_type": "display_data"
    },
    {
     "data": {
      "application/vnd.jupyter.widget-view+json": {
       "model_id": "d6667644a98a428aba643cfd1ef53456",
       "version_major": 2,
       "version_minor": 0
      },
      "text/plain": [
       "  0%|          | 0/10000 [00:00<?, ?it/s]"
      ]
     },
     "metadata": {},
     "output_type": "display_data"
    },
    {
     "data": {
      "application/vnd.jupyter.widget-view+json": {
       "model_id": "1c02016f7f654c60af9286603950ba01",
       "version_major": 2,
       "version_minor": 0
      },
      "text/plain": [
       "  0%|          | 0/10000 [00:00<?, ?it/s]"
      ]
     },
     "metadata": {},
     "output_type": "display_data"
    },
    {
     "data": {
      "application/vnd.jupyter.widget-view+json": {
       "model_id": "54d48242adbe484aab1afd7881f66bc3",
       "version_major": 2,
       "version_minor": 0
      },
      "text/plain": [
       "  0%|          | 0/10000 [00:00<?, ?it/s]"
      ]
     },
     "metadata": {},
     "output_type": "display_data"
    },
    {
     "data": {
      "application/vnd.jupyter.widget-view+json": {
       "model_id": "57d157218f3242e294c7a3a07ad0941e",
       "version_major": 2,
       "version_minor": 0
      },
      "text/plain": [
       "  0%|          | 0/10000 [00:00<?, ?it/s]"
      ]
     },
     "metadata": {},
     "output_type": "display_data"
    },
    {
     "data": {
      "application/vnd.jupyter.widget-view+json": {
       "model_id": "997ea30ed89e474daa984c1792f60bae",
       "version_major": 2,
       "version_minor": 0
      },
      "text/plain": [
       "  0%|          | 0/5450 [00:00<?, ?it/s]"
      ]
     },
     "metadata": {},
     "output_type": "display_data"
    }
   ],
   "source": [
    "batch_size = 10000\n",
    "\n",
    "# , initial=Edges.path.notna().sum()\n",
    "with tqdm(#total=135685, \n",
    "          initial=(gpd\n",
    "                   .read_feather(\n",
    "                       os.path.join(\n",
    "                           CFG.data_path, \n",
    "                           f'[{CFG.area_name}]Gedges_communes_0_v(ox).feather'\n",
    "                        )\n",
    "                    )\n",
    "                    .path.notna().sum()\n",
    "          ), \n",
    "          desc = 'edges', \n",
    "          position=0,\n",
    "          colour ='green') as t:\n",
    "    while True:\n",
    "        # Load Edges\n",
    "        Edges = gpd.read_feather(os.path.join(CFG.data_path, f'[{CFG.area_name}]Gedges_communes_0_v(ox).feather'))\n",
    "        Edges.reset_index(inplace=True)\n",
    "\n",
    "        # Split Edges to done and to_do\n",
    "        Edges_done = Edges[~Edges.path.isna()].copy()\n",
    "        # t.reset(total=135685)\n",
    "        # t.update(Edges_done.shape[0])\n",
    "        t.refresh()\n",
    "        t.update(batch_size)\n",
    "        Edges_to_do = Edges[Edges.path.isna()].copy()\n",
    "        if Edges_done.shape[0] == Edges.shape[0]:\n",
    "            break\n",
    "        # else:\n",
    "        #     print(f'Done {Edges_done.shape[0]/Edges.shape[0]:.5%}',end='\\r')\n",
    "\n",
    "        del Edges\n",
    "\n",
    "        # Take a batch of edges\n",
    "        Edges_working = Edges_to_do.iloc[:batch_size]\n",
    "        Edges_to_do  =  Edges_to_do.iloc[batch_size:]\n",
    "        # display(Edges_done.index, Edges_working.index, Edges_to_do.index)\n",
    "        \n",
    "        # Compute paths\n",
    "        try:\n",
    "            Edges_working['path'] = Edges_working.src_trgt.progress_apply(get_shortest_path)\n",
    "        except:\n",
    "            print(f'Path not found | batch {Edges_working.index[0]} to {Edges_working.index[-1]}')\n",
    "            break\n",
    "\n",
    "        # Save progress\n",
    "        (\n",
    "        pd.concat([Edges_done, Edges_working, Edges_to_do], axis=0)\n",
    "        .set_index(['u','v'])\n",
    "        .to_feather(\n",
    "            os.path.join(\n",
    "                CFG.data_path, \n",
    "                f'[{CFG.area_name}]Gedges_communes_0_v(ox).feather'\n",
    "            )\n",
    "        )\n",
    "        )\n",
    "        del Edges_done, Edges_to_do, Edges_working"
   ]
  },
  {
   "cell_type": "code",
   "execution_count": 10,
   "metadata": {},
   "outputs": [
    {
     "name": "stdout",
     "output_type": "stream",
     "text": [
      "<class 'geopandas.geodataframe.GeoDataFrame'>\n",
      "MultiIndex: 205450 entries, (2531584, 2176035) to (2741108, 2740963)\n",
      "Data columns (total 4 columns):\n",
      " #   Column    Non-Null Count   Dtype   \n",
      "---  ------    --------------   -----   \n",
      " 0   key       205450 non-null  int64   \n",
      " 1   geometry  205450 non-null  geometry\n",
      " 2   src_trgt  205450 non-null  object  \n",
      " 3   path      205450 non-null  object  \n",
      "dtypes: geometry(1), int64(1), object(2)\n",
      "memory usage: 10.4+ MB\n"
     ]
    }
   ],
   "source": [
    "Edges = gpd.read_feather(os.path.join(CFG.data_path, f'[{CFG.area_name}]Gedges_communes_0_v(ox).feather'))\n",
    "Edges.info()"
   ]
  },
  {
   "cell_type": "code",
   "execution_count": 11,
   "metadata": {},
   "outputs": [
    {
     "data": {
      "text/html": [
       "<div>\n",
       "<style scoped>\n",
       "    .dataframe tbody tr th:only-of-type {\n",
       "        vertical-align: middle;\n",
       "    }\n",
       "\n",
       "    .dataframe tbody tr th {\n",
       "        vertical-align: top;\n",
       "    }\n",
       "\n",
       "    .dataframe thead th {\n",
       "        text-align: right;\n",
       "    }\n",
       "</style>\n",
       "<table border=\"1\" class=\"dataframe\">\n",
       "  <thead>\n",
       "    <tr style=\"text-align: right;\">\n",
       "      <th></th>\n",
       "      <th></th>\n",
       "      <th>key</th>\n",
       "      <th>geometry</th>\n",
       "      <th>src_trgt</th>\n",
       "      <th>path</th>\n",
       "    </tr>\n",
       "    <tr>\n",
       "      <th>u</th>\n",
       "      <th>v</th>\n",
       "      <th></th>\n",
       "      <th></th>\n",
       "      <th></th>\n",
       "      <th></th>\n",
       "    </tr>\n",
       "  </thead>\n",
       "  <tbody>\n",
       "    <tr>\n",
       "      <th rowspan=\"4\" valign=\"top\">2531584</th>\n",
       "      <th>2176035</th>\n",
       "      <td>0</td>\n",
       "      <td>LINESTRING (-0.81977 43.46144, -0.84879 43.43624)</td>\n",
       "      <td>[859309184, 504799281]</td>\n",
       "      <td>[859309184, 1976671808, 504799280, 504799281]</td>\n",
       "    </tr>\n",
       "    <tr>\n",
       "      <th>167704</th>\n",
       "      <td>0</td>\n",
       "      <td>LINESTRING (-0.81977 43.46144, -0.77384 43.48750)</td>\n",
       "      <td>[859309184, 3957848575]</td>\n",
       "      <td>[859309184, 1976671808, 8002586203, 859309092,...</td>\n",
       "    </tr>\n",
       "    <tr>\n",
       "      <th>1380951</th>\n",
       "      <td>0</td>\n",
       "      <td>LINESTRING (-0.81977 43.46144, -0.79568 43.44181)</td>\n",
       "      <td>[859309184, 1976671808]</td>\n",
       "      <td>[859309184, 1976671808]</td>\n",
       "    </tr>\n",
       "    <tr>\n",
       "      <th>2531635</th>\n",
       "      <td>0</td>\n",
       "      <td>LINESTRING (-0.81977 43.46144, -0.83523 43.49858)</td>\n",
       "      <td>[859309184, 1975118728]</td>\n",
       "      <td>[859309184, 1976671808, 8002586203, 859309092,...</td>\n",
       "    </tr>\n",
       "    <tr>\n",
       "      <th>279376</th>\n",
       "      <th>279375</th>\n",
       "      <td>0</td>\n",
       "      <td>LINESTRING (0.77749 47.73042, 0.73910 47.74537)</td>\n",
       "      <td>[281892451, 1372889494]</td>\n",
       "      <td>[281892451, 281890718, 1372889494]</td>\n",
       "    </tr>\n",
       "    <tr>\n",
       "      <th>...</th>\n",
       "      <th>...</th>\n",
       "      <td>...</td>\n",
       "      <td>...</td>\n",
       "      <td>...</td>\n",
       "      <td>...</td>\n",
       "    </tr>\n",
       "    <tr>\n",
       "      <th rowspan=\"5\" valign=\"top\">2741108</th>\n",
       "      <th>5811913</th>\n",
       "      <td>0</td>\n",
       "      <td>LINESTRING (3.50709 48.86596, 3.48873 48.89115)</td>\n",
       "      <td>[3427753813, 3737538194]</td>\n",
       "      <td>[3427753813, 2186352923, 1116200620, 3737538194]</td>\n",
       "    </tr>\n",
       "    <tr>\n",
       "      <th>2742275</th>\n",
       "      <td>0</td>\n",
       "      <td>LINESTRING (3.50709 48.86596, 3.60070 48.80919)</td>\n",
       "      <td>[3427753813, 1296924098]</td>\n",
       "      <td>[3427753813, 2186352923, 2186352928, 109247384...</td>\n",
       "    </tr>\n",
       "    <tr>\n",
       "      <th>1769723</th>\n",
       "      <td>0</td>\n",
       "      <td>LINESTRING (3.50709 48.86596, 3.53820 48.87088)</td>\n",
       "      <td>[3427753813, 5928930665]</td>\n",
       "      <td>[3427753813, 2186352923, 2186352928, 109247384...</td>\n",
       "    </tr>\n",
       "    <tr>\n",
       "      <th>2742573</th>\n",
       "      <td>0</td>\n",
       "      <td>LINESTRING (3.50709 48.86596, 3.53126 48.79645)</td>\n",
       "      <td>[3427753813, 1092502737]</td>\n",
       "      <td>[3427753813, 2186352923, 2186352928, 109247384...</td>\n",
       "    </tr>\n",
       "    <tr>\n",
       "      <th>2740963</th>\n",
       "      <td>0</td>\n",
       "      <td>LINESTRING (3.50709 48.86596, 3.49967 48.85079)</td>\n",
       "      <td>[3427753813, 8335004268]</td>\n",
       "      <td>[3427753813, 2186352923, 2186352928, 103871966...</td>\n",
       "    </tr>\n",
       "  </tbody>\n",
       "</table>\n",
       "<p>205450 rows × 4 columns</p>\n",
       "</div>"
      ],
      "text/plain": [
       "                 key                                           geometry  \\\n",
       "u       v                                                                 \n",
       "2531584 2176035    0  LINESTRING (-0.81977 43.46144, -0.84879 43.43624)   \n",
       "        167704     0  LINESTRING (-0.81977 43.46144, -0.77384 43.48750)   \n",
       "        1380951    0  LINESTRING (-0.81977 43.46144, -0.79568 43.44181)   \n",
       "        2531635    0  LINESTRING (-0.81977 43.46144, -0.83523 43.49858)   \n",
       "279376  279375     0    LINESTRING (0.77749 47.73042, 0.73910 47.74537)   \n",
       "...              ...                                                ...   \n",
       "2741108 5811913    0    LINESTRING (3.50709 48.86596, 3.48873 48.89115)   \n",
       "        2742275    0    LINESTRING (3.50709 48.86596, 3.60070 48.80919)   \n",
       "        1769723    0    LINESTRING (3.50709 48.86596, 3.53820 48.87088)   \n",
       "        2742573    0    LINESTRING (3.50709 48.86596, 3.53126 48.79645)   \n",
       "        2740963    0    LINESTRING (3.50709 48.86596, 3.49967 48.85079)   \n",
       "\n",
       "                                 src_trgt  \\\n",
       "u       v                                   \n",
       "2531584 2176035    [859309184, 504799281]   \n",
       "        167704    [859309184, 3957848575]   \n",
       "        1380951   [859309184, 1976671808]   \n",
       "        2531635   [859309184, 1975118728]   \n",
       "279376  279375    [281892451, 1372889494]   \n",
       "...                                   ...   \n",
       "2741108 5811913  [3427753813, 3737538194]   \n",
       "        2742275  [3427753813, 1296924098]   \n",
       "        1769723  [3427753813, 5928930665]   \n",
       "        2742573  [3427753813, 1092502737]   \n",
       "        2740963  [3427753813, 8335004268]   \n",
       "\n",
       "                                                              path  \n",
       "u       v                                                           \n",
       "2531584 2176035      [859309184, 1976671808, 504799280, 504799281]  \n",
       "        167704   [859309184, 1976671808, 8002586203, 859309092,...  \n",
       "        1380951                            [859309184, 1976671808]  \n",
       "        2531635  [859309184, 1976671808, 8002586203, 859309092,...  \n",
       "279376  279375                  [281892451, 281890718, 1372889494]  \n",
       "...                                                            ...  \n",
       "2741108 5811913   [3427753813, 2186352923, 1116200620, 3737538194]  \n",
       "        2742275  [3427753813, 2186352923, 2186352928, 109247384...  \n",
       "        1769723  [3427753813, 2186352923, 2186352928, 109247384...  \n",
       "        2742573  [3427753813, 2186352923, 2186352928, 109247384...  \n",
       "        2740963  [3427753813, 2186352923, 2186352928, 103871966...  \n",
       "\n",
       "[205450 rows x 4 columns]"
      ]
     },
     "execution_count": 11,
     "metadata": {},
     "output_type": "execute_result"
    }
   ],
   "source": [
    "Edges"
   ]
  },
  {
   "cell_type": "code",
   "execution_count": 12,
   "metadata": {},
   "outputs": [],
   "source": [
    "Edges = Edges.reset_index()\n",
    "# Edges.u = Edges.u.astype(int)\n",
    "# Edges.v = Edges.v.astype(int)"
   ]
  },
  {
   "cell_type": "code",
   "execution_count": 13,
   "metadata": {},
   "outputs": [],
   "source": [
    "(\n",
    "Edges\n",
    ".set_index(['u','v','key'])\n",
    ".to_feather(\n",
    "            os.path.join(\n",
    "                CFG.data_path, \n",
    "                f'[{CFG.area_name}]Gedges_communes_C21.feather'\n",
    "            )\n",
    "        )\n",
    ")"
   ]
  },
  {
   "cell_type": "code",
   "execution_count": 14,
   "metadata": {},
   "outputs": [
    {
     "name": "stdout",
     "output_type": "stream",
     "text": [
      "<class 'geopandas.geodataframe.GeoDataFrame'>\n",
      "MultiIndex: 205450 entries, (2531584, 2176035, 0) to (2741108, 2740963, 0)\n",
      "Data columns (total 3 columns):\n",
      " #   Column    Non-Null Count   Dtype   \n",
      "---  ------    --------------   -----   \n",
      " 0   geometry  205450 non-null  geometry\n",
      " 1   src_trgt  205450 non-null  object  \n",
      " 2   path      205450 non-null  object  \n",
      "dtypes: geometry(1), object(2)\n",
      "memory usage: 9.0+ MB\n"
     ]
    }
   ],
   "source": [
    "Edges = gpd.read_feather(os.path.join(CFG.data_path, f'[{CFG.area_name}]Gedges_communes_C21.feather'))\n",
    "Edges.info()"
   ]
  },
  {
   "attachments": {},
   "cell_type": "markdown",
   "metadata": {},
   "source": [
    "----------------------------------------"
   ]
  },
  {
   "cell_type": "code",
   "execution_count": 15,
   "metadata": {},
   "outputs": [
    {
     "ename": "SyntaxError",
     "evalue": "invalid syntax (1655670802.py, line 1)",
     "output_type": "error",
     "traceback": [
      "\u001b[1;36m  File \u001b[1;32m\"C:\\Users\\demo\\AppData\\Local\\Temp\\ipykernel_12240\\1655670802.py\"\u001b[1;36m, line \u001b[1;32m1\u001b[0m\n\u001b[1;33m    **********\u001b[0m\n\u001b[1;37m    ^\u001b[0m\n\u001b[1;31mSyntaxError\u001b[0m\u001b[1;31m:\u001b[0m invalid syntax\n"
     ]
    }
   ],
   "source": [
    "**********"
   ]
  },
  {
   "cell_type": "code",
   "execution_count": null,
   "metadata": {},
   "outputs": [],
   "source": [
    "# from tqdm.notebook import tqdm\n",
    "# tqdm.pandas()\n",
    "\n",
    "\n",
    "# # def get_path_length( path, nodes=Nodes, nodes_routier=Nodes_routier, graph_routier=Graph_routier ):\n",
    "# def get_path_length( path):\n",
    "#     length = sum(\n",
    "#         ox.utils_graph.get_route_edge_attributes(\n",
    "#                     Graph_routier, \n",
    "#                     path, \n",
    "#                     attribute='length', \n",
    "#                     minimize_key='length', \n",
    "#                     retrieve_default=None)\n",
    "#     )\n",
    "#     return length\n",
    "\n",
    "\n",
    "\n",
    "# Edges['length'] = Edges.path.progress_apply(get_path_length)\n",
    "# Edges.sample(2)"
   ]
  },
  {
   "cell_type": "code",
   "execution_count": null,
   "metadata": {},
   "outputs": [],
   "source": [
    "# # def get_path_line( path, nodes=Nodes, nodes_routier=Nodes_routier, graph_routier=Graph_routier ):\n",
    "# def get_path_line( path ):\n",
    "#     lines = ox.utils_graph.get_route_edge_attributes(\n",
    "#                     Graph_routier, \n",
    "#                     path, \n",
    "#                     attribute='geometry', \n",
    "#                     minimize_key='length', \n",
    "#                     retrieve_default=None)\n",
    "#     multi_line = MultiLineString(lines)\n",
    "#     merged_line = ops.linemerge(multi_line)\n",
    "#     return merged_line\n",
    "\n",
    "\n",
    "\n",
    "# Edges['geometry'] = Edges.path.progress_apply(get_path_line)\n",
    "# Edges.sample(2)"
   ]
  },
  {
   "cell_type": "code",
   "execution_count": null,
   "metadata": {},
   "outputs": [],
   "source": [
    "# # # extend edges geometry to nodes center point\n",
    "# # new_point = Point(-1, -1)\n",
    "# # extended_line = LineString([new_point.coords[0], *line.coords])\n",
    "\n",
    "# Nodes.head(1)"
   ]
  },
  {
   "cell_type": "code",
   "execution_count": null,
   "metadata": {},
   "outputs": [],
   "source": [
    "# TODO:  supprimer les colonnes intermediaires avant la sauvegarde\n",
    "#        sauvegarder les paths"
   ]
  },
  {
   "cell_type": "code",
   "execution_count": null,
   "metadata": {},
   "outputs": [],
   "source": [
    "# joblib.dump(\n",
    "#             Edges.path,\n",
    "#             os.path.join(CFG.data_path, f'[{CFG.area_name}]Gedges_communes_paths.pkl')\n",
    "#         )"
   ]
  },
  {
   "cell_type": "code",
   "execution_count": null,
   "metadata": {},
   "outputs": [],
   "source": [
    "# joblib.dump(\n",
    "#             Edges.drop('path', axis=1),\n",
    "#             os.path.join(CFG.data_path, f'[{CFG.area_name}]Gedges_communes.pkl')\n",
    "#         )"
   ]
  },
  {
   "attachments": {},
   "cell_type": "markdown",
   "metadata": {},
   "source": [
    "--------------------------------"
   ]
  }
 ],
 "metadata": {
  "kernelspec": {
   "display_name": "motion",
   "language": "python",
   "name": "python3"
  },
  "language_info": {
   "codemirror_mode": {
    "name": "ipython",
    "version": 3
   },
   "file_extension": ".py",
   "mimetype": "text/x-python",
   "name": "python",
   "nbconvert_exporter": "python",
   "pygments_lexer": "ipython3",
   "version": "3.9.16"
  },
  "orig_nbformat": 4
 },
 "nbformat": 4,
 "nbformat_minor": 2
}
