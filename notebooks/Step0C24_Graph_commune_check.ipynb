{
 "cells": [
  {
   "attachments": {},
   "cell_type": "markdown",
   "metadata": {},
   "source": [
    "Auteur: Michaël Leroy\n",
    "\n",
    " Graph depuis gdf Nodes et edges\n",
    "        - calcul de stats\n",
    "        - classif des communes \n",
    "\n",
    "        ....."
   ]
  },
  {
   "cell_type": "code",
   "execution_count": 1,
   "metadata": {},
   "outputs": [
    {
     "name": "stderr",
     "output_type": "stream",
     "text": [
      "C:\\Users\\demo\\AppData\\Roaming\\Python\\Python39\\site-packages\\scipy\\__init__.py:155: UserWarning: A NumPy version >=1.18.5 and <1.25.0 is required for this version of SciPy (detected version 1.25.0\n",
      "  warnings.warn(f\"A NumPy version >={np_minversion} and <{np_maxversion}\"\n"
     ]
    },
    {
     "data": {
      "text/plain": [
       "' To retrieve http data from OSMnx and cache them locally\\n    before building graph. Raise and exception if requests\\n    are all done. intercept then set to False and retry.'"
      ]
     },
     "execution_count": 1,
     "metadata": {},
     "output_type": "execute_result"
    }
   ],
   "source": [
    "class CFG:\n",
    "    data_path = './osm_datas/'\n",
    "    data_path_mappers = './datas'\n",
    "    paths_path = './tourism_paths'\n",
    "    area_name = 'france'\n",
    "\n",
    "    \n",
    "import os\n",
    "os.environ['USE_PYGEOS'] = '0'\n",
    "\n",
    "import joblib\n",
    "# joblib.dump(\n",
    "#     CFG, \n",
    "#     os.path.join(\n",
    "#         CFG.paths_path,\n",
    "#         'CFG_for_tourism_paths.pkl'\n",
    "#     ) \n",
    "# )   \n",
    "\n",
    "\n",
    "# %load_ext autoreload\n",
    "# %autoreload\n",
    "\n",
    "\n",
    "# %aimport OSM_helper_functions\n",
    "# %aimport OCM_helper_functions\n",
    "\n",
    "import numpy as np\n",
    "import geopandas as gpd\n",
    "import pandas as pd\n",
    "import osmnx as ox\n",
    "import networkx as nx\n",
    "from tqdm.notebook import tqdm\n",
    "# from OSM_helper_functions import *\n",
    "# from OCM_helper_functions import *\n",
    "\n",
    "\n",
    "ox.settings.log_console=True\n",
    "ox.settings.use_cache=True\n",
    "''' To retrieve http data from OSMnx and cache them locally\n",
    "    before building graph. Raise and exception if requests\n",
    "    are all done. intercept then set to False and retry.'''\n",
    "# ox.settings.cache_only_mode=True \n",
    "\n"
   ]
  },
  {
   "cell_type": "code",
   "execution_count": 2,
   "metadata": {},
   "outputs": [],
   "source": [
    "Nodes = joblib.load(os.path.join(CFG.data_path, f'[{CFG.area_name}]Gnodes_communes.pkl'))\n",
    "\n",
    "Edges = joblib.load(os.path.join(CFG.data_path, f'[{CFG.area_name}]Gedges_communes_C22.pkl'))"
   ]
  },
  {
   "cell_type": "code",
   "execution_count": 3,
   "metadata": {},
   "outputs": [],
   "source": [
    "# TODO: Make a choice for int or str for nodes ids\n",
    "# Nodes.index = Nodes.index.astype(int)"
   ]
  },
  {
   "cell_type": "code",
   "execution_count": 4,
   "metadata": {},
   "outputs": [
    {
     "name": "stdout",
     "output_type": "stream",
     "text": [
      "<class 'geopandas.geodataframe.GeoDataFrame'>\n",
      "Index: 34466 entries, 2531584 to 2741108\n",
      "Data columns (total 10 columns):\n",
      " #   Column    Non-Null Count  Dtype   \n",
      "---  ------    --------------  -----   \n",
      " 0   y         34466 non-null  float64 \n",
      " 1   x         34466 non-null  float64 \n",
      " 2   codgeo    34466 non-null  object  \n",
      " 3   area      34466 non-null  object  \n",
      " 4   sleeping  15412 non-null  float64 \n",
      " 5   visit     17923 non-null  float64 \n",
      " 6   fooding   6616 non-null   float64 \n",
      " 7   working   6950 non-null   float64 \n",
      " 8   vehicule  4166 non-null   float64 \n",
      " 9   geometry  34466 non-null  geometry\n",
      "dtypes: float64(7), geometry(1), object(2)\n",
      "memory usage: 3.9+ MB\n"
     ]
    }
   ],
   "source": [
    "Nodes.info()"
   ]
  },
  {
   "cell_type": "code",
   "execution_count": 5,
   "metadata": {},
   "outputs": [
    {
     "name": "stdout",
     "output_type": "stream",
     "text": [
      "<class 'geopandas.geodataframe.GeoDataFrame'>\n",
      "MultiIndex: 205450 entries, ('2531584', '2176035', '0') to ('2741108', '2740963', '0')\n",
      "Data columns (total 4 columns):\n",
      " #   Column       Non-Null Count   Dtype   \n",
      "---  ------       --------------   -----   \n",
      " 0   geometry     205450 non-null  geometry\n",
      " 1   length       205450 non-null  float64 \n",
      " 2   travel_time  205450 non-null  float64 \n",
      " 3   path_line    205450 non-null  object  \n",
      "dtypes: float64(2), geometry(1), object(1)\n",
      "memory usage: 10.6+ MB\n"
     ]
    }
   ],
   "source": [
    "Edges = Edges.drop(['src_trgt'], axis=1)\n",
    "Edges = Edges.reset_index()\n",
    "\n",
    "Edges['u'] = Edges['u'].astype(str)\n",
    "Edges['v'] = Edges['v'].astype(str)\n",
    "Edges['key'] = Edges['key'].astype(str)\n",
    "\n",
    "Edges = Edges.set_index(['u','v','key'])\n",
    "PATHS = Edges.pop('path')\n",
    "Edges.info()"
   ]
  },
  {
   "cell_type": "code",
   "execution_count": 6,
   "metadata": {},
   "outputs": [],
   "source": [
    "nodes2codgeo = dict(zip(Nodes.index, Nodes['codgeo']))"
   ]
  },
  {
   "cell_type": "code",
   "execution_count": 7,
   "metadata": {},
   "outputs": [
    {
     "data": {
      "text/html": [
       "<div>\n",
       "<style scoped>\n",
       "    .dataframe tbody tr th:only-of-type {\n",
       "        vertical-align: middle;\n",
       "    }\n",
       "\n",
       "    .dataframe tbody tr th {\n",
       "        vertical-align: top;\n",
       "    }\n",
       "\n",
       "    .dataframe thead th {\n",
       "        text-align: right;\n",
       "    }\n",
       "</style>\n",
       "<table border=\"1\" class=\"dataframe\">\n",
       "  <thead>\n",
       "    <tr style=\"text-align: right;\">\n",
       "      <th></th>\n",
       "      <th>y</th>\n",
       "      <th>x</th>\n",
       "      <th>codgeo</th>\n",
       "      <th>area</th>\n",
       "      <th>sleeping</th>\n",
       "      <th>visit</th>\n",
       "      <th>fooding</th>\n",
       "      <th>working</th>\n",
       "      <th>vehicule</th>\n",
       "      <th>geometry</th>\n",
       "    </tr>\n",
       "    <tr>\n",
       "      <th>osmid</th>\n",
       "      <th></th>\n",
       "      <th></th>\n",
       "      <th></th>\n",
       "      <th></th>\n",
       "      <th></th>\n",
       "      <th></th>\n",
       "      <th></th>\n",
       "      <th></th>\n",
       "      <th></th>\n",
       "      <th></th>\n",
       "    </tr>\n",
       "  </thead>\n",
       "  <tbody>\n",
       "    <tr>\n",
       "      <th>2531584</th>\n",
       "      <td>43.461438</td>\n",
       "      <td>-0.819766</td>\n",
       "      <td>64312</td>\n",
       "      <td>POLYGON ((-0.832953105776137 43.44755970632465...</td>\n",
       "      <td>2.0</td>\n",
       "      <td>NaN</td>\n",
       "      <td>NaN</td>\n",
       "      <td>NaN</td>\n",
       "      <td>NaN</td>\n",
       "      <td>POINT (-0.81977 43.46144)</td>\n",
       "    </tr>\n",
       "    <tr>\n",
       "      <th>279376</th>\n",
       "      <td>47.730421</td>\n",
       "      <td>0.777490</td>\n",
       "      <td>41255</td>\n",
       "      <td>POLYGON ((0.7426134063245691 47.72901158483156...</td>\n",
       "      <td>NaN</td>\n",
       "      <td>1.0</td>\n",
       "      <td>NaN</td>\n",
       "      <td>NaN</td>\n",
       "      <td>NaN</td>\n",
       "      <td>POINT (0.77749 47.73042)</td>\n",
       "    </tr>\n",
       "  </tbody>\n",
       "</table>\n",
       "</div>"
      ],
      "text/plain": [
       "                 y         x codgeo  \\\n",
       "osmid                                 \n",
       "2531584  43.461438 -0.819766  64312   \n",
       "279376   47.730421  0.777490  41255   \n",
       "\n",
       "                                                      area  sleeping  visit  \\\n",
       "osmid                                                                         \n",
       "2531584  POLYGON ((-0.832953105776137 43.44755970632465...       2.0    NaN   \n",
       "279376   POLYGON ((0.7426134063245691 47.72901158483156...       NaN    1.0   \n",
       "\n",
       "         fooding  working  vehicule                   geometry  \n",
       "osmid                                                           \n",
       "2531584      NaN      NaN       NaN  POINT (-0.81977 43.46144)  \n",
       "279376       NaN      NaN       NaN   POINT (0.77749 47.73042)  "
      ]
     },
     "metadata": {},
     "output_type": "display_data"
    },
    {
     "data": {
      "text/html": [
       "<div>\n",
       "<style scoped>\n",
       "    .dataframe tbody tr th:only-of-type {\n",
       "        vertical-align: middle;\n",
       "    }\n",
       "\n",
       "    .dataframe tbody tr th {\n",
       "        vertical-align: top;\n",
       "    }\n",
       "\n",
       "    .dataframe thead th {\n",
       "        text-align: right;\n",
       "    }\n",
       "</style>\n",
       "<table border=\"1\" class=\"dataframe\">\n",
       "  <thead>\n",
       "    <tr style=\"text-align: right;\">\n",
       "      <th></th>\n",
       "      <th></th>\n",
       "      <th></th>\n",
       "      <th>geometry</th>\n",
       "      <th>length</th>\n",
       "      <th>travel_time</th>\n",
       "      <th>path_line</th>\n",
       "    </tr>\n",
       "    <tr>\n",
       "      <th>u</th>\n",
       "      <th>v</th>\n",
       "      <th>key</th>\n",
       "      <th></th>\n",
       "      <th></th>\n",
       "      <th></th>\n",
       "      <th></th>\n",
       "    </tr>\n",
       "  </thead>\n",
       "  <tbody>\n",
       "    <tr>\n",
       "      <th rowspan=\"2\" valign=\"top\">2531584</th>\n",
       "      <th>2176035</th>\n",
       "      <th>0</th>\n",
       "      <td>LINESTRING (-0.81977 43.46144, -0.84879 43.43624)</td>\n",
       "      <td>6669.304</td>\n",
       "      <td>466.3</td>\n",
       "      <td>LINESTRING (-0.820294 43.4613392, -0.819854 43...</td>\n",
       "    </tr>\n",
       "    <tr>\n",
       "      <th>167704</th>\n",
       "      <th>0</th>\n",
       "      <td>LINESTRING (-0.81977 43.46144, -0.77384 43.48750)</td>\n",
       "      <td>6019.824</td>\n",
       "      <td>403.2</td>\n",
       "      <td>LINESTRING (-0.820294 43.4613392, -0.819854 43...</td>\n",
       "    </tr>\n",
       "  </tbody>\n",
       "</table>\n",
       "</div>"
      ],
      "text/plain": [
       "                                                              geometry  \\\n",
       "u       v       key                                                      \n",
       "2531584 2176035 0    LINESTRING (-0.81977 43.46144, -0.84879 43.43624)   \n",
       "        167704  0    LINESTRING (-0.81977 43.46144, -0.77384 43.48750)   \n",
       "\n",
       "                       length  travel_time  \\\n",
       "u       v       key                          \n",
       "2531584 2176035 0    6669.304        466.3   \n",
       "        167704  0    6019.824        403.2   \n",
       "\n",
       "                                                             path_line  \n",
       "u       v       key                                                     \n",
       "2531584 2176035 0    LINESTRING (-0.820294 43.4613392, -0.819854 43...  \n",
       "        167704  0    LINESTRING (-0.820294 43.4613392, -0.819854 43...  "
      ]
     },
     "metadata": {},
     "output_type": "display_data"
    }
   ],
   "source": [
    "display(Nodes.head(2),Edges.head(2))"
   ]
  },
  {
   "cell_type": "code",
   "execution_count": 8,
   "metadata": {},
   "outputs": [],
   "source": [
    "# Mappers to link osmids to commune names\n",
    "\n",
    "\n",
    "# Dict to map osmid  -> communes names\n",
    "Osmid2Name = joblib.load(\n",
    "    os.path.join(CFG.data_path_mappers,f'[{CFG.area_name}]mapper_osmid_to_libgeo.pkl')\n",
    ")\n",
    "\n",
    "# Dict to map communes names  -> osmid \n",
    "Name2Osmid = joblib.load(\n",
    "    os.path.join(CFG.data_path_mappers,f'[{CFG.area_name}]mapper_libgeo_to_osmid.pkl')\n",
    ")"
   ]
  },
  {
   "attachments": {},
   "cell_type": "markdown",
   "metadata": {},
   "source": [
    "------------------------------------------"
   ]
  },
  {
   "cell_type": "code",
   "execution_count": 11,
   "metadata": {},
   "outputs": [
    {
     "data": {
      "text/plain": [
       "{'107972',\n",
       " '113454',\n",
       " '156066',\n",
       " '192873',\n",
       " '215400',\n",
       " '215401',\n",
       " '278723',\n",
       " '399669',\n",
       " '417923',\n",
       " '659733',\n",
       " '900558',\n",
       " '960821'}"
      ]
     },
     "execution_count": 11,
     "metadata": {},
     "output_type": "execute_result"
    }
   ],
   "source": [
    "not_connected_nodes = set (Nodes.index) - set(Edges.reset_index().u) - set(Edges.reset_index().v)\n",
    "not_connected_nodes"
   ]
  },
  {
   "cell_type": "code",
   "execution_count": 12,
   "metadata": {},
   "outputs": [
    {
     "data": {
      "text/plain": [
       "{'960821': 'ÎLE-AUX-MOINES',\n",
       " '156066': \"L'ÎLE-D'YEU\",\n",
       " '417923': 'ÎLE-DE-BATZ',\n",
       " '399669': 'ÎLE-DE-BRÉHAT',\n",
       " '107972': 'GROIX',\n",
       " '192873': \"ÎLE-D'ARZ\",\n",
       " '659733': 'OUESSANT',\n",
       " '215401': 'HŒDIC',\n",
       " '900558': 'ÎLE-MOLÈNE',\n",
       " '113454': \"ÎLE-D'AIX\",\n",
       " '215400': \"ÎLE-D'HOUAT\",\n",
       " '278723': 'ÎLE-DE-SEIN'}"
      ]
     },
     "execution_count": 12,
     "metadata": {},
     "output_type": "execute_result"
    }
   ],
   "source": [
    "not_connected_communes = [Osmid2Name[node] for node in not_connected_nodes]\n",
    "dict(zip(not_connected_nodes,not_connected_communes))"
   ]
  },
  {
   "attachments": {},
   "cell_type": "markdown",
   "metadata": {},
   "source": [
    "-------------------------------------------"
   ]
  }
 ],
 "metadata": {
  "kernelspec": {
   "display_name": "ev-motion",
   "language": "python",
   "name": "python3"
  },
  "language_info": {
   "codemirror_mode": {
    "name": "ipython",
    "version": 3
   },
   "file_extension": ".py",
   "mimetype": "text/x-python",
   "name": "python",
   "nbconvert_exporter": "python",
   "pygments_lexer": "ipython3",
   "version": "3.9.16"
  },
  "orig_nbformat": 4
 },
 "nbformat": 4,
 "nbformat_minor": 2
}
