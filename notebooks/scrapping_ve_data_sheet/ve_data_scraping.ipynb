{
 "cells": [
  {
   "cell_type": "markdown",
   "id": "e29cb45b-972f-4633-ad8e-5acc4dc125a2",
   "metadata": {},
   "source": [
    "Auteur : Cédric RIVET - 02/04/23\n",
    "\n",
    "**Objectif :**\n",
    "\n",
    "A l'aide de ce programme, il est question de récupérer un maximum de données relatives à des véhicules électriques de différentes marques. Ces données vont des caractéristiques physiques du véhicule à son autonomie, en passant par une description de la motorisation. Un effort a été fait pour récupérer les temps de recharge du véhicule suivant différents modes.\n",
    "\n",
    "**Méthodologie :**\n",
    "\n",
    "Au-delà du tableau comparatif proposé par le site internet ciblé, ce dernier offre des fiches techniques plus complètes. L'idée a été de procéder comme suit :\n",
    "- collecte des urls des différentes fiches techniques au niveau du tableau comparatif\n",
    "- collecte des différentes données pertinentes à partir des différentes fiches\n",
    "- structuration de la données sous la forme d'un unique dataframe."
   ]
  },
  {
   "cell_type": "markdown",
   "id": "3dd8fcd7-111e-43fe-a389-606f9c2ddf43",
   "metadata": {},
   "source": [
    "# Imports"
   ]
  },
  {
   "cell_type": "code",
   "execution_count": 1,
   "id": "f9fef417-bb58-462e-a9e5-594ea17e0b67",
   "metadata": {},
   "outputs": [],
   "source": [
    "import requests\n",
    "from bs4 import BeautifulSoup\n",
    "import pandas as pd"
   ]
  },
  {
   "cell_type": "markdown",
   "id": "fb1579fa-5b4d-421d-ad50-5ea658c79e99",
   "metadata": {},
   "source": [
    "# Cible"
   ]
  },
  {
   "cell_type": "code",
   "execution_count": 2,
   "id": "58210fca-e541-463b-9ca6-a2c14334e057",
   "metadata": {},
   "outputs": [],
   "source": [
    "url_website = \"https://www.fiches-auto.fr/articles-auto/voiture-electrique/s-852-comparatif-des-voitures-electriques.php#haut_menu_2018\""
   ]
  },
  {
   "cell_type": "markdown",
   "id": "c67743ff-fb2a-4061-bb71-bbbc0672a7ce",
   "metadata": {},
   "source": [
    "# Fonctions"
   ]
  },
  {
   "cell_type": "code",
   "execution_count": 3,
   "id": "b901b155-5913-470a-a93c-f1cf4516aeb6",
   "metadata": {},
   "outputs": [],
   "source": [
    "def acces_au_site(site):\n",
    "    \n",
    "    acces_site = requests.get(site)\n",
    "    if acces_site.ok :\n",
    "        print(f\"Le site est accessible.\")\n",
    "    else :\n",
    "        print(\"Une erreur est survenue.\")\n",
    "        \n",
    "    return acces_site.status_code"
   ]
  },
  {
   "cell_type": "code",
   "execution_count": 4,
   "id": "d9942310-e9ac-494f-873e-fd40dc0cc2a7",
   "metadata": {},
   "outputs": [],
   "source": [
    "### Récupération des liens hypertext pointant vers les fiches techniques des VE\n",
    "\n",
    "def liste_urls(url_website):\n",
    "    \n",
    "    website = requests.get(url_website)\n",
    "    soup = BeautifulSoup(website.text, 'html.parser')\n",
    "    list_urls = soup.select(\"table tbody tr td strong a\")\n",
    "\n",
    "    urls = [\"https://www.fiches-auto.fr\" + list_urls[i].get(\"href\") for i in range(len(list_urls))]\n",
    "    \n",
    "    return urls"
   ]
  },
  {
   "cell_type": "code",
   "execution_count": 5,
   "id": "eb65378c-b21f-41fe-a215-b6830fc31974",
   "metadata": {},
   "outputs": [],
   "source": [
    "### Extraction de tout le contenu de la page\n",
    "\n",
    "def extraction_contenu(url):\n",
    "    \n",
    "    contenu = requests.get(url)\n",
    "    soup = BeautifulSoup(contenu.text, 'html.parser')\n",
    "    \n",
    "    return soup"
   ]
  },
  {
   "cell_type": "code",
   "execution_count": 6,
   "id": "b6416d4a-9b18-4740-a0d5-4f7ab14aa9e7",
   "metadata": {},
   "outputs": [],
   "source": [
    "### Extraction du modèle, fabricant et année\n",
    "\n",
    "def modele_ve(soup):\n",
    "    \n",
    "    contenu = soup.select(\"h1\")[0].get_text().split(\"Fiches technique \")[1]\n",
    "\n",
    "    marque = contenu.split(\" \")[0]\n",
    "    model = contenu.split(marque+\" \")[1].split(\" (\")[0]\n",
    "    annee = contenu.split(\"(\")[1].split(\")\")[0]\n",
    "    \n",
    "    return [marque,model,annee]"
   ]
  },
  {
   "cell_type": "code",
   "execution_count": 7,
   "id": "e2342e93-9042-4108-8341-6c53200918a5",
   "metadata": {},
   "outputs": [],
   "source": [
    "### Extraction du prix\n",
    "\n",
    "def prix_ve(soup):\n",
    "    \n",
    "    price = soup.select(\"div p strong\")[0].get_text()\n",
    "    \n",
    "    return price"
   ]
  },
  {
   "cell_type": "code",
   "execution_count": 8,
   "id": "8119112f-f118-4985-94ac-de6cd189fca4",
   "metadata": {},
   "outputs": [],
   "source": [
    "### Extraction des données techniques\n",
    "\n",
    "def data_table(soup, inc):\n",
    "    \n",
    "    focus = soup.find_all(\"table\")[inc].select(\"tr td strong\")\n",
    "    values = [focus[i].contents[0] for i in range(len(focus))]\n",
    "    \n",
    "    return values"
   ]
  },
  {
   "cell_type": "code",
   "execution_count": 9,
   "id": "5780d5d1-8437-4734-8e18-e35342bd8c64",
   "metadata": {},
   "outputs": [
    {
     "data": {
      "text/plain": [
       "53"
      ]
     },
     "execution_count": 9,
     "metadata": {},
     "output_type": "execute_result"
    }
   ],
   "source": [
    "all_h2s = ['Puissance / Performances', \n",
    "           'Moteur électrique', \n",
    "           'Moteur électrique 2', \n",
    "           'Moteur électrique  3', \n",
    "           'Batterie / Autonomie WLTP', \n",
    "           'Temps de charge', \n",
    "           'Transmission', \n",
    "           'Dimensions / Poids', \n",
    "           'Châssis']\n",
    "\n",
    "### La liste suivante des champs a été déterminée suite à l'analyse de l'ensemble des fiches\n",
    "\n",
    "all_libs_rev = ['fabricant', 'modele', 'annee', 'prix', \n",
    "                'puissance_cumul', 'couple_cumul', '0_100_km_h', 'vitesse_max', \n",
    "                'position_moteur_1', 'puissance_moteur_1', 'type_moteur_1', 'couple_moteur_1', \n",
    "                'position_moteur_2', 'puissance_moteur_2', 'type_moteur_2', 'couple_moteur_2', \n",
    "                'position_moteur_3', 'puissance_moteur_3', 'type_moteur_3', 'couple_moteur_3',\n",
    "                'homologation_autonomie',\n",
    "                'capacite_nominale_brute', 'capacite_utile_nette', 'prise_de_charge_AC', 'prise_de_charge_DC', 'vitesse_de_charge_AC', 'vitesse_de_charge_AC_option','vitesse_de_charge_DC', 'vitesse_de_charge_DC_option','refroidissement', \n",
    "                'temps_de_charge_DC_0-80%', 'temps_de_charge_AC_0-80%_prise_dom', 'temps_de_charge_AC_0-80%_prise_dom_renforcee', 'temps_de_charge_AC_0-80%_wallbox', 'autonomie_electrique_mixte', 'conso_electrique', 'pompe_a_chaleur', '', \n",
    "                'motricite', 'rapports', \n",
    "                'longueur', 'empattement', 'hauteur', 'largeur', 'coffre', 'poids', 'coffre_avant_arriere',\n",
    "                'essieu_avant', 'essieu_arriere', 'base_chassis', 'plateforme', 'pneus', 'pneus_arriere']\n",
    "len(all_libs_rev)"
   ]
  },
  {
   "cell_type": "code",
   "execution_count": 10,
   "id": "6b2ac93c-043f-4307-a6dd-24990f375f33",
   "metadata": {},
   "outputs": [],
   "source": [
    "### Temps de charge\n",
    "# Les données se trouvent dans des dans balises p. \n",
    "\n",
    "def temps_charge(soup):\n",
    "\n",
    "    data = [\"\"]*4\n",
    "    contenu = soup.find_all(\"p\")\n",
    "    contenu_filtre = [contenu[i].text for i in range(len(contenu)) if \"Temps de charge\" in contenu[i].text]\n",
    "\n",
    "    try:\n",
    "        dc = contenu_filtre[0].split(\"Temps de charge DC 0-80% : \")[1].split(\"\\n\")[0]\n",
    "        data[0] = dc \n",
    "    except:\n",
    "        pass \n",
    "        \n",
    "    try:\n",
    "        ac = contenu_filtre[1].split(\"\\n\\t\\t\\t\\t\")\n",
    "        data[1:4] = [temps.split(\"Temps de charge AC 0-80% : \")[1].split(\" (\")[0] for temps in ac if \"Temps de charge AC 0-80% : \" in temps]\n",
    "    except:\n",
    "        pass\n",
    "    \n",
    "    return data"
   ]
  },
  {
   "cell_type": "code",
   "execution_count": 11,
   "id": "82fa5c19-fe8c-4263-900e-37f38e1bf905",
   "metadata": {},
   "outputs": [],
   "source": [
    "### Formatage des données techniques en un dataframe\n",
    "# Collecte et structuration de la data avant stockage dans un dataframe unique\n",
    "\n",
    "def formatage(soup):\n",
    "    \n",
    "    data = [\"\"]*53\n",
    "    \n",
    "    model = modele_ve(soup)\n",
    "    price = prix_ve(soup)\n",
    "    \n",
    "    data[0:4] = [model[0], model[1], model[2], price]\n",
    "    \n",
    "    contenu = soup.select(\"h2\")\n",
    "    h2s = [contenu[i].contents[0] for i in range(len(contenu))]\n",
    "    \n",
    "    inc = 0\n",
    "    \n",
    "    for h2 in h2s:\n",
    "\n",
    "        term = h2.text\n",
    "\n",
    "        if term == \"Puissance / Performances\":       \n",
    "            data[4:8] = data_table(soup, inc)\n",
    "\n",
    "        elif term == \"Moteur électrique\":\n",
    "            data[8:12] = data_table(soup, inc)\n",
    "\n",
    "        elif term == \"Moteur électrique 2\" or term == \"Moteur électrique  2\":\n",
    "            data[12:16] = data_table(soup, inc)\n",
    "                \n",
    "        elif term == \"Moteur électrique  3\":\n",
    "            data[16:20] = data_table(soup, inc)\n",
    "\n",
    "   \n",
    "        elif term == \"Batterie / Autonomie WLTP\": \n",
    "            data[20] = \"WLTP\"\n",
    "            data[21:30] = data_table(soup, inc) \n",
    "            \n",
    "        elif term == \"Batterie / Autonomie NEDC\": \n",
    "            data[20] = \"NEDC\"\n",
    "            data[21:30] = data_table(soup, inc)\n",
    "            \n",
    "        elif term == \"Batterie / Autonomie \": \n",
    "            data[20] = \"\"\n",
    "            data[21:30] = data_table(soup, inc)\n",
    "                \n",
    "\n",
    "        elif term == \"Temps de charge\":\n",
    "            data[30:34] = temps_charge(soup)            \n",
    "            data[34:38] = data_table(soup, inc)\n",
    "\n",
    "        elif term == \"Transmission\":\n",
    "             data[38:40] = data_table(soup, inc)\n",
    "\n",
    "        elif term == \"Dimensions / Poids\":\n",
    "             data[40:47] = data_table(soup, inc)\n",
    "\n",
    "        elif term == \"Châssis\":\n",
    "             data[47:53] = data_table(soup, inc)\n",
    "\n",
    "        else :\n",
    "            #print(\"erreur h2 : \", h2.text)\n",
    "            pass\n",
    "\n",
    "        inc+=1\n",
    "        \n",
    "#    # rustine ... \n",
    "    if len(data) < 53:\n",
    "        data = data + [\"\"]*(53-len(data))\n",
    "    \n",
    "    df = pd.DataFrame([data], columns=all_libs_rev)\n",
    "    \n",
    "    return df\n",
    "    "
   ]
  },
  {
   "cell_type": "code",
   "execution_count": null,
   "id": "e8501b5f-4903-4501-919e-5f8504b16b89",
   "metadata": {},
   "outputs": [],
   "source": []
  },
  {
   "cell_type": "markdown",
   "id": "644f7279-deaa-4268-ab7e-94f2e14987eb",
   "metadata": {},
   "source": [
    "# Programme principal"
   ]
  },
  {
   "cell_type": "code",
   "execution_count": 12,
   "id": "2ee16b96-29ba-4c67-ad7b-f9ecaaab3854",
   "metadata": {},
   "outputs": [
    {
     "name": "stdout",
     "output_type": "stream",
     "text": [
      "Le site est accessible.\n",
      "1 - Récupération des urls\n",
      "2 - Extraction des données\n",
      "3 - Stockage terminé\n",
      "4 - Sauvegarde\n"
     ]
    }
   ],
   "source": [
    "if __name__ == \"__main__\":\n",
    "\n",
    "    if acces_au_site(url_website) == 200 :\n",
    "        \n",
    "        print(\"1 - Récupération des urls\")\n",
    "        urls = liste_urls(url_website)\n",
    "        \n",
    "        print(\"2 - Extraction des données\") \n",
    "        inc = 1\n",
    "        for url in urls:\n",
    "\n",
    "            if url == urls[0]:\n",
    "                soup = extraction_contenu(url)\n",
    "                df = formatage(soup)\n",
    "            else:\n",
    "                try:\n",
    "                    soup = extraction_contenu(url)\n",
    "                    df2 = formatage(soup)\n",
    "                    df = pd.concat([df,df2], ignore_index=True)\n",
    "                except:\n",
    "                    print(\"erreur - n° \", inc, \"->\", url)\n",
    "                    \n",
    "            inc +=1\n",
    "            \n",
    "        print(\"3 - Stockage terminé\")\n",
    "        #print(df.head(3))\n",
    "        \n",
    "        print(\"4 - Sauvegarde\")\n",
    "        df.to_csv(\"ve_dataset_no_clean.csv\", sep=\";\", encoding=\"utf-8\", index=False)\n",
    "        \n",
    "        \n",
    "    else:\n",
    "        print(\"Scraping avorté\")\n",
    "             "
   ]
  },
  {
   "cell_type": "code",
   "execution_count": 13,
   "id": "98fd2a6d-2fd6-4dab-8a06-6ff99cb3df44",
   "metadata": {},
   "outputs": [],
   "source": [
    "#df.iloc[22]"
   ]
  },
  {
   "cell_type": "code",
   "execution_count": 14,
   "id": "60105ada-a059-43ac-bf43-95dca7da494e",
   "metadata": {},
   "outputs": [
    {
     "data": {
      "text/plain": [
       "(164, 53)"
      ]
     },
     "execution_count": 14,
     "metadata": {},
     "output_type": "execute_result"
    }
   ],
   "source": [
    "df.shape"
   ]
  },
  {
   "cell_type": "markdown",
   "id": "6ac2d91a-56a9-4e1e-819e-5d57fccb7b88",
   "metadata": {},
   "source": [
    "**REMARQUE :** \n",
    "- Il sera nécessaire de nettoyer les data. Malgré les efforts réalisés au niveau de l'algorithme, le manque de rigueur et d'homogénéité dans le remplissage des fiches au niveau du site internet a engendré des erreurs dans le dataset.\n",
    "- Il sera également utile de compléter les données : nationalité des fabricants, type d'homologuation pour l'autonomie, etc. "
   ]
  }
 ],
 "metadata": {
  "kernelspec": {
   "display_name": "Python 3 (ipykernel)",
   "language": "python",
   "name": "python3"
  },
  "language_info": {
   "codemirror_mode": {
    "name": "ipython",
    "version": 3
   },
   "file_extension": ".py",
   "mimetype": "text/x-python",
   "name": "python",
   "nbconvert_exporter": "python",
   "pygments_lexer": "ipython3",
   "version": "3.9.12"
  },
  "toc-autonumbering": true
 },
 "nbformat": 4,
 "nbformat_minor": 5
}
