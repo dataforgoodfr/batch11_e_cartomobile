{
 "cells": [
  {
   "cell_type": "markdown",
   "id": "5556877e-1e3f-459b-852d-cad208f9fde9",
   "metadata": {},
   "source": [
    "# Imports"
   ]
  },
  {
   "cell_type": "code",
   "execution_count": 1,
   "id": "66fd9f0e-0de8-4354-9a0c-f9445168c1d7",
   "metadata": {},
   "outputs": [],
   "source": [
    "import pandas as pd\n",
    "import numpy as np"
   ]
  },
  {
   "cell_type": "markdown",
   "id": "374341df-7cc3-4371-a674-74148842a52c",
   "metadata": {},
   "source": [
    "# Dataset"
   ]
  },
  {
   "cell_type": "code",
   "execution_count": 2,
   "id": "0b95497c-d591-4228-abd5-522b4b44ff50",
   "metadata": {},
   "outputs": [],
   "source": [
    "file = \"ve_dataset_no_clean.csv\""
   ]
  },
  {
   "cell_type": "markdown",
   "id": "d8282d51-459b-471f-8583-4e6b3c4c2bb6",
   "metadata": {
    "tags": []
   },
   "source": [
    "# Chargement"
   ]
  },
  {
   "cell_type": "code",
   "execution_count": 3,
   "id": "c5146ebc-f386-4015-9003-7c6a8fdf17ee",
   "metadata": {
    "tags": []
   },
   "outputs": [],
   "source": [
    "df = pd.read_csv(file, sep =\";\", encoding=\"utf-8\", skiprows=0)\n"
   ]
  },
  {
   "cell_type": "code",
   "execution_count": 4,
   "id": "85a67b96-97fa-417c-8847-3a47b752a391",
   "metadata": {},
   "outputs": [
    {
     "data": {
      "text/html": [
       "<div>\n",
       "<style scoped>\n",
       "    .dataframe tbody tr th:only-of-type {\n",
       "        vertical-align: middle;\n",
       "    }\n",
       "\n",
       "    .dataframe tbody tr th {\n",
       "        vertical-align: top;\n",
       "    }\n",
       "\n",
       "    .dataframe thead th {\n",
       "        text-align: right;\n",
       "    }\n",
       "</style>\n",
       "<table border=\"1\" class=\"dataframe\">\n",
       "  <thead>\n",
       "    <tr style=\"text-align: right;\">\n",
       "      <th></th>\n",
       "      <th>fabricant</th>\n",
       "      <th>modele</th>\n",
       "      <th>annee</th>\n",
       "      <th>prix</th>\n",
       "      <th>puissance_cumul</th>\n",
       "      <th>couple_cumul</th>\n",
       "      <th>0_100_km_h</th>\n",
       "      <th>vitesse_max</th>\n",
       "      <th>position_moteur_1</th>\n",
       "      <th>puissance_moteur_1</th>\n",
       "      <th>...</th>\n",
       "      <th>largeur</th>\n",
       "      <th>coffre</th>\n",
       "      <th>poids</th>\n",
       "      <th>coffre_avant_arriere</th>\n",
       "      <th>essieu_avant</th>\n",
       "      <th>essieu_arriere</th>\n",
       "      <th>base_chassis</th>\n",
       "      <th>plateforme</th>\n",
       "      <th>pneus</th>\n",
       "      <th>pneus_arriere</th>\n",
       "    </tr>\n",
       "  </thead>\n",
       "  <tbody>\n",
       "    <tr>\n",
       "      <th>0</th>\n",
       "      <td>Citroen</td>\n",
       "      <td>C-Zero</td>\n",
       "      <td>2012</td>\n",
       "      <td>26900 €</td>\n",
       "      <td>67 ch</td>\n",
       "      <td>196 Nm</td>\n",
       "      <td>15.9 secondes</td>\n",
       "      <td>130 km/h</td>\n",
       "      <td>Arrière</td>\n",
       "      <td>67 ch</td>\n",
       "      <td>...</td>\n",
       "      <td>1.475 m</td>\n",
       "      <td>166 Litres</td>\n",
       "      <td>1150 kg</td>\n",
       "      <td>NaN</td>\n",
       "      <td>Macpherson</td>\n",
       "      <td>Semi Rigide</td>\n",
       "      <td>Thermique</td>\n",
       "      <td>&lt;i style=\"color:#A5A5A5\"&gt;NC&lt;/i&gt;</td>\n",
       "      <td>145/65 R 15</td>\n",
       "      <td>175/55 R 15</td>\n",
       "    </tr>\n",
       "    <tr>\n",
       "      <th>1</th>\n",
       "      <td>Dacia</td>\n",
       "      <td>Spring Electric 45</td>\n",
       "      <td>2021</td>\n",
       "      <td>20800 €</td>\n",
       "      <td>45 ch</td>\n",
       "      <td>125 Nm</td>\n",
       "      <td>19.1 secondes</td>\n",
       "      <td>125 km/h</td>\n",
       "      <td>Avant</td>\n",
       "      <td>45 ch</td>\n",
       "      <td>...</td>\n",
       "      <td>1.579 m</td>\n",
       "      <td>270 Litres</td>\n",
       "      <td>1045 kg</td>\n",
       "      <td>NaN</td>\n",
       "      <td>Macpherson</td>\n",
       "      <td>Semi Rigide</td>\n",
       "      <td>Thermique</td>\n",
       "      <td>&lt;i style=\"color:#A5A5A5\"&gt;NC&lt;/i&gt;</td>\n",
       "      <td>165/70 R 14</td>\n",
       "      <td>NaN</td>\n",
       "    </tr>\n",
       "  </tbody>\n",
       "</table>\n",
       "<p>2 rows × 53 columns</p>\n",
       "</div>"
      ],
      "text/plain": [
       "  fabricant              modele  annee     prix puissance_cumul couple_cumul  \\\n",
       "0   Citroen             C-Zero    2012  26900 €           67 ch       196 Nm   \n",
       "1     Dacia  Spring Electric 45   2021  20800 €           45 ch       125 Nm   \n",
       "\n",
       "      0_100_km_h vitesse_max position_moteur_1 puissance_moteur_1  ...  \\\n",
       "0  15.9 secondes    130 km/h           Arrière              67 ch  ...   \n",
       "1  19.1 secondes    125 km/h             Avant              45 ch  ...   \n",
       "\n",
       "   largeur      coffre    poids coffre_avant_arriere essieu_avant  \\\n",
       "0  1.475 m  166 Litres  1150 kg                  NaN   Macpherson   \n",
       "1  1.579 m  270 Litres  1045 kg                  NaN   Macpherson   \n",
       "\n",
       "  essieu_arriere base_chassis                       plateforme        pneus  \\\n",
       "0    Semi Rigide    Thermique  <i style=\"color:#A5A5A5\">NC</i>  145/65 R 15   \n",
       "1    Semi Rigide    Thermique  <i style=\"color:#A5A5A5\">NC</i>  165/70 R 14   \n",
       "\n",
       "  pneus_arriere  \n",
       "0   175/55 R 15  \n",
       "1           NaN  \n",
       "\n",
       "[2 rows x 53 columns]"
      ]
     },
     "execution_count": 4,
     "metadata": {},
     "output_type": "execute_result"
    }
   ],
   "source": [
    "df.head(2)"
   ]
  },
  {
   "cell_type": "code",
   "execution_count": 5,
   "id": "9bb4abdf-4cd7-4003-95a9-430c34135385",
   "metadata": {},
   "outputs": [
    {
     "name": "stdout",
     "output_type": "stream",
     "text": [
      "<class 'pandas.core.frame.DataFrame'>\n",
      "RangeIndex: 164 entries, 0 to 163\n",
      "Data columns (total 53 columns):\n",
      " #   Column                                        Non-Null Count  Dtype  \n",
      "---  ------                                        --------------  -----  \n",
      " 0   fabricant                                     164 non-null    object \n",
      " 1   modele                                        163 non-null    object \n",
      " 2   annee                                         164 non-null    int64  \n",
      " 3   prix                                          164 non-null    object \n",
      " 4   puissance_cumul                               164 non-null    object \n",
      " 5   couple_cumul                                  164 non-null    object \n",
      " 6   0_100_km_h                                    164 non-null    object \n",
      " 7   vitesse_max                                   164 non-null    object \n",
      " 8   position_moteur_1                             164 non-null    object \n",
      " 9   puissance_moteur_1                            164 non-null    object \n",
      " 10  type_moteur_1                                 164 non-null    object \n",
      " 11  couple_moteur_1                               164 non-null    object \n",
      " 12  position_moteur_2                             52 non-null     object \n",
      " 13  puissance_moteur_2                            52 non-null     object \n",
      " 14  type_moteur_2                                 52 non-null     object \n",
      " 15  couple_moteur_2                               52 non-null     object \n",
      " 16  position_moteur_3                             3 non-null      object \n",
      " 17  puissance_moteur_3                            3 non-null      object \n",
      " 18  type_moteur_3                                 3 non-null      object \n",
      " 19  couple_moteur_3                               3 non-null      object \n",
      " 20  homologation_autonomie                        163 non-null    object \n",
      " 21  capacite_nominale_brute                       164 non-null    object \n",
      " 22  capacite_utile_nette                          164 non-null    object \n",
      " 23  prise_de_charge_AC                            164 non-null    object \n",
      " 24  prise_de_charge_DC                            164 non-null    object \n",
      " 25  vitesse_de_charge_AC                          164 non-null    object \n",
      " 26  vitesse_de_charge_AC_option                   164 non-null    object \n",
      " 27  vitesse_de_charge_DC                          163 non-null    object \n",
      " 28  vitesse_de_charge_DC_option                   35 non-null     object \n",
      " 29  refroidissement                               1 non-null      object \n",
      " 30  temps_de_charge_DC_0-80%                      157 non-null    object \n",
      " 31  temps_de_charge_AC_0-80%_prise_dom            157 non-null    object \n",
      " 32  temps_de_charge_AC_0-80%_prise_dom_renforcee  157 non-null    object \n",
      " 33  temps_de_charge_AC_0-80%_wallbox              157 non-null    object \n",
      " 34  autonomie_electrique_mixte                    164 non-null    object \n",
      " 35  conso_electrique                              164 non-null    object \n",
      " 36  pompe_a_chaleur                               164 non-null    object \n",
      " 37  Unnamed: 37                                   0 non-null      float64\n",
      " 38  motricite                                     164 non-null    object \n",
      " 39  rapports                                      164 non-null    int64  \n",
      " 40  longueur                                      164 non-null    object \n",
      " 41  empattement                                   164 non-null    object \n",
      " 42  hauteur                                       164 non-null    object \n",
      " 43  largeur                                       164 non-null    object \n",
      " 44  coffre                                        164 non-null    object \n",
      " 45  poids                                         164 non-null    object \n",
      " 46  coffre_avant_arriere                          45 non-null     object \n",
      " 47  essieu_avant                                  164 non-null    object \n",
      " 48  essieu_arriere                                164 non-null    object \n",
      " 49  base_chassis                                  164 non-null    object \n",
      " 50  plateforme                                    164 non-null    object \n",
      " 51  pneus                                         164 non-null    object \n",
      " 52  pneus_arriere                                 33 non-null     object \n",
      "dtypes: float64(1), int64(2), object(50)\n",
      "memory usage: 68.0+ KB\n"
     ]
    }
   ],
   "source": [
    "df.info()"
   ]
  },
  {
   "cell_type": "code",
   "execution_count": null,
   "id": "d0f0813a-32d5-4c4c-88ff-335e67a85558",
   "metadata": {},
   "outputs": [],
   "source": []
  },
  {
   "cell_type": "markdown",
   "id": "5d04776d-ba33-4cc6-99c1-b25365d2cbdd",
   "metadata": {},
   "source": [
    "# Exploration"
   ]
  },
  {
   "cell_type": "markdown",
   "id": "679d7b49-623d-4fc5-a060-593ba6892cda",
   "metadata": {},
   "source": [
    "## Fabricant"
   ]
  },
  {
   "cell_type": "code",
   "execution_count": 6,
   "id": "a0447085-f142-47c6-9319-df6b282bbedc",
   "metadata": {},
   "outputs": [
    {
     "data": {
      "text/plain": [
       "29"
      ]
     },
     "execution_count": 6,
     "metadata": {},
     "output_type": "execute_result"
    }
   ],
   "source": [
    "df.fabricant.nunique()"
   ]
  },
  {
   "cell_type": "code",
   "execution_count": 7,
   "id": "c7e443da-c45c-4d41-8864-4d10ddeeeb02",
   "metadata": {},
   "outputs": [
    {
     "data": {
      "text/plain": [
       "array(['Citroen', 'Dacia', 'Fiat', 'Nissan', 'Peugeot', 'Renault', 'Seat',\n",
       "       'Smart', 'Volkswagen', 'Aiways', 'BMW', 'DS', 'Honda', 'Hyundai',\n",
       "       'Kia', 'Mazda', 'MG', 'Mini', 'Opel', 'Skoda', 'Audi', 'Cupra',\n",
       "       'Ford', 'Lexus', 'Mercedes', 'Tesla', 'Volvo', 'Jaguar', 'Porsche'],\n",
       "      dtype=object)"
      ]
     },
     "execution_count": 7,
     "metadata": {},
     "output_type": "execute_result"
    }
   ],
   "source": [
    "df.fabricant.unique()"
   ]
  },
  {
   "cell_type": "markdown",
   "id": "dc02caf8-769d-4531-b3df-5c916ee69fee",
   "metadata": {},
   "source": [
    "**Note :**\n",
    "- le dataset présente des ve de 29 fabricants"
   ]
  },
  {
   "cell_type": "markdown",
   "id": "19778484-8f25-4f1a-9714-111bf64c40a7",
   "metadata": {},
   "source": [
    "## Modèle"
   ]
  },
  {
   "cell_type": "code",
   "execution_count": 8,
   "id": "4718a05c-b718-418b-99d2-3f452cae77e7",
   "metadata": {},
   "outputs": [
    {
     "data": {
      "text/plain": [
       "140"
      ]
     },
     "execution_count": 8,
     "metadata": {},
     "output_type": "execute_result"
    }
   ],
   "source": [
    "df.modele.nunique()"
   ]
  },
  {
   "cell_type": "code",
   "execution_count": 9,
   "id": "6e5b3e12-078c-42ed-8577-190131b44a57",
   "metadata": {},
   "outputs": [
    {
     "data": {
      "text/plain": [
       "array(['C-Zero', 'Spring Electric 45', 'Spring Electric 65', '500e',\n",
       "       'Leaf', 'Ion', 'Twingo III Z.E R80', 'Zoe Q210', 'Zoe R75',\n",
       "       'Zoe Q90', 'Zoe R90', 'Zoe R110', 'Mii EV', 'Fortwo EQ', 'E-Up!',\n",
       "       'E-Up! 2.0', 'U5', 'i3 60Ah', 'i3 94Ah', 'i3 120Ah',\n",
       "       'E-Berlingo Standard', 'E-Berlingo XL', 'Ë-C4 Electric',\n",
       "       'DS3 Crossback E-Tense', 'Honda-e', 'Honda-e Advance', 'Ioniq',\n",
       "       'Kona', 'E-Niro', 'E-Soul', 'Soul EV', 'MX-30 E-Skyactiv',\n",
       "       'Marvel R Comfort/luxury', 'MG5 Autonomie Standard',\n",
       "       'MG5 Autonomie Etendue', 'ZS Standard Range', 'ZS Long Range',\n",
       "       'nan', 'Leaf II', 'Corsa-e Electric', 'Mokka-e Electric',\n",
       "       'e-2008 Electric', 'e-208 Electric', 'E-Rifter Standard',\n",
       "       'Megane e-Tech EV40', 'Zoe II R110', 'Zoe II R135', 'Enyaq 50',\n",
       "       'E-Golf', 'ID3 Pure', 'ID3 Pro', 'Q4 E-Tron 35', 'Q4 E-Tron 40',\n",
       "       'Q4 E-Tron Sportback 35', 'i3 S 94Ah', 'i3 S 120Ah', 'Born V',\n",
       "       'Born VZ58', 'Mustang Mach-e RWD Standard Range', 'Ioniq 5',\n",
       "       'EV6 RWD', 'Niro EV', 'UX 300e', 'EQA 250', 'Ariya Traction',\n",
       "       'E-Rifter Long', 'Megane e-Tech EV60', 'Enyaq 60', 'Enyaq 80',\n",
       "       'Model Y Propulsion', 'ID Buzz', 'ID3 Pro Performance',\n",
       "       'ID3 Pro S', 'ID4 Pure', 'ID4 Pure Performance', 'ID4 Pro',\n",
       "       'ID4 Pro Performance', 'XC40 Recharge', 'Q4 E-Tron 45 Quattro',\n",
       "       'Q4 E-Tron Sportback 40', 'i4 EDrive 40', 'i4 eDrive 35',\n",
       "       'E-Ulysse Standard', 'Mustang Mach-e RWD Extended Range',\n",
       "       'Mustang Mach-e AWD Standard Range', 'Ioniq 5 HTRAC', 'EV6 AWD',\n",
       "       'EQA 250 +', 'Marvel R Performance', 'E-Traveler',\n",
       "       'E-Traveler Long', 'Enyaq 80x', 'Model 3 Long Range',\n",
       "       'Model 3 Performance', 'Model 3 Propulsion', 'ID4 GTX',\n",
       "       'XC40 Recharge Twin', 'Q4 E-Tron 50 Quattro',\n",
       "       'Q4 E-Tron Sportback 45 Quattro', 'Q4 E-Tron Sportback 50 Quattro',\n",
       "       'iX3', 'E-Ulysse Living / Long',\n",
       "       'Mustang Mach-e AWD Extended Range', 'EV6 GT AWD',\n",
       "       'EQA 350 4Matic', 'EQB 300 4Matic', 'EQB 350 4Matic',\n",
       "       'Ariya e-4orce 4X4', 'Model Y Long Range', 'Model Y Performance',\n",
       "       'E-tron 50 Quattro', 'E-tron Sportback 50 Quattro', 'i4 M50',\n",
       "       'Mustang Mach-e AWD GT', 'I-Pace EV400', 'I-Pace EV320',\n",
       "       'EQC 400 4MAtic', 'EQE 300', 'EQE 350', 'EQV 300',\n",
       "       'EQV 300 Extra long', 'E-tron 55 Quattro',\n",
       "       'E-tron Sportback 55 Quattro', 'iX xDrive40', 'E-tron S Quattro',\n",
       "       'E-Tron GT RS', 'E-tron Sportback S Quattro', 'iX xDrive50',\n",
       "       'Taycan 4S', 'Taycan Cross Turismo 4', 'Taycan Cross Turismo 4S',\n",
       "       'Model S Long Range', 'Model X Long Range', 'E-Tron GT Quattro',\n",
       "       'iX M60', 'EQS 450', 'EQS 580 4Matic', 'Taycan Turbo',\n",
       "       'Taycan Turbo S', 'Taycan Cross Turismo Turbo',\n",
       "       'Taycan Cross Turismo Turbo S'], dtype=object)"
      ]
     },
     "execution_count": 9,
     "metadata": {},
     "output_type": "execute_result"
    }
   ],
   "source": [
    "df.modele = [str(df.modele[i]).strip() for i in range(len(df.modele))]\n",
    "df.modele.unique()"
   ]
  },
  {
   "cell_type": "code",
   "execution_count": 10,
   "id": "a28b072d-8a24-4a99-9de6-3071d4d49a8f",
   "metadata": {},
   "outputs": [],
   "source": [
    "# Patch spécifique \"Mini\"\n",
    "\n",
    "df.loc[df.fabricant==\"Mini\", \"modele\"] = \"Mini E Electric\""
   ]
  },
  {
   "cell_type": "markdown",
   "id": "fea8a3bd-c60e-436d-92a5-15328467acff",
   "metadata": {},
   "source": [
    "**Note :**\n",
    "- le dataset présente 140 modèles différents de ve --> voir les versions / année"
   ]
  },
  {
   "cell_type": "markdown",
   "id": "70a5f37e-76d1-4601-a22b-e1a0a2191a6f",
   "metadata": {},
   "source": [
    "## Année"
   ]
  },
  {
   "cell_type": "code",
   "execution_count": 11,
   "id": "cf34c7ea-e362-4ab4-ab0e-125f16d2eb55",
   "metadata": {},
   "outputs": [
    {
     "data": {
      "text/plain": [
       "12"
      ]
     },
     "execution_count": 11,
     "metadata": {},
     "output_type": "execute_result"
    }
   ],
   "source": [
    "df.annee.nunique()"
   ]
  },
  {
   "cell_type": "code",
   "execution_count": 12,
   "id": "b697558c-ad88-4ffa-b96c-01661a3204f7",
   "metadata": {},
   "outputs": [
    {
     "data": {
      "text/plain": [
       "count     164.000000\n",
       "mean     2019.847561\n",
       "std         2.335626\n",
       "min      2011.000000\n",
       "25%      2019.000000\n",
       "50%      2021.000000\n",
       "75%      2021.000000\n",
       "max      2023.000000\n",
       "Name: annee, dtype: float64"
      ]
     },
     "execution_count": 12,
     "metadata": {},
     "output_type": "execute_result"
    }
   ],
   "source": [
    "df.annee.describe()"
   ]
  },
  {
   "cell_type": "markdown",
   "id": "2f126b7a-66c8-4a4c-9bf4-1bbda07c1c7d",
   "metadata": {},
   "source": [
    "**Note :**\n",
    "- le dataset présente des ve fabriqués entre 2011 et 2023"
   ]
  },
  {
   "cell_type": "markdown",
   "id": "7878c1ad-b5cb-4dde-95a8-95a8075b7f74",
   "metadata": {},
   "source": [
    "## Prix"
   ]
  },
  {
   "cell_type": "code",
   "execution_count": 13,
   "id": "15f84bed-c132-48e1-9cd5-beb8de125e24",
   "metadata": {},
   "outputs": [
    {
     "data": {
      "text/plain": [
       "0    26900 €\n",
       "1    20800 €\n",
       "Name: prix, dtype: object"
      ]
     },
     "execution_count": 13,
     "metadata": {},
     "output_type": "execute_result"
    }
   ],
   "source": [
    "df.prix.head(2)"
   ]
  },
  {
   "cell_type": "code",
   "execution_count": 14,
   "id": "d19d2828-54ad-41c7-9491-2c7cdef9033e",
   "metadata": {},
   "outputs": [],
   "source": [
    "df = df.rename(columns = {\"prix\" : \"prix_Eur\"})\n",
    "df[\"prix_Eur\"] = df[\"prix_Eur\"].str.replace(\" €\",\"\")\n",
    "df.prix_Eur = df.prix_Eur.astype('int64')\n",
    "#df.prix_eur.dtypes"
   ]
  },
  {
   "cell_type": "code",
   "execution_count": 15,
   "id": "f3e0662a-cc2e-461b-8739-7791f214ddb8",
   "metadata": {},
   "outputs": [
    {
     "data": {
      "text/plain": [
       "count       164.000000\n",
       "mean      55997.682927\n",
       "std       30753.784240\n",
       "min       20800.000000\n",
       "25%       36775.000000\n",
       "50%       47300.000000\n",
       "75%       64022.500000\n",
       "max      191400.000000\n",
       "Name: prix_Eur, dtype: float64"
      ]
     },
     "execution_count": 15,
     "metadata": {},
     "output_type": "execute_result"
    }
   ],
   "source": [
    "df.prix_Eur.describe()"
   ]
  },
  {
   "cell_type": "markdown",
   "id": "a8bc6481-c328-493b-83fd-1847b309c8fd",
   "metadata": {},
   "source": [
    "**Note :**\n",
    "- le dataset présente des ve dont le prix varie de 21k à 191k €\n",
    "- prix moyen : 56k €\n",
    "- prix médian : 47k €"
   ]
  },
  {
   "cell_type": "code",
   "execution_count": 16,
   "id": "c12431c3-389d-4c27-aa60-76a70be83ebe",
   "metadata": {},
   "outputs": [
    {
     "data": {
      "text/plain": [
       "2"
      ]
     },
     "execution_count": 16,
     "metadata": {},
     "output_type": "execute_result"
    }
   ],
   "source": [
    "df2 = df.copy()\n",
    "df2[\"count\"] =1\n",
    "group = df2.groupby(by=[\"fabricant\",\"annee\", \"modele\"]).sum()\n",
    "group[\"count\"].max()"
   ]
  },
  {
   "cell_type": "code",
   "execution_count": 17,
   "id": "7b24f939-0fcb-4760-8411-d24c86d6ac29",
   "metadata": {},
   "outputs": [
    {
     "data": {
      "text/html": [
       "<div>\n",
       "<style scoped>\n",
       "    .dataframe tbody tr th:only-of-type {\n",
       "        vertical-align: middle;\n",
       "    }\n",
       "\n",
       "    .dataframe tbody tr th {\n",
       "        vertical-align: top;\n",
       "    }\n",
       "\n",
       "    .dataframe thead th {\n",
       "        text-align: right;\n",
       "    }\n",
       "</style>\n",
       "<table border=\"1\" class=\"dataframe\">\n",
       "  <thead>\n",
       "    <tr style=\"text-align: right;\">\n",
       "      <th></th>\n",
       "      <th></th>\n",
       "      <th></th>\n",
       "      <th>prix_Eur</th>\n",
       "      <th>Unnamed: 37</th>\n",
       "      <th>rapports</th>\n",
       "      <th>count</th>\n",
       "    </tr>\n",
       "    <tr>\n",
       "      <th>fabricant</th>\n",
       "      <th>annee</th>\n",
       "      <th>modele</th>\n",
       "      <th></th>\n",
       "      <th></th>\n",
       "      <th></th>\n",
       "      <th></th>\n",
       "    </tr>\n",
       "  </thead>\n",
       "  <tbody>\n",
       "  </tbody>\n",
       "</table>\n",
       "</div>"
      ],
      "text/plain": [
       "Empty DataFrame\n",
       "Columns: [prix_Eur, Unnamed: 37, rapports, count]\n",
       "Index: []"
      ]
     },
     "execution_count": 17,
     "metadata": {},
     "output_type": "execute_result"
    }
   ],
   "source": [
    "group.loc[group[\"count\"] == 8]"
   ]
  },
  {
   "cell_type": "code",
   "execution_count": 18,
   "id": "196175b4-7d62-4d47-830e-be5e5d9f73dc",
   "metadata": {},
   "outputs": [
    {
     "data": {
      "text/html": [
       "<div>\n",
       "<style scoped>\n",
       "    .dataframe tbody tr th:only-of-type {\n",
       "        vertical-align: middle;\n",
       "    }\n",
       "\n",
       "    .dataframe tbody tr th {\n",
       "        vertical-align: top;\n",
       "    }\n",
       "\n",
       "    .dataframe thead th {\n",
       "        text-align: right;\n",
       "    }\n",
       "</style>\n",
       "<table border=\"1\" class=\"dataframe\">\n",
       "  <thead>\n",
       "    <tr style=\"text-align: right;\">\n",
       "      <th></th>\n",
       "      <th>fabricant</th>\n",
       "      <th>modele</th>\n",
       "      <th>annee</th>\n",
       "      <th>prix_Eur</th>\n",
       "      <th>puissance_cumul</th>\n",
       "      <th>couple_cumul</th>\n",
       "      <th>0_100_km_h</th>\n",
       "      <th>vitesse_max</th>\n",
       "    </tr>\n",
       "  </thead>\n",
       "  <tbody>\n",
       "  </tbody>\n",
       "</table>\n",
       "</div>"
      ],
      "text/plain": [
       "Empty DataFrame\n",
       "Columns: [fabricant, modele, annee, prix_Eur, puissance_cumul, couple_cumul, 0_100_km_h, vitesse_max]\n",
       "Index: []"
      ]
     },
     "execution_count": 18,
     "metadata": {},
     "output_type": "execute_result"
    }
   ],
   "source": [
    "df2.loc[(df2.fabricant == \"Audi\") & (df2.annee == 2021) & (df.modele == \"Q4\")].loc[:,\"fabricant\":\"vitesse_max\"]"
   ]
  },
  {
   "cell_type": "markdown",
   "id": "60038786-77ef-4ec4-ae7c-c29f58c014e0",
   "metadata": {
    "tags": []
   },
   "source": [
    "## Puissance cumulée"
   ]
  },
  {
   "cell_type": "code",
   "execution_count": 19,
   "id": "30ad4e53-8ca9-4d75-997e-6fb540965111",
   "metadata": {},
   "outputs": [
    {
     "data": {
      "text/plain": [
       "0    67 ch\n",
       "1    45 ch\n",
       "Name: puissance_cumul, dtype: object"
      ]
     },
     "execution_count": 19,
     "metadata": {},
     "output_type": "execute_result"
    }
   ],
   "source": [
    "df.puissance_cumul.head(2)"
   ]
  },
  {
   "cell_type": "code",
   "execution_count": 20,
   "id": "44c4806d-0f12-44ed-9da7-b7abc26d3136",
   "metadata": {},
   "outputs": [
    {
     "data": {
      "text/plain": [
       "0    67\n",
       "1    45\n",
       "Name: puissance_cumul_Ch, dtype: int32"
      ]
     },
     "execution_count": 20,
     "metadata": {},
     "output_type": "execute_result"
    }
   ],
   "source": [
    "df = df.rename(columns = {\"puissance_cumul\" : \"puissance_cumul_Ch\"})\n",
    "df[\"puissance_cumul_Ch\"] = df[\"puissance_cumul_Ch\"].str.replace(\" ch\",\"\")\n",
    "df.puissance_cumul_Ch = df.puissance_cumul_Ch.astype('int')\n",
    "df.puissance_cumul_Ch.head(2)"
   ]
  },
  {
   "cell_type": "code",
   "execution_count": 21,
   "id": "b2d4ca24-c8ad-4c12-b25b-16bbdd75607e",
   "metadata": {},
   "outputs": [
    {
     "data": {
      "text/plain": [
       "count    164.000000\n",
       "mean     245.347561\n",
       "std      147.066055\n",
       "min       45.000000\n",
       "25%      136.000000\n",
       "50%      204.000000\n",
       "75%      306.000000\n",
       "max      760.000000\n",
       "Name: puissance_cumul_Ch, dtype: float64"
      ]
     },
     "execution_count": 21,
     "metadata": {},
     "output_type": "execute_result"
    }
   ],
   "source": [
    "df.puissance_cumul_Ch.describe()"
   ]
  },
  {
   "cell_type": "markdown",
   "id": "37cf3460-ef62-4e8c-8708-e99dd21a9aef",
   "metadata": {},
   "source": [
    "**Note :**\n",
    "- le dataset présente des ve dont la puissance cumulée va de 45 ch à 760 ch !\n",
    "- une puissance > 700 ch semble avoir été atteinte avec un moteur à explosion (suralimenté) qu'en 2019... \n",
    "https://www.largus.fr/actualite-automobile/ford-mustang-760-ch-pour-la-nouvelle-shelby-gt500-9849398.html"
   ]
  },
  {
   "cell_type": "markdown",
   "id": "b394033e-70ec-4515-ac68-c6cc77ef6536",
   "metadata": {},
   "source": [
    "## Couple cumulé"
   ]
  },
  {
   "cell_type": "code",
   "execution_count": 22,
   "id": "347ce01f-c213-4faa-8192-0a0dc47e66e6",
   "metadata": {},
   "outputs": [
    {
     "data": {
      "text/plain": [
       "0    196 Nm\n",
       "1    125 Nm\n",
       "Name: couple_cumul, dtype: object"
      ]
     },
     "execution_count": 22,
     "metadata": {},
     "output_type": "execute_result"
    }
   ],
   "source": [
    "df.couple_cumul.head(2)"
   ]
  },
  {
   "cell_type": "code",
   "execution_count": 23,
   "id": "ed758e78-134d-40c9-8d56-391977452dc5",
   "metadata": {},
   "outputs": [
    {
     "data": {
      "text/plain": [
       "0    196\n",
       "1    125\n",
       "Name: couple_cumul_Nm, dtype: int32"
      ]
     },
     "execution_count": 23,
     "metadata": {},
     "output_type": "execute_result"
    }
   ],
   "source": [
    "df = df.rename(columns = {\"couple_cumul\" : \"couple_cumul_Nm\"})\n",
    "df[\"couple_cumul_Nm\"] = df[\"couple_cumul_Nm\"].str.replace(\" Nm\",\"\")\n",
    "df.couple_cumul_Nm = df.couple_cumul_Nm.astype('int')\n",
    "df.couple_cumul_Nm.head(2)"
   ]
  },
  {
   "cell_type": "code",
   "execution_count": 24,
   "id": "f92ccd6e-57e1-45c3-9d94-7f082f17c086",
   "metadata": {},
   "outputs": [
    {
     "data": {
      "text/plain": [
       "count     164.000000\n",
       "mean      413.237805\n",
       "std       206.069315\n",
       "min       113.000000\n",
       "25%       260.000000\n",
       "50%       317.500000\n",
       "75%       520.000000\n",
       "max      1100.000000\n",
       "Name: couple_cumul_Nm, dtype: float64"
      ]
     },
     "execution_count": 24,
     "metadata": {},
     "output_type": "execute_result"
    }
   ],
   "source": [
    "df.couple_cumul_Nm.describe()"
   ]
  },
  {
   "cell_type": "markdown",
   "id": "f0788ac0-8453-4347-8b2f-509ee000f5ae",
   "metadata": {},
   "source": [
    "Rappel : \n",
    "\n",
    "Puissance (Watt) = Couple (Nm) x Régime (rad/s)"
   ]
  },
  {
   "cell_type": "markdown",
   "id": "8ee96cbc-5ff4-45e2-8639-8f64c3834397",
   "metadata": {},
   "source": [
    "## 0 à 100 km/h"
   ]
  },
  {
   "cell_type": "code",
   "execution_count": 25,
   "id": "a81f1c24-53bd-4570-a8bf-174cfa772b5a",
   "metadata": {},
   "outputs": [
    {
     "data": {
      "text/plain": [
       "0    15.9 secondes\n",
       "1    19.1 secondes\n",
       "Name: 0_100_km_h, dtype: object"
      ]
     },
     "execution_count": 25,
     "metadata": {},
     "output_type": "execute_result"
    }
   ],
   "source": [
    "df[\"0_100_km_h\"].head(2)"
   ]
  },
  {
   "cell_type": "code",
   "execution_count": 26,
   "id": "c45c6f71-b1d3-42ed-adef-cb23a483e866",
   "metadata": {},
   "outputs": [
    {
     "data": {
      "text/plain": [
       "0    15.9\n",
       "1    19.1\n",
       "Name: tps_acc_0_100_Sec, dtype: float64"
      ]
     },
     "execution_count": 26,
     "metadata": {},
     "output_type": "execute_result"
    }
   ],
   "source": [
    "df = df.rename(columns = {\"0_100_km_h\" : \"tps_acc_0_100_Sec\"})\n",
    "df[\"tps_acc_0_100_Sec\"] = df[\"tps_acc_0_100_Sec\"].str.replace(\" secondes\",\"\")\n",
    "df.tps_acc_0_100_Sec = df.tps_acc_0_100_Sec.astype('float')\n",
    "df.tps_acc_0_100_Sec.head(2)"
   ]
  },
  {
   "cell_type": "code",
   "execution_count": 27,
   "id": "df03db78-1fdd-4884-b2f0-01efde30f0c5",
   "metadata": {},
   "outputs": [
    {
     "data": {
      "text/plain": [
       "count    164.000000\n",
       "mean       8.054268\n",
       "std        2.939458\n",
       "min        2.800000\n",
       "25%        6.100000\n",
       "50%        7.850000\n",
       "75%        9.825000\n",
       "max       19.100000\n",
       "Name: tps_acc_0_100_Sec, dtype: float64"
      ]
     },
     "execution_count": 27,
     "metadata": {},
     "output_type": "execute_result"
    }
   ],
   "source": [
    "df.tps_acc_0_100_Sec.describe()"
   ]
  },
  {
   "cell_type": "markdown",
   "id": "71b3caf8-8227-40db-9e87-5a4402db2c76",
   "metadata": {},
   "source": [
    "**Note :**\n",
    "- bien meilleurs scores que les véhicules thermiques\n",
    "- record du monde (a priori) en 2019 : 1.9 sec.\n",
    "- record du monde (thermique) en 2020 : 2.4 sec.\n",
    "https://www.auto-moto.com/actualite/en-chiffres/voitures-plus-rapides-0-a-100-km-h-classement-254578.html#item=1\n",
    "\n",
    "Ca doit être à ça que sert les 3 moteurs..."
   ]
  },
  {
   "cell_type": "markdown",
   "id": "208d31f3-41a0-48e8-b796-f73d0b7314f2",
   "metadata": {},
   "source": [
    "## Vitesse maximale"
   ]
  },
  {
   "cell_type": "code",
   "execution_count": 28,
   "id": "1ce0337f-6ad8-483f-96cf-1bde9fd2f248",
   "metadata": {},
   "outputs": [
    {
     "data": {
      "text/plain": [
       "0    130 km/h\n",
       "1    125 km/h\n",
       "Name: vitesse_max, dtype: object"
      ]
     },
     "execution_count": 28,
     "metadata": {},
     "output_type": "execute_result"
    }
   ],
   "source": [
    "df.vitesse_max.head(2)"
   ]
  },
  {
   "cell_type": "code",
   "execution_count": 29,
   "id": "a3c5795e-f482-4f79-b7ba-c78f926cb327",
   "metadata": {},
   "outputs": [
    {
     "data": {
      "text/plain": [
       "0    130\n",
       "1    125\n",
       "Name: vitesse_max_Km_h, dtype: int32"
      ]
     },
     "execution_count": 29,
     "metadata": {},
     "output_type": "execute_result"
    }
   ],
   "source": [
    "df = df.rename(columns = {\"vitesse_max\" : \"vitesse_max_Km_h\"})\n",
    "df[\"vitesse_max_Km_h\"] = df[\"vitesse_max_Km_h\"].str.replace(\" km/h\",\"\")\n",
    "df.vitesse_max_Km_h = df.vitesse_max_Km_h.astype('int')\n",
    "df.vitesse_max_Km_h.head(2)"
   ]
  },
  {
   "cell_type": "code",
   "execution_count": 30,
   "id": "55d2cbc9-1e17-43c5-9889-f40f6dfea522",
   "metadata": {},
   "outputs": [
    {
     "data": {
      "text/plain": [
       "count    164.000000\n",
       "mean     172.865854\n",
       "std       35.114978\n",
       "min      125.000000\n",
       "25%      150.000000\n",
       "50%      160.000000\n",
       "75%      186.250000\n",
       "max      260.000000\n",
       "Name: vitesse_max_Km_h, dtype: float64"
      ]
     },
     "execution_count": 30,
     "metadata": {},
     "output_type": "execute_result"
    }
   ],
   "source": [
    "df.vitesse_max_Km_h.describe()"
   ]
  },
  {
   "cell_type": "markdown",
   "id": "5bdacb57-f97b-4ab5-af9c-e7d3964e1763",
   "metadata": {},
   "source": [
    "**Note :**\n",
    "- Vitesse max à 125 km/h (!), c'est assez surprenant -> focus"
   ]
  },
  {
   "cell_type": "markdown",
   "id": "140b6225-40cb-41af-b147-f0897225c3ff",
   "metadata": {},
   "source": [
    "### focus : identification du véhicule ayant min(vitesse max)"
   ]
  },
  {
   "cell_type": "code",
   "execution_count": 31,
   "id": "4917384f-ff0b-4b49-a70c-123e6f79754b",
   "metadata": {},
   "outputs": [
    {
     "data": {
      "text/html": [
       "<div>\n",
       "<style scoped>\n",
       "    .dataframe tbody tr th:only-of-type {\n",
       "        vertical-align: middle;\n",
       "    }\n",
       "\n",
       "    .dataframe tbody tr th {\n",
       "        vertical-align: top;\n",
       "    }\n",
       "\n",
       "    .dataframe thead th {\n",
       "        text-align: right;\n",
       "    }\n",
       "</style>\n",
       "<table border=\"1\" class=\"dataframe\">\n",
       "  <thead>\n",
       "    <tr style=\"text-align: right;\">\n",
       "      <th></th>\n",
       "      <th>fabricant</th>\n",
       "      <th>modele</th>\n",
       "      <th>annee</th>\n",
       "      <th>prix_Eur</th>\n",
       "      <th>puissance_cumul_Ch</th>\n",
       "      <th>couple_cumul_Nm</th>\n",
       "      <th>tps_acc_0_100_Sec</th>\n",
       "      <th>vitesse_max_Km_h</th>\n",
       "      <th>position_moteur_1</th>\n",
       "      <th>puissance_moteur_1</th>\n",
       "      <th>...</th>\n",
       "      <th>largeur</th>\n",
       "      <th>coffre</th>\n",
       "      <th>poids</th>\n",
       "      <th>coffre_avant_arriere</th>\n",
       "      <th>essieu_avant</th>\n",
       "      <th>essieu_arriere</th>\n",
       "      <th>base_chassis</th>\n",
       "      <th>plateforme</th>\n",
       "      <th>pneus</th>\n",
       "      <th>pneus_arriere</th>\n",
       "    </tr>\n",
       "  </thead>\n",
       "  <tbody>\n",
       "    <tr>\n",
       "      <th>1</th>\n",
       "      <td>Dacia</td>\n",
       "      <td>Spring Electric 45</td>\n",
       "      <td>2021</td>\n",
       "      <td>20800</td>\n",
       "      <td>45</td>\n",
       "      <td>125</td>\n",
       "      <td>19.1</td>\n",
       "      <td>125</td>\n",
       "      <td>Avant</td>\n",
       "      <td>45 ch</td>\n",
       "      <td>...</td>\n",
       "      <td>1.579 m</td>\n",
       "      <td>270 Litres</td>\n",
       "      <td>1045 kg</td>\n",
       "      <td>NaN</td>\n",
       "      <td>Macpherson</td>\n",
       "      <td>Semi Rigide</td>\n",
       "      <td>Thermique</td>\n",
       "      <td>&lt;i style=\"color:#A5A5A5\"&gt;NC&lt;/i&gt;</td>\n",
       "      <td>165/70 R 14</td>\n",
       "      <td>NaN</td>\n",
       "    </tr>\n",
       "    <tr>\n",
       "      <th>2</th>\n",
       "      <td>Dacia</td>\n",
       "      <td>Spring Electric 65</td>\n",
       "      <td>2023</td>\n",
       "      <td>22300</td>\n",
       "      <td>65</td>\n",
       "      <td>113</td>\n",
       "      <td>13.7</td>\n",
       "      <td>125</td>\n",
       "      <td>Avant</td>\n",
       "      <td>65 ch</td>\n",
       "      <td>...</td>\n",
       "      <td>1.579 m</td>\n",
       "      <td>270 Litres</td>\n",
       "      <td>1050 kg</td>\n",
       "      <td>NaN</td>\n",
       "      <td>Macpherson</td>\n",
       "      <td>Semi Rigide</td>\n",
       "      <td>Thermique</td>\n",
       "      <td>&lt;i style=\"color:#A5A5A5\"&gt;NC&lt;/i&gt;</td>\n",
       "      <td>165/70 R 14</td>\n",
       "      <td>NaN</td>\n",
       "    </tr>\n",
       "  </tbody>\n",
       "</table>\n",
       "<p>2 rows × 53 columns</p>\n",
       "</div>"
      ],
      "text/plain": [
       "  fabricant              modele  annee  prix_Eur  puissance_cumul_Ch  \\\n",
       "1     Dacia  Spring Electric 45   2021     20800                  45   \n",
       "2     Dacia  Spring Electric 65   2023     22300                  65   \n",
       "\n",
       "   couple_cumul_Nm  tps_acc_0_100_Sec  vitesse_max_Km_h position_moteur_1  \\\n",
       "1              125               19.1               125             Avant   \n",
       "2              113               13.7               125             Avant   \n",
       "\n",
       "  puissance_moteur_1  ...  largeur      coffre    poids coffre_avant_arriere  \\\n",
       "1              45 ch  ...  1.579 m  270 Litres  1045 kg                  NaN   \n",
       "2              65 ch  ...  1.579 m  270 Litres  1050 kg                  NaN   \n",
       "\n",
       "  essieu_avant essieu_arriere base_chassis                       plateforme  \\\n",
       "1   Macpherson    Semi Rigide    Thermique  <i style=\"color:#A5A5A5\">NC</i>   \n",
       "2   Macpherson    Semi Rigide    Thermique  <i style=\"color:#A5A5A5\">NC</i>   \n",
       "\n",
       "         pneus pneus_arriere  \n",
       "1  165/70 R 14           NaN  \n",
       "2  165/70 R 14           NaN  \n",
       "\n",
       "[2 rows x 53 columns]"
      ]
     },
     "execution_count": 31,
     "metadata": {},
     "output_type": "execute_result"
    }
   ],
   "source": [
    "df.loc[df.vitesse_max_Km_h == df.vitesse_max_Km_h.min()]"
   ]
  },
  {
   "cell_type": "markdown",
   "id": "552bbff1-442c-4ffd-98f9-902b2407a192",
   "metadata": {},
   "source": [
    "**Note :**\n",
    "- On aurait pu se douter que c'était de l'entrée de gamme et/ou ancienne. Il s'avère qu'il s'agit de la Dacia Spring (2021 et 2023), parmi les moins chers."
   ]
  },
  {
   "cell_type": "markdown",
   "id": "edeca76d-5f51-43c1-be5c-f4ecda3aa19a",
   "metadata": {},
   "source": [
    "## Position individuelle des moteurs"
   ]
  },
  {
   "cell_type": "code",
   "execution_count": 32,
   "id": "8bf2339e-9c78-4053-ae2b-9018f05a4e36",
   "metadata": {},
   "outputs": [
    {
     "name": "stdout",
     "output_type": "stream",
     "text": [
      "['Arrière', 'Avant']\n"
     ]
    },
    {
     "data": {
      "text/plain": [
       "Avant      119\n",
       "Arrière     45\n",
       "Name: position_moteur_1, dtype: int64"
      ]
     },
     "execution_count": 32,
     "metadata": {},
     "output_type": "execute_result"
    }
   ],
   "source": [
    "print(list(df.position_moteur_1.unique()))\n",
    "df.position_moteur_1.value_counts()"
   ]
  },
  {
   "cell_type": "code",
   "execution_count": 33,
   "id": "08d4832a-519f-4185-b35f-d2bcf3cfda07",
   "metadata": {},
   "outputs": [
    {
     "name": "stdout",
     "output_type": "stream",
     "text": [
      "[nan, 'Arrière']\n"
     ]
    },
    {
     "data": {
      "text/plain": [
       "NaN        112\n",
       "Arrière     52\n",
       "Name: position_moteur_2, dtype: int64"
      ]
     },
     "execution_count": 33,
     "metadata": {},
     "output_type": "execute_result"
    }
   ],
   "source": [
    "print(list(df.position_moteur_2.unique()))\n",
    "df.position_moteur_2.value_counts(dropna = False)"
   ]
  },
  {
   "cell_type": "code",
   "execution_count": 34,
   "id": "cfe236bc-4d81-4b41-87ad-a82074951cf5",
   "metadata": {},
   "outputs": [
    {
     "data": {
      "text/plain": [
       "NaN        112\n",
       "Arrière     52\n",
       "Name: position_moteur_2, dtype: int64"
      ]
     },
     "execution_count": 34,
     "metadata": {},
     "output_type": "execute_result"
    }
   ],
   "source": [
    "df.position_moteur_2.fillna(\"\").head(3)\n",
    "df.position_moteur_2.value_counts(dropna = False)"
   ]
  },
  {
   "cell_type": "code",
   "execution_count": 35,
   "id": "43092576-8265-4ed8-bdab-6d39cd16b19c",
   "metadata": {},
   "outputs": [
    {
     "data": {
      "text/plain": [
       "NaN        161\n",
       "Arrière      3\n",
       "Name: position_moteur_3, dtype: int64"
      ]
     },
     "execution_count": 35,
     "metadata": {},
     "output_type": "execute_result"
    }
   ],
   "source": [
    "df.position_moteur_3.fillna(\"\").head(3)\n",
    "df.position_moteur_3.value_counts(dropna = False)"
   ]
  },
  {
   "cell_type": "markdown",
   "id": "3fa54e6c-b821-4548-a5be-ef8531b68396",
   "metadata": {},
   "source": [
    "**Note :*\n",
    "- Le moteur \"principal peut être positionné à l'avant ou à l'arrière\n",
    "- Les moteurs n°2 et n°3 sont systématiquement positionnés à l'arrière du véhicule"
   ]
  },
  {
   "cell_type": "markdown",
   "id": "b0a0fb79-0907-42dc-b8e3-9c99217b6b98",
   "metadata": {},
   "source": [
    "## Puissance individuelle des moteurs"
   ]
  },
  {
   "cell_type": "code",
   "execution_count": 36,
   "id": "58aafb94-dcb1-4cf3-aa42-408cbf8b7a56",
   "metadata": {},
   "outputs": [],
   "source": [
    "df = df.rename(columns = {\"puissance_moteur_1\" : \"puissance_moteur_1_Ch\"})\n",
    "df[\"puissance_moteur_1_Ch\"] = df[\"puissance_moteur_1_Ch\"].str.replace(\" ch\",\"\")\n",
    "df.loc[df.puissance_moteur_1_Ch == '<i style=\"color:#A5A5A5\">NC</i>', \"puissance_moteur_1_Ch\"] = np.nan\n",
    "#df.puissance_moteur_1_Ch = df.puissance_moteur_1_Ch.astype('int')\n",
    "#df.puissance_moteur_1_Ch.value_counts(dropna = False)"
   ]
  },
  {
   "cell_type": "code",
   "execution_count": 37,
   "id": "a01c526a-5d7c-478a-adbe-36fd59e8dc1d",
   "metadata": {},
   "outputs": [],
   "source": [
    "df = df.rename(columns = {\"puissance_moteur_2\" : \"puissance_moteur_2_Ch\"})\n",
    "df[\"puissance_moteur_2_Ch\"] = df[\"puissance_moteur_2_Ch\"].str.replace(\" ch\",\"\")\n",
    "df.loc[(df.puissance_moteur_2_Ch == '<i style=\"color:#A5A5A5\">NC</i>'), \"puissance_moteur_2_Ch\"] = np.nan\n",
    "#df.loc[df.puissance_moteur_2_Ch == np.nan, \"puissance_moteur_2_Ch\"] = 0\n",
    "#df.puissance_moteur_2_Ch = df.puissance_moteur_2_Ch.fillna(0)\n",
    "#df.puissance_moteur_2_Ch = df.puissance_moteur_2_Ch.astype('int')"
   ]
  },
  {
   "cell_type": "code",
   "execution_count": null,
   "id": "a50d9186-b1b1-4e83-95c6-8f08d7d00098",
   "metadata": {},
   "outputs": [],
   "source": [
    "df = df.rename(columns = {\"puissance_moteur_3\" : \"puissance_moteur_3_Ch\"})\n",
    "df[\"puissance_moteur_3_Ch\"] = df[\"puissance_moteur_3_Ch\"].str.replace(\" ch\",\"\")\n",
    "df.loc[(df.puissance_moteur_3_Ch == '<i style=\"color:#A5A5A5\">NC</i>'), \"puissance_moteur_3_Ch\"] = np.nan\n",
    "#df.loc[df.puissance_moteur_3_Ch == np.nan, \"puissance_moteur_3_Ch\"] = 0\n",
    "#df.puissance_moteur_3_Ch = df.puissance_moteur_3_Ch.fillna(0)\n",
    "#df.puissance_moteur_3_Ch = df.puissance_moteur_3_Ch.astype('int')"
   ]
  },
  {
   "cell_type": "markdown",
   "id": "56ff90a0-9cfa-4051-bc77-a4f1cccff412",
   "metadata": {},
   "source": [
    "## Type individuel des moteurs"
   ]
  },
  {
   "cell_type": "code",
   "execution_count": null,
   "id": "e0e638d4-23e4-48e2-af05-2308615a34c7",
   "metadata": {},
   "outputs": [],
   "source": [
    "df.type_moteur_1.value_counts(dropna = False)"
   ]
  },
  {
   "cell_type": "code",
   "execution_count": null,
   "id": "984268d0-5da8-46ee-aac4-f29c9bd90a30",
   "metadata": {},
   "outputs": [],
   "source": [
    "df.type_moteur_2.value_counts(dropna = False)"
   ]
  },
  {
   "cell_type": "code",
   "execution_count": null,
   "id": "76d4399d-825e-4b65-88ad-710e2998c744",
   "metadata": {},
   "outputs": [],
   "source": [
    "df.type_moteur_3.value_counts(dropna = False)"
   ]
  },
  {
   "cell_type": "markdown",
   "id": "ffde417f-723c-4418-ac6f-e752245da051",
   "metadata": {},
   "source": [
    "## Couple individuel des moteurs"
   ]
  },
  {
   "cell_type": "code",
   "execution_count": null,
   "id": "bf910e6b-e946-4db0-b23a-fbb9fba7a19e",
   "metadata": {},
   "outputs": [],
   "source": [
    "df = df.rename(columns = {\"couple_moteur_1\" : \"couple_moteur_1_Nm\"})\n",
    "df[\"couple_moteur_1_Nm\"] = df[\"couple_moteur_1_Nm\"].str.replace(\" Nm\",\"\")\n",
    "df.loc[df.couple_moteur_1_Nm == '<i style=\"color:#A5A5A5\">NC</i>', \"couple_moteur_1_Nm\"] = np.nan\n",
    "#df.couple_moteur_1_Nm = df.couple_moteur_1_Nm.fillna(0)\n",
    "#df.couple_moteur_1_Nm = df.couple_moteur_1_Nm.astype('int')\n",
    "#df.couple_moteur_1_Nm.value_counts(dropna = False).head()"
   ]
  },
  {
   "cell_type": "code",
   "execution_count": null,
   "id": "6496b2de-ee51-4391-b445-f19f5575aff5",
   "metadata": {},
   "outputs": [],
   "source": [
    "df = df.rename(columns = {\"couple_moteur_2\" : \"couple_moteur_2_Nm\"})\n",
    "df[\"couple_moteur_2_Nm\"] = df[\"couple_moteur_2_Nm\"].str.replace(\" Nm\",\"\")\n",
    "df.loc[df.couple_moteur_2_Nm == '<i style=\"color:#A5A5A5\">NC</i>', \"couple_moteur_2_Nm\"] = np.nan\n",
    "#df.couple_moteur_2_Nm = df.couple_moteur_2_Nm.fillna(0)\n",
    "#df.couple_moteur_2_Nm = df.couple_moteur_2_Nm.astype('int')\n",
    "#df.couple_moteur_2_Nm.value_counts(dropna = False).head()"
   ]
  },
  {
   "cell_type": "code",
   "execution_count": null,
   "id": "7f85a37d-a27d-4663-9c2c-0981bfa1807d",
   "metadata": {},
   "outputs": [],
   "source": [
    "df = df.rename(columns = {\"couple_moteur_3\" : \"couple_moteur_3_Nm\"})\n",
    "df[\"couple_moteur_3_Nm\"] = df[\"couple_moteur_3_Nm\"].str.replace(\" Nm\",\"\")\n",
    "df.loc[df.couple_moteur_3_Nm == '<i style=\"color:#A5A5A5\">NC</i>', \"couple_moteur_3_Nm\"] = np.nan\n",
    "#df.couple_moteur_3_Nm = df.couple_moteur_3_Nm.fillna(0)\n",
    "#df.couple_moteur_3_Nm = df.couple_moteur_3_Nm.astype('int')\n",
    "#df.couple_moteur_3_Nm.value_counts(dropna = False).head()"
   ]
  },
  {
   "cell_type": "markdown",
   "id": "3c951384-d2e4-4af5-af69-7106482000bb",
   "metadata": {},
   "source": [
    "## Type d'homologation"
   ]
  },
  {
   "cell_type": "code",
   "execution_count": null,
   "id": "6a1f3e2c-73c3-428b-9b9e-f046b96e5165",
   "metadata": {},
   "outputs": [],
   "source": [
    "df.homologation_autonomie.value_counts(dropna=False)"
   ]
  },
  {
   "cell_type": "markdown",
   "id": "dd384b6a-74f0-4669-a791-5f1435ec07a5",
   "metadata": {},
   "source": [
    "## Capacité nominale / brute"
   ]
  },
  {
   "cell_type": "code",
   "execution_count": null,
   "id": "73eb4927-5a76-4fb7-85b3-65e79190f799",
   "metadata": {},
   "outputs": [],
   "source": [
    "df.capacite_nominale_brute.head(2)"
   ]
  },
  {
   "cell_type": "code",
   "execution_count": null,
   "id": "11bbc2e9-29c9-40fd-8b31-cf2267757d4b",
   "metadata": {},
   "outputs": [],
   "source": [
    "df = df.rename(columns = {\"capacite_nominale_brute\" : \"capacite_nominale_brute_KWh\"})\n",
    "df[\"capacite_nominale_brute_KWh\"] = df[\"capacite_nominale_brute_KWh\"].str.replace(\" kWh\",\"\")\n",
    "#df.capacite_nominale_brute_KWh = df.capacite_nominale_brute_KWh.astype('float')\n"
   ]
  },
  {
   "cell_type": "markdown",
   "id": "5476ceba-46b2-4c2b-a305-9c5e0754fd97",
   "metadata": {},
   "source": [
    "## Capacité utile / nette"
   ]
  },
  {
   "cell_type": "code",
   "execution_count": null,
   "id": "c4c09c90-cd9a-4403-803a-0f4f2543d33f",
   "metadata": {},
   "outputs": [],
   "source": [
    "df.capacite_utile_nette.head(2)"
   ]
  },
  {
   "cell_type": "code",
   "execution_count": null,
   "id": "d800057e-4d71-44b0-b65d-c5b436f6b4f0",
   "metadata": {},
   "outputs": [],
   "source": [
    "df = df.rename(columns = {\"capacite_utile_nette\" : \"capacite_utile_nette_KWh\"})\n",
    "df[\"capacite_utile_nette_KWh\"] = df[\"capacite_utile_nette_KWh\"].str.replace(\" kWh\",\"\")\n",
    "df.loc[df.capacite_utile_nette_KWh == '<i style=\"color:#A5A5A5\">NC</i>', \"capacite_utile_nette_KWh\"] = np.nan\n",
    "#df.capacite_utile_nette_KWh = df.capacite_utile_nette_KWh.fillna(0)\n",
    "#df.capacite_utile_nette_KWh = df.capacite_utile_nette_KWh.astype('float')"
   ]
  },
  {
   "attachments": {
    "cb4dd504-2e24-4ed3-ab66-4ba07c18add9.png": {
     "image/png": "[encoded data removed]"
    }
   },
   "cell_type": "markdown",
   "id": "3ede3760-fac3-45c3-92ad-5bbe22a4f3d8",
   "metadata": {},
   "source": [
    "![image.png](attachment:cb4dd504-2e24-4ed3-ab66-4ba07c18add9.png)"
   ]
  },
  {
   "cell_type": "markdown",
   "id": "93a7702f-09ce-46e9-9f2e-f0a0ac9f076f",
   "metadata": {},
   "source": [
    "**Note :**\n",
    "- il semble y avoir un souci au niveau des unités des capacités. En effet, la capacité d'une batterie s'exprime en Ampère-heure et non en Watt-heure."
   ]
  },
  {
   "cell_type": "markdown",
   "id": "e297d043-d93d-4ea7-a118-dec88894bbd3",
   "metadata": {},
   "source": [
    "## Prise de charge AC"
   ]
  },
  {
   "cell_type": "code",
   "execution_count": null,
   "id": "dd4822ca-e852-4d1c-a5c2-b03b5d60d255",
   "metadata": {},
   "outputs": [],
   "source": [
    "df = df.rename(columns = {\"prise_de_charge_AC\" : \"prise_charge_AC\"})\n",
    "df.prise_charge_AC.value_counts()"
   ]
  },
  {
   "cell_type": "markdown",
   "id": "eac9c57e-45ac-4d56-926d-e6ad34c4d540",
   "metadata": {},
   "source": [
    "**Note :**\n",
    "- visiblement, cette donnée n'a pas beaucoup d'intérêt. Valeur commune à toutes les voitures."
   ]
  },
  {
   "cell_type": "markdown",
   "id": "cf9c9297-f767-4602-8a41-f173e45bd06c",
   "metadata": {},
   "source": [
    "## Prise de charge DC"
   ]
  },
  {
   "cell_type": "code",
   "execution_count": null,
   "id": "5d185818-675c-46a5-9d07-0a34416fd0d7",
   "metadata": {},
   "outputs": [],
   "source": [
    "df = df.rename(columns = {\"prise_de_charge_DC\" : \"prise_charge_DC\"})\n",
    "df.prise_charge_DC.value_counts()"
   ]
  },
  {
   "cell_type": "markdown",
   "id": "3125ede6-9f41-4900-99e9-98943e35501d",
   "metadata": {},
   "source": [
    "## Vitesse de charge AC"
   ]
  },
  {
   "cell_type": "code",
   "execution_count": null,
   "id": "5707526f-9f8d-4e96-b8ee-ca912d229277",
   "metadata": {},
   "outputs": [],
   "source": [
    "df = df.rename(columns = {\"vitesse_de_charge_AC\" : \"vitesse_charge_AC\"})\n",
    "df.vitesse_charge_AC.value_counts(dropna=False)"
   ]
  },
  {
   "cell_type": "code",
   "execution_count": null,
   "id": "6c6c6bd9-d454-4a64-92ae-2c82deb19c55",
   "metadata": {},
   "outputs": [],
   "source": [
    "df = df.rename(columns = {\"vitesse_charge_AC\" : \"vitesse_charge_AC_KW\"})\n",
    "df[\"vitesse_charge_AC_KW\"] = df[\"vitesse_charge_AC_KW\"].str.replace(\" kW\",\"\")"
   ]
  },
  {
   "cell_type": "code",
   "execution_count": null,
   "id": "f836ebeb-5ad3-4225-986b-57a2b6e05655",
   "metadata": {},
   "outputs": [],
   "source": [
    "df = df.rename(columns = {\"vitesse_de_charge_AC_option\" : \"vitesse_charge_AC_option_KW\"})\n",
    "df[\"vitesse_charge_AC_option_KW\"] = df[\"vitesse_charge_AC_option_KW\"].str.replace(\" kW\",\"\")"
   ]
  },
  {
   "cell_type": "markdown",
   "id": "20f751a6-79ff-4c69-b67a-455b4cfa8c89",
   "metadata": {},
   "source": [
    "**Note :**\n",
    "- il semble y avoir un souci au niveau des unités des vitesses de charge. En effet, une vitesse s'exprime notamment avec une notion de temps. Or, le Watt ne contient pas de temps."
   ]
  },
  {
   "cell_type": "markdown",
   "id": "3fbbbf15-cd57-4a1d-bebf-17300e172d25",
   "metadata": {},
   "source": [
    "## Vitesse de charge DC"
   ]
  },
  {
   "cell_type": "code",
   "execution_count": null,
   "id": "b0ec4b06-b57e-41ec-ac50-bb212cb91154",
   "metadata": {},
   "outputs": [],
   "source": [
    "df = df.rename(columns = {\"vitesse_de_charge_DC\" : \"vitesse_charge_DC\"})\n",
    "df.vitesse_charge_DC.value_counts()"
   ]
  },
  {
   "cell_type": "code",
   "execution_count": null,
   "id": "6d8adf73-cb23-493b-b4a4-62b158b7350a",
   "metadata": {},
   "outputs": [],
   "source": [
    "df = df.rename(columns = {\"vitesse_charge_DC\" : \"vitesse_charge_DC_KW\"})\n",
    "df[\"vitesse_charge_DC_KW\"] = df[\"vitesse_charge_DC_KW\"].str.replace(\" kW\",\"\")"
   ]
  },
  {
   "cell_type": "code",
   "execution_count": null,
   "id": "5c002577-1665-40ee-849e-5182421f6e51",
   "metadata": {},
   "outputs": [],
   "source": [
    "df = df.rename(columns = {\"vitesse_de_charge_DC_option\" : \"vitesse_charge_DC_option_KW\"})\n",
    "df[\"vitesse_charge_DC_option_KW\"] = df[\"vitesse_charge_DC_option_KW\"].str.replace(\" kW\",\"\")"
   ]
  },
  {
   "cell_type": "code",
   "execution_count": null,
   "id": "d55b4a6c-8123-4ce5-93a7-edcf1b1e0b32",
   "metadata": {},
   "outputs": [],
   "source": []
  },
  {
   "cell_type": "code",
   "execution_count": null,
   "id": "b7a1a8bf-d55b-40db-988a-7d09e0ce0482",
   "metadata": {},
   "outputs": [],
   "source": [
    "# Recalage des données de \"vitesse de charge\"\n",
    "for i in range(len(df)):\n",
    "    \n",
    "    if (str(df.vitesse_charge_DC_KW[i]).isalpha()) | (str(df.vitesse_charge_DC_KW[i]) == \"1\"):\n",
    "        df.loc[i, \"refroidissement\"] = df.vitesse_charge_DC_KW[i]\n",
    "        df.loc[i, \"vitesse_charge_DC_KW\"] = df.vitesse_charge_AC_option_KW[i]\n",
    "        df.loc[i, \"vitesse_charge_AC_option_KW\"] = np.nan\n",
    "        \n",
    "    elif (str(df.vitesse_charge_DC_option_KW[i]).isalpha()) | (str(df.vitesse_charge_DC_option_KW[i]) == \"1\"):\n",
    "        df.loc[i, \"refroidissement\"] = df.vitesse_charge_DC_option_KW[i]\n",
    "        df.loc[i, \"vitesse_charge_DC_option_KW\"] = np.nan\n",
    "        \n",
    "        if str(df.vitesse_charge_AC_option_KW[i]) == \"0\":\n",
    "            df.loc[i, \"vitesse_charge_DC_option_KW\"] = df.vitesse_charge_DC_KW[i]\n",
    "            df.loc[i, \"vitesse_charge_DC_KW\"] = df.vitesse_charge_AC_option_KW[i]   \n",
    "            df.loc[i, \"vitesse_charge_AC_option_KW\"] = np.nan\n",
    "            "
   ]
  },
  {
   "cell_type": "code",
   "execution_count": null,
   "id": "6505cc47-b7a6-423b-8da4-b9c7da847a77",
   "metadata": {},
   "outputs": [],
   "source": [
    "# Patch spécifique \"Volkswagen\"\n",
    "for i in range(len(df)):\n",
    "    \n",
    "    if (df.fabricant[i] == Volkswagen) & (str(df.vitesse_charge_AC_option_KW[i]) == \"50\"):\n",
    "        df.loc[i, \"vitesse_charge_DC_option_KW\"] = df.vitesse_charge_DC_KW[i]\n",
    "        df.loc[i, \"vitesse_charge_DC_KW\"] = df.vitesse_charge_AC_option_KW[i]   \n",
    "        df.loc[i, \"vitesse_charge_AC_option_KW\"] = np.nan\n"
   ]
  },
  {
   "cell_type": "code",
   "execution_count": null,
   "id": "52f2c541-5b5c-41f7-b0df-a1b5266301aa",
   "metadata": {},
   "outputs": [],
   "source": [
    "df.loc[102:108,\"vitesse_charge_AC_KW\":'refroidissement']"
   ]
  },
  {
   "cell_type": "markdown",
   "id": "95d11906-1276-437b-9610-2bd6dace94a9",
   "metadata": {},
   "source": [
    "## Temps de charge"
   ]
  },
  {
   "cell_type": "code",
   "execution_count": null,
   "id": "e0b54aeb-20d5-445e-afae-eb2e16c2758d",
   "metadata": {},
   "outputs": [],
   "source": [
    "df = df.rename(columns = {\"temps_de_charge_DC_0-80%\" : \"temps_charge_DC_0_80\"})"
   ]
  },
  {
   "cell_type": "code",
   "execution_count": null,
   "id": "77035d5e-8a49-4241-9f21-ff1bc100bdff",
   "metadata": {},
   "outputs": [],
   "source": [
    "df = df.rename(columns = {\"temps_de_charge_AC_0-80%_prise_dom\" : \"temps_charge_AC_0_80_prise_dom_2_3kW\"})\n",
    "df[\"temps_charge_AC_0_80_prise_dom_2_3kW\"] = df[\"temps_charge_AC_0_80_prise_dom_2_3kW\"].str.replace(\" à 2.3 kW\",\"\", regex=False)"
   ]
  },
  {
   "cell_type": "code",
   "execution_count": null,
   "id": "46d50ca8-6202-4c7c-a3ee-effb3ae0e689",
   "metadata": {},
   "outputs": [],
   "source": [
    "df = df.rename(columns = {\"temps_de_charge_AC_0-80%_prise_dom_renforcee\" : \"temps_charge_AC_0_80_prise_dom_renforcee_3kW\"})\n",
    "df[\"temps_charge_AC_0_80_prise_dom_renforcee_3kW\"] = df[\"temps_charge_AC_0_80_prise_dom_renforcee_3kW\"].str.replace(\" à 3 kW\",\"\", regex=False)"
   ]
  },
  {
   "cell_type": "code",
   "execution_count": null,
   "id": "59a87733-54bc-4ba4-b6cb-a44a51093992",
   "metadata": {},
   "outputs": [],
   "source": [
    "# Wallbox est un fournisseur de box de recharge - plusieurs modèles - pas pertinent -> drop !\n",
    "df = df.drop(\"temps_de_charge_AC_0-80%_wallbox\", axis=1)"
   ]
  },
  {
   "cell_type": "code",
   "execution_count": null,
   "id": "20d39fd5-bcf7-47c2-b619-5472f24d9f82",
   "metadata": {},
   "outputs": [],
   "source": [
    "#df.loc[:,\"refroidissement\":\"autonomie_electrique_mixte\"].head(5)"
   ]
  },
  {
   "cell_type": "markdown",
   "id": "c9138760-8166-4a20-9a7a-558f9156747c",
   "metadata": {},
   "source": [
    "## Autonomie électrique"
   ]
  },
  {
   "cell_type": "code",
   "execution_count": null,
   "id": "f8d8475b-5f86-4453-afdc-7a5f78477fcc",
   "metadata": {},
   "outputs": [],
   "source": [
    "df = df.rename(columns = {\"autonomie_electrique_mixte\" : \"autonomie_electrique_mixte_Km\"})\n",
    "df[\"autonomie_electrique_mixte_Km\"] = df[\"autonomie_electrique_mixte_Km\"].str.replace(\" km\",\"\")"
   ]
  },
  {
   "cell_type": "code",
   "execution_count": null,
   "id": "f9c9f403-a3a5-4efa-831d-caebae8365fe",
   "metadata": {},
   "outputs": [],
   "source": [
    "df.autonomie_electrique_mixte_Km.describe()"
   ]
  },
  {
   "cell_type": "markdown",
   "id": "ad7e66e3-bd3e-4b1c-b288-a6c4f8f9d24b",
   "metadata": {},
   "source": [
    "## Consommation électrique"
   ]
  },
  {
   "cell_type": "code",
   "execution_count": null,
   "id": "b288c164-95bd-4314-a8db-b29e827a9fd1",
   "metadata": {},
   "outputs": [],
   "source": [
    "df = df.rename(columns = {\"conso_electrique\" : \"conso_electrique_KWh_100km\"})\n",
    "df[\"conso_electrique_KWh_100km\"] = df[\"conso_electrique_KWh_100km\"].str.replace(\"kWh/100km\",\"\")\n",
    "df.loc[df.conso_electrique_KWh_100km == '<i style=\"color:#A5A5A5\">NC</i>', \"conso_electrique_KWh_100km\"] = np.nan"
   ]
  },
  {
   "cell_type": "code",
   "execution_count": null,
   "id": "6b99ad82-34ed-42d5-aa66-df0f9f52a539",
   "metadata": {},
   "outputs": [],
   "source": [
    "df.conso_electrique_KWh_100km.value_counts(dropna=False)"
   ]
  },
  {
   "cell_type": "markdown",
   "id": "370461ba-b7ef-4603-9b43-69cf998fa4d7",
   "metadata": {},
   "source": [
    "### focus : qq stats de la Consommation électrique au 100km"
   ]
  },
  {
   "cell_type": "code",
   "execution_count": null,
   "id": "9c201c1b-9dfd-419c-b448-1d3e5ed3b620",
   "metadata": {},
   "outputs": [],
   "source": [
    "focus = df.loc[~df.conso_electrique_KWh_100km.isnull()]\n",
    "focus = focus.conso_electrique_KWh_100km.astype('float')\n",
    "focus.describe()"
   ]
  },
  {
   "cell_type": "markdown",
   "id": "f623483e-1450-4170-8732-e6e2e01cc905",
   "metadata": {},
   "source": [
    "## Pompe à chaleur"
   ]
  },
  {
   "cell_type": "code",
   "execution_count": null,
   "id": "ab943e63-9d7c-472c-b99a-c489977ac0e1",
   "metadata": {},
   "outputs": [],
   "source": [
    "df = df.rename(columns = {\"pompe_a_chaleur\" : \"pompe_chaleur\"})\n",
    "df.pompe_chaleur.value_counts(dropna=False)"
   ]
  },
  {
   "cell_type": "markdown",
   "id": "35eea3f0-6293-495e-b41d-7acd87e88429",
   "metadata": {},
   "source": [
    "## Unnamed: 37 -> drop"
   ]
  },
  {
   "cell_type": "code",
   "execution_count": null,
   "id": "8b78d0bd-5441-4f5e-aa0c-f9c2765c3255",
   "metadata": {},
   "outputs": [],
   "source": [
    "df[\"Unnamed: 37\"].value_counts(dropna = False)"
   ]
  },
  {
   "cell_type": "code",
   "execution_count": null,
   "id": "6a7fe08b-3146-4bb7-aaf5-218416281406",
   "metadata": {},
   "outputs": [],
   "source": [
    "df = df.drop(\"Unnamed: 37\", axis=1)"
   ]
  },
  {
   "cell_type": "markdown",
   "id": "8ecbb0b8-46ef-41a3-84d0-83a952a44c86",
   "metadata": {},
   "source": [
    "## Motricité"
   ]
  },
  {
   "cell_type": "code",
   "execution_count": null,
   "id": "1070e5ba-bb3d-458b-9a1a-81a879441b66",
   "metadata": {},
   "outputs": [],
   "source": [
    "df.motricite.value_counts(dropna = False)"
   ]
  },
  {
   "cell_type": "markdown",
   "id": "6a186d94-a5e0-47bc-9286-9c15420a9eb0",
   "metadata": {},
   "source": [
    "## Rapports"
   ]
  },
  {
   "cell_type": "code",
   "execution_count": null,
   "id": "c95a95fb-223d-4d30-bb65-91076024238c",
   "metadata": {},
   "outputs": [],
   "source": [
    "df.rapports.value_counts(dropna = False)"
   ]
  },
  {
   "cell_type": "markdown",
   "id": "3c872c10-d089-4262-8abe-fa70019f1a2f",
   "metadata": {},
   "source": [
    "**Note :**\n",
    "- \"0\" rapport ?! -> à creuser"
   ]
  },
  {
   "cell_type": "markdown",
   "id": "6fa7e15a-3fc2-41d9-aeb2-8a929da49b44",
   "metadata": {},
   "source": [
    "## Longueur"
   ]
  },
  {
   "cell_type": "code",
   "execution_count": null,
   "id": "20727eee-93f4-4463-b036-72f27c16b63b",
   "metadata": {},
   "outputs": [],
   "source": [
    "df = df.rename(columns = {\"longueur\" : \"longueur_M\"})\n",
    "df[\"longueur_M\"] = df[\"longueur_M\"].str.replace(\" m\",\"\")\n",
    "df.longueur_M = df.longueur_M.astype('float')"
   ]
  },
  {
   "cell_type": "code",
   "execution_count": null,
   "id": "c4db3010-0c69-402d-983a-07d4c34c530b",
   "metadata": {},
   "outputs": [],
   "source": [
    "df.longueur_M.describe()"
   ]
  },
  {
   "cell_type": "code",
   "execution_count": null,
   "id": "d1fb9705-3f9d-45cf-a984-e8880ad02f42",
   "metadata": {},
   "outputs": [],
   "source": [
    "# Focus sur les données aberrantes \n",
    "sorted(list(df.longueur_M),reverse=True)[:5]"
   ]
  },
  {
   "cell_type": "code",
   "execution_count": null,
   "id": "425d548d-72dc-42e5-9f5d-b79d68fd567d",
   "metadata": {},
   "outputs": [],
   "source": [
    "df.loc[df.longueur_M > 6, \"longueur_M\"]"
   ]
  },
  {
   "cell_type": "code",
   "execution_count": null,
   "id": "135fc1ce-118c-4223-bdb5-1afdb6f355e4",
   "metadata": {},
   "outputs": [],
   "source": [
    "# Patch spécifique !\n",
    "df.loc[df.longueur_M == 56990.0, \"longueur_M\"] = 5.699\n",
    "df.loc[df.longueur_M == 5140.0, \"longueur_M\"] = 5.140\n"
   ]
  },
  {
   "cell_type": "markdown",
   "id": "f86bb48d-2c45-4031-81ad-653d40a3ccff",
   "metadata": {},
   "source": [
    "## Empattement"
   ]
  },
  {
   "cell_type": "markdown",
   "id": "c07edf43-d1f6-4c05-91b5-93e271685bba",
   "metadata": {},
   "source": [
    "Rappel : empattement = distance entre les roues avant et les routes arrière"
   ]
  },
  {
   "cell_type": "code",
   "execution_count": null,
   "id": "098992cb-3ea1-42bf-a198-66fa7d51b304",
   "metadata": {},
   "outputs": [],
   "source": [
    "df = df.rename(columns = {\"empattement\" : \"empattement_M\"})\n",
    "df[\"empattement_M\"] = df[\"empattement_M\"].str.replace(\" m\",\"\")\n",
    "df.empattement_M = df.empattement_M.astype('float')"
   ]
  },
  {
   "cell_type": "code",
   "execution_count": null,
   "id": "fd90d943-2b9e-4042-a62a-7540a2a2d75c",
   "metadata": {},
   "outputs": [],
   "source": [
    "df.empattement_M.describe()"
   ]
  },
  {
   "cell_type": "markdown",
   "id": "3e0a6fc1-836f-4240-80f0-a65078c54cf1",
   "metadata": {},
   "source": [
    "## Hauteur"
   ]
  },
  {
   "cell_type": "code",
   "execution_count": null,
   "id": "7fdf5093-8888-460f-85ed-3645cd839785",
   "metadata": {},
   "outputs": [],
   "source": [
    "df = df.rename(columns = {\"hauteur\" : \"hauteur_M\"})\n",
    "df[\"hauteur_M\"] = df[\"hauteur_M\"].str.replace(\" m\",\"\")\n",
    "df.hauteur_M = df.hauteur_M.astype('float')"
   ]
  },
  {
   "cell_type": "code",
   "execution_count": null,
   "id": "80b0872f-5d7f-4a4b-a4f6-33ff23c904d3",
   "metadata": {},
   "outputs": [],
   "source": [
    "df.hauteur_M.describe()"
   ]
  },
  {
   "cell_type": "code",
   "execution_count": null,
   "id": "a0a3f574-a147-4318-959e-593074cdf0ec",
   "metadata": {},
   "outputs": [],
   "source": [
    "# Focus sur les données aberrantes \n",
    "sorted(list(df.hauteur_M),reverse=True)[:5]"
   ]
  },
  {
   "cell_type": "code",
   "execution_count": null,
   "id": "e11977e2-5176-4711-94fc-1b91ffe11f06",
   "metadata": {},
   "outputs": [],
   "source": [
    "# Patch spécifique !\n",
    "df.loc[df.hauteur_M == 4.712, \"hauteur_M\"] = 1.712"
   ]
  },
  {
   "cell_type": "markdown",
   "id": "c9e20b9b-da4f-406e-949b-e70769fce663",
   "metadata": {},
   "source": [
    "## Largeur"
   ]
  },
  {
   "cell_type": "code",
   "execution_count": null,
   "id": "f683414c-492c-4ade-b6ab-91a4e1921e8d",
   "metadata": {},
   "outputs": [],
   "source": [
    "df = df.rename(columns = {\"largeur\" : \"largeur_M\"})\n",
    "df[\"largeur_M\"] = df[\"largeur_M\"].str.replace(\" m\",\"\")\n",
    "df.largeur_M = df.largeur_M.astype('float')"
   ]
  },
  {
   "cell_type": "code",
   "execution_count": null,
   "id": "d21045fb-e60a-4f47-9fa8-af2d93be14c0",
   "metadata": {},
   "outputs": [],
   "source": [
    "df.largeur_M.describe()"
   ]
  },
  {
   "cell_type": "markdown",
   "id": "5bda7b8b-1b27-436b-b087-8eefcc424250",
   "metadata": {},
   "source": [
    "## Contenance du coffre"
   ]
  },
  {
   "cell_type": "code",
   "execution_count": null,
   "id": "23af0410-0e8f-454a-a96c-410d6cd3bee3",
   "metadata": {},
   "outputs": [],
   "source": [
    "df = df.rename(columns = {\"coffre\" : \"coffre_L\"})\n",
    "df[\"coffre_L\"] = df[\"coffre_L\"].str.replace(\" Litres\",\"\")\n",
    "df.coffre_L = df.coffre_L.astype('float')"
   ]
  },
  {
   "cell_type": "code",
   "execution_count": null,
   "id": "5a216c43-d90e-4885-900f-915c9b1a1780",
   "metadata": {},
   "outputs": [],
   "source": [
    "df.coffre_L.describe()"
   ]
  },
  {
   "cell_type": "code",
   "execution_count": null,
   "id": "04a7416a-ad57-4777-b99b-ab8e9d38bb55",
   "metadata": {},
   "outputs": [],
   "source": [
    "sorted(list(df.coffre_L),reverse=True)[:8]"
   ]
  },
  {
   "cell_type": "markdown",
   "id": "1208a678-ed5d-4c73-8504-c35c089e2617",
   "metadata": {},
   "source": [
    "**Note :**\n",
    "- un coffre de 166 L ?! -> à creuser\n",
    "- un coffre de 1950 L ?! -> à creuser"
   ]
  },
  {
   "cell_type": "markdown",
   "id": "82f04d6d-4be2-4313-9f2e-13dbd19b3ba5",
   "metadata": {},
   "source": [
    "## Poids"
   ]
  },
  {
   "cell_type": "code",
   "execution_count": null,
   "id": "7e068c44-76db-4ac4-82e6-e7c9dc129098",
   "metadata": {},
   "outputs": [],
   "source": [
    "df = df.rename(columns = {\"poids\" : \"poids_Kg\"})\n",
    "df[\"poids_Kg\"] = df[\"poids_Kg\"].str.replace(\" kg\",\"\")\n",
    "df.poids_Kg = df.poids_Kg.astype('float')"
   ]
  },
  {
   "cell_type": "code",
   "execution_count": null,
   "id": "6d74d454-4e81-4c38-8e86-e533279dc432",
   "metadata": {},
   "outputs": [],
   "source": [
    "df.poids_Kg.describe()"
   ]
  },
  {
   "cell_type": "markdown",
   "id": "a71c06a7-3dc7-4f40-ac4f-cf7835e3f16b",
   "metadata": {},
   "source": [
    "## Coffre avant/arrière"
   ]
  },
  {
   "cell_type": "code",
   "execution_count": null,
   "id": "8db113d9-8e72-489e-a1b9-e6288d64a2f6",
   "metadata": {},
   "outputs": [],
   "source": [
    "df.coffre_avant_arriere.value_counts(dropna =False)"
   ]
  },
  {
   "cell_type": "code",
   "execution_count": null,
   "id": "3fc6c741-180f-4ea5-bde7-e135b6b05667",
   "metadata": {},
   "outputs": [],
   "source": [
    "df = df.rename(columns = {\"coffre_avant_arriere\" : \"coffre_avant_arriere_L\"})\n",
    "df[\"coffre_avant_arriere_L\"] = df[\"coffre_avant_arriere_L\"].str.replace(\" Litres\",\"\")"
   ]
  },
  {
   "cell_type": "markdown",
   "id": "bff34fe4-ec9d-40d7-bc8b-c6f87683187c",
   "metadata": {
    "tags": []
   },
   "source": [
    "## Essieu avant"
   ]
  },
  {
   "cell_type": "code",
   "execution_count": null,
   "id": "448dc3ff-32a3-4727-91b0-9bf1ad6dffc3",
   "metadata": {},
   "outputs": [],
   "source": [
    "df.essieu_avant.value_counts(dropna=False)"
   ]
  },
  {
   "cell_type": "markdown",
   "id": "7f4f4ee1-e4a1-4e62-b4e5-f5504325bc63",
   "metadata": {},
   "source": [
    "## Essieu arrière"
   ]
  },
  {
   "cell_type": "code",
   "execution_count": null,
   "id": "0f35e69f-ae2c-499b-b769-8f9510285279",
   "metadata": {},
   "outputs": [],
   "source": [
    "df.essieu_arriere.value_counts(dropna=False)"
   ]
  },
  {
   "cell_type": "code",
   "execution_count": null,
   "id": "9c02fd8d-ecc2-4793-b04d-065128f203f7",
   "metadata": {},
   "outputs": [],
   "source": [
    "# Patch spécifique !\n",
    "df.loc[df.essieu_arriere == \"Semi Rigide\", \"essieu_arriere\"] = \"Semi-rigide\"\n",
    "df.loc[df.essieu_arriere == \"Essieu De Dion\", \"essieu_arriere\"] = \"De Dion\"\n",
    "df.essieu_arriere.value_counts(dropna=False)"
   ]
  },
  {
   "cell_type": "markdown",
   "id": "7514c1ea-7ce5-4a7d-afbc-1af2cfa79ee4",
   "metadata": {},
   "source": [
    "## Base châssis"
   ]
  },
  {
   "cell_type": "code",
   "execution_count": null,
   "id": "f22ba500-0226-425d-9481-78d689f3dd6d",
   "metadata": {},
   "outputs": [],
   "source": [
    "df.base_chassis.value_counts(dropna = False)"
   ]
  },
  {
   "cell_type": "markdown",
   "id": "faacfee3-fb99-4488-9916-4713cc0e38e9",
   "metadata": {},
   "source": [
    "## Plateforme"
   ]
  },
  {
   "cell_type": "code",
   "execution_count": null,
   "id": "170ea318-9a55-4a54-a32d-5e6383531ea6",
   "metadata": {},
   "outputs": [],
   "source": [
    "df.plateforme.value_counts(dropna = False)"
   ]
  },
  {
   "cell_type": "code",
   "execution_count": null,
   "id": "ebd7c03f-b968-4967-a1df-efcb0b76518f",
   "metadata": {},
   "outputs": [],
   "source": [
    "df.loc[df.plateforme == '<i style=\"color:#A5A5A5\">NC</i>', \"plateforme\"] = np.nan\n",
    "\n",
    "df.plateforme.value_counts(dropna = False)"
   ]
  },
  {
   "cell_type": "markdown",
   "id": "6abc14af-2075-4246-89b6-902cb4c7b9c1",
   "metadata": {},
   "source": [
    "## Pneus"
   ]
  },
  {
   "cell_type": "code",
   "execution_count": null,
   "id": "d83e35b8-dcb7-4203-8c45-93cc54a9ef08",
   "metadata": {},
   "outputs": [],
   "source": [
    "df.pneus.value_counts(dropna = False)"
   ]
  },
  {
   "cell_type": "markdown",
   "id": "17000073-43bc-4d77-bb93-a8e1962270c5",
   "metadata": {},
   "source": [
    "## Pneus arrière"
   ]
  },
  {
   "cell_type": "code",
   "execution_count": null,
   "id": "180e9efb-f24a-4429-9b8b-601d0ff47a01",
   "metadata": {},
   "outputs": [],
   "source": [
    "df.pneus_arriere.value_counts(dropna = False)"
   ]
  },
  {
   "cell_type": "markdown",
   "id": "55717cc8-df55-4805-81f7-4c12fb7e7e63",
   "metadata": {},
   "source": [
    "### Focus sur les véhicules précisant des pneus arrière"
   ]
  },
  {
   "cell_type": "code",
   "execution_count": null,
   "id": "a4eec418-64ee-4e33-8c94-d0c982f75620",
   "metadata": {},
   "outputs": [],
   "source": [
    "focus = df.loc[~df.pneus_arriere.isnull(), [\"pneus\",\"pneus_arriere\"]]\n",
    "focus[\"test\"]=0\n",
    "focus.loc[df.pneus == df.pneus_arriere, \"test\"]=1\n",
    "focus"
   ]
  },
  {
   "cell_type": "markdown",
   "id": "f685d29c-2bb0-4eb4-8509-465a33b57a48",
   "metadata": {},
   "source": [
    "**Note :**\n",
    "- Lorsque le type de pneu arrière est précisé, les pneus avant et arrière ne sont pas du même type.\n",
    "- Quid des pneus avec la mention \"(Ar)\" ?"
   ]
  },
  {
   "cell_type": "code",
   "execution_count": null,
   "id": "f1297eef-d554-44cc-a96c-72f102ef7ee3",
   "metadata": {},
   "outputs": [],
   "source": [
    "df.loc[df.pneus.str.contains(\"(\", regex=False), [\"fabricant\", \"modele\",\"annee\", \"pneus\", \"pneus_arriere\"]]"
   ]
  },
  {
   "cell_type": "markdown",
   "id": "5ff79126-3c46-4703-8825-ac0134d9f45d",
   "metadata": {},
   "source": [
    "# Sauvegarde"
   ]
  },
  {
   "cell_type": "code",
   "execution_count": null,
   "id": "ddaf4e39-f2be-43c7-a4fe-7deca7a138f9",
   "metadata": {},
   "outputs": [],
   "source": [
    "df.to_csv(\"ve_dataset_clean.csv\", sep=\";\", encoding=\"utf-8\", index=False)"
   ]
  },
  {
   "cell_type": "code",
   "execution_count": null,
   "id": "04dd967f-908b-4ff7-8c1a-614a4347fb40",
   "metadata": {},
   "outputs": [],
   "source": [
    "#df.iloc[7]"
   ]
  },
  {
   "cell_type": "code",
   "execution_count": null,
   "id": "133f9b0e-c30a-4fe5-bc6e-8814eea32878",
   "metadata": {},
   "outputs": [],
   "source": []
  }
 ],
 "metadata": {
  "kernelspec": {
   "display_name": "Python 3 (ipykernel)",
   "language": "python",
   "name": "python3"
  },
  "language_info": {
   "codemirror_mode": {
    "name": "ipython",
    "version": 3
   },
   "file_extension": ".py",
   "mimetype": "text/x-python",
   "name": "python",
   "nbconvert_exporter": "python",
   "pygments_lexer": "ipython3",
   "version": "3.9.12"
  },
  "toc-autonumbering": true
 },
 "nbformat": 4,
 "nbformat_minor": 5
}
