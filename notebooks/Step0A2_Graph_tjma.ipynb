{
 "cells": [
  {
   "attachments": {},
   "cell_type": "markdown",
   "metadata": {},
   "source": [
    "Auteur: Michaël Leroy\n",
    "\n",
    "\n",
    " Ajout attribut tmja aux routes connues du fichier data gouv tmja\n",
    "\n",
    "[+] Méthodologie\n",
    "\n",
    "    - Interpolation linéaire des valeurs manquantes sur certain tronçons de routes ( traitement route par route)\n",
    "\n",
    "    - Intersection entre les géométries (buffer) des edges et les tronçons  du fichier tmja\n",
    "    - Vérifcation sur le nom de la route\n",
    "    - affectation d'un attribut 'tmja' aux edges qui matchent\n",
    "\n",
    "\n",
    "[-] Limitation:\n",
    "    - Beaucoup de routes importantes ont une valeur nulle dans le datset...\n"
   ]
  },
  {
   "cell_type": "code",
   "execution_count": null,
   "metadata": {},
   "outputs": [],
   "source": [
    "class CFG:\n",
    "    area = [\n",
    "        'Auvergne-Rhône-Alpes',\n",
    "    'Bourgogne-Franche-Comté',\n",
    "    'Brittany',\n",
    "    'Centre-Val de Loire',\n",
    "    'Grand Est',\n",
    "    'Hauts-de-France',\n",
    "    'Île-de-France',\n",
    "    'Normandie',\n",
    "    'Nouvelle-Aquitaine',\n",
    "    'Occitanie',\n",
    "    'Pays de la Loire',\n",
    "    'Provence-Alpes-Côte d\\'Azur'\n",
    "]\n",
    "    area_name = 'france'      #'_'.join(area)\n",
    "\n",
    "    \n",
    "\n",
    "    bornes = False\n",
    "\n",
    "    viz = False\n",
    "\n",
    "    roads = (\n",
    "        '|motorway'\n",
    "        '|motorway_link'\n",
    "        '|trunk'\n",
    "        '|trunk_link'\n",
    "        '|primary'\n",
    "        '|primary_link'\n",
    "        '|secondary'\n",
    "        '|secondary_link'\n",
    "        '|tertiary'\n",
    "         '|tertiary_link'\n",
    "    )\n",
    "\n",
    "        # '|primary'\n",
    "        # '|motorway_link'\n",
    "        \n",
    "        # '|primary_link'\n",
    "\n",
    "        # '|secondary'\n",
    "        # '|secondary_link'\n",
    "        \n",
    "        \n",
    "        #  '|tertiary'\n",
    "        #  '|tertiary_link'\n",
    "\n",
    "    data_path = './osm_datas/'\n",
    "\n",
    "import joblib\n",
    "joblib.dump(CFG.area, 'CFG.pkl')    \n",
    "import os\n",
    "os.environ['USE_PYGEOS'] = '0'\n",
    "%load_ext autoreload\n",
    "%autoreload\n",
    "\n",
    "\n",
    "\n",
    "%aimport OSM_helper_functions\n",
    "%aimport OCM_helper_functions\n",
    "\n",
    "import os\n",
    "os.environ['USE_PYGEOS'] = '0'\n",
    "import geopandas as gpd\n",
    "import osmnx as ox\n",
    "import networkx as nx\n",
    "from tqdm.notebook import tqdm\n",
    "from OSM_helper_functions import *\n",
    "from OCM_helper_functions import *\n",
    "\n",
    "\n",
    "ox.settings.log_console=True\n",
    "ox.settings.use_cache=True\n",
    "''' To retrieve http data from OSMnx and cache them locally\n",
    "    before building graph. Raise and exception if requests\n",
    "    are all done. intercept then set to False and retry.'''\n",
    "# ox.settings.cache_only_mode=True \n",
    "\n",
    "Administratives = {\n",
    "    'Auvergne-Rhône-Alpes': ['Ain', 'Allier', 'Ardèche', 'Cantal', 'Drôme', 'Isère', 'Loire', 'Haute-Loire', 'Puy-de-Dôme', 'Rhône', 'Savoie', 'Haute-Savoie'],\n",
    "    'Bourgogne-Franche-Comté': ['Côte-d\\'Or', 'Doubs', 'Jura', 'Nièvre', 'Haute-Saône', 'Saône-et-Loire', 'Yonne', 'Territoire de Belfort'],\n",
    "    'Brittany': ['Côtes-d\\'Armor', 'Finistère', 'Ille-et-Vilaine', 'Morbihan'],\n",
    "    'Centre-Val de Loire': ['Cher', 'Eure-et-Loir', 'Indre', 'Indre-et-Loire', 'Loir-et-Cher', 'Loiret'],\n",
    "    # 'Corse': ['Corse-du-Sud', 'Haute-Corse'],\n",
    "    'Grand Est': ['Ardennes', 'Aube', 'Marne', 'Haute-Marne', 'Meurthe-et-Moselle', 'Meuse', 'Moselle', 'Bas-Rhin', 'Haut-Rhin', 'Vosges'],\n",
    "    'Hauts-de-France': ['Aisne', 'Nord', 'Oise', 'Pas-de-Calais', 'Somme'],\n",
    "    'Île-de-France': ['Paris', 'Seine-et-Marne', 'Yvelines', 'Essonne', 'Hauts-de-Seine', 'Seine-Saint-Denis', 'Val-de-Marne', 'Val-d\\'Oise'],\n",
    "    'Normandie': ['Calvados', 'Eure', 'Manche', 'Orne', 'Seine-Maritime'],\n",
    "    'Nouvelle-Aquitaine': ['Charente', 'Charente-Maritime', 'Corrèze', 'Creuse', 'Dordogne', 'Gironde', 'Landes', 'Lot-et-Garonne', 'Pyrénées-Atlantiques', 'Deux-Sèvres', 'Vienne', 'Haute-Vienne'],\n",
    "    'Occitanie': ['Ariège', 'Aude', 'Aveyron', 'Gard', 'Haute-Garonne', 'Gers', 'Hérault', 'Lot', 'Lozère', 'Hautes-Pyrénées', 'Pyrénées-Orientales', 'Tarn', 'Tarn-et-Garonne'],\n",
    "    'Pays de la Loire': ['Loire-Atlantique', 'Maine-et-Loire', 'Mayenne', 'Sarthe', 'Vendée'],\n",
    "    'Provence-Alpes-Côte d\\'Azur': ['Alpes-de-Haute-Provence', 'Hautes-Alpes', 'Alpes-Maritimes', 'Bouches-du-Rhône', 'Var', 'Vaucluse']\n",
    "}\n",
    "\n",
    "Regions = [\n",
    "    'Auvergne-Rhône-Alpes',\n",
    "    'Bourgogne-Franche-Comté',\n",
    "    'Brittany',\n",
    "    'Centre-Val de Loire',\n",
    "    # 'Corse',\n",
    "    'Grand Est',\n",
    "    'Hauts-de-France',\n",
    "    'Île-de-France',\n",
    "    'Normandie',\n",
    "    'Nouvelle-Aquitaine',\n",
    "    'Occitanie',\n",
    "    'Pays de la Loire',\n",
    "    'Provence-Alpes-Côte d\\'Azur'\n",
    "]\n",
    "\n",
    "Name2num = {\n",
    "    'Ain': '01',\n",
    "    'Aisne': '02',\n",
    "    'Allier': '03',\n",
    "    'Alpes-de-Haute-Provence': '04',\n",
    "    'Hautes-Alpes': '05',\n",
    "    'Alpes-Maritimes': '06',\n",
    "    'Ardèche': '07',\n",
    "    'Ardennes': '08',\n",
    "    'Ariège': '09',\n",
    "    'Aube': '10',\n",
    "    'Aude': '11',\n",
    "    'Aveyron': '12',\n",
    "    'Bouches-du-Rhône': '13',\n",
    "    'Calvados': '14',\n",
    "    'Cantal': '15',\n",
    "    'Charente': '16',\n",
    "    'Charente-Maritime': '17',\n",
    "    'Cher': '18',\n",
    "    'Corrèze': '19',\n",
    "    'Corse-du-Sud': '2A',\n",
    "    'Haute-Corse': '2B',\n",
    "    'Côte-d\\'Or': '21',\n",
    "    'Côtes-d\\'Armor': '22',\n",
    "    'Creuse': '23',\n",
    "    'Dordogne': '24',\n",
    "    'Doubs': '25',\n",
    "    'Drôme': '26',\n",
    "    'Eure': '27',\n",
    "    'Eure-et-Loir': '28',\n",
    "    'Finistère': '29',\n",
    "    'Gard': '30',\n",
    "    'Haute-Garonne': '31',\n",
    "    'Gers': '32',\n",
    "    'Gironde': '33',\n",
    "    'Hérault': '34',\n",
    "    'Ille-et-Vilaine': '35',\n",
    "    'Indre': '36',\n",
    "    'Indre-et-Loire': '37',\n",
    "    'Isère': '38',\n",
    "    'Jura': '39',\n",
    "    'Landes': '40',\n",
    "    'Loir-et-Cher': '41',\n",
    "    'Loire': '42',\n",
    "    'Haute-Loire': '43',\n",
    "    'Loire-Atlantique': '44',\n",
    "    'Loiret': '45',\n",
    "    'Lot': '46',\n",
    "    'Lot-et-Garonne': '47',\n",
    "    'Lozère': '48',\n",
    "    'Maine-et-Loire': '49',\n",
    "    'Manche': '50',\n",
    "    'Marne': '51',\n",
    "    'Haute-Marne': '52',\n",
    "    'Mayenne': '53',\n",
    "    'Meurthe-et-Moselle': '54',\n",
    "    'Meuse': '55',\n",
    "    'Morbihan': '56',\n",
    "    'Moselle': '57',\n",
    "    'Nièvre': '58',\n",
    "    'Nord': '59',\n",
    "    'Oise': '60',\n",
    "    'Orne': '61',\n",
    "    'Pas-de-Calais': '62',\n",
    "    'Puy-de-Dôme': '63',\n",
    "    'Pyrénées-Atlantiques': '64',\n",
    "    'Hautes-Pyrénées': '65',\n",
    "    'Pyrénées-Orientales': '66',\n",
    "    'Bas-Rhin': '67',\n",
    "    'Haut-Rhin': '68',\n",
    "    'Rhône': '69',\n",
    "    'Haute-Saône': '70',\n",
    "    'Saône-et-Loire': '71',\n",
    "    'Sarthe': '72',\n",
    "    'Savoie': '73',\n",
    "    'Haute-Savoie': '74',\n",
    "    'Paris': '75',\n",
    "    'Seine-Maritime': '76',\n",
    "    'Seine-et-Marne': '77',\n",
    "    'Yvelines': '78',\n",
    "    'Deux-Sèvres': '79',\n",
    "    'Somme': '80',\n",
    "    'Tarn': '81',\n",
    "    'Tarn-et-Garonne': '82',\n",
    "    'Var': '83',\n",
    "    'Vaucluse': '84',\n",
    "    'Vendée': '85',\n",
    "    'Vienne': '86',\n",
    "    'Haute-Vienne': '87',\n",
    "    'Vosges': '88',\n",
    "    'Yonne': '89',\n",
    "    'Territoire de Belfort': '90',\n",
    "    'Essonne': '91',\n",
    "    'Hauts-de-Seine': '92',\n",
    "    'Seine-Saint-Denis': '93',\n",
    "    'Val-de-Marne': '94',\n",
    "    'Val-d\\'Oise': '95'\n",
    "}\n",
    "\n",
    "\n",
    "AREA = []\n",
    "for area in CFG.area:\n",
    "    AREA.extend(Administratives[area] )\n",
    "AREA"
   ]
  },
  {
   "attachments": {},
   "cell_type": "markdown",
   "metadata": {},
   "source": [
    "## Get Graph"
   ]
  },
  {
   "cell_type": "code",
   "execution_count": null,
   "metadata": {},
   "outputs": [],
   "source": [
    "# file = os.path.join(CFG.data_path, f'[{CFG.area_name}]graph.graphml')\n",
    "# try:\n",
    "#     print(f'Load graph from disk for {CFG.area_name} roads,', end=' ')\n",
    "#     G = ox.io.load_graphml(file)\n",
    "#     print(f'{G.number_of_nodes()} nodes, {G.number_of_edges()} edges')\n",
    "\n",
    "# except:\n",
    "#     print('File not found')"
   ]
  },
  {
   "cell_type": "code",
   "execution_count": null,
   "metadata": {},
   "outputs": [],
   "source": [
    "# G = ox.graph_from_gdfs(\n",
    "#     joblib.load( os.path.join(CFG.data_path, f'[{CFG.area_name}]Gnodes.pkl')), \n",
    "#     joblib.load( os.path.join(CFG.data_path, f'[{CFG.area_name}]Gedges.pkl'))\n",
    "#     )\n"
   ]
  },
  {
   "cell_type": "code",
   "execution_count": null,
   "metadata": {},
   "outputs": [],
   "source": []
  },
  {
   "cell_type": "code",
   "execution_count": null,
   "metadata": {},
   "outputs": [],
   "source": [
    "edges = joblib.load( os.path.join(CFG.data_path, f'[{CFG.area_name}]Gedges.pkl'))"
   ]
  },
  {
   "cell_type": "code",
   "execution_count": null,
   "metadata": {},
   "outputs": [],
   "source": [
    "# edges"
   ]
  },
  {
   "cell_type": "code",
   "execution_count": null,
   "metadata": {},
   "outputs": [],
   "source": [
    "# edges.crs"
   ]
  },
  {
   "attachments": {},
   "cell_type": "markdown",
   "metadata": {},
   "source": [
    "## View graph"
   ]
  },
  {
   "cell_type": "code",
   "execution_count": null,
   "metadata": {},
   "outputs": [],
   "source": [
    "# Folium Map\n",
    "\n",
    "# _, _ = graph2folium(G,viz=True)"
   ]
  },
  {
   "cell_type": "code",
   "execution_count": null,
   "metadata": {},
   "outputs": [],
   "source": [
    "# Matplotlib Map\n",
    "\n",
    "def visu(graph,title, folium=False):\n",
    "    print(title)\n",
    "    ox.plot_graph(G, node_size=3, node_color='red', edge_color='blue')\n",
    "    \n",
    "    print(graph.number_of_nodes(), graph.number_of_edges())\n",
    "    if folium:\n",
    "        return ox.folium.plot_graph_folium(graph, tiles='OpenStreetMap')\n",
    "\n",
    "if CFG.viz:\n",
    "    visu(G, 'Initial graph')    "
   ]
  },
  {
   "attachments": {},
   "cell_type": "markdown",
   "metadata": {},
   "source": [
    "# Get Nodes and Edges from graph"
   ]
  },
  {
   "cell_type": "code",
   "execution_count": null,
   "metadata": {},
   "outputs": [],
   "source": [
    "# nodes, edges = ox.graph_to_gdfs(G, nodes=True, edges=True)"
   ]
  },
  {
   "attachments": {},
   "cell_type": "markdown",
   "metadata": {},
   "source": [
    "# TJMA"
   ]
  },
  {
   "attachments": {},
   "cell_type": "markdown",
   "metadata": {},
   "source": [
    "## Get datas"
   ]
  },
  {
   "cell_type": "code",
   "execution_count": null,
   "metadata": {},
   "outputs": [],
   "source": [
    "import geopandas as gpd\n",
    "\n",
    "data_path = './datas'\n",
    "\n",
    "# tmja = gpd.read_file('C:/Users/demo/Desktop/Lattitude/datas/tmja2018-shp/TMJA2018.shp')\n",
    "file_name = 'TMJA2018'\n",
    "ext = '.shp'\n",
    "url = 'https://static.data.gouv.fr/resources/trafic-moyen-journalier-annuel-sur-le-reseau-routier-national/20200601-112539/tmja2018-shp.zip'\n",
    "temp_path = 'temp_unzip'\n",
    "\n",
    "try: \n",
    "    tmja = gpd.read_feather(os.path.join(data_path,file_name + '.feather'))\n",
    "except:\n",
    "    # From url\n",
    "    zip_file = requests.get(url).content\n",
    "    os.makedirs(temp_path, exist_ok=True)\n",
    "    with zipfile.ZipFile(io.BytesIO(zip_file)) as archive:\n",
    "        archive.extractall(temp_path)\n",
    "    tmja = gpd.read_file(os.path.join(temp_path,file_name + ext))\n",
    "    shutil.rmtree(temp_path)\n",
    "\n",
    "    # From local file\n",
    "    # tmja = gpd.read_file(os.path.join(data_path,file_name + ext))\n",
    "\n",
    "    # avoiding multi dowloads for GES emmision lowering\n",
    "    tmja.to_feather(os.path.join(data_path,file_name + '.feather'))"
   ]
  },
  {
   "cell_type": "code",
   "execution_count": null,
   "metadata": {},
   "outputs": [],
   "source": [
    "import re\n",
    "\n",
    "def format_string(input_string):\n",
    "    # Remove leading digits\n",
    "    formatted_string = re.sub(r'^\\d+', '', input_string)\n",
    "    \n",
    "    # Replace zero numbers after letter with ' '\n",
    "    formatted_string = re.sub(r'(?<=[A-Z])0+', ' ', formatted_string)\n",
    "    \n",
    "    # Remove leading zeros after a letter\n",
    "    formatted_string = re.sub(r'(?<=[A-Z])0+(\\d)', r'\\1', formatted_string)\n",
    "    \n",
    "    # Keep only the first letter of the last group of letters\n",
    "    formatted_string = re.sub(r'([A-Z])[A-Z]+$', r'\\1', formatted_string)\n",
    "    \n",
    "    # Insert space between letter and number\n",
    "    formatted_string = re.sub(r'(?<=[A-Z])(?=\\d)', ' ', formatted_string)\n",
    "    return formatted_string.strip()\n",
    "\n",
    "# display(tmja.route.unique())\n",
    "# display(tmja.route.apply(format_string).unique())\n",
    "\n",
    "tmja['route_name'] = tmja.route.apply(format_string)"
   ]
  },
  {
   "cell_type": "code",
   "execution_count": null,
   "metadata": {},
   "outputs": [],
   "source": [
    "tmja"
   ]
  },
  {
   "cell_type": "code",
   "execution_count": null,
   "metadata": {},
   "outputs": [],
   "source": [
    "import numpy as np\n",
    "\n",
    "print('missing before:', tmja.tmja.replace(0, np.nan).isna().sum() / tmja.shape[0])\n",
    "for route in tmja.route:\n",
    "    temp = tmja[tmja.route == route]\\\n",
    "            .sort_values('cumulD', ascending=True)\n",
    "    # print(temp.shape)\n",
    "    if temp.shape[0] > 2:\n",
    "        interpolated = temp['tmja'].replace(0, np.nan)\n",
    "        interpolated.interpolate(method='linear', limit_direction='both', inplace=True)\n",
    "        # display([(x, y) for x,y in zip(temp.tmja, interpolated)])   \n",
    "        # display(interpolated) \n",
    "        tmja.loc[interpolated.index,'tmja'] = interpolated.round(0)\n",
    "        # break\n",
    "    \n",
    "print('missing after:', tmja.tmja.replace(0, np.nan).isna().sum() / tmja.shape[0])    "
   ]
  },
  {
   "cell_type": "code",
   "execution_count": null,
   "metadata": {},
   "outputs": [],
   "source": [
    "tmja.fillna(0, inplace=True)"
   ]
  },
  {
   "cell_type": "code",
   "execution_count": null,
   "metadata": {},
   "outputs": [],
   "source": [
    "tmja.tmja.isna().sum()"
   ]
  },
  {
   "cell_type": "code",
   "execution_count": null,
   "metadata": {},
   "outputs": [],
   "source": [
    "# # TODO : for complete road with no data try to find tmja at start and end conections with other roads\n",
    "\n",
    "# route_null = tmja.query('route_name == \"N 44\"').sort_values('cumulD', ascending=True)\n",
    "# first_geometry = route_null.iloc[0]['geometry']\n",
    "# start = first_geometry.coords[0]\n",
    "# start_point = Point(start[1], start[0])\n",
    "\n",
    "# tmja[start_point.buffer(4562100).intersects(tmja.geometry)]\n",
    "\n",
    "\n",
    "# # Doesn't seem to work !!!!!"
   ]
  },
  {
   "cell_type": "code",
   "execution_count": null,
   "metadata": {},
   "outputs": [],
   "source": [
    "from shapely.geometry import mapping\n",
    "\n",
    "if CFG.viz:\n",
    "    display(tmja.crs)\n",
    "\n",
    "\n",
    "    tmja_84 = ox.projection.project_gdf(tmja, to_crs='epsg:4326', to_latlong=False)\n",
    "    # tmja_84_area = tmja_84.query(\"depPrD == @dept\")\n",
    "    # temp_84 = tmja_84_area     #.head(1)\n",
    "\n",
    "\n",
    "    # Graph folium map with temp_84 road in red\n",
    "    m = ox.folium.plot_graph_folium(G, tiles='OpenStreetMap', popup_attribute='highway')\n",
    "    folium.GeoJson(tmja_84['geometry'],\n",
    "                    style_function=lambda x :{\"fillColor\": 'red',\n",
    "                                                \"fillOpacity\": 1.0,\n",
    "                                                \"weight\": 1,\n",
    "                                                \"color\": 'red'},\n",
    "                    name='tmja').add_to(m)\n",
    "    display(m)\n",
    "    del m, tmja_84\n"
   ]
  },
  {
   "cell_type": "code",
   "execution_count": null,
   "metadata": {},
   "outputs": [],
   "source": [
    "# tmja.query(\"route_name == 'N 44'\").sort_values('cumulD', ascending=True)#.tmja.plot(kind='line')"
   ]
  },
  {
   "cell_type": "code",
   "execution_count": null,
   "metadata": {},
   "outputs": [],
   "source": [
    "# # Test if ref 'names' are equals to tmja.new_name\n",
    "# def test(new_name, ref):\n",
    "#     if type(ref) == list:\n",
    "#         for n in ref:\n",
    "#             if n == new_name:\n",
    "#                 return True\n",
    "#     elif ref == new_name:\n",
    "#         return True\n",
    "#     else:\n",
    "#         return False        \n",
    "    \n",
    "# def test_attr(serie, text):\n",
    "#     mask = []\n",
    "#     for attr in serie:\n",
    "#         if type(attr) == list:\n",
    "#             # print(attr,'?',text)\n",
    "#             submask = []\n",
    "#             for t in attr:\n",
    "#                 submask.append(t == text)\n",
    "#             mask.append(any(submask))\n",
    "#             # print(any(submask))\n",
    "#         else:\n",
    "#             mask.append(attr == text)   \n",
    "#     return mask        \n",
    "\n",
    "# Test if ref 'names' are equals to tmja.new_name\n",
    "def  test_attr(serie, text):\n",
    "    if type(text) == list:\n",
    "        return serie.apply(lambda s : any([s == t.upper for t in text]))       \n",
    "    else:\n",
    "        return serie == text"
   ]
  },
  {
   "cell_type": "code",
   "execution_count": null,
   "metadata": {},
   "outputs": [],
   "source": [
    "display(edges.head(1), tmja.head(1))"
   ]
  },
  {
   "cell_type": "code",
   "execution_count": null,
   "metadata": {},
   "outputs": [],
   "source": [
    "# for n, (u, v, key, data) in enumerate(G.edges(keys=True, data=True)):\n",
    "#     print(data[\"geometry\"])\n",
    "#     print(ox.projection.project_geometry(data[\"geometry\"], crs=4326, to_crs=2154)[0])\n",
    "#     break"
   ]
  },
  {
   "cell_type": "code",
   "execution_count": null,
   "metadata": {},
   "outputs": [],
   "source": [
    "\n",
    "def tmja2graph(edges,tmja):\n",
    "    fin = ' ' * 80\n",
    "    edges['tmja'] = 0\n",
    "    \n",
    "    # Project the graph to lambert\n",
    "    # print('Project graph to Lambert...', end=' ')\n",
    "    # graph = ox.projection.project_graph(graph, to_crs=2154)\n",
    "    _edges = edges.copy()\n",
    "    print('edges projection to Lambert')\n",
    "    _edges = ox.projection.project_gdf(_edges, to_crs=2154)\n",
    "    print('edges buffering')\n",
    "    _edges['geometry'] = _edges['geometry'].buffer(70, cap_style='flat')\n",
    "    # print(' done.')\n",
    "    count = 0\n",
    "    no_match = []\n",
    "    total = tmja[tmja['tmja'] > 0].shape[0]\n",
    "    print('working')\n",
    "    for n, row in tmja[tmja['tmja'] > 0].iterrows():\n",
    "        print(f'{n + 1}/{total} ~ {(n + 1) / total:.2%} : ', end=' ')# end=' '*50 + '\\r')\n",
    "        \n",
    "        # edges += 1\n",
    "        # project geometry to Lambert\n",
    "        # edge_geometry = ox.projection.project_geometry(data[\"geometry\"], crs=4326, to_crs=2154)[0]\n",
    "        # display( edge_geometry)\n",
    "        # tmja_geometry_expanded = tmja['geometry'].buffer(50, cap_style='flat')\n",
    "        # display( edge_geometry_expanded)\n",
    "\n",
    "        matching_edges = _edges[ _edges['geometry'].intersects(row['geometry']) ]\n",
    "        \n",
    "        if not matching_edges.empty:\n",
    "            print('matching _edges: ', matching_edges.shape[0], end= ' ')\n",
    "            matching_edges = matching_edges[test_attr(matching_edges['ref'],row.route_name)]\n",
    "            if not matching_edges.empty:\n",
    "                attribute_value = row[\"tmja\"]\n",
    "                print(f'retained: {matching_edges.shape[0]}', end=fin + '\\r')\n",
    "                for idx in matching_edges.index:\n",
    "                    edges.loc[idx,'tmja'] = attribute_value\n",
    "                    count +=1\n",
    "        else:\n",
    "            no_match.append(n)\n",
    "            print('no matching edges', end=fin * 2 + '\\r')    \n",
    "    no_match = tmja[tmja['tmja'] > 0].loc[no_match].index\n",
    "    del _edges, matching_edges\n",
    "    print('Number of egdes with tmja added ',count,' on ', edges.shape[0])    \n",
    "    # return the projected graph to GPS 84    \n",
    "    # print('Reproject and return graph.')\n",
    "    # return ox.projection.project_graph(graph, to_crs=4326)\n",
    "\n",
    "    edges['tmja'] = edges['tmja'].apply(lambda x: np.nan if x == 0 else x)\n",
    "    return edges, no_match\n",
    "\n",
    "\n",
    "edges, no_match = tmja2graph(edges, tmja)\n",
    "\n",
    "display(tmja.loc[no_match])\n",
    "\n",
    "if CFG.viz:\n",
    "    graphplot(G,'tmja' , title=CFG.area_name )"
   ]
  },
  {
   "attachments": {},
   "cell_type": "markdown",
   "metadata": {},
   "source": [
    "# Save edges"
   ]
  },
  {
   "cell_type": "code",
   "execution_count": null,
   "metadata": {},
   "outputs": [],
   "source": [
    "\n",
    "joblib.dump(edges, os.path.join(CFG.data_path, f'[{CFG.area_name}]Gedges_with_known_tmja_mthd2.pkl'),compress=3)"
   ]
  },
  {
   "attachments": {},
   "cell_type": "markdown",
   "metadata": {},
   "source": [
    "# Compare method 1 & 2"
   ]
  },
  {
   "cell_type": "code",
   "execution_count": null,
   "metadata": {},
   "outputs": [],
   "source": [
    "edges_1 = joblib.load( os.path.join(CFG.data_path, f'[{CFG.area_name}]Gedges_with_known_tmja_mthd1.pkl'))"
   ]
  },
  {
   "cell_type": "code",
   "execution_count": null,
   "metadata": {},
   "outputs": [],
   "source": [
    "diff = edges.reset_index().sort_values(by=['u','v','key']).reset_index()['tmja']\\\n",
    "        .compare(edges_1.reset_index().sort_values(by=['u','v','key']).reset_index()['tmja'])\n",
    "diff.info()"
   ]
  },
  {
   "cell_type": "code",
   "execution_count": null,
   "metadata": {},
   "outputs": [],
   "source": [
    "diff"
   ]
  },
  {
   "attachments": {},
   "cell_type": "markdown",
   "metadata": {},
   "source": [
    "-----------------------------"
   ]
  },
  {
   "cell_type": "code",
   "execution_count": null,
   "metadata": {},
   "outputs": [],
   "source": [
    "******* Fin du taritement des données **************"
   ]
  },
  {
   "attachments": {},
   "cell_type": "markdown",
   "metadata": {},
   "source": [
    "# Betweeness"
   ]
  },
  {
   "cell_type": "code",
   "execution_count": null,
   "metadata": {},
   "outputs": [],
   "source": [
    "def split_dict(dct):\n",
    "    dct_stations={}\n",
    "    dct_nodes = {}\n",
    "    for key, value in dct.items():\n",
    "        if str(key) == key:\n",
    "            dct_stations[key] =  value\n",
    "        else:\n",
    "            dct_nodes[key] = value    \n",
    "    display(f'Stations: {len(dct_stations)} Nodes: { len(dct_nodes)}')\n",
    "    return dct_stations, dct_nodes\n",
    "    "
   ]
  },
  {
   "cell_type": "code",
   "execution_count": null,
   "metadata": {},
   "outputs": [],
   "source": [
    "closeness = nx.closeness_centrality(\n",
    "                G2, \n",
    "                u=None, \n",
    "                distance='distance', \n",
    "                wf_improved=True\n",
    "                )\n",
    "clsns_stations, clsns_nodes = split_dict(closeness)"
   ]
  },
  {
   "cell_type": "code",
   "execution_count": null,
   "metadata": {},
   "outputs": [],
   "source": [
    "betweeness = nx.betweenness_centrality(\n",
    "    G2, \n",
    "    k=None, \n",
    "    normalized=True, \n",
    "    weight='distance', \n",
    "    endpoints=False, \n",
    "    seed=42)\n",
    "\n",
    "btwns_stations, btwns_nodes = split_dict(betweeness)"
   ]
  },
  {
   "attachments": {},
   "cell_type": "markdown",
   "metadata": {},
   "source": [
    "## Add scores to nodes"
   ]
  },
  {
   "cell_type": "code",
   "execution_count": null,
   "metadata": {},
   "outputs": [],
   "source": [
    "for n in G2.nodes():\n",
    "    G2.nodes[n]['closeness'] = closeness[n]\n",
    "    G2.nodes[n]['betweeness'] = betweeness[n]"
   ]
  },
  {
   "attachments": {},
   "cell_type": "markdown",
   "metadata": {},
   "source": [
    "# Save Scores"
   ]
  },
  {
   "cell_type": "code",
   "execution_count": null,
   "metadata": {},
   "outputs": [],
   "source": [
    "# Define the file namer the graph file\n",
    "data_path = './datas'\n",
    "area_name = [s.replace(\"\\'\",\"@\") for s in selection]\n",
    "filename = f\"{area_name}_drive_charge_tmja_scores.graphml\"\n",
    "\n",
    "map_save_graph(G2, filename)\n"
   ]
  },
  {
   "attachments": {},
   "cell_type": "markdown",
   "metadata": {},
   "source": [
    "-------------------------------------------------"
   ]
  },
  {
   "cell_type": "code",
   "execution_count": null,
   "metadata": {},
   "outputs": [],
   "source": [
    "if CFG.bornes:\n",
    "    stations_df =pd.concat(\n",
    "        [\n",
    "        pd.DataFrame.from_dict(clsns_stations, orient='index').rename(columns={0:'closeness'}),\n",
    "        pd.DataFrame.from_dict(btwns_stations, orient='index').rename(columns={0:'betweeness'})    \n",
    "        ], axis=1\n",
    "    )\n",
    "    stations_df.describe()"
   ]
  },
  {
   "cell_type": "code",
   "execution_count": null,
   "metadata": {},
   "outputs": [],
   "source": [
    "nodes_df =pd.concat(\n",
    "    [\n",
    "    pd.DataFrame.from_dict(clsns_nodes, orient='index').rename(columns={0:'closeness'}),\n",
    "    pd.DataFrame.from_dict(btwns_nodes, orient='index').rename(columns={0:'betweeness'})    \n",
    "    ], axis=1\n",
    ")\n",
    "nodes_df.describe()"
   ]
  },
  {
   "attachments": {},
   "cell_type": "markdown",
   "metadata": {},
   "source": [
    "--------------------------------------------"
   ]
  },
  {
   "cell_type": "code",
   "execution_count": null,
   "metadata": {},
   "outputs": [],
   "source": [
    "from matplotlib import pyplot  as plt\n",
    "\n",
    "if CFG.bornes:\n",
    "    stations_df.plot(kind='hist',bins=100,  alpha=.5)\n",
    "    plt.gcf().suptitle('Stations')"
   ]
  },
  {
   "cell_type": "code",
   "execution_count": null,
   "metadata": {},
   "outputs": [],
   "source": [
    "if CFG.bornes:\n",
    "    nodes_df.plot(kind='hist',bins=100,  alpha=.5)\n",
    "    plt.gcf().suptitle('Nodes')"
   ]
  },
  {
   "cell_type": "code",
   "execution_count": null,
   "metadata": {},
   "outputs": [],
   "source": []
  }
 ],
 "metadata": {
  "kernelspec": {
   "display_name": "E-Motion",
   "language": "python",
   "name": "python3"
  },
  "language_info": {
   "codemirror_mode": {
    "name": "ipython",
    "version": 3
   },
   "file_extension": ".py",
   "mimetype": "text/x-python",
   "name": "python",
   "nbconvert_exporter": "python",
   "pygments_lexer": "ipython3",
   "version": "3.9.16"
  },
  "orig_nbformat": 4
 },
 "nbformat": 4,
 "nbformat_minor": 2
}
