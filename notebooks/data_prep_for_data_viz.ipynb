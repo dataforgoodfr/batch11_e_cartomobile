{
 "cells": [
  {
   "attachments": {},
   "cell_type": "markdown",
   "metadata": {},
   "source": [
    "## Datasets utilisés\n",
    "- \"data_for_viz/consolidation-etalab-irve.csv\": comporte les données des IRVE (https://www.data.gouv.fr/fr/datasets/fichier-consolide-des-bornes-de-recharge-pour-vehicules-electriques/)\n",
    "- \"data_for_viz/voitures-rechargeables-par-commune-enrichies.csv\": comporte le nombre de voitures immatriculées par commune et par type de charge (https://www.data.gouv.fr/fr/datasets/voitures-particulieres-immatriculees-par-commune-et-par-type-de-recharge/), données enrichies avec le département (https://geo.api.gouv.fr/decoupage-administratif/communes).\n",
    "- \"data_for_viz/communes-departement-region.csv\": dataset comportant les communes de France, avec pour chacune leur département et région\n",
    "- \"data_for_viz/departements.geojson\": comporte la géométrie des départements (https://france-geojson.gregoiredavid.fr/)"
   ]
  },
  {
   "cell_type": "code",
   "execution_count": 1,
   "metadata": {},
   "outputs": [],
   "source": [
    "import pandas as pd\n",
    "import geopandas as gpd\n",
    "import numpy as np\n",
    "from shapely.geometry import Point\n",
    "\n",
    "pd.set_option('display.max_rows', 200)\n",
    "pd.set_option('display.max_columns', 200)"
   ]
  },
  {
   "cell_type": "markdown",
   "metadata": {},
   "source": [
    "## Data prep IRVE"
   ]
  },
  {
   "cell_type": "code",
   "execution_count": 2,
   "metadata": {},
   "outputs": [],
   "source": [
    "# Lectrure des données des irve\n",
    "irve = pd.read_csv('data_for_viz/consolidation-etalab-irve.csv', sep=',', on_bad_lines='skip', dtype=str)\n",
    "types_dict = {\n",
    "    'nbre_pdc': int, \n",
    "    'puissance_nominale': float, \n",
    "    'consolidated_longitude': float,\n",
    "    'consolidated_latitude': float,\n",
    "    'consolidated_is_lon_lat_correct': bool,\n",
    "    'consolidated_is_code_insee_verified': bool\n",
    "              }\n",
    "for col, col_type in types_dict.items():\n",
    "    irve[col] = irve[col].astype(col_type)"
   ]
  },
  {
   "cell_type": "code",
   "execution_count": 3,
   "metadata": {},
   "outputs": [],
   "source": [
    "# Lecture des données geojson des départements\n",
    "geojson_dep = gpd.read_file(r'data_for_viz/departements.geojson')"
   ]
  },
  {
   "cell_type": "code",
   "execution_count": 4,
   "metadata": {},
   "outputs": [],
   "source": [
    "# Lecture des données des communes\n",
    "df_communes=pd.read_csv('data_for_viz/communes-departement-region.csv', dtype=str)\n",
    "\n",
    "# Nettoyage des données des communes\n",
    "\n",
    "# Modifier les codes communes INSEE, codes postaux, codes départements (ajout du 1er 0 manquant)\n",
    "df_communes.loc[df_communes['code_commune_INSEE'].str.len() == 4, 'code_commune_INSEE'] = '0' + df_communes['code_commune_INSEE']\n",
    "df_communes.loc[df_communes['code_postal'].str.len() == 4, 'code_postal'] = '0' + df_communes['code_postal']\n",
    "df_communes.loc[df_communes['code_departement'].str.len() == 1, 'code_departement'] = '0' + df_communes['code_departement']\n",
    "df_communes = df_communes[['code_commune_INSEE', 'code_departement', 'nom_departement']]\n",
    "\n",
    "# Supprimer les codes INSEE en double\n",
    "df_communes = df_communes.drop_duplicates(subset='code_commune_INSEE')"
   ]
  },
  {
   "cell_type": "code",
   "execution_count": 5,
   "metadata": {},
   "outputs": [
    {
     "name": "stderr",
     "output_type": "stream",
     "text": [
      "c:\\Users\\108739706\\AppData\\Local\\pypoetry\\Cache\\virtualenvs\\base-irve-project-8_pYZjG--py3.11\\Lib\\site-packages\\geopandas\\geodataframe.py:1443: SettingWithCopyWarning: \n",
      "A value is trying to be set on a copy of a slice from a DataFrame.\n",
      "Try using .loc[row_indexer,col_indexer] = value instead\n",
      "\n",
      "See the caveats in the documentation: https://pandas.pydata.org/pandas-docs/stable/user_guide/indexing.html#returning-a-view-versus-a-copy\n",
      "  super().__setitem__(key, value)\n"
     ]
    }
   ],
   "source": [
    "# Merge les irve avec les données des communes\n",
    "irve = irve.merge(df_communes, left_on='code_insee_commune', right_on='code_commune_INSEE', how='left')\n",
    "\n",
    "# regrouper les points de charge par localisation (couple lat/long)\n",
    "pdc_par_loc = irve.groupby(['consolidated_longitude', 'consolidated_latitude']).agg({\n",
    "    'nbre_pdc': 'count',\n",
    "    'code_departement': lambda x: pd.Series.mode(x)\n",
    "}).reset_index()\n",
    "pdc_par_loc\n",
    "\n",
    "# pour les bornes où il n'y a pas de code département, \n",
    "# identifier à partir de la latitude et longitude à quel département la borne appartient\n",
    "def find_dep(dep):\n",
    "    if isinstance(dep, str):\n",
    "        return dep\n",
    "    return np.nan\n",
    "\n",
    "pdc_par_loc['code_departement'] = pdc_par_loc['code_departement'].apply(find_dep)\n",
    "\n",
    "# pour les plus de 5000 points où le département n'a pas été identifié, \n",
    "# chercher le département correspondant à partir du polygone\n",
    "\n",
    "# transformer le couple (lat, long) en point géométrique\n",
    "pdc_par_loc['point'] = gpd.GeoSeries.from_xy(pdc_par_loc['consolidated_longitude'], \n",
    "                                             pdc_par_loc['consolidated_latitude'])\n",
    "pdc_par_loc = gpd.GeoDataFrame(pdc_par_loc, geometry='point')\n",
    "\n",
    "# mettre le code du département comme index pour le DataFrame geopandas des departements\n",
    "geojson_dep = geojson_dep.set_index('code')\n",
    "\n",
    "# sélectionner les points de charge où le département est manquant\n",
    "missing_dep = pdc_par_loc[pdc_par_loc['code_departement'].isna()]\n",
    "# Convertir la colonne 'point' en objet \"Point\" Shapely\n",
    "missing_dep['geometry'] = missing_dep['point'].apply(Point)\n",
    "\n",
    "# Pour chaque pdc où le département est manquant\n",
    "for i, point in missing_dep.iterrows():\n",
    "    # trouver l'index (code du département) des polygones du DataFrame geopandas des departments qui comportent le point\n",
    "    polygons_containing_point = geojson_dep[geojson_dep['geometry'].contains(point['geometry'])].index.tolist()\n",
    "    # Ajouter le code du département trouvé (si un département a été trouvé)\n",
    "    for polygon_index in polygons_containing_point:\n",
    "        pdc_par_loc.loc[i, 'code_departement'] = polygon_index\n",
    "        break\n",
    "\n",
    "# filter les départements: garder que la France métropolitaine pour la visu\n",
    "pdc_par_loc = pdc_par_loc[pdc_par_loc['code_departement'].astype(str).apply(len)<3]\n",
    "\n",
    "# Exporter le fichier pour la visualisation\n",
    "pdc_par_loc.to_csv('data_for_viz/irve_par_loc.csv', index=False)"
   ]
  },
  {
   "cell_type": "code",
   "execution_count": 6,
   "metadata": {},
   "outputs": [],
   "source": [
    "# Convertir les colonnes concernées en booléens\n",
    "map_to_bool = {\n",
    "    'false': False,\n",
    "    '0': False,\n",
    "    'FALSE': False,\n",
    "    'False': False,\n",
    "    'true': True,\n",
    "    'TRUE': True,\n",
    "    '1': True,\n",
    "    'True': True\n",
    "}\n",
    "\n",
    "bool_columns = ['prise_type_ef', 'prise_type_2', 'prise_type_combo_ccs', 'prise_type_chademo', 'prise_type_autre',\n",
    "               'gratuit', 'paiement_acte', 'paiement_cb', 'paiement_autre', 'reservation', 'station_deux_roues']\n",
    "\n",
    "for col in bool_columns:\n",
    "    irve[col] = irve[col].map(map_to_bool)\n",
    "\n",
    "# exporter les données 'nettoyées'\n",
    "irve.to_csv('data_for_viz/consolidation-etalab-irve-clean.csv')"
   ]
  },
  {
   "cell_type": "code",
   "execution_count": 7,
   "metadata": {},
   "outputs": [],
   "source": [
    "# Créer un timeseries du nombre de stations de recharge au cours du temps\n",
    "\n",
    "# remplacer les dates aberrantes par des valeurs nulles\n",
    "irve.loc[(irve['date_mise_en_service']>'2024') | (irve['date_mise_en_service']<'2001'), \n",
    "         'date_mise_en_service'] = np.nan\n",
    "\n",
    "# convertir la colonne en datetime\n",
    "irve['date_mise_en_service'] = pd.to_datetime(irve['date_mise_en_service'], format=\"%Y-%m-%d\")\n",
    "\n",
    "# grouper par mois, appliquer une somme cumulative sur le nombre de stations et de points de charge\n",
    "irve.set_index('date_mise_en_service', inplace=True)\n",
    "irve_ts = (irve.groupby(pd.Grouper(freq=\"M\")).nbre_pdc\n",
    "               .agg(['count', 'sum'])\n",
    "               .add_prefix('nbre_pdc_')\n",
    "               .cumsum()\n",
    "               .reset_index())\n",
    "\n",
    "irve_ts = (irve.groupby(pd.Grouper(freq=\"M\")).agg({\n",
    "    'id_station_itinerance': 'nunique',\n",
    "    'id_pdc_itinerance': 'nunique'\n",
    "}).cumsum().reset_index()).rename(columns={'id_station_itinerance': 'nb_stations',\n",
    "                                           'id_pdc_itinerance': 'nb_pdc'})\n",
    "\n",
    "# exporter le fichier\n",
    "irve_ts.to_csv('data_for_viz/irve_time_series.csv')"
   ]
  },
  {
   "cell_type": "markdown",
   "metadata": {},
   "source": [
    "## Data prep immatriculations"
   ]
  },
  {
   "cell_type": "code",
   "execution_count": 8,
   "metadata": {},
   "outputs": [
    {
     "name": "stderr",
     "output_type": "stream",
     "text": [
      "C:\\Users\\108739706\\AppData\\Local\\Temp\\ipykernel_18288\\1713760436.py:2: DtypeWarning: Columns (0) have mixed types. Specify dtype option on import or set low_memory=False.\n",
      "  immatriculations = pd.read_csv('data_for_viz/voitures-rechargeables-par-commune-enrichies.csv',\n"
     ]
    }
   ],
   "source": [
    "# Lire le fichier des immatriculations\n",
    "immatriculations = pd.read_csv('data_for_viz/voitures-rechargeables-par-commune-enrichies.csv',\n",
    "                               dtype={'code_departement': 'str', 'code_region': 'str', 'siren': 'str'})\n",
    "\n",
    "# Regrouper les données par date et département\n",
    "immat_par_dep = (immatriculations.groupby(['date_arrete', 'code_departement', 'nom_departement'])\n",
    "                                 .agg({'nb_vp': sum, \n",
    "                                       'nb_vp_rechargeables_el': sum,\n",
    "                                       'nb_vp_rechargeables_gaz': sum,\n",
    "                                       'population': sum}).reset_index())\n",
    "immat_par_dep\n",
    "\n",
    "# Ajouter la colonne nb_vp_non_rechargeables = nb_vp - nb_vp_rechargeables_el - nb_vp_rechargeables_gaz\n",
    "immat_par_dep['nb_vp_non_rechargeables'] = (immat_par_dep['nb_vp'] -\n",
    "                                            immat_par_dep['nb_vp_rechargeables_el'] - \n",
    "                                            immat_par_dep['nb_vp_rechargeables_gaz'])\n",
    "\n",
    "# merger les données des coordonnées géographiques des départements avec les données des immatriculations\n",
    "immat_par_dep = geojson_dep.reset_index()[['code', 'geometry']].merge(immat_par_dep, left_on=\"code\", right_on=\"code_departement\", how=\"inner\")\n",
    "immat_par_dep.head()\n",
    "\n",
    "# exporter le fichier\n",
    "immat_par_dep.to_csv('data_for_viz/immatriculations_par_dep.csv')"
   ]
  },
  {
   "cell_type": "markdown",
   "metadata": {},
   "source": [
    "## Data prep graphiques points de charge"
   ]
  },
  {
   "cell_type": "code",
   "execution_count": 9,
   "metadata": {},
   "outputs": [],
   "source": [
    "# Lire les données des irve\n",
    "pdc_par_loc = pd.read_csv('data_for_viz/irve_par_loc.csv')\n",
    "# regrouper les données des points de charge par département\n",
    "pdc_par_dep = pdc_par_loc.groupby('code_departement').agg({'nbre_pdc': 'count'}).reset_index()\n",
    "\n",
    "# Lire les données des immatriculations\n",
    "immat_par_dep = pd.read_csv('data_for_viz/immatriculations_par_dep.csv', index_col=0)\n",
    "# Conserver seulement les données du dernier trimestre 2022 (les plus récentes)\n",
    "immat_par_dep_2022_12 = immat_par_dep[immat_par_dep['date_arrete']=='2022-12-31']\n",
    "\n",
    "# Merge les deux jeux de données\n",
    "pdc_immat_par_dep = pdc_par_dep.merge(immat_par_dep_2022_12, on='code_departement', how='inner')\n",
    "\n",
    "# Calculer le nombre de points de charge par voiture électrique (pour chaque département) \n",
    "pdc_immat_par_dep['pdc_par_vp_el'] = pdc_immat_par_dep['nbre_pdc']/pdc_immat_par_dep['nb_vp_rechargeables_el']\n",
    "# Calculer le nombre de points de charge par 1000 habitants (pour chaque département) \n",
    "pdc_immat_par_dep['pdc_par_1k_hab'] = 1000*pdc_immat_par_dep['nbre_pdc']/pdc_immat_par_dep['population']\n",
    "\n",
    "# exporter le fichier\n",
    "pdc_immat_par_dep.to_csv('data_for_viz/pdc_immat_par_dep.csv', index=False)"
   ]
  },
  {
   "cell_type": "code",
   "execution_count": null,
   "metadata": {},
   "outputs": [],
   "source": []
  }
 ],
 "metadata": {
  "kernelspec": {
   "display_name": "base-irve-project-V_SCZ-0X-py3.11",
   "language": "python",
   "name": "python3"
  },
  "language_info": {
   "codemirror_mode": {
    "name": "ipython",
    "version": 3
   },
   "file_extension": ".py",
   "mimetype": "text/x-python",
   "name": "python",
   "nbconvert_exporter": "python",
   "pygments_lexer": "ipython3",
   "version": "3.11.2"
  },
  "orig_nbformat": 4
 },
 "nbformat": 4,
 "nbformat_minor": 2
}
