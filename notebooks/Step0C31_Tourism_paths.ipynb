{
 "cells": [
  {
   "attachments": {},
   "cell_type": "markdown",
   "metadata": {},
   "source": [
    "Auteur: Michaël Leroy\n",
    "\n",
    " Graph depuis gdf Nodes et edges\n",
    "        - calcul de stats\n",
    "        - classif des communes \n",
    "\n",
    "        ....."
   ]
  },
  {
   "cell_type": "code",
   "execution_count": 28,
   "metadata": {},
   "outputs": [
    {
     "data": {
      "text/plain": [
       "' To retrieve http data from OSMnx and cache them locally\\n    before building graph. Raise and exception if requests\\n    are all done. intercept then set to False and retry.'"
      ]
     },
     "execution_count": 28,
     "metadata": {},
     "output_type": "execute_result"
    }
   ],
   "source": [
    "class CFG:\n",
    "    data_path = './osm_datas/'\n",
    "    data_path_mappers = './datas'\n",
    "    paths_path = './tourism_paths'\n",
    "    area_name = 'france'\n",
    "\n",
    "    start_cities = [\n",
    "        \"Paris\",\n",
    "        \"Marseille\",\n",
    "        \"Lyon\",\n",
    "        \"Toulouse\",\n",
    "        \"Nice\",\n",
    "        \"Nantes\",\n",
    "        \"Strasbourg\",\n",
    "        \"Montpellier\",\n",
    "        \"Bordeaux\",\n",
    "        \"Lille\",\n",
    "        \"Rennes\",\n",
    "        \"Reims\",\n",
    "        \"Le Havre\",\n",
    "        # \"Cergy-Pontoise\",\n",
    "        \"Saint-Étienne\",\n",
    "        \"Toulon\",\n",
    "        \"Angers\",\n",
    "        \"Grenoble\",\n",
    "        \"Dijon\",\n",
    "        \"Nîmes\",\n",
    "        \"Aix-en-Provence\",\n",
    "        # \"Saint-Quentin-en-Yvelines\",\n",
    "        \"Brest\",\n",
    "        \"Le Mans\",\n",
    "        \"Amiens\",\n",
    "        \"Tours\",\n",
    "        \"Limoges\",\n",
    "        \"Clermont-Ferrand\",\n",
    "        # \"Villeurbanne\",\n",
    "        \"Besançon\",\n",
    "        \"Orléans\",\n",
    "        \"Metz\",\n",
    "        \"Rouen\",\n",
    "        \"Mulhouse\",\n",
    "        \"Perpignan\",\n",
    "        \"Caen\",\n",
    "        # \"Boulogne-Billancourt\",\n",
    "        \"Nancy\",\n",
    "        # \"Argenteuil\",\n",
    "        # \"Saint-Denis\",\n",
    "        # \"Roubaix\",\n",
    "        # \"Tourcoing\",\n",
    "        \"Avignon\",\n",
    "        \"Poitiers\",\n",
    "        # \"Fort-de-France\",\n",
    "        # \"Créteil\",\n",
    "        \"Dunkerque\",\n",
    "        # \"Vitry-sur-Seine\",\n",
    "        \"Pau\",\n",
    "        \"La Rochelle\"\n",
    "    ]\n",
    "    ## POIs\n",
    "    # 80 to max : 456   done\n",
    "    # 20 to 80  : 2057  done\n",
    "    # 10 to 20  : 2941  done\n",
    "    # 5 to 10   : 4970  done \n",
    "    # 3 to 5    : 4802  done\n",
    "    # 2 to 3    : 3985  done\n",
    "    # 1 to 2    : 5291  done\n",
    "\n",
    "    Min_Pois = 1\n",
    "    Max_Pois = 2\n",
    "    \n",
    "\n",
    "import os\n",
    "os.environ['USE_PYGEOS'] = '0'\n",
    "\n",
    "import joblib\n",
    "joblib.dump(\n",
    "    CFG, \n",
    "    os.path.join(\n",
    "        CFG.paths_path,\n",
    "        'CFG_for_tourism_paths.pkl'\n",
    "    ) \n",
    ")   \n",
    "\n",
    "\n",
    "# %load_ext autoreload\n",
    "# %autoreload\n",
    "\n",
    "\n",
    "# %aimport OSM_helper_functions\n",
    "# %aimport OCM_helper_functions\n",
    "\n",
    "import numpy as np\n",
    "import geopandas as gpd\n",
    "import pandas as pd\n",
    "import osmnx as ox\n",
    "import networkx as nx\n",
    "from tqdm.notebook import tqdm\n",
    "# from OSM_helper_functions import *\n",
    "# from OCM_helper_functions import *\n",
    "\n",
    "\n",
    "ox.settings.log_console=True\n",
    "ox.settings.use_cache=True\n",
    "''' To retrieve http data from OSMnx and cache them locally\n",
    "    before building graph. Raise and exception if requests\n",
    "    are all done. intercept then set to False and retry.'''\n",
    "# ox.settings.cache_only_mode=True \n",
    "\n"
   ]
  },
  {
   "cell_type": "code",
   "execution_count": 2,
   "metadata": {},
   "outputs": [],
   "source": [
    "Nodes = joblib.load(os.path.join(CFG.data_path, f'[{CFG.area_name}]Gnodes_communes.pkl'))\n",
    "\n",
    "Edges = joblib.load(os.path.join(CFG.data_path, f'[{CFG.area_name}]Gedges_communes_C22.pkl'))"
   ]
  },
  {
   "cell_type": "code",
   "execution_count": 3,
   "metadata": {},
   "outputs": [
    {
     "name": "stdout",
     "output_type": "stream",
     "text": [
      "<class 'geopandas.geodataframe.GeoDataFrame'>\n",
      "Index: 34466 entries, 2531584 to 2741108\n",
      "Data columns (total 10 columns):\n",
      " #   Column    Non-Null Count  Dtype   \n",
      "---  ------    --------------  -----   \n",
      " 0   y         34466 non-null  float64 \n",
      " 1   x         34466 non-null  float64 \n",
      " 2   codgeo    34466 non-null  object  \n",
      " 3   area      34466 non-null  object  \n",
      " 4   sleeping  15412 non-null  float64 \n",
      " 5   visit     17923 non-null  float64 \n",
      " 6   fooding   6616 non-null   float64 \n",
      " 7   working   6950 non-null   float64 \n",
      " 8   vehicule  4166 non-null   float64 \n",
      " 9   geometry  34466 non-null  geometry\n",
      "dtypes: float64(7), geometry(1), object(2)\n",
      "memory usage: 3.9+ MB\n"
     ]
    }
   ],
   "source": [
    "Nodes.info()"
   ]
  },
  {
   "cell_type": "code",
   "execution_count": 4,
   "metadata": {},
   "outputs": [
    {
     "name": "stdout",
     "output_type": "stream",
     "text": [
      "<class 'geopandas.geodataframe.GeoDataFrame'>\n",
      "MultiIndex: 205450 entries, ('2531584', '2176035', '0') to ('2741108', '2740963', '0')\n",
      "Data columns (total 4 columns):\n",
      " #   Column       Non-Null Count   Dtype   \n",
      "---  ------       --------------   -----   \n",
      " 0   geometry     205450 non-null  geometry\n",
      " 1   length       205450 non-null  float64 \n",
      " 2   travel_time  205450 non-null  float64 \n",
      " 3   path_line    205450 non-null  object  \n",
      "dtypes: float64(2), geometry(1), object(1)\n",
      "memory usage: 10.6+ MB\n"
     ]
    }
   ],
   "source": [
    "Edges = Edges.drop(['src_trgt'], axis=1)\n",
    "Edges = Edges.reset_index()\n",
    "\n",
    "Edges['u'] = Edges['u'].astype(str)\n",
    "Edges['v'] = Edges['v'].astype(str)\n",
    "Edges['key'] = Edges['key'].astype(str)\n",
    "\n",
    "Edges = Edges.set_index(['u','v','key'])\n",
    "PATHS = Edges.pop('path')\n",
    "Edges.info()"
   ]
  },
  {
   "cell_type": "code",
   "execution_count": 5,
   "metadata": {},
   "outputs": [],
   "source": [
    "nodes2codgeo = dict(zip(Nodes.index, Nodes['codgeo']))"
   ]
  },
  {
   "cell_type": "code",
   "execution_count": 6,
   "metadata": {},
   "outputs": [
    {
     "data": {
      "text/html": [
       "<div>\n",
       "<style scoped>\n",
       "    .dataframe tbody tr th:only-of-type {\n",
       "        vertical-align: middle;\n",
       "    }\n",
       "\n",
       "    .dataframe tbody tr th {\n",
       "        vertical-align: top;\n",
       "    }\n",
       "\n",
       "    .dataframe thead th {\n",
       "        text-align: right;\n",
       "    }\n",
       "</style>\n",
       "<table border=\"1\" class=\"dataframe\">\n",
       "  <thead>\n",
       "    <tr style=\"text-align: right;\">\n",
       "      <th></th>\n",
       "      <th>y</th>\n",
       "      <th>x</th>\n",
       "      <th>codgeo</th>\n",
       "      <th>area</th>\n",
       "      <th>sleeping</th>\n",
       "      <th>visit</th>\n",
       "      <th>fooding</th>\n",
       "      <th>working</th>\n",
       "      <th>vehicule</th>\n",
       "      <th>geometry</th>\n",
       "    </tr>\n",
       "    <tr>\n",
       "      <th>osmid</th>\n",
       "      <th></th>\n",
       "      <th></th>\n",
       "      <th></th>\n",
       "      <th></th>\n",
       "      <th></th>\n",
       "      <th></th>\n",
       "      <th></th>\n",
       "      <th></th>\n",
       "      <th></th>\n",
       "      <th></th>\n",
       "    </tr>\n",
       "  </thead>\n",
       "  <tbody>\n",
       "    <tr>\n",
       "      <th>2531584</th>\n",
       "      <td>43.461438</td>\n",
       "      <td>-0.819766</td>\n",
       "      <td>64312</td>\n",
       "      <td>POLYGON ((-0.832953105776137 43.44755970632465...</td>\n",
       "      <td>2.0</td>\n",
       "      <td>NaN</td>\n",
       "      <td>NaN</td>\n",
       "      <td>NaN</td>\n",
       "      <td>NaN</td>\n",
       "      <td>POINT (-0.81977 43.46144)</td>\n",
       "    </tr>\n",
       "    <tr>\n",
       "      <th>279376</th>\n",
       "      <td>47.730421</td>\n",
       "      <td>0.777490</td>\n",
       "      <td>41255</td>\n",
       "      <td>POLYGON ((0.7426134063245691 47.72901158483156...</td>\n",
       "      <td>NaN</td>\n",
       "      <td>1.0</td>\n",
       "      <td>NaN</td>\n",
       "      <td>NaN</td>\n",
       "      <td>NaN</td>\n",
       "      <td>POINT (0.77749 47.73042)</td>\n",
       "    </tr>\n",
       "  </tbody>\n",
       "</table>\n",
       "</div>"
      ],
      "text/plain": [
       "                 y         x codgeo  \\\n",
       "osmid                                 \n",
       "2531584  43.461438 -0.819766  64312   \n",
       "279376   47.730421  0.777490  41255   \n",
       "\n",
       "                                                      area  sleeping  visit  \\\n",
       "osmid                                                                         \n",
       "2531584  POLYGON ((-0.832953105776137 43.44755970632465...       2.0    NaN   \n",
       "279376   POLYGON ((0.7426134063245691 47.72901158483156...       NaN    1.0   \n",
       "\n",
       "         fooding  working  vehicule                   geometry  \n",
       "osmid                                                           \n",
       "2531584      NaN      NaN       NaN  POINT (-0.81977 43.46144)  \n",
       "279376       NaN      NaN       NaN   POINT (0.77749 47.73042)  "
      ]
     },
     "metadata": {},
     "output_type": "display_data"
    },
    {
     "data": {
      "text/html": [
       "<div>\n",
       "<style scoped>\n",
       "    .dataframe tbody tr th:only-of-type {\n",
       "        vertical-align: middle;\n",
       "    }\n",
       "\n",
       "    .dataframe tbody tr th {\n",
       "        vertical-align: top;\n",
       "    }\n",
       "\n",
       "    .dataframe thead th {\n",
       "        text-align: right;\n",
       "    }\n",
       "</style>\n",
       "<table border=\"1\" class=\"dataframe\">\n",
       "  <thead>\n",
       "    <tr style=\"text-align: right;\">\n",
       "      <th></th>\n",
       "      <th></th>\n",
       "      <th></th>\n",
       "      <th>geometry</th>\n",
       "      <th>length</th>\n",
       "      <th>travel_time</th>\n",
       "      <th>path_line</th>\n",
       "    </tr>\n",
       "    <tr>\n",
       "      <th>u</th>\n",
       "      <th>v</th>\n",
       "      <th>key</th>\n",
       "      <th></th>\n",
       "      <th></th>\n",
       "      <th></th>\n",
       "      <th></th>\n",
       "    </tr>\n",
       "  </thead>\n",
       "  <tbody>\n",
       "    <tr>\n",
       "      <th rowspan=\"2\" valign=\"top\">2531584</th>\n",
       "      <th>2176035</th>\n",
       "      <th>0</th>\n",
       "      <td>LINESTRING (-0.81977 43.46144, -0.84879 43.43624)</td>\n",
       "      <td>6669.304</td>\n",
       "      <td>466.3</td>\n",
       "      <td>LINESTRING (-0.820294 43.4613392, -0.819854 43...</td>\n",
       "    </tr>\n",
       "    <tr>\n",
       "      <th>167704</th>\n",
       "      <th>0</th>\n",
       "      <td>LINESTRING (-0.81977 43.46144, -0.77384 43.48750)</td>\n",
       "      <td>6019.824</td>\n",
       "      <td>403.2</td>\n",
       "      <td>LINESTRING (-0.820294 43.4613392, -0.819854 43...</td>\n",
       "    </tr>\n",
       "  </tbody>\n",
       "</table>\n",
       "</div>"
      ],
      "text/plain": [
       "                                                              geometry  \\\n",
       "u       v       key                                                      \n",
       "2531584 2176035 0    LINESTRING (-0.81977 43.46144, -0.84879 43.43624)   \n",
       "        167704  0    LINESTRING (-0.81977 43.46144, -0.77384 43.48750)   \n",
       "\n",
       "                       length  travel_time  \\\n",
       "u       v       key                          \n",
       "2531584 2176035 0    6669.304        466.3   \n",
       "        167704  0    6019.824        403.2   \n",
       "\n",
       "                                                             path_line  \n",
       "u       v       key                                                     \n",
       "2531584 2176035 0    LINESTRING (-0.820294 43.4613392, -0.819854 43...  \n",
       "        167704  0    LINESTRING (-0.820294 43.4613392, -0.819854 43...  "
      ]
     },
     "metadata": {},
     "output_type": "display_data"
    }
   ],
   "source": [
    "display(Nodes.head(2),Edges.head(2))"
   ]
  },
  {
   "cell_type": "code",
   "execution_count": 7,
   "metadata": {},
   "outputs": [],
   "source": [
    "G_communes = ox.graph_from_gdfs(Nodes, Edges)"
   ]
  },
  {
   "cell_type": "code",
   "execution_count": 8,
   "metadata": {},
   "outputs": [],
   "source": [
    "# Mappers to link osmids to commune names\n",
    "\n",
    "\n",
    "# Dict to map osmid  -> communes names\n",
    "Osmid2Name = joblib.load(\n",
    "    os.path.join(CFG.data_path_mappers,f'[{CFG.area_name}]mapper_osmid_to_libgeo.pkl')\n",
    ")\n",
    "\n",
    "# Dict to map communes names  -> osmid \n",
    "Name2Osmid = joblib.load(\n",
    "    os.path.join(CFG.data_path_mappers,f'[{CFG.area_name}]mapper_libgeo_to_osmid.pkl')\n",
    ")"
   ]
  },
  {
   "attachments": {},
   "cell_type": "markdown",
   "metadata": {},
   "source": [
    "- 1- prendre les zones à forte population\n",
    "\n",
    "    * pour cette poc pas de ranking mais une liste predéfine de villes"
   ]
  },
  {
   "cell_type": "code",
   "execution_count": 9,
   "metadata": {},
   "outputs": [
    {
     "data": {
      "text/plain": [
       "39"
      ]
     },
     "execution_count": 9,
     "metadata": {},
     "output_type": "execute_result"
    }
   ],
   "source": [
    "# start_cities = ['Reims','Lyon','lille','brest','bordeaux','perpignan']\n",
    "\n",
    "\n",
    "\n",
    "# start_cities to start_nodes\n",
    "start_nodes = [ Name2Osmid[str.upper(name)] for name in CFG.start_cities]\n",
    "# start_nodes, \n",
    "len(start_nodes)"
   ]
  },
  {
   "attachments": {},
   "cell_type": "markdown",
   "metadata": {},
   "source": [
    "2- Communes ayant un intérêt \n",
    "\n",
    "    * création d'une liste de communes ayant des poi\n",
    "    * il faut donner un poids aux communes en fonction de leur 'interêt', pour l'instant juste le nombre de pois rescencés"
   ]
  },
  {
   "cell_type": "code",
   "execution_count": 10,
   "metadata": {},
   "outputs": [
    {
     "data": {
      "text/html": [
       "<div>\n",
       "<style scoped>\n",
       "    .dataframe tbody tr th:only-of-type {\n",
       "        vertical-align: middle;\n",
       "    }\n",
       "\n",
       "    .dataframe tbody tr th {\n",
       "        vertical-align: top;\n",
       "    }\n",
       "\n",
       "    .dataframe thead th {\n",
       "        text-align: right;\n",
       "    }\n",
       "</style>\n",
       "<table border=\"1\" class=\"dataframe\">\n",
       "  <thead>\n",
       "    <tr style=\"text-align: right;\">\n",
       "      <th></th>\n",
       "      <th>y</th>\n",
       "      <th>x</th>\n",
       "      <th>codgeo</th>\n",
       "      <th>area</th>\n",
       "      <th>sleeping</th>\n",
       "      <th>visit</th>\n",
       "      <th>fooding</th>\n",
       "      <th>working</th>\n",
       "      <th>vehicule</th>\n",
       "      <th>geometry</th>\n",
       "      <th>poi_counts</th>\n",
       "    </tr>\n",
       "    <tr>\n",
       "      <th>osmid</th>\n",
       "      <th></th>\n",
       "      <th></th>\n",
       "      <th></th>\n",
       "      <th></th>\n",
       "      <th></th>\n",
       "      <th></th>\n",
       "      <th></th>\n",
       "      <th></th>\n",
       "      <th></th>\n",
       "      <th></th>\n",
       "      <th></th>\n",
       "    </tr>\n",
       "  </thead>\n",
       "  <tbody>\n",
       "    <tr>\n",
       "      <th>2531584</th>\n",
       "      <td>43.461438</td>\n",
       "      <td>-0.819766</td>\n",
       "      <td>64312</td>\n",
       "      <td>POLYGON ((-0.832953105776137 43.44755970632465...</td>\n",
       "      <td>2.0</td>\n",
       "      <td>NaN</td>\n",
       "      <td>NaN</td>\n",
       "      <td>NaN</td>\n",
       "      <td>NaN</td>\n",
       "      <td>POINT (-0.81977 43.46144)</td>\n",
       "      <td>2.0</td>\n",
       "    </tr>\n",
       "    <tr>\n",
       "      <th>279376</th>\n",
       "      <td>47.730421</td>\n",
       "      <td>0.777490</td>\n",
       "      <td>41255</td>\n",
       "      <td>POLYGON ((0.7426134063245691 47.72901158483156...</td>\n",
       "      <td>NaN</td>\n",
       "      <td>1.0</td>\n",
       "      <td>NaN</td>\n",
       "      <td>NaN</td>\n",
       "      <td>NaN</td>\n",
       "      <td>POINT (0.77749 47.73042)</td>\n",
       "      <td>1.0</td>\n",
       "    </tr>\n",
       "  </tbody>\n",
       "</table>\n",
       "</div>"
      ],
      "text/plain": [
       "                 y         x codgeo  \\\n",
       "osmid                                 \n",
       "2531584  43.461438 -0.819766  64312   \n",
       "279376   47.730421  0.777490  41255   \n",
       "\n",
       "                                                      area  sleeping  visit  \\\n",
       "osmid                                                                         \n",
       "2531584  POLYGON ((-0.832953105776137 43.44755970632465...       2.0    NaN   \n",
       "279376   POLYGON ((0.7426134063245691 47.72901158483156...       NaN    1.0   \n",
       "\n",
       "         fooding  working  vehicule                   geometry  poi_counts  \n",
       "osmid                                                                       \n",
       "2531584      NaN      NaN       NaN  POINT (-0.81977 43.46144)         2.0  \n",
       "279376       NaN      NaN       NaN   POINT (0.77749 47.73042)         1.0  "
      ]
     },
     "metadata": {},
     "output_type": "display_data"
    },
    {
     "data": {
      "text/plain": [
       "<AxesSubplot: ylabel='Density'>"
      ]
     },
     "execution_count": 10,
     "metadata": {},
     "output_type": "execute_result"
    },
    {
     "data": {
      "image/png": "[encoded data removed]",
      "text/plain": [
       "<Figure size 640x480 with 1 Axes>"
      ]
     },
     "metadata": {},
     "output_type": "display_data"
    }
   ],
   "source": [
    "Nodes['poi_counts'] = Nodes[\n",
    "    ['sleeping','visit','working','fooding','vehicule']\n",
    "    ].fillna(0, axis=1).sum(axis=1)\n",
    "display(Nodes.head(2))\n",
    "\n",
    "Nodes.poi_counts.plot(kind='kde')\n",
    "\n",
    "Nodes.poi_counts.replace(0, np.nan).plot(kind='box')"
   ]
  },
  {
   "cell_type": "code",
   "execution_count": 11,
   "metadata": {},
   "outputs": [
    {
     "data": {
      "text/plain": [
       "['MARSEILLE', 'LYON', 'VICHY', 'PARIS']"
      ]
     },
     "execution_count": 11,
     "metadata": {},
     "output_type": "execute_result"
    }
   ],
   "source": [
    "head_pois = Nodes.query(\"poi_counts >= 1000 \")\n",
    "[ Osmid2Name[id] for id in head_pois.index]"
   ]
  },
  {
   "cell_type": "code",
   "execution_count": 12,
   "metadata": {},
   "outputs": [],
   "source": [
    "# tail_pois = Nodes.query(\"poi_counts >100 and poi_counts <= 200 \").sample(20)\n",
    "# display(tail_pois)\n",
    "# [ Osmid2Name[id] for id in tail_pois.index]"
   ]
  },
  {
   "cell_type": "code",
   "execution_count": 29,
   "metadata": {},
   "outputs": [
    {
     "data": {
      "text/plain": [
       "5291"
      ]
     },
     "execution_count": 29,
     "metadata": {},
     "output_type": "execute_result"
    }
   ],
   "source": [
    "Min = CFG.Min_Pois\n",
    "Max = CFG.Max_Pois\n",
    "\n",
    "goal_nodes = Nodes.query(\n",
    "                \"poi_counts >= @Min and poi_counts < @Max \"\n",
    "    ).sort_values(by='poi_counts',\n",
    "                  ascending=True\n",
    "    ).index.tolist()\n",
    "\n",
    "goal_nodes = [ node for node in goal_nodes if ~(node in start_nodes)]\n",
    "# goal_nodes.remove('59355')\n",
    "\n",
    "goal_cities = [ Osmid2Name[node] if node in Osmid2Name.keys() else 'Unknown' for node in goal_nodes]\n",
    "# display(goal_cities, len(goal_cities))\n",
    "len(goal_cities)"
   ]
  },
  {
   "attachments": {},
   "cell_type": "markdown",
   "metadata": {},
   "source": [
    "- 3-chercher des 'paths' vers les zones touristiques\n",
    "\n"
   ]
  },
  {
   "cell_type": "code",
   "execution_count": 18,
   "metadata": {},
   "outputs": [],
   "source": [
    "# from tqdm.notebook import tqdm\n",
    "# tqdm.pandas()\n",
    "\n",
    "\n",
    "def get_shortest_path( src: str, trgt: str) -> tuple:\n",
    "    duration, path = nx.single_source_dijkstra(\n",
    "                G_communes, \n",
    "                source=src, \n",
    "                target=trgt, \n",
    "                weight='travel_time', \n",
    "                )\n",
    "    distance = nx.path_weight(G_communes, path, weight='length')\n",
    "    return duration, path, distance\n",
    "\n",
    "# get_shortest_path( start_nodes[0], goal_nodes[0])"
   ]
  },
  {
   "attachments": {},
   "cell_type": "markdown",
   "metadata": {},
   "source": [
    "-------------------------------------"
   ]
  },
  {
   "cell_type": "code",
   "execution_count": 30,
   "metadata": {},
   "outputs": [
    {
     "data": {
      "application/vnd.jupyter.widget-view+json": {
       "model_id": "438a7cdbef72417c814dda4c6a642ef0",
       "version_major": 2,
       "version_minor": 0
      },
      "text/plain": [
       "Start Cities:   0%|          | 0/39 [00:00<?, ?it/s]"
      ]
     },
     "metadata": {},
     "output_type": "display_data"
    },
    {
     "data": {
      "application/vnd.jupyter.widget-view+json": {
       "model_id": "ba64dbb2c5a8431680a1109422b218e5",
       "version_major": 2,
       "version_minor": 0
      },
      "text/plain": [
       "PARIS:   0%|          | 0/5291 [00:00<?, ?it/s]"
      ]
     },
     "metadata": {},
     "output_type": "display_data"
    },
    {
     "data": {
      "application/vnd.jupyter.widget-view+json": {
       "model_id": "9dfca652710e47e4a00e6b30467c97c0",
       "version_major": 2,
       "version_minor": 0
      },
      "text/plain": [
       "MARSEILLE:   0%|          | 0/5291 [00:00<?, ?it/s]"
      ]
     },
     "metadata": {},
     "output_type": "display_data"
    },
    {
     "data": {
      "application/vnd.jupyter.widget-view+json": {
       "model_id": "13f40a2c0bbd488da6c52d6b6579440f",
       "version_major": 2,
       "version_minor": 0
      },
      "text/plain": [
       "LYON:   0%|          | 0/5291 [00:00<?, ?it/s]"
      ]
     },
     "metadata": {},
     "output_type": "display_data"
    },
    {
     "data": {
      "application/vnd.jupyter.widget-view+json": {
       "model_id": "47673fcbb31345749a1e7dadd138b30e",
       "version_major": 2,
       "version_minor": 0
      },
      "text/plain": [
       "TOULOUSE:   0%|          | 0/5291 [00:00<?, ?it/s]"
      ]
     },
     "metadata": {},
     "output_type": "display_data"
    },
    {
     "data": {
      "application/vnd.jupyter.widget-view+json": {
       "model_id": "00dfbce61d4c458caac7b87358f7dc39",
       "version_major": 2,
       "version_minor": 0
      },
      "text/plain": [
       "NICE:   0%|          | 0/5291 [00:00<?, ?it/s]"
      ]
     },
     "metadata": {},
     "output_type": "display_data"
    },
    {
     "data": {
      "application/vnd.jupyter.widget-view+json": {
       "model_id": "88b4ce17df224a19b77e33eb9c05d310",
       "version_major": 2,
       "version_minor": 0
      },
      "text/plain": [
       "NANTES:   0%|          | 0/5291 [00:00<?, ?it/s]"
      ]
     },
     "metadata": {},
     "output_type": "display_data"
    },
    {
     "data": {
      "application/vnd.jupyter.widget-view+json": {
       "model_id": "1a563a1ac8a948cc9d5c07db371128f9",
       "version_major": 2,
       "version_minor": 0
      },
      "text/plain": [
       "STRASBOURG:   0%|          | 0/5291 [00:00<?, ?it/s]"
      ]
     },
     "metadata": {},
     "output_type": "display_data"
    },
    {
     "data": {
      "application/vnd.jupyter.widget-view+json": {
       "model_id": "c0014e06f3944ddfbe9250a44322d30d",
       "version_major": 2,
       "version_minor": 0
      },
      "text/plain": [
       "MONTPELLIER:   0%|          | 0/5291 [00:00<?, ?it/s]"
      ]
     },
     "metadata": {},
     "output_type": "display_data"
    },
    {
     "data": {
      "application/vnd.jupyter.widget-view+json": {
       "model_id": "a73ead7f08b84ad8ba2653e80af3a9be",
       "version_major": 2,
       "version_minor": 0
      },
      "text/plain": [
       "BORDEAUX:   0%|          | 0/5291 [00:00<?, ?it/s]"
      ]
     },
     "metadata": {},
     "output_type": "display_data"
    },
    {
     "data": {
      "application/vnd.jupyter.widget-view+json": {
       "model_id": "e46635947d06404b87bdb393a935a1c2",
       "version_major": 2,
       "version_minor": 0
      },
      "text/plain": [
       "LILLE:   0%|          | 0/5291 [00:00<?, ?it/s]"
      ]
     },
     "metadata": {},
     "output_type": "display_data"
    },
    {
     "data": {
      "application/vnd.jupyter.widget-view+json": {
       "model_id": "962851fd7e644d0abf9e27803bde2d98",
       "version_major": 2,
       "version_minor": 0
      },
      "text/plain": [
       "RENNES:   0%|          | 0/5291 [00:00<?, ?it/s]"
      ]
     },
     "metadata": {},
     "output_type": "display_data"
    },
    {
     "data": {
      "application/vnd.jupyter.widget-view+json": {
       "model_id": "eb22d7e7027f4fd2831177e092ad2895",
       "version_major": 2,
       "version_minor": 0
      },
      "text/plain": [
       "REIMS:   0%|          | 0/5291 [00:00<?, ?it/s]"
      ]
     },
     "metadata": {},
     "output_type": "display_data"
    },
    {
     "data": {
      "application/vnd.jupyter.widget-view+json": {
       "model_id": "35e92eabdce64fb3ace0827cb2013fad",
       "version_major": 2,
       "version_minor": 0
      },
      "text/plain": [
       "LE HAVRE:   0%|          | 0/5291 [00:00<?, ?it/s]"
      ]
     },
     "metadata": {},
     "output_type": "display_data"
    },
    {
     "data": {
      "application/vnd.jupyter.widget-view+json": {
       "model_id": "7f0b2498160c47c498ac91a3bf337b95",
       "version_major": 2,
       "version_minor": 0
      },
      "text/plain": [
       "SAINT-ÉTIENNE:   0%|          | 0/5291 [00:00<?, ?it/s]"
      ]
     },
     "metadata": {},
     "output_type": "display_data"
    },
    {
     "data": {
      "application/vnd.jupyter.widget-view+json": {
       "model_id": "3cb6677a918c4ebaa25d7fa3dae6538a",
       "version_major": 2,
       "version_minor": 0
      },
      "text/plain": [
       "TOULON:   0%|          | 0/5291 [00:00<?, ?it/s]"
      ]
     },
     "metadata": {},
     "output_type": "display_data"
    },
    {
     "data": {
      "application/vnd.jupyter.widget-view+json": {
       "model_id": "8c092c2995b2494eb6072f8370ad4736",
       "version_major": 2,
       "version_minor": 0
      },
      "text/plain": [
       "ANGERS:   0%|          | 0/5291 [00:00<?, ?it/s]"
      ]
     },
     "metadata": {},
     "output_type": "display_data"
    },
    {
     "data": {
      "application/vnd.jupyter.widget-view+json": {
       "model_id": "8b10d51684634548849979592e1aef81",
       "version_major": 2,
       "version_minor": 0
      },
      "text/plain": [
       "GRENOBLE:   0%|          | 0/5291 [00:00<?, ?it/s]"
      ]
     },
     "metadata": {},
     "output_type": "display_data"
    },
    {
     "data": {
      "application/vnd.jupyter.widget-view+json": {
       "model_id": "f050b17ce9804d5e8dcdd47b23704101",
       "version_major": 2,
       "version_minor": 0
      },
      "text/plain": [
       "DIJON:   0%|          | 0/5291 [00:00<?, ?it/s]"
      ]
     },
     "metadata": {},
     "output_type": "display_data"
    },
    {
     "data": {
      "application/vnd.jupyter.widget-view+json": {
       "model_id": "76a123262aa74841834f6be1c1745b94",
       "version_major": 2,
       "version_minor": 0
      },
      "text/plain": [
       "NÎMES:   0%|          | 0/5291 [00:00<?, ?it/s]"
      ]
     },
     "metadata": {},
     "output_type": "display_data"
    },
    {
     "data": {
      "application/vnd.jupyter.widget-view+json": {
       "model_id": "9e93a390300645d984ce0113d4fb64a7",
       "version_major": 2,
       "version_minor": 0
      },
      "text/plain": [
       "AIX-EN-PROVENCE:   0%|          | 0/5291 [00:00<?, ?it/s]"
      ]
     },
     "metadata": {},
     "output_type": "display_data"
    },
    {
     "data": {
      "application/vnd.jupyter.widget-view+json": {
       "model_id": "1417b59297fd4314ba81dc1c09a139b8",
       "version_major": 2,
       "version_minor": 0
      },
      "text/plain": [
       "BREST:   0%|          | 0/5291 [00:00<?, ?it/s]"
      ]
     },
     "metadata": {},
     "output_type": "display_data"
    },
    {
     "data": {
      "application/vnd.jupyter.widget-view+json": {
       "model_id": "fddf8d57cba840be8a947caa4410fe2d",
       "version_major": 2,
       "version_minor": 0
      },
      "text/plain": [
       "LE MANS:   0%|          | 0/5291 [00:00<?, ?it/s]"
      ]
     },
     "metadata": {},
     "output_type": "display_data"
    },
    {
     "data": {
      "application/vnd.jupyter.widget-view+json": {
       "model_id": "8e57dd1e9a564e45a0578022ff76efb6",
       "version_major": 2,
       "version_minor": 0
      },
      "text/plain": [
       "AMIENS:   0%|          | 0/5291 [00:00<?, ?it/s]"
      ]
     },
     "metadata": {},
     "output_type": "display_data"
    },
    {
     "data": {
      "application/vnd.jupyter.widget-view+json": {
       "model_id": "29e4ce5c23484502aa470cc4026f70e7",
       "version_major": 2,
       "version_minor": 0
      },
      "text/plain": [
       "TOURS:   0%|          | 0/5291 [00:00<?, ?it/s]"
      ]
     },
     "metadata": {},
     "output_type": "display_data"
    },
    {
     "data": {
      "application/vnd.jupyter.widget-view+json": {
       "model_id": "6223a1fa9fa34aebbe205cc1c87d76d5",
       "version_major": 2,
       "version_minor": 0
      },
      "text/plain": [
       "LIMOGES:   0%|          | 0/5291 [00:00<?, ?it/s]"
      ]
     },
     "metadata": {},
     "output_type": "display_data"
    },
    {
     "data": {
      "application/vnd.jupyter.widget-view+json": {
       "model_id": "b22a826a71b44d5ebd75d82f5a0d0a57",
       "version_major": 2,
       "version_minor": 0
      },
      "text/plain": [
       "CLERMONT-FERRAND:   0%|          | 0/5291 [00:00<?, ?it/s]"
      ]
     },
     "metadata": {},
     "output_type": "display_data"
    },
    {
     "data": {
      "application/vnd.jupyter.widget-view+json": {
       "model_id": "d64ddbe6d8564603b5beb6ac525bdc80",
       "version_major": 2,
       "version_minor": 0
      },
      "text/plain": [
       "BESANÇON:   0%|          | 0/5291 [00:00<?, ?it/s]"
      ]
     },
     "metadata": {},
     "output_type": "display_data"
    },
    {
     "data": {
      "application/vnd.jupyter.widget-view+json": {
       "model_id": "3b8e19c2167141c491463c13a9dc5b81",
       "version_major": 2,
       "version_minor": 0
      },
      "text/plain": [
       "ORLÉANS:   0%|          | 0/5291 [00:00<?, ?it/s]"
      ]
     },
     "metadata": {},
     "output_type": "display_data"
    },
    {
     "data": {
      "application/vnd.jupyter.widget-view+json": {
       "model_id": "f6041b02d656484196a13264bb863d69",
       "version_major": 2,
       "version_minor": 0
      },
      "text/plain": [
       "METZ:   0%|          | 0/5291 [00:00<?, ?it/s]"
      ]
     },
     "metadata": {},
     "output_type": "display_data"
    },
    {
     "data": {
      "application/vnd.jupyter.widget-view+json": {
       "model_id": "522caa682b704da9bceebb8171e1eaf7",
       "version_major": 2,
       "version_minor": 0
      },
      "text/plain": [
       "ROUEN:   0%|          | 0/5291 [00:00<?, ?it/s]"
      ]
     },
     "metadata": {},
     "output_type": "display_data"
    },
    {
     "data": {
      "application/vnd.jupyter.widget-view+json": {
       "model_id": "e70866576bed45a98567aa00a298f4f7",
       "version_major": 2,
       "version_minor": 0
      },
      "text/plain": [
       "MULHOUSE:   0%|          | 0/5291 [00:00<?, ?it/s]"
      ]
     },
     "metadata": {},
     "output_type": "display_data"
    },
    {
     "data": {
      "application/vnd.jupyter.widget-view+json": {
       "model_id": "2d127849ff4e42e2a709ad46a701582e",
       "version_major": 2,
       "version_minor": 0
      },
      "text/plain": [
       "PERPIGNAN:   0%|          | 0/5291 [00:00<?, ?it/s]"
      ]
     },
     "metadata": {},
     "output_type": "display_data"
    },
    {
     "data": {
      "application/vnd.jupyter.widget-view+json": {
       "model_id": "1d49c844191d44f788e0370188ee38b6",
       "version_major": 2,
       "version_minor": 0
      },
      "text/plain": [
       "CAEN:   0%|          | 0/5291 [00:00<?, ?it/s]"
      ]
     },
     "metadata": {},
     "output_type": "display_data"
    },
    {
     "data": {
      "application/vnd.jupyter.widget-view+json": {
       "model_id": "d19a9f7b429345d0933966b17ce702b8",
       "version_major": 2,
       "version_minor": 0
      },
      "text/plain": [
       "NANCY:   0%|          | 0/5291 [00:00<?, ?it/s]"
      ]
     },
     "metadata": {},
     "output_type": "display_data"
    },
    {
     "data": {
      "application/vnd.jupyter.widget-view+json": {
       "model_id": "9f0e19da4d4542888deea674e56607f8",
       "version_major": 2,
       "version_minor": 0
      },
      "text/plain": [
       "AVIGNON:   0%|          | 0/5291 [00:00<?, ?it/s]"
      ]
     },
     "metadata": {},
     "output_type": "display_data"
    },
    {
     "data": {
      "application/vnd.jupyter.widget-view+json": {
       "model_id": "6e6ce96f5c19496f8b0138665c18eb5f",
       "version_major": 2,
       "version_minor": 0
      },
      "text/plain": [
       "POITIERS:   0%|          | 0/5291 [00:00<?, ?it/s]"
      ]
     },
     "metadata": {},
     "output_type": "display_data"
    },
    {
     "data": {
      "application/vnd.jupyter.widget-view+json": {
       "model_id": "70f9adbe935a459fb97eadbc5ed01f9a",
       "version_major": 2,
       "version_minor": 0
      },
      "text/plain": [
       "DUNKERQUE:   0%|          | 0/5291 [00:00<?, ?it/s]"
      ]
     },
     "metadata": {},
     "output_type": "display_data"
    },
    {
     "data": {
      "application/vnd.jupyter.widget-view+json": {
       "model_id": "1282aedbf449412dbde83f0ccfaed2c9",
       "version_major": 2,
       "version_minor": 0
      },
      "text/plain": [
       "PAU:   0%|          | 0/5291 [00:00<?, ?it/s]"
      ]
     },
     "metadata": {},
     "output_type": "display_data"
    },
    {
     "data": {
      "application/vnd.jupyter.widget-view+json": {
       "model_id": "fbd2793054944c89ab01bfb2d8b62f61",
       "version_major": 2,
       "version_minor": 0
      },
      "text/plain": [
       "LA ROCHELLE:   0%|          | 0/5291 [00:00<?, ?it/s]"
      ]
     },
     "metadata": {},
     "output_type": "display_data"
    }
   ],
   "source": [
    "# Store scores, start_cities and goal_cities to continue scoring\n",
    "\n",
    "\n",
    "def get_path_from_start( start: str, goals: list[str]) -> tuple[pd.DataFrame,dict]:\n",
    "    # _errors = dict()\n",
    "    _path_df = pd.DataFrame(columns=[['start','goal','path','distance','duration']],\n",
    "                            # index = [i for i in range(len(goals))]\n",
    "                              )\n",
    "\n",
    "    for idx, goal in enumerate(tqdm(goals, desc= Osmid2Name[start])):\n",
    "        # print(f'{idx=}  {goal=}')\n",
    "        _path_df.loc[idx, 'goal'] = goal    \n",
    "\n",
    "        try:\n",
    "            duration, path, distance = get_shortest_path( start, goal)\n",
    "            # print(f'{dist=}  {path=}')\n",
    "            _path_df.loc[idx, 'duration'] = duration\n",
    "            _path_df.loc[idx, 'distance'] = distance\n",
    "            _path_df.loc[idx, 'path'] = [ [p] for p in path[1:-1]]\n",
    "        except: \n",
    "            # _path_df.loc[idx, 'dist'] = 0\n",
    "            # _path_df.loc[idx, 'duration'] = 0\n",
    "            _path_df.loc[idx, 'path'] = ['error'] \n",
    "        # break\n",
    "    _path_df['start'] = start\n",
    "    _path_df['duration'] = _path_df['duration'].astype(float)\n",
    "    _path_df['distance'] = _path_df['distance'].astype(float)\n",
    "\n",
    "    _path_df = _path_df[_path_df.start.values !=  _path_df.goal.values]\n",
    "    \n",
    "    return _path_df\n",
    "\n",
    "\n",
    "\n",
    "for start in tqdm(start_nodes, desc='Start Cities', leave=True):\n",
    "    file_name = os.path.join(\n",
    "                    CFG.paths_path, \n",
    "                    f'from_[{Osmid2Name[start]}]_paths.pkl'\n",
    "    )\n",
    "    if os.path.exists(file_name):   \n",
    "        done_paths = joblib.load(\n",
    "            file_name\n",
    "        )    \n",
    "        to_do_goals = list(set(goal_nodes) - set([ node[0] for node in done_paths.goal.values]))\n",
    "        # print(f'{to_do_goals}') \n",
    "        if to_do_goals:\n",
    "            new_paths = get_path_from_start(start, to_do_goals)\n",
    "            joblib.dump(\n",
    "                pd.concat(\n",
    "                    [done_paths, new_paths], \n",
    "                    axis= 0 , \n",
    "                    ignore_index=True\n",
    "                ),\n",
    "            file_name\n",
    "            )\n",
    "            del new_paths\n",
    "        del to_do_goals, done_paths, file_name    \n",
    "        \n",
    "    else:\n",
    "        joblib.dump(\n",
    "            get_path_from_start(start, goal_nodes),\n",
    "            file_name\n",
    "        )\n",
    "        del file_name\n",
    "    # break\n",
    "\n"
   ]
  },
  {
   "attachments": {},
   "cell_type": "markdown",
   "metadata": {},
   "source": [
    "---------------------------------------"
   ]
  }
 ],
 "metadata": {
  "kernelspec": {
   "display_name": "ev-motion",
   "language": "python",
   "name": "python3"
  },
  "language_info": {
   "codemirror_mode": {
    "name": "ipython",
    "version": 3
   },
   "file_extension": ".py",
   "mimetype": "text/x-python",
   "name": "python",
   "nbconvert_exporter": "python",
   "pygments_lexer": "ipython3",
   "version": "3.9.16"
  },
  "orig_nbformat": 4
 },
 "nbformat": 4,
 "nbformat_minor": 2
}
