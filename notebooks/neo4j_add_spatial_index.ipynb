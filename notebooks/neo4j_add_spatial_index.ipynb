{
 "cells": [
  {
   "attachments": {},
   "cell_type": "markdown",
   "metadata": {},
   "source": [
    "#### Génération d'un index \"point\" spatial sous Neo4j pour tous les objets"
   ]
  },
  {
   "attachments": {},
   "cell_type": "markdown",
   "metadata": {},
   "source": [
    "Objectifs :\n",
    "\n",
    "- Génération d'un index spatial pour tous les objets CITY, ROAD_POINT, et NATIONAL ROAD_POINT"
   ]
  },
  {
   "cell_type": "code",
   "execution_count": 1,
   "metadata": {},
   "outputs": [],
   "source": [
    "import geopandas as gpd\n",
    "import pandas as pd\n",
    "import geopy.distance\n",
    "import os\n",
    "import numpy as np\n",
    "import matplotlib.pyplot as plt\n",
    "import plotly.express as px\n",
    "import copy\n",
    "import joblib\n",
    "\n",
    "from neo4j import GraphDatabase, basic_auth"
   ]
  },
  {
   "cell_type": "code",
   "execution_count": 2,
   "metadata": {},
   "outputs": [],
   "source": [
    "def create_spatial_index(tx, entity):\n",
    "\n",
    "    query = \"  MATCH (n1:\" + entity + \") \\\n",
    "            SET n1.location = point({longitude:n1.x, latitude:n1.y}) \\\n",
    "            RETURN count(n1) AS count\"\n",
    "\n",
    "    result = tx.run(query)\n",
    "    return result.data()"
   ]
  },
  {
   "cell_type": "code",
   "execution_count": 3,
   "metadata": {},
   "outputs": [],
   "source": [
    "def change_type_string_float(tx, entity):\n",
    "\n",
    "    query = \"  MATCH (n1:\" + entity + \") \\\n",
    "            SET n1.x = toFloat(n1.x) \\\n",
    "            SET n1.y = toFloat(n1.y) \\\n",
    "            RETURN count(n1) AS count\"\n",
    "\n",
    "    result = tx.run(query)\n",
    "    return result.data()"
   ]
  },
  {
   "cell_type": "code",
   "execution_count": 4,
   "metadata": {},
   "outputs": [],
   "source": [
    "def create_index_road_point(tx):\n",
    "    query = \"  CREATE INDEX road_index \\\n",
    "            FOR (n:ROAD_POINT) \\\n",
    "            ON (n.x, n.y) \"\n",
    "\n",
    "    result = tx.run(query)\n",
    "    return result.data()"
   ]
  },
  {
   "cell_type": "code",
   "execution_count": 8,
   "metadata": {},
   "outputs": [],
   "source": [
    "def create_spatial_index_national_point(tx):\n",
    "\n",
    "    query = \"  MATCH ()-[r:LINKED_TO]-() \\\n",
    "            SET r.location = point({longitude:r.x_1, latitude:r.y_1}) \\\n",
    "            RETURN count(r) AS count\"\n",
    "\n",
    "    result = tx.run(query)\n",
    "    return result.data()"
   ]
  },
  {
   "cell_type": "code",
   "execution_count": 11,
   "metadata": {},
   "outputs": [],
   "source": [
    "def create_spatial_index_national_point_2(tx):\n",
    "\n",
    "    query = \"  MATCH ()-[r:LINKED_TO]-() \\\n",
    "            SET r.location_2 = point({longitude:r.x_2, latitude:r.y_2}) \\\n",
    "            RETURN count(r) AS count\"\n",
    "\n",
    "    result = tx.run(query)\n",
    "    return result.data()"
   ]
  },
  {
   "cell_type": "code",
   "execution_count": 13,
   "metadata": {},
   "outputs": [],
   "source": [
    "def create_spatial_index_national_point_center(tx):\n",
    "\n",
    "    query = \"  MATCH ()-[r:LINKED_TO]-() \\\n",
    "            SET r.location_center = point({longitude:r.x_center, latitude:r.y_center}) \\\n",
    "            RETURN count(r) AS count\"\n",
    "\n",
    "    result = tx.run(query)\n",
    "    return result.data()"
   ]
  },
  {
   "cell_type": "code",
   "execution_count": 5,
   "metadata": {},
   "outputs": [],
   "source": [
    "PASSWORD_NEO4J = 'passwordneo4j'"
   ]
  },
  {
   "cell_type": "code",
   "execution_count": 6,
   "metadata": {},
   "outputs": [],
   "source": [
    "driver = GraphDatabase.driver(\n",
    "  \"bolt://localhost:7687\",\n",
    "  auth=basic_auth(\"neo4j\", PASSWORD_NEO4J))"
   ]
  },
  {
   "attachments": {},
   "cell_type": "markdown",
   "metadata": {},
   "source": [
    "Add index for communes :"
   ]
  },
  {
   "cell_type": "code",
   "execution_count": null,
   "metadata": {},
   "outputs": [],
   "source": [
    "with driver.session() as session:\n",
    "\n",
    "    count_list = []\n",
    "\n",
    "    result = session.execute_write(create_spatial_index, 'CITY')\n",
    "\n",
    "driver.close()"
   ]
  },
  {
   "cell_type": "code",
   "execution_count": 7,
   "metadata": {},
   "outputs": [
    {
     "name": "stdout",
     "output_type": "stream",
     "text": [
      "Total Numbers of index created : 34460\n"
     ]
    }
   ],
   "source": [
    "nb_nodes = result[0]['count']\n",
    "                \n",
    "print(f'Total Numbers of index created : {nb_nodes}')"
   ]
  },
  {
   "attachments": {},
   "cell_type": "markdown",
   "metadata": {},
   "source": [
    "Add index for road_point :"
   ]
  },
  {
   "attachments": {},
   "cell_type": "markdown",
   "metadata": {},
   "source": [
    "Before that, we must convert x and y coords to float..."
   ]
  },
  {
   "cell_type": "code",
   "execution_count": 14,
   "metadata": {},
   "outputs": [
    {
     "name": "stdout",
     "output_type": "stream",
     "text": [
      "Total Numbers of index created : 523308\n"
     ]
    }
   ],
   "source": [
    "with driver.session() as session:\n",
    "\n",
    "    count_list = []\n",
    "\n",
    "    result = session.execute_write(change_type_string_float, 'ROAD_POINT')\n",
    "\n",
    "driver.close()\n",
    "\n",
    "nb_points = result[0]['count']\n",
    "                \n",
    "print(f'Total Numbers of index created : {nb_points}')"
   ]
  },
  {
   "cell_type": "code",
   "execution_count": 15,
   "metadata": {},
   "outputs": [
    {
     "name": "stdout",
     "output_type": "stream",
     "text": [
      "Total Numbers of index created : 523308\n"
     ]
    }
   ],
   "source": [
    "with driver.session() as session:\n",
    "\n",
    "    count_list = []\n",
    "\n",
    "    result = session.execute_write(create_spatial_index, 'ROAD_POINT')\n",
    "\n",
    "driver.close()\n",
    "\n",
    "nb_points = result[0]['count']\n",
    "                \n",
    "print(f'Total Numbers of index created : {nb_points}')"
   ]
  },
  {
   "attachments": {},
   "cell_type": "markdown",
   "metadata": {},
   "source": [
    "Moreover, We must create index for road points..."
   ]
  },
  {
   "cell_type": "code",
   "execution_count": 9,
   "metadata": {},
   "outputs": [],
   "source": [
    "with driver.session() as session:\n",
    "\n",
    "    count_list = []\n",
    "\n",
    "    result = session.execute_write(create_spatial_index_national_point)\n",
    "\n",
    "driver.close()"
   ]
  },
  {
   "cell_type": "code",
   "execution_count": 10,
   "metadata": {},
   "outputs": [
    {
     "data": {
      "text/plain": [
       "[{'count': 11916}]"
      ]
     },
     "execution_count": 10,
     "metadata": {},
     "output_type": "execute_result"
    }
   ],
   "source": [
    "result"
   ]
  },
  {
   "cell_type": "code",
   "execution_count": 12,
   "metadata": {},
   "outputs": [],
   "source": [
    "with driver.session() as session:\n",
    "\n",
    "    count_list = []\n",
    "\n",
    "    result = session.execute_write(create_spatial_index_national_point_2)\n",
    "\n",
    "driver.close()"
   ]
  },
  {
   "cell_type": "code",
   "execution_count": 14,
   "metadata": {},
   "outputs": [],
   "source": [
    "with driver.session() as session:\n",
    "\n",
    "    count_list = []\n",
    "\n",
    "    result = session.execute_write(create_spatial_index_national_point_center)\n",
    "\n",
    "driver.close()"
   ]
  }
 ],
 "metadata": {
  "kernelspec": {
   "display_name": "ECartoMobile",
   "language": "python",
   "name": "python3"
  },
  "language_info": {
   "codemirror_mode": {
    "name": "ipython",
    "version": 3
   },
   "file_extension": ".py",
   "mimetype": "text/x-python",
   "name": "python",
   "nbconvert_exporter": "python",
   "pygments_lexer": "ipython3",
   "version": "3.11.3"
  },
  "orig_nbformat": 4
 },
 "nbformat": 4,
 "nbformat_minor": 2
}
