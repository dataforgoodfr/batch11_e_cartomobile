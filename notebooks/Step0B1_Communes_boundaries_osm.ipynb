{
 "cells": [
  {
   "attachments": {},
   "cell_type": "markdown",
   "metadata": {},
   "source": [
    "Auteur: Michaël Leroy\n",
    "\n",
    "Ajout des coordonnées de la Mairie de chaque commune au decoupage administratif\n",
    "\n",
    "\n",
    "[+] Méthodologie\n",
    "\n",
    "    - Récupération des osmid des communes pour eviter le 'telescopage' des objets dans les graphs\n",
    "    - Récupération du point central de la commune en remplacement des centroids des polygones:\n",
    "        * centré sur une zone habitée et du coup route qui passe pas loin\n",
    "\n",
    "\n",
    "[-] Long mais fait qu'une seule fois et réutilisable pour toutes les cartes    cartes de l'app les marqueurs seront placés en zone habitée (pas loin de la mairie à la campagne)\n"
   ]
  },
  {
   "cell_type": "code",
   "execution_count": null,
   "metadata": {},
   "outputs": [],
   "source": [
    "class CFG:\n",
    "    area = [\n",
    "        'Auvergne-Rhône-Alpes',\n",
    "    'Bourgogne-Franche-Comté',\n",
    "    'Brittany',\n",
    "    'Centre-Val de Loire',\n",
    "    'Grand Est',\n",
    "    'Hauts-de-France',\n",
    "    'Île-de-France',\n",
    "    'Normandie',\n",
    "    'Nouvelle-Aquitaine',\n",
    "    'Occitanie',\n",
    "    'Pays de la Loire',\n",
    "    'Provence-Alpes-Côte d\\'Azur'\n",
    "]\n",
    "    area_name = 'france'      #'_'.join(area)\n",
    "\n",
    "    \n",
    "\n",
    "    bornes = False\n",
    "\n",
    "    viz = False\n",
    "\n",
    "    roads = (\n",
    "        '|motorway'\n",
    "        '|motorway_link'\n",
    "        '|trunk'\n",
    "        '|trunk_link'\n",
    "        '|primary'\n",
    "        '|primary_link'\n",
    "        '|secondary'\n",
    "        '|secondary_link'\n",
    "        '|tertiary'\n",
    "         '|tertiary_link'\n",
    "    )\n",
    "\n",
    "        # '|primary'\n",
    "        # '|motorway_link'\n",
    "        \n",
    "        # '|primary_link'\n",
    "\n",
    "        # '|secondary'\n",
    "        # '|secondary_link'\n",
    "        \n",
    "        \n",
    "        #  '|tertiary'\n",
    "        #  '|tertiary_link'\n",
    "\n",
    "    data_path = './osm_datas/'\n",
    "\n",
    "import joblib\n",
    "joblib.dump(CFG.area, 'CFG.pkl')    \n",
    "import os\n",
    "os.environ['USE_PYGEOS'] = '0'\n",
    "%load_ext autoreload\n",
    "%autoreload\n",
    "\n",
    "\n",
    "\n",
    "%aimport OSM_helper_functions\n",
    "%aimport OCM_helper_functions\n",
    "\n",
    "import os\n",
    "os.environ['USE_PYGEOS'] = '0'\n",
    "import geopandas as gpd\n",
    "import osmnx as ox\n",
    "import networkx as nx\n",
    "from tqdm.notebook import tqdm\n",
    "from OSM_helper_functions import *\n",
    "from OCM_helper_functions import *\n",
    "\n",
    "\n",
    "ox.settings.log_console=True\n",
    "ox.settings.use_cache=True\n",
    "''' To retrieve http data from OSMnx and cache them locally\n",
    "    before building graph. Raise and exception if requests\n",
    "    are all done. intercept then set to False and retry.'''\n",
    "# ox.settings.cache_only_mode=True \n",
    "\n",
    "Administratives = {\n",
    "    'Auvergne-Rhône-Alpes': ['Ain', 'Allier', 'Ardèche', 'Cantal', 'Drôme', 'Isère', 'Loire', 'Haute-Loire', 'Puy-de-Dôme', 'Rhône', 'Savoie', 'Haute-Savoie'],\n",
    "    'Bourgogne-Franche-Comté': ['Côte-d\\'Or', 'Doubs', 'Jura', 'Nièvre', 'Haute-Saône', 'Saône-et-Loire', 'Yonne', 'Territoire de Belfort'],\n",
    "    'Brittany': ['Côtes-d\\'Armor', 'Finistère', 'Ille-et-Vilaine', 'Morbihan'],\n",
    "    'Centre-Val de Loire': ['Cher', 'Eure-et-Loir', 'Indre', 'Indre-et-Loire', 'Loir-et-Cher', 'Loiret'],\n",
    "    # 'Corse': ['Corse-du-Sud', 'Haute-Corse'],\n",
    "    'Grand Est': ['Ardennes', 'Aube', 'Marne', 'Haute-Marne', 'Meurthe-et-Moselle', 'Meuse', 'Moselle', 'Bas-Rhin', 'Haut-Rhin', 'Vosges'],\n",
    "    'Hauts-de-France': ['Aisne', 'Nord', 'Oise', 'Pas-de-Calais', 'Somme'],\n",
    "    'Île-de-France': ['Paris', 'Seine-et-Marne', 'Yvelines', 'Essonne', 'Hauts-de-Seine', 'Seine-Saint-Denis', 'Val-de-Marne', 'Val-d\\'Oise'],\n",
    "    'Normandie': ['Calvados', 'Eure', 'Manche', 'Orne', 'Seine-Maritime'],\n",
    "    'Nouvelle-Aquitaine': ['Charente', 'Charente-Maritime', 'Corrèze', 'Creuse', 'Dordogne', 'Gironde', 'Landes', 'Lot-et-Garonne', 'Pyrénées-Atlantiques', 'Deux-Sèvres', 'Vienne', 'Haute-Vienne'],\n",
    "    'Occitanie': ['Ariège', 'Aude', 'Aveyron', 'Gard', 'Haute-Garonne', 'Gers', 'Hérault', 'Lot', 'Lozère', 'Hautes-Pyrénées', 'Pyrénées-Orientales', 'Tarn', 'Tarn-et-Garonne'],\n",
    "    'Pays de la Loire': ['Loire-Atlantique', 'Maine-et-Loire', 'Mayenne', 'Sarthe', 'Vendée'],\n",
    "    'Provence-Alpes-Côte d\\'Azur': ['Alpes-de-Haute-Provence', 'Hautes-Alpes', 'Alpes-Maritimes', 'Bouches-du-Rhône', 'Var', 'Vaucluse']\n",
    "}\n",
    "\n",
    "Regions = [\n",
    "    'Auvergne-Rhône-Alpes',\n",
    "    'Bourgogne-Franche-Comté',\n",
    "    'Brittany',\n",
    "    'Centre-Val de Loire',\n",
    "    # 'Corse',\n",
    "    'Grand Est',\n",
    "    'Hauts-de-France',\n",
    "    'Île-de-France',\n",
    "    'Normandie',\n",
    "    'Nouvelle-Aquitaine',\n",
    "    'Occitanie',\n",
    "    'Pays de la Loire',\n",
    "    'Provence-Alpes-Côte d\\'Azur'\n",
    "]\n",
    "\n",
    "Name2num = {\n",
    "    'Ain': '01',\n",
    "    'Aisne': '02',\n",
    "    'Allier': '03',\n",
    "    'Alpes-de-Haute-Provence': '04',\n",
    "    'Hautes-Alpes': '05',\n",
    "    'Alpes-Maritimes': '06',\n",
    "    'Ardèche': '07',\n",
    "    'Ardennes': '08',\n",
    "    'Ariège': '09',\n",
    "    'Aube': '10',\n",
    "    'Aude': '11',\n",
    "    'Aveyron': '12',\n",
    "    'Bouches-du-Rhône': '13',\n",
    "    'Calvados': '14',\n",
    "    'Cantal': '15',\n",
    "    'Charente': '16',\n",
    "    'Charente-Maritime': '17',\n",
    "    'Cher': '18',\n",
    "    'Corrèze': '19',\n",
    "    # 'Corse-du-Sud': '2A',\n",
    "    # 'Haute-Corse': '2B',\n",
    "    'Côte-d\\'Or': '21',\n",
    "    'Côtes-d\\'Armor': '22',\n",
    "    'Creuse': '23',\n",
    "    'Dordogne': '24',\n",
    "    'Doubs': '25',\n",
    "    'Drôme': '26',\n",
    "    'Eure': '27',\n",
    "    'Eure-et-Loir': '28',\n",
    "    'Finistère': '29',\n",
    "    'Gard': '30',\n",
    "    'Haute-Garonne': '31',\n",
    "    'Gers': '32',\n",
    "    'Gironde': '33',\n",
    "    'Hérault': '34',\n",
    "    'Ille-et-Vilaine': '35',\n",
    "    'Indre': '36',\n",
    "    'Indre-et-Loire': '37',\n",
    "    'Isère': '38',\n",
    "    'Jura': '39',\n",
    "    'Landes': '40',\n",
    "    'Loir-et-Cher': '41',\n",
    "    'Loire': '42',\n",
    "    'Haute-Loire': '43',\n",
    "    'Loire-Atlantique': '44',\n",
    "    'Loiret': '45',\n",
    "    'Lot': '46',\n",
    "    'Lot-et-Garonne': '47',\n",
    "    'Lozère': '48',\n",
    "    'Maine-et-Loire': '49',\n",
    "    'Manche': '50',\n",
    "    'Marne': '51',\n",
    "    'Haute-Marne': '52',\n",
    "    'Mayenne': '53',\n",
    "    'Meurthe-et-Moselle': '54',\n",
    "    'Meuse': '55',\n",
    "    'Morbihan': '56',\n",
    "    'Moselle': '57',\n",
    "    'Nièvre': '58',\n",
    "    'Nord': '59',\n",
    "    'Oise': '60',\n",
    "    'Orne': '61',\n",
    "    'Pas-de-Calais': '62',\n",
    "    'Puy-de-Dôme': '63',\n",
    "    'Pyrénées-Atlantiques': '64',\n",
    "    'Hautes-Pyrénées': '65',\n",
    "    'Pyrénées-Orientales': '66',\n",
    "    'Bas-Rhin': '67',\n",
    "    'Haut-Rhin': '68',\n",
    "    'Rhône': '69',\n",
    "    'Haute-Saône': '70',\n",
    "    'Saône-et-Loire': '71',\n",
    "    'Sarthe': '72',\n",
    "    'Savoie': '73',\n",
    "    'Haute-Savoie': '74',\n",
    "    'Paris': '75',\n",
    "    'Seine-Maritime': '76',\n",
    "    'Seine-et-Marne': '77',\n",
    "    'Yvelines': '78',\n",
    "    'Deux-Sèvres': '79',\n",
    "    'Somme': '80',\n",
    "    'Tarn': '81',\n",
    "    'Tarn-et-Garonne': '82',\n",
    "    'Var': '83',\n",
    "    'Vaucluse': '84',\n",
    "    'Vendée': '85',\n",
    "    'Vienne': '86',\n",
    "    'Haute-Vienne': '87',\n",
    "    'Vosges': '88',\n",
    "    'Yonne': '89',\n",
    "    'Territoire de Belfort': '90',\n",
    "    'Essonne': '91',\n",
    "    'Hauts-de-Seine': '92',\n",
    "    'Seine-Saint-Denis': '93',\n",
    "    'Val-de-Marne': '94',\n",
    "    'Val-d\\'Oise': '95'\n",
    "}\n",
    "\n",
    "\n",
    "AREA = []\n",
    "for area in CFG.area:\n",
    "    AREA.extend(Administratives[area] )\n",
    "AREA"
   ]
  },
  {
   "cell_type": "code",
   "execution_count": null,
   "metadata": {},
   "outputs": [],
   "source": [
    "AREA = []\n",
    "for area in CFG.area:\n",
    "    AREA.extend(Administratives[area] )\n",
    "AREA"
   ]
  },
  {
   "cell_type": "code",
   "execution_count": null,
   "metadata": {},
   "outputs": [],
   "source": [
    "def missing(df):\n",
    "    return pd.DataFrame({'column_name': df.columns,\n",
    "                         'percent_missing': df.isnull().sum() * 100 / len(df)\n",
    "                         }).sort_values(by='percent_missing',ascending=True)"
   ]
  },
  {
   "attachments": {},
   "cell_type": "markdown",
   "metadata": {},
   "source": [
    "## Get communes"
   ]
  },
  {
   "cell_type": "code",
   "execution_count": null,
   "metadata": {},
   "outputs": [],
   "source": [
    "# # Pour charger le fichier utilisé dans le workflow \n",
    "\n",
    "# file_name = 'decoupage_administratif'\n",
    "# ext = '.json'\n",
    "# url ='https://www.data.gouv.fr/fr/datasets/r/fb3580f6-e875-408d-809a-ad22fc418581'\n",
    "# # temp_path = 'temp_unzip'\n",
    "\n",
    "\n",
    "# try: \n",
    "#     print('Loading data from local file...')\n",
    "#     communes = gpd.read_feather(os.path.join(data_path,file_name + '.feather'))\n",
    "# except:\n",
    "#     print('Loading data from url...')\n",
    "\n",
    "#     s = requests.get(url).content\n",
    "#     communes = pd.read_csv(io.StringIO(s.decode('utf-8')))\n",
    "    \n",
    "#     print('Saving data to local file...')\n",
    "#     communes.to_feather(os.path.join(data_path,file_name + '.feather'))\n",
    "\n",
    "# communes.info()\n",
    "\n",
    "\n"
   ]
  },
  {
   "cell_type": "code",
   "execution_count": null,
   "metadata": {},
   "outputs": [],
   "source": [
    "data_path = './datas'\n",
    "file_name = 'decoupage_administratif'\n",
    "communes = gpd.read_feather(os.path.join(data_path,file_name + '.feather'))"
   ]
  },
  {
   "cell_type": "code",
   "execution_count": null,
   "metadata": {},
   "outputs": [],
   "source": [
    "communes.head(2)"
   ]
  },
  {
   "cell_type": "code",
   "execution_count": null,
   "metadata": {},
   "outputs": [],
   "source": [
    "import requests\n",
    "from requests.adapters import HTTPAdapter\n",
    "import urllib3\n",
    "from urllib3 import Retry\n",
    "\n",
    "session = requests.Session()\n",
    "headers={'User-Agent': 'Mozilla/5.0 (Windows NT 10.0; Win64; x64) AppleWebKit/537.36 (KHTML, like Gecko) Chrome/102.0.0.0 Safari/537.36'}\n",
    "session.headers.update(headers)\n",
    "adapter = HTTPAdapter(max_retries=Retry(total=10, backoff_factor=1))\n",
    "session.mount(\"http://\", adapter)\n",
    "session.mount(\"https://\", adapter)\n",
    "\n",
    "def get_(url):\n",
    "    response = session.get(url.strip())\n",
    "    return response.json()\n",
    "# GET COORDINATES FROM CITY NAME\n",
    "\n",
    "def get_place(city, county, country):\n",
    "    url  =  'https://nominatim.openstreetmap.org/search?'\n",
    "    # url += f'q={adress}%2C+'\n",
    "    url += f'city={city}&'\n",
    "    url += f'country={country}&'\n",
    "    url += f'county={county}&'\n",
    "\n",
    "\n",
    "    url +=  'format=json' #&polygon_geojson=0'\n",
    "    return get_(url)\n"
   ]
  },
  {
   "cell_type": "code",
   "execution_count": null,
   "metadata": {},
   "outputs": [],
   "source": [
    "communes.query('libgeo == \"Couvrot\"')"
   ]
  },
  {
   "cell_type": "code",
   "execution_count": null,
   "metadata": {},
   "outputs": [],
   "source": [
    "get_place('Couvrot','Marne',  'France')"
   ]
  },
  {
   "cell_type": "code",
   "execution_count": null,
   "metadata": {},
   "outputs": [],
   "source": [
    "# nodes = joblib.load( os.path.join(CFG.data_path, f'[{CFG.area_name}]Gnodes_with_known_tmja_mthd1.pkl'))\n",
    "# nodes.head(1)"
   ]
  },
  {
   "cell_type": "code",
   "execution_count": null,
   "metadata": {},
   "outputs": [],
   "source": [
    "#\tcodgeo\tdep\treg\txcl2154\tycl2154\tlibgeo\tgeometry\n",
    "#0\t01001\t01\t84\t848241\t6563021\tL'Abergement-Clémenciat\tPOLYGON ((4.90497 46.16079, \n",
    "\n",
    "# from shapely import Point\n",
    "# ox.projection.project_geometry(\n",
    "#     Point(848241,6563021) , \n",
    "#     crs=2154, to_crs=4326, to_latlong=False)"
   ]
  },
  {
   "cell_type": "code",
   "execution_count": null,
   "metadata": {},
   "outputs": [],
   "source": [
    "Num2name = {v: k for k, v in Name2num.items()}\n",
    "communes['osmid'] = None\n",
    "communes['x'] = None\n",
    "communes['y'] = None\n",
    "# communes['point'] = None\n",
    "errors = []\n",
    "total = communes.shape[0]\n",
    "for n, row in communes.iterrows():\n",
    "    print(f'{(n + 1) / total:.2%} ', end=' '*50 + '\\r')\n",
    "    # print(row,'dep name:'+Num2name[row.dep])\n",
    "    try:\n",
    "        data = get_place(row.libgeo, Num2name[row.dep], 'france')[0]\n",
    "        communes.loc[n,'osmid'] = data['osm_id']\n",
    "        communes.loc[n,'y'] = data['lon']\n",
    "        communes.loc[n,'x'] = data['lat']\n",
    "    except :     \n",
    "        errors.append(n)\n",
    "    # break\n",
    "    \n",
    "print(f'Errors: {len(errors)}')\n",
    "communes.sample(10)"
   ]
  },
  {
   "cell_type": "code",
   "execution_count": 19,
   "metadata": {},
   "outputs": [],
   "source": [
    "data_path = './datas'\n",
    "file_name = 'decoupage_administratif'\n",
    "communes = gpd.read_feather(os.path.join(data_path,f'[{CFG.area_name}]{file_name}_osmid_centre.feather'))"
   ]
  },
  {
   "cell_type": "code",
   "execution_count": 22,
   "metadata": {},
   "outputs": [
    {
     "name": "stderr",
     "output_type": "stream",
     "text": [
      "C:\\Users\\demo\\AppData\\Roaming\\Python\\Python39\\site-packages\\pandas\\core\\dtypes\\astype.py:189: RuntimeWarning: invalid value encountered in cast\n",
      "  return values.astype(dtype, copy=copy)\n"
     ]
    },
    {
     "data": {
      "text/plain": [
       "0          142240\n",
       "1          147124\n",
       "2          145704\n",
       "3          148821\n",
       "4          146573\n",
       "           ...   \n",
       "34820      450627\n",
       "34821      534505\n",
       "34822      138530\n",
       "34823      374081\n",
       "34953    12124452\n",
       "Name: osmid, Length: 34822, dtype: object"
      ]
     },
     "execution_count": 22,
     "metadata": {},
     "output_type": "execute_result"
    }
   ],
   "source": [
    "temp = communes.dropna(subset='osmid')\n",
    "temp.osmid.astype(int).astype(str)"
   ]
  },
  {
   "cell_type": "code",
   "execution_count": 23,
   "metadata": {},
   "outputs": [
    {
     "name": "stderr",
     "output_type": "stream",
     "text": [
      "C:\\Users\\demo\\AppData\\Roaming\\Python\\Python39\\site-packages\\pandas\\core\\dtypes\\astype.py:189: RuntimeWarning: invalid value encountered in cast\n",
      "  return values.astype(dtype, copy=copy)\n"
     ]
    },
    {
     "data": {
      "text/plain": [
       "['./datas\\\\[france]mapper_libgeo_to_osmid.pkl']"
      ]
     },
     "execution_count": 23,
     "metadata": {},
     "output_type": "execute_result"
    }
   ],
   "source": [
    "# Mappers to link osmids to commune names\n",
    "\n",
    "temp = communes.dropna(subset='osmid')\n",
    "\n",
    "# Dict to map osmid  -> communes names\n",
    "joblib.dump(\n",
    "    dict(zip(temp.osmid.astype(int).astype(str), temp.libgeo.str.upper())),\n",
    "    os.path.join(data_path,f'[{CFG.area_name}]mapper_osmid_to_libgeo.pkl')\n",
    ")\n",
    "\n",
    "# Dict to map communes names  -> osmid \n",
    "joblib.dump(\n",
    "    dict(zip(temp.libgeo.str.upper(), temp.osmid.astype(int).astype(str))),\n",
    "    os.path.join(data_path,f'[{CFG.area_name}]mapper_libgeo_to_osmid.pkl')\n",
    ")"
   ]
  },
  {
   "attachments": {},
   "cell_type": "markdown",
   "metadata": {},
   "source": [
    "# Save "
   ]
  },
  {
   "cell_type": "code",
   "execution_count": null,
   "metadata": {},
   "outputs": [],
   "source": [
    "communes.to_feather(os.path.join(data_path,f'[{CFG.area_name}]{file_name}_osmid_centre.feather'))"
   ]
  },
  {
   "cell_type": "code",
   "execution_count": null,
   "metadata": {},
   "outputs": [],
   "source": [
    "data_path = './datas'\n",
    "file_name = 'decoupage_administratif'\n",
    "communes = gpd.read_feather(os.path.join(data_path,f'[{CFG.area_name}]{file_name}_osmid_centre.feather'))"
   ]
  },
  {
   "cell_type": "code",
   "execution_count": null,
   "metadata": {},
   "outputs": [],
   "source": [
    "communes['tmp'] = communes.x"
   ]
  },
  {
   "cell_type": "code",
   "execution_count": null,
   "metadata": {},
   "outputs": [],
   "source": [
    "communes.x = communes.y"
   ]
  },
  {
   "cell_type": "code",
   "execution_count": null,
   "metadata": {},
   "outputs": [],
   "source": [
    "communes.y = communes.tmp"
   ]
  },
  {
   "cell_type": "code",
   "execution_count": null,
   "metadata": {},
   "outputs": [],
   "source": [
    "communes.drop('tmp', axis=1, inplace=True)"
   ]
  },
  {
   "cell_type": "code",
   "execution_count": null,
   "metadata": {},
   "outputs": [],
   "source": [
    "from shapely import box\n",
    "\n",
    "box(-10,40,10,60)\n",
    "\n",
    "keys= Num2name.keys()\n",
    "to_fix = communes.loc[errors].query(\"dep in @keys\")\n",
    "to_fix"
   ]
  },
  {
   "attachments": {},
   "cell_type": "markdown",
   "metadata": {},
   "source": [
    "seulement 4 communes à localiser sur maps et à corriger manuellement avec Nominatim\n",
    "\n",
    "https://nominatim.openstreetmap.org/ui/search.html?q=Vimartin-sur-Orthe+france+metropolitaine&countrycodes=fr\n",
    "\n",
    "    index 5228  codgeo 16052   Bors (Canton de Tude-et-Lavalette) 45.34241 0.14665 OSMID 555489493\n",
    "    index 5229  codgeo 16053   Bors (Canton de Charente-Sud) 45.32810  -0.19941    OSMID 125363211\n",
    "    index 10916 codgeo 30014   Arpaillargues-et-Aureillac 44.000480, 4.368443      OSMID 9096959355\n",
    "    index 34954 codgeo 53249   Vimartin sur ORTHE 48.21385  -0.21375               OSMID 41978755\n"
   ]
  },
  {
   "attachments": {},
   "cell_type": "markdown",
   "metadata": {},
   "source": [
    "------------------------------"
   ]
  },
  {
   "cell_type": "code",
   "execution_count": null,
   "metadata": {},
   "outputs": [],
   "source": [
    "row = to_fix.iloc[2]\n",
    "print(row.libgeo, Num2name[row.dep])\n",
    "get_place(row.libgeo, Num2name[row.dep], 'france')[0]"
   ]
  },
  {
   "cell_type": "code",
   "execution_count": null,
   "metadata": {},
   "outputs": [],
   "source": [
    "# Check if errors are fixable\n",
    "errors_2 = []\n",
    "total = communes.loc[errors].shape[0]\n",
    "for n, row in communes.loc[errors].iterrows():\n",
    "    print(f'{(n + 1) } ', end=' '*50 + '\\r')\n",
    "    # print(row,'dep name:'+Num2name[row.dep])\n",
    "    try:\n",
    "        data = get_place(row.libgeo, Num2name[row.dep], 'france')[0]\n",
    "        print(data)\n",
    "        communes.loc[n,'osmid'] = data['osm_id']\n",
    "        communes.loc[n,'x'] = data['lon']\n",
    "        communes.loc[n,'y'] = data['lat']\n",
    "    except :     \n",
    "        errors_2.append(n)\n",
    "    # break\n",
    "    \n",
    "print(f'Errors: {len(errors_2)}')"
   ]
  },
  {
   "attachments": {},
   "cell_type": "markdown",
   "metadata": {},
   "source": [
    "# Fix errors"
   ]
  },
  {
   "attachments": {},
   "cell_type": "markdown",
   "metadata": {},
   "source": [
    "-------------------------------------"
   ]
  },
  {
   "cell_type": "code",
   "execution_count": null,
   "metadata": {},
   "outputs": [],
   "source": [
    "***************** Fin du traitement *****************"
   ]
  },
  {
   "attachments": {},
   "cell_type": "markdown",
   "metadata": {},
   "source": [
    "## Get services publics"
   ]
  },
  {
   "cell_type": "code",
   "execution_count": null,
   "metadata": {},
   "outputs": [],
   "source": [
    "data_path = './osm_datas'\n",
    "file_name = 'datatourisme-place-20230529'\n",
    "\n",
    "# tourism = gpd.read_file(os.path.join(data_path,file_name + '.csv'))\n",
    "# tourism.to_feather(os.path.join(data_path,file_name + '.feather'))\n",
    "\n",
    "\n",
    "\n",
    "tourism = gpd.read_feather(os.path.join(data_path,file_name + '.feather'))\n",
    "display(tourism.info())\n",
    "tourism.shape"
   ]
  },
  {
   "cell_type": "code",
   "execution_count": null,
   "metadata": {},
   "outputs": [],
   "source": [
    "test = ox.geometries.geometries_from_address('larzicourt' + ', Metropolitan France',\n",
    "                                        tags={'amenity':'townhall '}\n",
    "                                        ) \n",
    "missing(test)"
   ]
  },
  {
   "cell_type": "code",
   "execution_count": null,
   "metadata": {},
   "outputs": [],
   "source": [
    "test"
   ]
  },
  {
   "cell_type": "code",
   "execution_count": null,
   "metadata": {},
   "outputs": [],
   "source": [
    "# TODO: rename file with []\n",
    "file = os.path.join(CFG.data_path, f'[{CFG.area_name}]boundaries.feather')\n",
    "try:\n",
    "  boundaries = gpd.read_feather(file)\n",
    "except:\n",
    "    print('Datas not found')\n",
    "    boundaries = gpd.GeoDataFrame()\n",
    "    total = len(AREA)\n",
    "    for n, area in enumerate(AREA):\n",
    "      print(f'Datas retrieved for {area}: {n+1}/{total} ~ {(n+1) / total:.2%}')\n",
    "      boundaries = pd.concat(\n",
    "        [boundaries,\n",
    "         ox.geometries.geometries_from_place(area + ', Metropolitan France',\n",
    "                                        tags={'boundary':'administrative'}, \n",
    "                                     which_result=1, buffer_dist=None)\n",
    "                    #                  [['name', \n",
    "                    #            'geometry',\n",
    "                    #   ]]\n",
    "        ]\n",
    "      )\n",
    "    boundaries = boundaries[[\n",
    "      'boundary','geometry','admin_level'\n",
    "    ]]\n",
    "    boundaries.to_feather(file)                                  \n",
    "\n",
    "display(boundaries.info())\n",
    "# tourism_tags['amenity'].value_counts()   \n",
    "boundaries                                 "
   ]
  },
  {
   "cell_type": "code",
   "execution_count": null,
   "metadata": {},
   "outputs": [],
   "source": [
    "test = ox.geometries.geometries_from_place('marne' + ', Metropolitan France',\n",
    "                                        tags={'tourism': True}, \n",
    "                                     which_result=None, buffer_dist=None)\n",
    "missing(test)"
   ]
  },
  {
   "cell_type": "code",
   "execution_count": null,
   "metadata": {},
   "outputs": [],
   "source": [
    "file = os.path.join(CFG.data_path, f'[{CFG.area_name}]tourism_tags.feather')\n",
    "try:\n",
    "  tourism_tags = gpd.read_feather(file)\n",
    "except:\n",
    "    print('Datas not found')\n",
    "    tourism_tags = gpd.GeoDataFrame()\n",
    "    total = len(AREA)\n",
    "    for n, area in enumerate(AREA):\n",
    "      print(f'Datas retrieved for {area}: {n+1}/{total} ~ {(n+1) / total:.2%}')\n",
    "      tourism_tags = pd.concat(\n",
    "        [tourism_tags,\n",
    "         ox.geometries.geometries_from_place(area + ', Metropolitan France',\n",
    "                                        tags={'tourism': True}, \n",
    "                                     which_result=None, buffer_dist=None)\n",
    "                                     [['tourism', \n",
    "                               'geometry',\n",
    "                      ]]\n",
    "        ]\n",
    "      )\n",
    "   \n",
    "    tourism_tags.to_feather(file)                                  \n",
    "\n",
    "display(tourism_tags.info())\n",
    "display(tourism_tags['tourism'].value_counts())\n",
    "\n",
    "del tourism_tags"
   ]
  },
  {
   "cell_type": "code",
   "execution_count": null,
   "metadata": {},
   "outputs": [],
   "source": [
    "# TODO: get each commune Mairie coordinates"
   ]
  },
  {
   "cell_type": "code",
   "execution_count": null,
   "metadata": {},
   "outputs": [],
   "source": [
    "# TODO: merge decoupage with osm_id and Mairies coordinates"
   ]
  },
  {
   "cell_type": "code",
   "execution_count": null,
   "metadata": {},
   "outputs": [],
   "source": [
    "******* Fin du taritement des données **************\n"
   ]
  },
  {
   "cell_type": "code",
   "execution_count": null,
   "metadata": {},
   "outputs": [],
   "source": [
    "# Add isom_id to communes decoupage, for graph building\n",
    "\n",
    "import requests, io\n",
    "data_path = './datas'\n",
    "file_name = 'decoupage_administratif'\n",
    "ext = '.json'\n",
    "url ='https://www.data.gouv.fr/fr/datasets/r/fb3580f6-e875-408d-809a-ad22fc418581'\n",
    "\n",
    "\n",
    "# import requests\n",
    "# from requests.adapters import HTTPAdapter\n",
    "# import urllib3\n",
    "# from urllib3 import Retry\n",
    "\n",
    "# session = requests.Session()\n",
    "# headers={'User-Agent': 'Mozilla/5.0 (Windows NT 10.0; Win64; x64) AppleWebKit/537.36 (KHTML, like Gecko) Chrome/102.0.0.0 Safari/537.36'}\n",
    "# session.headers.update(headers)\n",
    "# adapter = HTTPAdapter(max_retries=Retry(total=10, backoff_factor=1))\n",
    "# session.mount(\"http://\", adapter)\n",
    "# session.mount(\"https://\", adapter)\n",
    "\n",
    "# def get_(url):\n",
    "#     response = session.get(url.strip())\n",
    "#     return response.json()\n",
    "# # GET COORDINATES FROM CITY NAME\n",
    "\n",
    "# def get_place_osmid(county,city, country):\n",
    "#     url  =  'https://nominatim.openstreetmap.org/search?'\n",
    "#     # url += f'q={adress}%2C+'\n",
    "#     url += f'city={city}&'\n",
    "#     url += f'country={country}&'\n",
    "#     url += f'county={county}&'\n",
    "\n",
    "\n",
    "#     url +=  'format=geojson'#&polygon_geojson=1'\n",
    "#     return get_(url)\n",
    "\n",
    "\n",
    "# def get_osm_infos(gdf):\n",
    "#     total = gdf.shape[0]\n",
    "#     for i, (n, row) in enumerate(gdf.iterrows()):\n",
    "#         print(f'{i/total:.2%}                   ', end='\\r')\n",
    "\n",
    "#         data = get_place_osmid('', row['libgeo'], 'France')\n",
    "\n",
    "#         try:\n",
    "#             gdf.loc[n, 'osm_id'] = data['features'][0]['properties']['osm_id']\n",
    "#         except:\n",
    "#             gdf.loc[n, 'osm_id'] = None\n",
    "#         try:\n",
    "#             gdf.loc[n, 'place_id'] = data['features'][0]['properties']['place_id']\n",
    "#         except:\n",
    "#             gdf.loc[n, 'place_id'] = None\n",
    "#         try:\n",
    "#             gdf.loc[n, 'place_rank'] = data['features'][0]['properties']['place_rank']\n",
    "#         except:\n",
    "#             gdf.loc[n, 'place_rank'] = None\n",
    "#         try:\n",
    "#             gdf.loc[n, 'display_name'] = data['features'][0]['properties']['display_name']\n",
    "#         except:\n",
    "#             gdf.loc[n, 'display_name'] = None\n",
    "#         try:\n",
    "#             gdf.loc[n, 'importance'] = data['features'][0]['properties']['importance']\n",
    "#         except:\n",
    "#             gdf.loc[n, 'importance'] = None\n",
    "            \n",
    "#     return gdf\n",
    "\n",
    "\n",
    "# try: \n",
    "#     print('Loading data from local file...')\n",
    "#     decoupage = gpd.read_feather(os.path.join(data_path,file_name + '.feather'))\n",
    "    \n",
    "# except:\n",
    "#     print('Loading data from url...')\n",
    "\n",
    "#     s = requests.get(url).content\n",
    "#     decoupage = pd.read_csv(io.StringIO(s.decode('utf-8')))\n",
    "    \n",
    "#     print('Saving data to local file...')\n",
    "#     decoupage.to_feather(os.path.join(data_path,file_name + '.feather'))\n",
    "\n",
    "# # Check if osm_id is present and complete gdf if needed\n",
    "# if 'osm_id' not in decoupage.columns:\n",
    "#     print('Adding osm feature (approx 5 hours to complete!!!)')\n",
    "#     decoupage = get_osm_infos(decoupage)\n",
    "#     print('Saving data to local file...')\n",
    "#     decoupage.to_feather(os.path.join(data_path,file_name + '.feather'))\n",
    "\n",
    "# display(decoupage.info())\n",
    "# display(decoupage.head())"
   ]
  },
  {
   "cell_type": "code",
   "execution_count": null,
   "metadata": {},
   "outputs": [],
   "source": [
    "data_path = './datas'\n",
    "file_name = 'decoupage_administratif'\n",
    "decoupage = gpd.read_feather(os.path.join(data_path,file_name + '.feather'))"
   ]
  },
  {
   "cell_type": "code",
   "execution_count": null,
   "metadata": {},
   "outputs": [],
   "source": [
    "decoupage.plot()"
   ]
  },
  {
   "cell_type": "code",
   "execution_count": null,
   "metadata": {},
   "outputs": [],
   "source": [
    "# import requests\n",
    "# from requests.adapters import HTTPAdapter\n",
    "# import urllib3\n",
    "# from urllib3 import Retry\n",
    "\n",
    "# session = requests.Session()\n",
    "# headers={'User-Agent': 'Mozilla/5.0 (Windows NT 10.0; Win64; x64) AppleWebKit/537.36 (KHTML, like Gecko) Chrome/102.0.0.0 Safari/537.36'}\n",
    "# session.headers.update(headers)\n",
    "# adapter = HTTPAdapter(max_retries=Retry(total=10, backoff_factor=1))\n",
    "# session.mount(\"http://\", adapter)\n",
    "# session.mount(\"https://\", adapter)\n",
    "\n",
    "# def get_(url):\n",
    "#     response = session.get(url.strip())\n",
    "#     return response.json()\n",
    "# # GET COORDINATES FROM CITY NAME\n",
    "\n",
    "# def get_place_osmid(county,city, country):\n",
    "#     url  =  'https://nominatim.openstreetmap.org/search?'\n",
    "#     # url += f'q={adress}%2C+'\n",
    "#     url += f'city={city}&'\n",
    "#     url += f'country={country}&'\n",
    "#     url += f'county={county}&'\n",
    "\n",
    "\n",
    "#     url +=  'format=geojson'#&polygon_geojson=1'\n",
    "#     return get_(url)\n"
   ]
  },
  {
   "cell_type": "code",
   "execution_count": null,
   "metadata": {},
   "outputs": [],
   "source": [
    "# import concurrent.futures\n",
    "\n",
    "\n",
    "\n",
    "# def get_osm_infos(gdf):\n",
    "#     total = gdf.shape[0]\n",
    "#     for i, (n, row) in enumerate(gdf.iterrows()):\n",
    "#         print(f'{i/total:.2%}                   ', end='\\r')\n",
    "#         data = get_place_osmid('', row['libgeo'], 'France')\n",
    "#         gdf.loc[n, 'osm_id'] = data['features'][0]['properties']['osm_id']\n",
    "#         gdf.loc[n, 'place_id'] = data['features'][0]['properties']['place_id']\n",
    "#         gdf.loc[n, 'place_rank'] = data['features'][0]['properties']['place_rank']\n",
    "#         gdf.loc[n, 'display_name'] = data['features'][0]['properties']['display_name']\n",
    "#         gdf.loc[n, 'importance'] = data['features'][0]['properties']['importance']\n",
    "#     return gdf\n",
    "\n",
    "\n",
    "# def multi_process_osmid(gdf, processes=4):\n",
    "#     # Split the DataFrame into four equal chunks\n",
    "#     num_chunks = processes\n",
    "#     chunk_size = len(gdf) // num_chunks\n",
    "#     gdf_chunks = [gdf[i:i+chunk_size].copy() for i in range(0, len(gdf), chunk_size)]\n",
    "\n",
    "#     # Create a ThreadPoolExecutor to process chunks asynchronously\n",
    "#     with concurrent.futures.ThreadPoolExecutor() as executor:\n",
    "#         # Submit the processing function for each chunk\n",
    "#         futures = [executor.submit(get_osm_infos, chunk) for chunk in gdf_chunks]\n",
    "\n",
    "#         # Wait for all futures to complete\n",
    "#         concurrent.futures.wait(futures)\n",
    "\n",
    "#         # Get the results from the completed futures\n",
    "#         results = pd.concat([future.result() for future in futures] )\n",
    "#     return results       \n"
   ]
  },
  {
   "cell_type": "code",
   "execution_count": null,
   "metadata": {},
   "outputs": [],
   "source": [
    "# decoupage = get_osm_infos(decoupage)"
   ]
  },
  {
   "cell_type": "code",
   "execution_count": null,
   "metadata": {},
   "outputs": [],
   "source": [
    "# decoupage = multi_process_osmid(decoupage, processes=2)"
   ]
  }
 ],
 "metadata": {
  "kernelspec": {
   "display_name": "E-Motion",
   "language": "python",
   "name": "python3"
  },
  "language_info": {
   "codemirror_mode": {
    "name": "ipython",
    "version": 3
   },
   "file_extension": ".py",
   "mimetype": "text/x-python",
   "name": "python",
   "nbconvert_exporter": "python",
   "pygments_lexer": "ipython3",
   "version": "3.9.16"
  },
  "orig_nbformat": 4
 },
 "nbformat": 4,
 "nbformat_minor": 2
}
