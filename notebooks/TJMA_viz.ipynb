{
 "cells": [
  {
   "cell_type": "code",
   "execution_count": null,
   "metadata": {},
   "outputs": [],
   "source": [
    "import geopandas as gpd\n",
    "import folium\n",
    "from folium.plugins import MarkerCluster\n",
    "import os, shutil\n",
    "import io, requests\n",
    "import zipfile\n",
    "import joblib\n",
    "\n",
    "data_path = 'datas'\n",
    "os.makedirs(data_path, exist_ok=True)"
   ]
  },
  {
   "attachments": {},
   "cell_type": "markdown",
   "metadata": {},
   "source": [
    "# Trafic moyen journalier"
   ]
  },
  {
   "cell_type": "code",
   "execution_count": null,
   "metadata": {},
   "outputs": [],
   "source": [
    "# tmja = gpd.read_file('C:/Users/demo/Desktop/Lattitude/datas/tmja2018-shp/TMJA2018.shp')\n",
    "file_name = 'TMJA2018'\n",
    "ext = '.shp'\n",
    "url = 'https://static.data.gouv.fr/resources/trafic-moyen-journalier-annuel-sur-le-reseau-routier-national/20200601-112539/tmja2018-shp.zip'\n",
    "temp_path = 'temp_unzip'\n",
    "\n",
    "try: \n",
    "    tmja = gpd.read_feather(os.path.join(data_path,file_name + '.feather'))\n",
    "except:\n",
    "    # From url\n",
    "    zip_file = requests.get(url).content\n",
    "    os.makedirs(temp_path, exist_ok=True)\n",
    "    with zipfile.ZipFile(io.BytesIO(zip_file)) as archive:\n",
    "        archive.extractall(temp_path)\n",
    "    tmja = gpd.read_file(os.path.join(temp_path,file_name + ext))\n",
    "    shutil.rmtree(temp_path)\n",
    "\n",
    "    # From local file\n",
    "    # tmja = gpd.read_file(os.path.join(data_path,file_name + ext))\n",
    "\n",
    "    # avoiding multi dowloads for GES emmision lowering\n",
    "    tmja.to_feather(os.path.join(data_path,file_name + '.feather'))"
   ]
  },
  {
   "cell_type": "code",
   "execution_count": null,
   "metadata": {},
   "outputs": [],
   "source": [
    "tmja.info()"
   ]
  },
  {
   "cell_type": "code",
   "execution_count": null,
   "metadata": {},
   "outputs": [],
   "source": [
    "tmja.isna().any()"
   ]
  },
  {
   "cell_type": "code",
   "execution_count": null,
   "metadata": {},
   "outputs": [],
   "source": [
    "tmja.geometry[:1]"
   ]
  },
  {
   "cell_type": "code",
   "execution_count": null,
   "metadata": {},
   "outputs": [],
   "source": [
    "tmja.tmja.plot(kind='hist',column='tmja', cmap='viridis', figsize=(12, 8), legend=True)"
   ]
  },
  {
   "cell_type": "code",
   "execution_count": null,
   "metadata": {},
   "outputs": [],
   "source": [
    "tmja.tmja.mean()"
   ]
  },
  {
   "attachments": {},
   "cell_type": "markdown",
   "metadata": {},
   "source": [
    "# Style"
   ]
  },
  {
   "cell_type": "code",
   "execution_count": null,
   "metadata": {},
   "outputs": [],
   "source": [
    "from branca.colormap import linear, LinearColormap\n",
    "\n",
    "min = tmja['tmja'].min()\n",
    "max = tmja['tmja'].max()\n",
    "print(f'trafic | min: {min} | max: {max}')\n",
    "\n",
    "# Define the color map\n",
    "colors = ['#00ff00', '#ffff00', '#ff0000']\n",
    "cmap = LinearColormap(colors=colors, vmin=min, vmax=max)\n",
    "display(cmap)\n",
    "\n",
    "# Create a color ramp\n",
    "colormap = linear.YlGnBu_09.scale(\n",
    "    tmja['tmja'].min(),\n",
    "    tmja['tmja'].max())\n",
    "\n",
    "display(colormap)\n",
    "colormap(23320)"
   ]
  },
  {
   "cell_type": "code",
   "execution_count": null,
   "metadata": {},
   "outputs": [],
   "source": [
    "# Color by feature\n",
    "def style_function_color(feature):\n",
    "    color = 'red' if feature['properties']['tmja'] > 23320 else 'green'\n",
    "    return {'fillColor': color, 'color': 'black'}\n",
    "\n",
    "\n",
    "# Define the style function Gradien color\n",
    "def style_function_gradien(feature):\n",
    "    color = cmap(feature['properties']['tmja'])\n",
    "    return {'weight': 3,\n",
    "            'color': color,\n",
    "            'opacity': .9,\n",
    "            # 'fillColor': cmap,\n",
    "            # 'fillOpacity': 1,\n",
    "             }\n"
   ]
  },
  {
   "cell_type": "code",
   "execution_count": null,
   "metadata": {},
   "outputs": [],
   "source": [
    "trafic = folium.GeoJson(tmja, style_function=style_function_gradien, overlay=True, name='Trafic')"
   ]
  },
  {
   "cell_type": "code",
   "execution_count": null,
   "metadata": {},
   "outputs": [],
   "source": [
    "marker_path = 'datas/markers'\n",
    "os.makedirs(marker_path, exist_ok=True)\n",
    "\n",
    "joblib.dump(trafic, os.path.join(marker_path,'trafic_journalier.mrkr'))"
   ]
  },
  {
   "attachments": {},
   "cell_type": "markdown",
   "metadata": {},
   "source": [
    "# Carte"
   ]
  },
  {
   "cell_type": "code",
   "execution_count": null,
   "metadata": {},
   "outputs": [],
   "source": [
    "# Create a folium map object\n",
    "map = folium.Map(location= [48.7, 2.3],\n",
    "                    width='100%', height='100%', left='0%', top='0%', position='relative', \n",
    "                    tiles= 'OpenStreetMap',     #OpenStreetMap', Stamen\n",
    "                    attr=None,    #  None   Terrain, Toner, and Watercolor\n",
    "                    min_zoom=0, max_zoom=18, zoom_start=9, \n",
    "                    min_lat=- 90, max_lat=90, min_lon=- 180, max_lon=180, max_bounds=False, \n",
    "                    crs='EPSG3857', control_scale=False, prefer_canvas=False, \n",
    "                    no_touch=False, disable_3d=False, png_enabled=False, zoom_control=True)\n",
    "\n",
    "\n",
    "\n",
    "# # Add the GeoJSON object to the map\n",
    "trafic.add_to(map)\n",
    "\n",
    "# # Add a layer control to the map\n",
    "folium.LayerControl().add_to(map)\n",
    "\n",
    "# # Display the map in the notebook\n",
    "map\n"
   ]
  },
  {
   "cell_type": "code",
   "execution_count": null,
   "metadata": {},
   "outputs": [],
   "source": [
    "maps_path = 'datas/maps'\n",
    "os.makedirs(maps_path, exist_ok=True)\n",
    "\n",
    "map.save(os.path.join(maps_path,'carte_traffic_journalier.html'))"
   ]
  },
  {
   "cell_type": "code",
   "execution_count": null,
   "metadata": {},
   "outputs": [],
   "source": []
  }
 ],
 "metadata": {
  "kernelspec": {
   "display_name": "base",
   "language": "python",
   "name": "python3"
  },
  "language_info": {
   "codemirror_mode": {
    "name": "ipython",
    "version": 3
   },
   "file_extension": ".py",
   "mimetype": "text/x-python",
   "name": "python",
   "nbconvert_exporter": "python",
   "pygments_lexer": "ipython3",
   "version": "3.11.3"
  },
  "orig_nbformat": 4
 },
 "nbformat": 4,
 "nbformat_minor": 2
}
