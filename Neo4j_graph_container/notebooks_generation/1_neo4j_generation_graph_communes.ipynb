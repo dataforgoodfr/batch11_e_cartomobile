{
 "cells": [
  {
   "attachments": {},
   "cell_type": "markdown",
   "metadata": {},
   "source": [
    "#### Génération du graph \"communes\" dans Neo4J"
   ]
  },
  {
   "attachments": {},
   "cell_type": "markdown",
   "metadata": {},
   "source": [
    "Notebook amorcé par : Jesshuan"
   ]
  },
  {
   "attachments": {},
   "cell_type": "markdown",
   "metadata": {},
   "source": [
    "Objectifs :\n",
    "\n",
    "- Récupération du graph communes avec points d'intérêt touristiques sous forme edges et nodes depuis les notebooks de mika... (fichier finalement transféré à l'a'ncienne)\n",
    "\n",
    "- jointure avec infos complémentaires sur les communes (nom, etc...)\n",
    "\n",
    "- jointure avec infos complémentaires sur les immatriculations de véhicules\n",
    "\n",
    "- Génération dans une base de données locale Neo4j"
   ]
  },
  {
   "attachments": {},
   "cell_type": "markdown",
   "metadata": {},
   "source": [
    "Imports :"
   ]
  },
  {
   "cell_type": "code",
   "execution_count": 1,
   "metadata": {},
   "outputs": [],
   "source": [
    "import geopandas as gpd\n",
    "import pandas as pd\n",
    "\n",
    "from neo4j import GraphDatabase, basic_auth"
   ]
  },
  {
   "cell_type": "code",
   "execution_count": 2,
   "metadata": {},
   "outputs": [],
   "source": [
    "PASSWORD_NEO4J = 'passwordneo4j'"
   ]
  },
  {
   "attachments": {},
   "cell_type": "markdown",
   "metadata": {},
   "source": [
    "--------"
   ]
  },
  {
   "cell_type": "markdown",
   "metadata": {},
   "source": [
    "Récupération du fichier des neouds communes de Micka"
   ]
  },
  {
   "cell_type": "code",
   "execution_count": 3,
   "metadata": {},
   "outputs": [],
   "source": [
    "data_path = \"./../data_communes/[france]Gnodes_communes.feather\""
   ]
  },
  {
   "cell_type": "code",
   "execution_count": 4,
   "metadata": {},
   "outputs": [],
   "source": [
    "nodes = gpd.read_feather(data_path).reset_index()"
   ]
  },
  {
   "attachments": {},
   "cell_type": "markdown",
   "metadata": {},
   "source": [
    "Cleaning :"
   ]
  },
  {
   "cell_type": "code",
   "execution_count": 5,
   "metadata": {},
   "outputs": [],
   "source": [
    "nodes.drop(['area', 'geometry'], axis=1, inplace=True)"
   ]
  },
  {
   "attachments": {},
   "cell_type": "markdown",
   "metadata": {},
   "source": [
    "Jointure with others features for communes :"
   ]
  },
  {
   "cell_type": "code",
   "execution_count": 6,
   "metadata": {},
   "outputs": [],
   "source": [
    "communes_infos = pd.read_feather('./../data_communes/communes.feather')"
   ]
  },
  {
   "cell_type": "code",
   "execution_count": 7,
   "metadata": {},
   "outputs": [
    {
     "data": {
      "text/html": [
       "<div>\n",
       "<style scoped>\n",
       "    .dataframe tbody tr th:only-of-type {\n",
       "        vertical-align: middle;\n",
       "    }\n",
       "\n",
       "    .dataframe tbody tr th {\n",
       "        vertical-align: top;\n",
       "    }\n",
       "\n",
       "    .dataframe thead th {\n",
       "        text-align: right;\n",
       "    }\n",
       "</style>\n",
       "<table border=\"1\" class=\"dataframe\">\n",
       "  <thead>\n",
       "    <tr style=\"text-align: right;\">\n",
       "      <th></th>\n",
       "      <th>insee</th>\n",
       "      <th>nom_commune</th>\n",
       "      <th>surf_ha</th>\n",
       "      <th>x</th>\n",
       "      <th>y</th>\n",
       "    </tr>\n",
       "  </thead>\n",
       "  <tbody>\n",
       "    <tr>\n",
       "      <th>0</th>\n",
       "      <td>2B222</td>\n",
       "      <td>Pie-d'Orezza</td>\n",
       "      <td>573.0</td>\n",
       "      <td>9.338151</td>\n",
       "      <td>42.374290</td>\n",
       "    </tr>\n",
       "    <tr>\n",
       "      <th>1</th>\n",
       "      <td>2B137</td>\n",
       "      <td>Lano</td>\n",
       "      <td>824.0</td>\n",
       "      <td>9.235358</td>\n",
       "      <td>42.378872</td>\n",
       "    </tr>\n",
       "    <tr>\n",
       "      <th>2</th>\n",
       "      <td>2B051</td>\n",
       "      <td>Cambia</td>\n",
       "      <td>833.0</td>\n",
       "      <td>9.302108</td>\n",
       "      <td>42.368750</td>\n",
       "    </tr>\n",
       "    <tr>\n",
       "      <th>3</th>\n",
       "      <td>2B106</td>\n",
       "      <td>Érone</td>\n",
       "      <td>393.0</td>\n",
       "      <td>9.266614</td>\n",
       "      <td>42.375565</td>\n",
       "    </tr>\n",
       "    <tr>\n",
       "      <th>4</th>\n",
       "      <td>2B185</td>\n",
       "      <td>Oletta</td>\n",
       "      <td>2674.0</td>\n",
       "      <td>9.333845</td>\n",
       "      <td>42.641773</td>\n",
       "    </tr>\n",
       "    <tr>\n",
       "      <th>...</th>\n",
       "      <td>...</td>\n",
       "      <td>...</td>\n",
       "      <td>...</td>\n",
       "      <td>...</td>\n",
       "      <td>...</td>\n",
       "    </tr>\n",
       "    <tr>\n",
       "      <th>34950</th>\n",
       "      <td>62885</td>\n",
       "      <td>Westrehem</td>\n",
       "      <td>299.0</td>\n",
       "      <td>2.343461</td>\n",
       "      <td>50.544903</td>\n",
       "    </tr>\n",
       "    <tr>\n",
       "      <th>34951</th>\n",
       "      <td>62795</td>\n",
       "      <td>Sibiville</td>\n",
       "      <td>738.0</td>\n",
       "      <td>2.331172</td>\n",
       "      <td>50.304585</td>\n",
       "    </tr>\n",
       "    <tr>\n",
       "      <th>34952</th>\n",
       "      <td>62187</td>\n",
       "      <td>Buneville</td>\n",
       "      <td>384.0</td>\n",
       "      <td>2.347346</td>\n",
       "      <td>50.324764</td>\n",
       "    </tr>\n",
       "    <tr>\n",
       "      <th>34953</th>\n",
       "      <td>62694</td>\n",
       "      <td>Rebreuve-sur-Canche</td>\n",
       "      <td>842.0</td>\n",
       "      <td>2.340987</td>\n",
       "      <td>50.266950</td>\n",
       "    </tr>\n",
       "    <tr>\n",
       "      <th>34954</th>\n",
       "      <td>62831</td>\n",
       "      <td>Troisvaux</td>\n",
       "      <td>620.0</td>\n",
       "      <td>2.343803</td>\n",
       "      <td>50.410683</td>\n",
       "    </tr>\n",
       "  </tbody>\n",
       "</table>\n",
       "<p>34955 rows × 5 columns</p>\n",
       "</div>"
      ],
      "text/plain": [
       "       insee          nom_commune  surf_ha         x          y\n",
       "0      2B222         Pie-d'Orezza    573.0  9.338151  42.374290\n",
       "1      2B137                 Lano    824.0  9.235358  42.378872\n",
       "2      2B051               Cambia    833.0  9.302108  42.368750\n",
       "3      2B106                Érone    393.0  9.266614  42.375565\n",
       "4      2B185               Oletta   2674.0  9.333845  42.641773\n",
       "...      ...                  ...      ...       ...        ...\n",
       "34950  62885            Westrehem    299.0  2.343461  50.544903\n",
       "34951  62795            Sibiville    738.0  2.331172  50.304585\n",
       "34952  62187            Buneville    384.0  2.347346  50.324764\n",
       "34953  62694  Rebreuve-sur-Canche    842.0  2.340987  50.266950\n",
       "34954  62831            Troisvaux    620.0  2.343803  50.410683\n",
       "\n",
       "[34955 rows x 5 columns]"
      ]
     },
     "execution_count": 7,
     "metadata": {},
     "output_type": "execute_result"
    }
   ],
   "source": [
    "communes_infos"
   ]
  },
  {
   "cell_type": "markdown",
   "metadata": {},
   "source": [
    "Ici, on prend les informations de géolocalisations comme le centre \"géométrique\" de la communes (ces coordonnées vont devenir les coordonnées \"x_centroid\" et \"y_centroid\"). En effet, les coordonnées en x et y utilisés par la suite seront celles récupérées par Micka depuis OSM, qui sont les \"vraies\" coordonnées des centre-villes et centre-villages."
   ]
  },
  {
   "cell_type": "code",
   "execution_count": 8,
   "metadata": {},
   "outputs": [],
   "source": [
    "communes_infos.rename(columns={'x':'x_centroid','y':'y_centroid'}, inplace=True)"
   ]
  },
  {
   "attachments": {},
   "cell_type": "markdown",
   "metadata": {},
   "source": [
    "Jointure à gauche (pour enlever ce qui n'est pas métropolitain) :"
   ]
  },
  {
   "cell_type": "code",
   "execution_count": 9,
   "metadata": {},
   "outputs": [],
   "source": [
    "df_join = nodes.merge(communes_infos, how='left', left_on='codgeo', right_on='insee')"
   ]
  },
  {
   "cell_type": "markdown",
   "metadata": {},
   "source": [
    "Dernier éléments, les nombres d'immatriculations à jour :"
   ]
  },
  {
   "cell_type": "code",
   "execution_count": 10,
   "metadata": {},
   "outputs": [],
   "source": [
    "immat = pd.read_feather('./../data_communes/immat.feather')"
   ]
  },
  {
   "cell_type": "code",
   "execution_count": 11,
   "metadata": {},
   "outputs": [],
   "source": [
    "immat.rename(columns={'x':'x_centroid','y':'y_centroid'}, inplace=True)"
   ]
  },
  {
   "cell_type": "markdown",
   "metadata": {},
   "source": [
    "Deuxième jointure :"
   ]
  },
  {
   "cell_type": "code",
   "execution_count": 12,
   "metadata": {},
   "outputs": [],
   "source": [
    "df_join_tot = df_join.merge(immat, how='left', left_on='insee', right_on='codgeo')"
   ]
  },
  {
   "cell_type": "code",
   "execution_count": 13,
   "metadata": {},
   "outputs": [
    {
     "data": {
      "text/html": [
       "<div>\n",
       "<style scoped>\n",
       "    .dataframe tbody tr th:only-of-type {\n",
       "        vertical-align: middle;\n",
       "    }\n",
       "\n",
       "    .dataframe tbody tr th {\n",
       "        vertical-align: top;\n",
       "    }\n",
       "\n",
       "    .dataframe thead th {\n",
       "        text-align: right;\n",
       "    }\n",
       "</style>\n",
       "<table border=\"1\" class=\"dataframe\">\n",
       "  <thead>\n",
       "    <tr style=\"text-align: right;\">\n",
       "      <th></th>\n",
       "      <th>osmid</th>\n",
       "      <th>y</th>\n",
       "      <th>x</th>\n",
       "      <th>codgeo_x</th>\n",
       "      <th>sleeping</th>\n",
       "      <th>visit</th>\n",
       "      <th>working</th>\n",
       "      <th>fooding</th>\n",
       "      <th>vehicule</th>\n",
       "      <th>insee_x</th>\n",
       "      <th>...</th>\n",
       "      <th>epci</th>\n",
       "      <th>libepci</th>\n",
       "      <th>nb_vp_rechargeables_el</th>\n",
       "      <th>nb_vp_rechargeables_gaz</th>\n",
       "      <th>nb_vp</th>\n",
       "      <th>insee_y</th>\n",
       "      <th>nom</th>\n",
       "      <th>surf_ha_y</th>\n",
       "      <th>x_centroid_y</th>\n",
       "      <th>y_centroid_y</th>\n",
       "    </tr>\n",
       "  </thead>\n",
       "  <tbody>\n",
       "    <tr>\n",
       "      <th>0</th>\n",
       "      <td>1149451</td>\n",
       "      <td>50.582893</td>\n",
       "      <td>2.143174</td>\n",
       "      <td>62053</td>\n",
       "      <td>3.0</td>\n",
       "      <td>1.0</td>\n",
       "      <td>NaN</td>\n",
       "      <td>NaN</td>\n",
       "      <td>NaN</td>\n",
       "      <td>62053</td>\n",
       "      <td>...</td>\n",
       "      <td>200069037</td>\n",
       "      <td>CA du Pays de Saint-Omer</td>\n",
       "      <td>7.0</td>\n",
       "      <td>0.0</td>\n",
       "      <td>787.0</td>\n",
       "      <td>62053</td>\n",
       "      <td>Audincthun</td>\n",
       "      <td>1520.0</td>\n",
       "      <td>2.127048</td>\n",
       "      <td>50.578743</td>\n",
       "    </tr>\n",
       "    <tr>\n",
       "      <th>1</th>\n",
       "      <td>910704</td>\n",
       "      <td>49.717236</td>\n",
       "      <td>3.012390</td>\n",
       "      <td>80284</td>\n",
       "      <td>NaN</td>\n",
       "      <td>1.0</td>\n",
       "      <td>NaN</td>\n",
       "      <td>NaN</td>\n",
       "      <td>NaN</td>\n",
       "      <td>80284</td>\n",
       "      <td>...</td>\n",
       "      <td>200070985</td>\n",
       "      <td>CC de l'Est de la Somme</td>\n",
       "      <td>10.0</td>\n",
       "      <td>0.0</td>\n",
       "      <td>931.0</td>\n",
       "      <td>80284</td>\n",
       "      <td>Esmery-Hallon</td>\n",
       "      <td>1888.0</td>\n",
       "      <td>3.024816</td>\n",
       "      <td>49.711567</td>\n",
       "    </tr>\n",
       "    <tr>\n",
       "      <th>2</th>\n",
       "      <td>1452239</td>\n",
       "      <td>42.876728</td>\n",
       "      <td>0.610023</td>\n",
       "      <td>31290</td>\n",
       "      <td>NaN</td>\n",
       "      <td>NaN</td>\n",
       "      <td>NaN</td>\n",
       "      <td>NaN</td>\n",
       "      <td>NaN</td>\n",
       "      <td>31290</td>\n",
       "      <td>...</td>\n",
       "      <td>200072635</td>\n",
       "      <td>CC PyrÃ©nÃ©es Haut Garonnaises</td>\n",
       "      <td>1.0</td>\n",
       "      <td>0.0</td>\n",
       "      <td>43.0</td>\n",
       "      <td>31290</td>\n",
       "      <td>Lège</td>\n",
       "      <td>289.0</td>\n",
       "      <td>0.598100</td>\n",
       "      <td>42.879140</td>\n",
       "    </tr>\n",
       "    <tr>\n",
       "      <th>3</th>\n",
       "      <td>2173628</td>\n",
       "      <td>48.094594</td>\n",
       "      <td>1.514000</td>\n",
       "      <td>28400</td>\n",
       "      <td>NaN</td>\n",
       "      <td>NaN</td>\n",
       "      <td>NaN</td>\n",
       "      <td>NaN</td>\n",
       "      <td>NaN</td>\n",
       "      <td>28400</td>\n",
       "      <td>...</td>\n",
       "      <td>200070159</td>\n",
       "      <td>CC CÅur de Beauce</td>\n",
       "      <td>2.0</td>\n",
       "      <td>0.0</td>\n",
       "      <td>228.0</td>\n",
       "      <td>28400</td>\n",
       "      <td>Varize</td>\n",
       "      <td>1387.0</td>\n",
       "      <td>1.525235</td>\n",
       "      <td>48.082363</td>\n",
       "    </tr>\n",
       "    <tr>\n",
       "      <th>4</th>\n",
       "      <td>106436</td>\n",
       "      <td>47.193507</td>\n",
       "      <td>0.099943</td>\n",
       "      <td>37220</td>\n",
       "      <td>NaN</td>\n",
       "      <td>2.0</td>\n",
       "      <td>NaN</td>\n",
       "      <td>NaN</td>\n",
       "      <td>NaN</td>\n",
       "      <td>37220</td>\n",
       "      <td>...</td>\n",
       "      <td>200043081</td>\n",
       "      <td>CC Chinon, Vienne et Loire</td>\n",
       "      <td>3.0</td>\n",
       "      <td>0.0</td>\n",
       "      <td>408.0</td>\n",
       "      <td>37220</td>\n",
       "      <td>Saint-Germain-sur-Vienne</td>\n",
       "      <td>1338.0</td>\n",
       "      <td>0.110709</td>\n",
       "      <td>47.180550</td>\n",
       "    </tr>\n",
       "  </tbody>\n",
       "</table>\n",
       "<p>5 rows × 25 columns</p>\n",
       "</div>"
      ],
      "text/plain": [
       "     osmid          y         x codgeo_x  sleeping  visit  working  fooding   \n",
       "0  1149451  50.582893  2.143174    62053       3.0    1.0      NaN      NaN  \\\n",
       "1   910704  49.717236  3.012390    80284       NaN    1.0      NaN      NaN   \n",
       "2  1452239  42.876728  0.610023    31290       NaN    NaN      NaN      NaN   \n",
       "3  2173628  48.094594  1.514000    28400       NaN    NaN      NaN      NaN   \n",
       "4   106436  47.193507  0.099943    37220       NaN    2.0      NaN      NaN   \n",
       "\n",
       "   vehicule insee_x  ...       epci                         libepci   \n",
       "0       NaN   62053  ...  200069037        CA du Pays de Saint-Omer  \\\n",
       "1       NaN   80284  ...  200070985         CC de l'Est de la Somme   \n",
       "2       NaN   31290  ...  200072635  CC PyrÃ©nÃ©es Haut Garonnaises   \n",
       "3       NaN   28400  ...  200070159              CC CÅur de Beauce   \n",
       "4       NaN   37220  ...  200043081      CC Chinon, Vienne et Loire   \n",
       "\n",
       "   nb_vp_rechargeables_el  nb_vp_rechargeables_gaz  nb_vp insee_y   \n",
       "0                     7.0                      0.0  787.0   62053  \\\n",
       "1                    10.0                      0.0  931.0   80284   \n",
       "2                     1.0                      0.0   43.0   31290   \n",
       "3                     2.0                      0.0  228.0   28400   \n",
       "4                     3.0                      0.0  408.0   37220   \n",
       "\n",
       "                        nom  surf_ha_y  x_centroid_y  y_centroid_y  \n",
       "0                Audincthun     1520.0      2.127048     50.578743  \n",
       "1             Esmery-Hallon     1888.0      3.024816     49.711567  \n",
       "2                      Lège      289.0      0.598100     42.879140  \n",
       "3                    Varize     1387.0      1.525235     48.082363  \n",
       "4  Saint-Germain-sur-Vienne     1338.0      0.110709     47.180550  \n",
       "\n",
       "[5 rows x 25 columns]"
      ]
     },
     "execution_count": 13,
     "metadata": {},
     "output_type": "execute_result"
    }
   ],
   "source": [
    "df_join_tot.head()"
   ]
  },
  {
   "cell_type": "markdown",
   "metadata": {},
   "source": [
    "On clean les colonnes en trop :"
   ]
  },
  {
   "cell_type": "code",
   "execution_count": 14,
   "metadata": {},
   "outputs": [],
   "source": [
    "columns_to_drop = ['insee_y','codgeo_y', 'codgeo_x', 'surf_ha_y', 'x_centroid_y', 'y_centroid_y']"
   ]
  },
  {
   "cell_type": "code",
   "execution_count": 15,
   "metadata": {},
   "outputs": [],
   "source": [
    "df_join_tot.drop(columns_to_drop, axis=1, inplace=True)"
   ]
  },
  {
   "cell_type": "code",
   "execution_count": 16,
   "metadata": {},
   "outputs": [
    {
     "data": {
      "text/html": [
       "<div>\n",
       "<style scoped>\n",
       "    .dataframe tbody tr th:only-of-type {\n",
       "        vertical-align: middle;\n",
       "    }\n",
       "\n",
       "    .dataframe tbody tr th {\n",
       "        vertical-align: top;\n",
       "    }\n",
       "\n",
       "    .dataframe thead th {\n",
       "        text-align: right;\n",
       "    }\n",
       "</style>\n",
       "<table border=\"1\" class=\"dataframe\">\n",
       "  <thead>\n",
       "    <tr style=\"text-align: right;\">\n",
       "      <th></th>\n",
       "      <th>osmid</th>\n",
       "      <th>y</th>\n",
       "      <th>x</th>\n",
       "      <th>sleeping</th>\n",
       "      <th>visit</th>\n",
       "      <th>working</th>\n",
       "      <th>fooding</th>\n",
       "      <th>vehicule</th>\n",
       "      <th>insee_x</th>\n",
       "      <th>nom_commune</th>\n",
       "      <th>surf_ha_x</th>\n",
       "      <th>x_centroid_x</th>\n",
       "      <th>y_centroid_x</th>\n",
       "      <th>epci</th>\n",
       "      <th>libepci</th>\n",
       "      <th>nb_vp_rechargeables_el</th>\n",
       "      <th>nb_vp_rechargeables_gaz</th>\n",
       "      <th>nb_vp</th>\n",
       "      <th>nom</th>\n",
       "    </tr>\n",
       "  </thead>\n",
       "  <tbody>\n",
       "    <tr>\n",
       "      <th>0</th>\n",
       "      <td>1149451</td>\n",
       "      <td>50.582893</td>\n",
       "      <td>2.143174</td>\n",
       "      <td>3.0</td>\n",
       "      <td>1.0</td>\n",
       "      <td>NaN</td>\n",
       "      <td>NaN</td>\n",
       "      <td>NaN</td>\n",
       "      <td>62053</td>\n",
       "      <td>Audincthun</td>\n",
       "      <td>1520.0</td>\n",
       "      <td>2.127048</td>\n",
       "      <td>50.578743</td>\n",
       "      <td>200069037</td>\n",
       "      <td>CA du Pays de Saint-Omer</td>\n",
       "      <td>7.0</td>\n",
       "      <td>0.0</td>\n",
       "      <td>787.0</td>\n",
       "      <td>Audincthun</td>\n",
       "    </tr>\n",
       "    <tr>\n",
       "      <th>1</th>\n",
       "      <td>910704</td>\n",
       "      <td>49.717236</td>\n",
       "      <td>3.012390</td>\n",
       "      <td>NaN</td>\n",
       "      <td>1.0</td>\n",
       "      <td>NaN</td>\n",
       "      <td>NaN</td>\n",
       "      <td>NaN</td>\n",
       "      <td>80284</td>\n",
       "      <td>Esmery-Hallon</td>\n",
       "      <td>1888.0</td>\n",
       "      <td>3.024816</td>\n",
       "      <td>49.711567</td>\n",
       "      <td>200070985</td>\n",
       "      <td>CC de l'Est de la Somme</td>\n",
       "      <td>10.0</td>\n",
       "      <td>0.0</td>\n",
       "      <td>931.0</td>\n",
       "      <td>Esmery-Hallon</td>\n",
       "    </tr>\n",
       "    <tr>\n",
       "      <th>2</th>\n",
       "      <td>1452239</td>\n",
       "      <td>42.876728</td>\n",
       "      <td>0.610023</td>\n",
       "      <td>NaN</td>\n",
       "      <td>NaN</td>\n",
       "      <td>NaN</td>\n",
       "      <td>NaN</td>\n",
       "      <td>NaN</td>\n",
       "      <td>31290</td>\n",
       "      <td>Lège</td>\n",
       "      <td>289.0</td>\n",
       "      <td>0.598100</td>\n",
       "      <td>42.879140</td>\n",
       "      <td>200072635</td>\n",
       "      <td>CC PyrÃ©nÃ©es Haut Garonnaises</td>\n",
       "      <td>1.0</td>\n",
       "      <td>0.0</td>\n",
       "      <td>43.0</td>\n",
       "      <td>Lège</td>\n",
       "    </tr>\n",
       "    <tr>\n",
       "      <th>3</th>\n",
       "      <td>2173628</td>\n",
       "      <td>48.094594</td>\n",
       "      <td>1.514000</td>\n",
       "      <td>NaN</td>\n",
       "      <td>NaN</td>\n",
       "      <td>NaN</td>\n",
       "      <td>NaN</td>\n",
       "      <td>NaN</td>\n",
       "      <td>28400</td>\n",
       "      <td>Varize</td>\n",
       "      <td>1387.0</td>\n",
       "      <td>1.525235</td>\n",
       "      <td>48.082363</td>\n",
       "      <td>200070159</td>\n",
       "      <td>CC CÅur de Beauce</td>\n",
       "      <td>2.0</td>\n",
       "      <td>0.0</td>\n",
       "      <td>228.0</td>\n",
       "      <td>Varize</td>\n",
       "    </tr>\n",
       "    <tr>\n",
       "      <th>4</th>\n",
       "      <td>106436</td>\n",
       "      <td>47.193507</td>\n",
       "      <td>0.099943</td>\n",
       "      <td>NaN</td>\n",
       "      <td>2.0</td>\n",
       "      <td>NaN</td>\n",
       "      <td>NaN</td>\n",
       "      <td>NaN</td>\n",
       "      <td>37220</td>\n",
       "      <td>Saint-Germain-sur-Vienne</td>\n",
       "      <td>1338.0</td>\n",
       "      <td>0.110709</td>\n",
       "      <td>47.180550</td>\n",
       "      <td>200043081</td>\n",
       "      <td>CC Chinon, Vienne et Loire</td>\n",
       "      <td>3.0</td>\n",
       "      <td>0.0</td>\n",
       "      <td>408.0</td>\n",
       "      <td>Saint-Germain-sur-Vienne</td>\n",
       "    </tr>\n",
       "  </tbody>\n",
       "</table>\n",
       "</div>"
      ],
      "text/plain": [
       "     osmid          y         x  sleeping  visit  working  fooding  vehicule   \n",
       "0  1149451  50.582893  2.143174       3.0    1.0      NaN      NaN       NaN  \\\n",
       "1   910704  49.717236  3.012390       NaN    1.0      NaN      NaN       NaN   \n",
       "2  1452239  42.876728  0.610023       NaN    NaN      NaN      NaN       NaN   \n",
       "3  2173628  48.094594  1.514000       NaN    NaN      NaN      NaN       NaN   \n",
       "4   106436  47.193507  0.099943       NaN    2.0      NaN      NaN       NaN   \n",
       "\n",
       "  insee_x               nom_commune  surf_ha_x  x_centroid_x  y_centroid_x   \n",
       "0   62053                Audincthun     1520.0      2.127048     50.578743  \\\n",
       "1   80284             Esmery-Hallon     1888.0      3.024816     49.711567   \n",
       "2   31290                      Lège      289.0      0.598100     42.879140   \n",
       "3   28400                    Varize     1387.0      1.525235     48.082363   \n",
       "4   37220  Saint-Germain-sur-Vienne     1338.0      0.110709     47.180550   \n",
       "\n",
       "        epci                         libepci  nb_vp_rechargeables_el   \n",
       "0  200069037        CA du Pays de Saint-Omer                     7.0  \\\n",
       "1  200070985         CC de l'Est de la Somme                    10.0   \n",
       "2  200072635  CC PyrÃ©nÃ©es Haut Garonnaises                     1.0   \n",
       "3  200070159              CC CÅur de Beauce                     2.0   \n",
       "4  200043081      CC Chinon, Vienne et Loire                     3.0   \n",
       "\n",
       "   nb_vp_rechargeables_gaz  nb_vp                       nom  \n",
       "0                      0.0  787.0                Audincthun  \n",
       "1                      0.0  931.0             Esmery-Hallon  \n",
       "2                      0.0   43.0                      Lège  \n",
       "3                      0.0  228.0                    Varize  \n",
       "4                      0.0  408.0  Saint-Germain-sur-Vienne  "
      ]
     },
     "execution_count": 16,
     "metadata": {},
     "output_type": "execute_result"
    }
   ],
   "source": [
    "df_join_tot.head()"
   ]
  },
  {
   "cell_type": "markdown",
   "metadata": {},
   "source": [
    "Après vérification, la colonne \"nom\" est moins remplie (de 5 lignes) que la colonne \"nom_commune\"..."
   ]
  },
  {
   "cell_type": "code",
   "execution_count": 17,
   "metadata": {},
   "outputs": [
    {
     "data": {
      "text/html": [
       "<div>\n",
       "<style scoped>\n",
       "    .dataframe tbody tr th:only-of-type {\n",
       "        vertical-align: middle;\n",
       "    }\n",
       "\n",
       "    .dataframe tbody tr th {\n",
       "        vertical-align: top;\n",
       "    }\n",
       "\n",
       "    .dataframe thead th {\n",
       "        text-align: right;\n",
       "    }\n",
       "</style>\n",
       "<table border=\"1\" class=\"dataframe\">\n",
       "  <thead>\n",
       "    <tr style=\"text-align: right;\">\n",
       "      <th></th>\n",
       "      <th>osmid</th>\n",
       "      <th>y</th>\n",
       "      <th>x</th>\n",
       "      <th>sleeping</th>\n",
       "      <th>visit</th>\n",
       "      <th>working</th>\n",
       "      <th>fooding</th>\n",
       "      <th>vehicule</th>\n",
       "      <th>insee_x</th>\n",
       "      <th>nom_commune</th>\n",
       "      <th>surf_ha_x</th>\n",
       "      <th>x_centroid_x</th>\n",
       "      <th>y_centroid_x</th>\n",
       "      <th>epci</th>\n",
       "      <th>libepci</th>\n",
       "      <th>nb_vp_rechargeables_el</th>\n",
       "      <th>nb_vp_rechargeables_gaz</th>\n",
       "      <th>nb_vp</th>\n",
       "      <th>nom</th>\n",
       "    </tr>\n",
       "  </thead>\n",
       "  <tbody>\n",
       "    <tr>\n",
       "      <th>1802</th>\n",
       "      <td>2116433</td>\n",
       "      <td>49.236510</td>\n",
       "      <td>5.467500</td>\n",
       "      <td>NaN</td>\n",
       "      <td>1.0</td>\n",
       "      <td>NaN</td>\n",
       "      <td>NaN</td>\n",
       "      <td>NaN</td>\n",
       "      <td>55050</td>\n",
       "      <td>Bezonvaux</td>\n",
       "      <td>926.0</td>\n",
       "      <td>5.471458</td>\n",
       "      <td>49.231598</td>\n",
       "      <td>NaN</td>\n",
       "      <td>NaN</td>\n",
       "      <td>NaN</td>\n",
       "      <td>NaN</td>\n",
       "      <td>NaN</td>\n",
       "      <td>NaN</td>\n",
       "    </tr>\n",
       "    <tr>\n",
       "      <th>11433</th>\n",
       "      <td>2116434</td>\n",
       "      <td>49.238106</td>\n",
       "      <td>5.397626</td>\n",
       "      <td>NaN</td>\n",
       "      <td>1.0</td>\n",
       "      <td>NaN</td>\n",
       "      <td>NaN</td>\n",
       "      <td>NaN</td>\n",
       "      <td>55307</td>\n",
       "      <td>Louvemont-Côte-du-Poivre</td>\n",
       "      <td>831.0</td>\n",
       "      <td>5.401587</td>\n",
       "      <td>49.240210</td>\n",
       "      <td>NaN</td>\n",
       "      <td>NaN</td>\n",
       "      <td>NaN</td>\n",
       "      <td>NaN</td>\n",
       "      <td>NaN</td>\n",
       "      <td>NaN</td>\n",
       "    </tr>\n",
       "    <tr>\n",
       "      <th>19057</th>\n",
       "      <td>2967703</td>\n",
       "      <td>49.233925</td>\n",
       "      <td>5.265244</td>\n",
       "      <td>NaN</td>\n",
       "      <td>1.0</td>\n",
       "      <td>NaN</td>\n",
       "      <td>NaN</td>\n",
       "      <td>NaN</td>\n",
       "      <td>55139</td>\n",
       "      <td>Cumières-le-Mort-Homme</td>\n",
       "      <td>611.0</td>\n",
       "      <td>5.268401</td>\n",
       "      <td>49.234490</td>\n",
       "      <td>NaN</td>\n",
       "      <td>NaN</td>\n",
       "      <td>NaN</td>\n",
       "      <td>NaN</td>\n",
       "      <td>NaN</td>\n",
       "      <td>NaN</td>\n",
       "    </tr>\n",
       "    <tr>\n",
       "      <th>23990</th>\n",
       "      <td>280440</td>\n",
       "      <td>49.181231</td>\n",
       "      <td>-0.221640</td>\n",
       "      <td>NaN</td>\n",
       "      <td>NaN</td>\n",
       "      <td>NaN</td>\n",
       "      <td>NaN</td>\n",
       "      <td>NaN</td>\n",
       "      <td>14666</td>\n",
       "      <td>Sannerville</td>\n",
       "      <td>520.0</td>\n",
       "      <td>-0.224219</td>\n",
       "      <td>49.183563</td>\n",
       "      <td>NaN</td>\n",
       "      <td>NaN</td>\n",
       "      <td>NaN</td>\n",
       "      <td>NaN</td>\n",
       "      <td>NaN</td>\n",
       "      <td>NaN</td>\n",
       "    </tr>\n",
       "    <tr>\n",
       "      <th>25503</th>\n",
       "      <td>6837719</td>\n",
       "      <td>49.213400</td>\n",
       "      <td>1.330809</td>\n",
       "      <td>2.0</td>\n",
       "      <td>1.0</td>\n",
       "      <td>NaN</td>\n",
       "      <td>NaN</td>\n",
       "      <td>NaN</td>\n",
       "      <td>27058</td>\n",
       "      <td>Les Trois Lacs</td>\n",
       "      <td>3657.0</td>\n",
       "      <td>1.333144</td>\n",
       "      <td>49.216904</td>\n",
       "      <td>NaN</td>\n",
       "      <td>NaN</td>\n",
       "      <td>NaN</td>\n",
       "      <td>NaN</td>\n",
       "      <td>NaN</td>\n",
       "      <td>NaN</td>\n",
       "    </tr>\n",
       "  </tbody>\n",
       "</table>\n",
       "</div>"
      ],
      "text/plain": [
       "         osmid          y         x  sleeping  visit  working  fooding   \n",
       "1802   2116433  49.236510  5.467500       NaN    1.0      NaN      NaN  \\\n",
       "11433  2116434  49.238106  5.397626       NaN    1.0      NaN      NaN   \n",
       "19057  2967703  49.233925  5.265244       NaN    1.0      NaN      NaN   \n",
       "23990   280440  49.181231 -0.221640       NaN    NaN      NaN      NaN   \n",
       "25503  6837719  49.213400  1.330809       2.0    1.0      NaN      NaN   \n",
       "\n",
       "       vehicule insee_x               nom_commune  surf_ha_x  x_centroid_x   \n",
       "1802        NaN   55050                 Bezonvaux      926.0      5.471458  \\\n",
       "11433       NaN   55307  Louvemont-Côte-du-Poivre      831.0      5.401587   \n",
       "19057       NaN   55139    Cumières-le-Mort-Homme      611.0      5.268401   \n",
       "23990       NaN   14666               Sannerville      520.0     -0.224219   \n",
       "25503       NaN   27058            Les Trois Lacs     3657.0      1.333144   \n",
       "\n",
       "       y_centroid_x epci libepci  nb_vp_rechargeables_el   \n",
       "1802      49.231598  NaN     NaN                     NaN  \\\n",
       "11433     49.240210  NaN     NaN                     NaN   \n",
       "19057     49.234490  NaN     NaN                     NaN   \n",
       "23990     49.183563  NaN     NaN                     NaN   \n",
       "25503     49.216904  NaN     NaN                     NaN   \n",
       "\n",
       "       nb_vp_rechargeables_gaz  nb_vp  nom  \n",
       "1802                       NaN    NaN  NaN  \n",
       "11433                      NaN    NaN  NaN  \n",
       "19057                      NaN    NaN  NaN  \n",
       "23990                      NaN    NaN  NaN  \n",
       "25503                      NaN    NaN  NaN  "
      ]
     },
     "execution_count": 17,
     "metadata": {},
     "output_type": "execute_result"
    }
   ],
   "source": [
    "df_join_tot.loc[df_join_tot['nom_commune']!=df_join_tot['nom'],:]"
   ]
  },
  {
   "cell_type": "markdown",
   "metadata": {},
   "source": [
    "Donc, supression de cette colonne \"nom\" également :"
   ]
  },
  {
   "cell_type": "code",
   "execution_count": 18,
   "metadata": {},
   "outputs": [],
   "source": [
    "df_join_tot.drop(['nom'], axis=1, inplace=True)"
   ]
  },
  {
   "cell_type": "code",
   "execution_count": 19,
   "metadata": {},
   "outputs": [
    {
     "data": {
      "text/html": [
       "<div>\n",
       "<style scoped>\n",
       "    .dataframe tbody tr th:only-of-type {\n",
       "        vertical-align: middle;\n",
       "    }\n",
       "\n",
       "    .dataframe tbody tr th {\n",
       "        vertical-align: top;\n",
       "    }\n",
       "\n",
       "    .dataframe thead th {\n",
       "        text-align: right;\n",
       "    }\n",
       "</style>\n",
       "<table border=\"1\" class=\"dataframe\">\n",
       "  <thead>\n",
       "    <tr style=\"text-align: right;\">\n",
       "      <th></th>\n",
       "      <th>osmid</th>\n",
       "      <th>y</th>\n",
       "      <th>x</th>\n",
       "      <th>sleeping</th>\n",
       "      <th>visit</th>\n",
       "      <th>working</th>\n",
       "      <th>fooding</th>\n",
       "      <th>vehicule</th>\n",
       "      <th>insee_x</th>\n",
       "      <th>nom_commune</th>\n",
       "      <th>surf_ha_x</th>\n",
       "      <th>x_centroid_x</th>\n",
       "      <th>y_centroid_x</th>\n",
       "      <th>epci</th>\n",
       "      <th>libepci</th>\n",
       "      <th>nb_vp_rechargeables_el</th>\n",
       "      <th>nb_vp_rechargeables_gaz</th>\n",
       "      <th>nb_vp</th>\n",
       "    </tr>\n",
       "  </thead>\n",
       "  <tbody>\n",
       "    <tr>\n",
       "      <th>0</th>\n",
       "      <td>1149451</td>\n",
       "      <td>50.582893</td>\n",
       "      <td>2.143174</td>\n",
       "      <td>3.0</td>\n",
       "      <td>1.0</td>\n",
       "      <td>NaN</td>\n",
       "      <td>NaN</td>\n",
       "      <td>NaN</td>\n",
       "      <td>62053</td>\n",
       "      <td>Audincthun</td>\n",
       "      <td>1520.0</td>\n",
       "      <td>2.127048</td>\n",
       "      <td>50.578743</td>\n",
       "      <td>200069037</td>\n",
       "      <td>CA du Pays de Saint-Omer</td>\n",
       "      <td>7.0</td>\n",
       "      <td>0.0</td>\n",
       "      <td>787.0</td>\n",
       "    </tr>\n",
       "    <tr>\n",
       "      <th>1</th>\n",
       "      <td>910704</td>\n",
       "      <td>49.717236</td>\n",
       "      <td>3.012390</td>\n",
       "      <td>NaN</td>\n",
       "      <td>1.0</td>\n",
       "      <td>NaN</td>\n",
       "      <td>NaN</td>\n",
       "      <td>NaN</td>\n",
       "      <td>80284</td>\n",
       "      <td>Esmery-Hallon</td>\n",
       "      <td>1888.0</td>\n",
       "      <td>3.024816</td>\n",
       "      <td>49.711567</td>\n",
       "      <td>200070985</td>\n",
       "      <td>CC de l'Est de la Somme</td>\n",
       "      <td>10.0</td>\n",
       "      <td>0.0</td>\n",
       "      <td>931.0</td>\n",
       "    </tr>\n",
       "    <tr>\n",
       "      <th>2</th>\n",
       "      <td>1452239</td>\n",
       "      <td>42.876728</td>\n",
       "      <td>0.610023</td>\n",
       "      <td>NaN</td>\n",
       "      <td>NaN</td>\n",
       "      <td>NaN</td>\n",
       "      <td>NaN</td>\n",
       "      <td>NaN</td>\n",
       "      <td>31290</td>\n",
       "      <td>Lège</td>\n",
       "      <td>289.0</td>\n",
       "      <td>0.598100</td>\n",
       "      <td>42.879140</td>\n",
       "      <td>200072635</td>\n",
       "      <td>CC PyrÃ©nÃ©es Haut Garonnaises</td>\n",
       "      <td>1.0</td>\n",
       "      <td>0.0</td>\n",
       "      <td>43.0</td>\n",
       "    </tr>\n",
       "    <tr>\n",
       "      <th>3</th>\n",
       "      <td>2173628</td>\n",
       "      <td>48.094594</td>\n",
       "      <td>1.514000</td>\n",
       "      <td>NaN</td>\n",
       "      <td>NaN</td>\n",
       "      <td>NaN</td>\n",
       "      <td>NaN</td>\n",
       "      <td>NaN</td>\n",
       "      <td>28400</td>\n",
       "      <td>Varize</td>\n",
       "      <td>1387.0</td>\n",
       "      <td>1.525235</td>\n",
       "      <td>48.082363</td>\n",
       "      <td>200070159</td>\n",
       "      <td>CC CÅur de Beauce</td>\n",
       "      <td>2.0</td>\n",
       "      <td>0.0</td>\n",
       "      <td>228.0</td>\n",
       "    </tr>\n",
       "    <tr>\n",
       "      <th>4</th>\n",
       "      <td>106436</td>\n",
       "      <td>47.193507</td>\n",
       "      <td>0.099943</td>\n",
       "      <td>NaN</td>\n",
       "      <td>2.0</td>\n",
       "      <td>NaN</td>\n",
       "      <td>NaN</td>\n",
       "      <td>NaN</td>\n",
       "      <td>37220</td>\n",
       "      <td>Saint-Germain-sur-Vienne</td>\n",
       "      <td>1338.0</td>\n",
       "      <td>0.110709</td>\n",
       "      <td>47.180550</td>\n",
       "      <td>200043081</td>\n",
       "      <td>CC Chinon, Vienne et Loire</td>\n",
       "      <td>3.0</td>\n",
       "      <td>0.0</td>\n",
       "      <td>408.0</td>\n",
       "    </tr>\n",
       "  </tbody>\n",
       "</table>\n",
       "</div>"
      ],
      "text/plain": [
       "     osmid          y         x  sleeping  visit  working  fooding  vehicule   \n",
       "0  1149451  50.582893  2.143174       3.0    1.0      NaN      NaN       NaN  \\\n",
       "1   910704  49.717236  3.012390       NaN    1.0      NaN      NaN       NaN   \n",
       "2  1452239  42.876728  0.610023       NaN    NaN      NaN      NaN       NaN   \n",
       "3  2173628  48.094594  1.514000       NaN    NaN      NaN      NaN       NaN   \n",
       "4   106436  47.193507  0.099943       NaN    2.0      NaN      NaN       NaN   \n",
       "\n",
       "  insee_x               nom_commune  surf_ha_x  x_centroid_x  y_centroid_x   \n",
       "0   62053                Audincthun     1520.0      2.127048     50.578743  \\\n",
       "1   80284             Esmery-Hallon     1888.0      3.024816     49.711567   \n",
       "2   31290                      Lège      289.0      0.598100     42.879140   \n",
       "3   28400                    Varize     1387.0      1.525235     48.082363   \n",
       "4   37220  Saint-Germain-sur-Vienne     1338.0      0.110709     47.180550   \n",
       "\n",
       "        epci                         libepci  nb_vp_rechargeables_el   \n",
       "0  200069037        CA du Pays de Saint-Omer                     7.0  \\\n",
       "1  200070985         CC de l'Est de la Somme                    10.0   \n",
       "2  200072635  CC PyrÃ©nÃ©es Haut Garonnaises                     1.0   \n",
       "3  200070159              CC CÅur de Beauce                     2.0   \n",
       "4  200043081      CC Chinon, Vienne et Loire                     3.0   \n",
       "\n",
       "   nb_vp_rechargeables_gaz  nb_vp  \n",
       "0                      0.0  787.0  \n",
       "1                      0.0  931.0  \n",
       "2                      0.0   43.0  \n",
       "3                      0.0  228.0  \n",
       "4                      0.0  408.0  "
      ]
     },
     "execution_count": 19,
     "metadata": {},
     "output_type": "execute_result"
    }
   ],
   "source": [
    "df_join_tot.head()"
   ]
  },
  {
   "cell_type": "markdown",
   "metadata": {},
   "source": [
    "On renomme pour effacer les \"_x\" qui ont été générés pendant les jointures :"
   ]
  },
  {
   "cell_type": "code",
   "execution_count": 20,
   "metadata": {},
   "outputs": [],
   "source": [
    "df_join_tot.rename(columns={'insee_x':'insee', 'surf_ha_x':'surf_ha','x_centroid_x':'x_centroid', 'y_centroid_x':'y_centroid'}, inplace=True)"
   ]
  },
  {
   "cell_type": "code",
   "execution_count": 21,
   "metadata": {},
   "outputs": [
    {
     "name": "stdout",
     "output_type": "stream",
     "text": [
      "<class 'pandas.core.frame.DataFrame'>\n",
      "RangeIndex: 34460 entries, 0 to 34459\n",
      "Data columns (total 18 columns):\n",
      " #   Column                   Non-Null Count  Dtype  \n",
      "---  ------                   --------------  -----  \n",
      " 0   osmid                    34460 non-null  object \n",
      " 1   y                        34460 non-null  float64\n",
      " 2   x                        34460 non-null  float64\n",
      " 3   sleeping                 15412 non-null  float64\n",
      " 4   visit                    17921 non-null  float64\n",
      " 5   working                  6950 non-null   float64\n",
      " 6   fooding                  6616 non-null   float64\n",
      " 7   vehicule                 4166 non-null   float64\n",
      " 8   insee                    34460 non-null  object \n",
      " 9   nom_commune              34460 non-null  object \n",
      " 10  surf_ha                  34460 non-null  float64\n",
      " 11  x_centroid               34460 non-null  float64\n",
      " 12  y_centroid               34460 non-null  float64\n",
      " 13  epci                     34455 non-null  object \n",
      " 14  libepci                  34455 non-null  object \n",
      " 15  nb_vp_rechargeables_el   34455 non-null  float64\n",
      " 16  nb_vp_rechargeables_gaz  34455 non-null  float64\n",
      " 17  nb_vp                    34455 non-null  float64\n",
      "dtypes: float64(13), object(5)\n",
      "memory usage: 4.7+ MB\n"
     ]
    }
   ],
   "source": [
    "df_join_tot.info()"
   ]
  },
  {
   "attachments": {},
   "cell_type": "markdown",
   "metadata": {},
   "source": [
    "--------------------------"
   ]
  },
  {
   "cell_type": "markdown",
   "metadata": {},
   "source": [
    "GENERATION SOUS NEO4J"
   ]
  },
  {
   "attachments": {},
   "cell_type": "markdown",
   "metadata": {},
   "source": [
    "Fonctions de requêtes neo4j :"
   ]
  },
  {
   "cell_type": "markdown",
   "metadata": {},
   "source": [
    "---"
   ]
  },
  {
   "cell_type": "markdown",
   "metadata": {},
   "source": [
    "ATTENTION requêtes de suppressions (fonction d'ardoise !...)"
   ]
  },
  {
   "cell_type": "code",
   "execution_count": 38,
   "metadata": {},
   "outputs": [],
   "source": [
    "''' def delete_all(tx):\n",
    "    query = 'MATCH (n) \\\n",
    "                DETACH DELETE n \\\n",
    "                RETURN count(*) AS COUNT'\n",
    "    result = tx.run(query)\n",
    "    return result.data() '''"
   ]
  },
  {
   "cell_type": "code",
   "execution_count": 20,
   "metadata": {},
   "outputs": [],
   "source": [
    "\"\"\" def delete_city(tx):\n",
    "    \n",
    "    query = \"call apoc.periodic.iterate('MATCH (c:CITY) RETURN c','DETACH DELETE c RETURN count(*)', {batchSize:10000}) yield batches, total return batches, total\"\n",
    "\n",
    "    result = tx.run(query)\n",
    "    return result.data() \"\"\"\n"
   ]
  },
  {
   "cell_type": "code",
   "execution_count": 16,
   "metadata": {},
   "outputs": [],
   "source": [
    "\"\"\" def delete_city(tx):\n",
    "    query = 'MATCH (c:CITY) \\\n",
    "                CALL { WITH c \\\n",
    "                DETACH DELETE c \\\n",
    "                } IN TRANSACTIONS OF 10000 ROWS'\n",
    "    result = tx.run(query)\n",
    "    return result.data() \"\"\""
   ]
  },
  {
   "cell_type": "code",
   "execution_count": 56,
   "metadata": {},
   "outputs": [],
   "source": [
    "''' def delete_just_edges(tx):\n",
    "    query = 'MATCH ()-[r]-() \\\n",
    "                DELETE r \\\n",
    "                RETURN count(*) AS COUNT'\n",
    "    result = tx.run(query)\n",
    "    return result.data() '''"
   ]
  },
  {
   "cell_type": "markdown",
   "metadata": {},
   "source": [
    "---"
   ]
  },
  {
   "cell_type": "markdown",
   "metadata": {},
   "source": [
    "Requête de génération des noeuds communes :"
   ]
  },
  {
   "cell_type": "code",
   "execution_count": 23,
   "metadata": {},
   "outputs": [],
   "source": [
    "def create_node_per_batch(tx, props_list):\n",
    "\n",
    "    query = \"   UNWIND $props_list AS map \\\n",
    "                CREATE (n:CITY) \\\n",
    "                SET n = map \\\n",
    "                RETURN count(n) AS COUNT\"\n",
    "\n",
    "    result = tx.run(query, props_list=props_list)\n",
    "    return result.data()"
   ]
  },
  {
   "cell_type": "markdown",
   "metadata": {},
   "source": [
    "---"
   ]
  },
  {
   "attachments": {},
   "cell_type": "markdown",
   "metadata": {},
   "source": [
    "Drivers session for Neo4j :"
   ]
  },
  {
   "cell_type": "code",
   "execution_count": 24,
   "metadata": {},
   "outputs": [],
   "source": [
    "driver = GraphDatabase.driver(\n",
    "  \"bolt://localhost:7687\",\n",
    "  auth=basic_auth(\"neo4j\", PASSWORD_NEO4J))"
   ]
  },
  {
   "cell_type": "markdown",
   "metadata": {},
   "source": [
    "---"
   ]
  },
  {
   "cell_type": "markdown",
   "metadata": {},
   "source": [
    "Attention ! LAncement des re^quetes \"ardoises\" (pour effacer le graph ou des éléments du graph en cas d'erreur)"
   ]
  },
  {
   "cell_type": "markdown",
   "metadata": {},
   "source": [
    "Si besoin, dé-commenter les requêtes plus hauts, et les requêtes effectives ci-dessous"
   ]
  },
  {
   "cell_type": "markdown",
   "metadata": {},
   "source": [
    "Ardoise (pour effacer tous les points cities)"
   ]
  },
  {
   "cell_type": "code",
   "execution_count": 21,
   "metadata": {},
   "outputs": [],
   "source": [
    "\"\"\" with driver.session() as session:\n",
    "\n",
    "    count_list = []\n",
    "\n",
    "    result = session.execute_write(delete_city)\n",
    "\n",
    "driver.close() \"\"\"\n"
   ]
  },
  {
   "attachments": {},
   "cell_type": "markdown",
   "metadata": {},
   "source": [
    "Ardoise (pour effacer tout ancien graph)"
   ]
  },
  {
   "cell_type": "code",
   "execution_count": null,
   "metadata": {},
   "outputs": [],
   "source": [
    "''' with driver.session() as session:\n",
    "\n",
    "    count_list = []\n",
    "\n",
    "    result = session.execute_write(delete_all)\n",
    "\n",
    "driver.close()\n",
    "\n",
    "nb_nodes = result[0]['COUNT']\n",
    "                \n",
    "print(f'Total Numbers of deleted nodes: {nb_nodes}') '''"
   ]
  },
  {
   "attachments": {},
   "cell_type": "markdown",
   "metadata": {},
   "source": [
    "Ardoise (pour effacer seulement les relations)"
   ]
  },
  {
   "cell_type": "code",
   "execution_count": 158,
   "metadata": {},
   "outputs": [
    {
     "name": "stdout",
     "output_type": "stream",
     "text": [
      "Total Numbers of deleted edges: 0\n"
     ]
    }
   ],
   "source": [
    "''' with driver.session() as session:\n",
    "\n",
    "    count_list = []\n",
    "\n",
    "    result = session.execute_write(delete_just_edges)\n",
    "\n",
    "driver.close()\n",
    "\n",
    "nb_edges = result[0]['COUNT']\n",
    "                \n",
    "print(f'Total Numbers of deleted edges: {nb_edges}') '''"
   ]
  },
  {
   "attachments": {},
   "cell_type": "markdown",
   "metadata": {},
   "source": [
    "---"
   ]
  },
  {
   "attachments": {},
   "cell_type": "markdown",
   "metadata": {},
   "source": [
    "NODES GENERATION :"
   ]
  },
  {
   "cell_type": "code",
   "execution_count": 25,
   "metadata": {},
   "outputs": [
    {
     "name": "stdout",
     "output_type": "stream",
     "text": [
      "conversion of objects to parameters list for neo4j...\n"
     ]
    }
   ],
   "source": [
    "print(\"conversion of objects to parameters list for neo4j...\")\n",
    "\n",
    "props_list = df_join_tot.to_dict(\"records\")"
   ]
  },
  {
   "cell_type": "code",
   "execution_count": 26,
   "metadata": {},
   "outputs": [],
   "source": [
    "BATCH_SIZE = 10000"
   ]
  },
  {
   "cell_type": "code",
   "execution_count": 27,
   "metadata": {},
   "outputs": [],
   "source": [
    "# --- Batch function ---\n",
    "\n",
    "def batch(iterable, n=1):\n",
    "    l = len(iterable)\n",
    "    for ndx in range(0, l, n):\n",
    "        yield iterable[ndx:min(ndx + n, l)]\n"
   ]
  },
  {
   "cell_type": "code",
   "execution_count": 28,
   "metadata": {},
   "outputs": [
    {
     "name": "stderr",
     "output_type": "stream",
     "text": [
      "/tmp/ipykernel_25075/3878216737.py:8: DeprecationWarning: write_transaction has been renamed to execute_write\n",
      "  result = session.write_transaction(create_node_per_batch, props_batch)\n"
     ]
    },
    {
     "name": "stdout",
     "output_type": "stream",
     "text": [
      "Number of nodes created : 10000...\n",
      "Number of nodes created : 20000...\n",
      "Number of nodes created : 30000...\n",
      "Number of nodes created : 34460...\n",
      "Bath_list: [10000, 10000, 10000, 4460]\n",
      "Total Numbers of nodes created/updates: 34460\n"
     ]
    }
   ],
   "source": [
    "with driver.session() as session:\n",
    "\n",
    "    count_list = []\n",
    "\n",
    "    # Batch the writing session :\n",
    "\n",
    "    for props_batch in batch(props_list, BATCH_SIZE):\n",
    "        result = session.write_transaction(create_node_per_batch, props_batch)\n",
    "        count_list.append(result[0]['COUNT'])\n",
    "        nb_updates = sum(count_list)\n",
    "        print(f'Number of nodes created : {nb_updates}...')\n",
    "\n",
    "        \n",
    "\n",
    "    driver.close()\n",
    "\n",
    "print(f'Bath_list: {count_list}')\n",
    "\n",
    "print(f'Total Numbers of nodes created/updates: {nb_updates}')"
   ]
  },
  {
   "attachments": {},
   "cell_type": "markdown",
   "metadata": {},
   "source": [
    "---"
   ]
  }
 ],
 "metadata": {
  "kernelspec": {
   "display_name": "ECartoMobile",
   "language": "python",
   "name": "python3"
  },
  "language_info": {
   "codemirror_mode": {
    "name": "ipython",
    "version": 3
   },
   "file_extension": ".py",
   "mimetype": "text/x-python",
   "name": "python",
   "nbconvert_exporter": "python",
   "pygments_lexer": "ipython3",
   "version": "3.11.3"
  },
  "orig_nbformat": 4
 },
 "nbformat": 4,
 "nbformat_minor": 2
}
