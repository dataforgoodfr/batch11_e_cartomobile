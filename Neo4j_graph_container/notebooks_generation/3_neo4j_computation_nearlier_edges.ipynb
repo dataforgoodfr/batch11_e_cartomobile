{
 "cells": [
  {
   "attachments": {},
   "cell_type": "markdown",
   "metadata": {},
   "source": [
    "#### Computation de différentes relation \"plus proche\" entre les différents objets"
   ]
  },
  {
   "attachments": {},
   "cell_type": "markdown",
   "metadata": {},
   "source": [
    "Objectifs :\n",
    "\n",
    "- Génération de relations \"plus proche point géospatial\" entre différents objets, pour la computation des scores :\n",
    "    - CITY / ROAD_POINT : tous les points routes à moins de 5km\n",
    "    - OU, dans (1 seul ! ) cas impossible, création des relations à 7km"
   ]
  },
  {
   "attachments": {},
   "cell_type": "markdown",
   "metadata": {},
   "source": [
    "Imports :"
   ]
  },
  {
   "cell_type": "code",
   "execution_count": 1,
   "metadata": {},
   "outputs": [],
   "source": [
    "import geopandas as gpd\n",
    "import pandas as pd\n",
    "import requests\n",
    "\n",
    "import copy\n",
    "\n",
    "import matplotlib.pyplot as plt\n",
    "\n",
    "\n",
    "from neo4j import GraphDatabase, basic_auth"
   ]
  },
  {
   "attachments": {},
   "cell_type": "markdown",
   "metadata": {},
   "source": [
    "Neo4j session :"
   ]
  },
  {
   "cell_type": "code",
   "execution_count": 2,
   "metadata": {},
   "outputs": [],
   "source": [
    "PASSWORD_NEO4J = 'passwordneo4j'"
   ]
  },
  {
   "cell_type": "code",
   "execution_count": 3,
   "metadata": {},
   "outputs": [],
   "source": [
    "driver = GraphDatabase.driver(\n",
    "  \"bolt://localhost:7687\",\n",
    "  auth=basic_auth(\"neo4j\", PASSWORD_NEO4J))"
   ]
  },
  {
   "cell_type": "markdown",
   "metadata": {},
   "source": [
    "---"
   ]
  },
  {
   "cell_type": "markdown",
   "metadata": {},
   "source": [
    "----"
   ]
  },
  {
   "attachments": {},
   "cell_type": "markdown",
   "metadata": {},
   "source": [
    "##### Neo4j requests :"
   ]
  },
  {
   "cell_type": "markdown",
   "metadata": {},
   "source": [
    "Requête ardoise :"
   ]
  },
  {
   "cell_type": "code",
   "execution_count": 73,
   "metadata": {},
   "outputs": [],
   "source": [
    "\"\"\" def delete_all_edges_NEARLY_TO(tx):\n",
    "\n",
    "    query = \"CALL apoc.periodic.iterate( \\\n",
    "        'MATCH ()-[n:NEARLY_TO]-() \\\n",
    "        return id(n) as id', \\\n",
    "        'MATCH ()-[n:NEARLY_TO]-() WHERE id(n) = id DELETE n', \\\n",
    "        {batchSize:100000}) \\\n",
    "              YIELD batches, total return batches, total\"\n",
    "\n",
    "    result = tx.run(query)\n",
    "    return result.data() \"\"\""
   ]
  },
  {
   "cell_type": "code",
   "execution_count": 4,
   "metadata": {},
   "outputs": [],
   "source": [
    "\"\"\" def set_travel_time_zero(tx):\n",
    "\n",
    "    query = \"MATCH ()-[n:NEARLY_TO]-() \\\n",
    "            SET n.travel_time = 0.0 \\\n",
    "            RETURN count(*) AS count\"\n",
    "    \n",
    "    result = tx.run(query)\n",
    "    return result.data() \"\"\""
   ]
  },
  {
   "cell_type": "code",
   "execution_count": 24,
   "metadata": {},
   "outputs": [],
   "source": [
    "def get_all_road_points(tx):\n",
    "\n",
    "    query = \"MATCH (p:ROAD_POINT) \\\n",
    "            RETURN ID(p) as id, p.x as x , p.y as y\"\n",
    "    \n",
    "    result = tx.run(query)\n",
    "    return result.data()"
   ]
  },
  {
   "cell_type": "code",
   "execution_count": 25,
   "metadata": {},
   "outputs": [],
   "source": [
    "def get_all_communes(tx):\n",
    "\n",
    "    query = \"MATCH (n:CITY) RETURN n.insee as insee, n.x as x, n.y as y\"\n",
    "\n",
    "    result = tx.run(query)\n",
    "    return result.data()\n"
   ]
  },
  {
   "cell_type": "code",
   "execution_count": 26,
   "metadata": {},
   "outputs": [],
   "source": [
    "def get_all_communes_with_no_nearly_road(tx):\n",
    "\n",
    "    query = \"MATCH (n:CITY) WHERE NOT EXISTS ((n)-[:NEARLY_TO]-()) RETURN n.insee as insee\"\n",
    "\n",
    "    result = tx.run(query)\n",
    "    return result.data()\n"
   ]
  },
  {
   "cell_type": "code",
   "execution_count": 27,
   "metadata": {},
   "outputs": [],
   "source": [
    "def get_all_communes_with_no_very_nearly_road(tx):\n",
    "\n",
    "    query = \"MATCH (n:CITY) WHERE NOT EXISTS ((n)-[:VERY_NEARLY_TO]-()) RETURN n.insee as insee\"\n",
    "\n",
    "    result = tx.run(query)\n",
    "    return result.data()"
   ]
  },
  {
   "cell_type": "code",
   "execution_count": 28,
   "metadata": {},
   "outputs": [],
   "source": [
    "def create_relationship_NEARLY_TO(tx, props_list):\n",
    "\n",
    "    query = \"   UNWIND $props_list AS map \\\n",
    "                MATCH (p:ROAD_POINT) WHERE ID(p)=map.id \\\n",
    "                MATCH (c:CITY {insee:map.insee}) \\\n",
    "                CREATE (c)-[:NEARLY_TO]->(p) \\\n",
    "                RETURN count(p) AS COUNT\"\n",
    "    \n",
    "    result = tx.run(query, props_list=props_list)\n",
    "    return result.data()\n",
    "    "
   ]
  },
  {
   "cell_type": "code",
   "execution_count": 29,
   "metadata": {},
   "outputs": [],
   "source": [
    "def create_edge_NEARLY_TO_just_for_one_insee(tx, insee, DISTANCE_NEARLY_TO):\n",
    "\n",
    "    query = \"   MATCH (n:CITY) WHERE n.insee = \" + str(insee) + \" \\\n",
    "                MATCH (p:ROAD_POINT) WHERE point.distance(n.location, p.location) < \" + str(DISTANCE_NEARLY_TO) + \" \\\n",
    "                CREATE (n)-[r:NEARLY_TO]->(p) \\\n",
    "                RETURN count(*) as count\"\n",
    "\n",
    "    result = tx.run(query)\n",
    "    return result.data()"
   ]
  },
  {
   "cell_type": "code",
   "execution_count": 30,
   "metadata": {},
   "outputs": [],
   "source": [
    "def compute_point_distance_NEARLY_TO(tx):\n",
    "\n",
    "    query = \" MATCH (c:CITY)-[n:NEARLY_TO]-(p:ROAD_POINT) \\\n",
    "                SET n.distance= point.distance(c.location, p.location) \\\n",
    "                RETURN count(p) as count\"\n",
    "\n",
    "    result = tx.run(query)\n",
    "    return result.data()"
   ]
  },
  {
   "cell_type": "code",
   "execution_count": 31,
   "metadata": {},
   "outputs": [],
   "source": [
    "def create_relationships_VERY_NEARLY_TO(tx):\n",
    "\n",
    "    query = \" MATCH (c:CITY)-[n:NEARLY_TO]-(p:ROAD_POINT) \\\n",
    "                WITH apoc.agg.minItems(p, n.distance) as map, c \\\n",
    "                WITH map.items[0] as p_v_n, map.value as dist_min, c \\\n",
    "                CREATE (c)-[nr:VERY_NEARLY_TO {distance:dist_min}]->(p_v_n) \\\n",
    "                RETURN count(*) as count\"\n",
    "\n",
    "    result = tx.run(query)\n",
    "    return result.data()"
   ]
  },
  {
   "cell_type": "code",
   "execution_count": 40,
   "metadata": {},
   "outputs": [],
   "source": [
    "def create_additionnal_VERY_NEARLY_TO(tx, props_list):\n",
    "\n",
    "    query = \" UNWIND $props_list AS map \\\n",
    "                MATCH (c:CITY) WHERE c.insee = map.insee \\\n",
    "                MATCH (p:ROAD_POINT) WHERE p.x = map.pr_x AND p.y = map.pr_y \\\n",
    "                WITH point.distance(c.location, p.location) as dist, c, p \\\n",
    "                MERGE (c)-[nr:VERY_NEARLY_TO {distance:dist}]->(p) \\\n",
    "                RETURN c.insee, p.x, p.y\"\n",
    "\n",
    "    result = tx.run(query, props_list = props_list)\n",
    "    return result.data()"
   ]
  },
  {
   "attachments": {},
   "cell_type": "markdown",
   "metadata": {},
   "source": [
    "---"
   ]
  },
  {
   "cell_type": "markdown",
   "metadata": {},
   "source": [
    "IMPORT DES COMMUNES MUNIES DE LEUR GEOMETRIES :"
   ]
  },
  {
   "cell_type": "code",
   "execution_count": 33,
   "metadata": {},
   "outputs": [],
   "source": [
    "with driver.session() as session:\n",
    "\n",
    "    count_list = []\n",
    "\n",
    "    result = session.execute_write(get_all_communes)\n",
    "\n",
    "driver.close()"
   ]
  },
  {
   "cell_type": "code",
   "execution_count": 34,
   "metadata": {},
   "outputs": [],
   "source": [
    "communes_graph = pd.DataFrame(result)"
   ]
  },
  {
   "cell_type": "code",
   "execution_count": 35,
   "metadata": {},
   "outputs": [
    {
     "data": {
      "text/html": [
       "<div>\n",
       "<style scoped>\n",
       "    .dataframe tbody tr th:only-of-type {\n",
       "        vertical-align: middle;\n",
       "    }\n",
       "\n",
       "    .dataframe tbody tr th {\n",
       "        vertical-align: top;\n",
       "    }\n",
       "\n",
       "    .dataframe thead th {\n",
       "        text-align: right;\n",
       "    }\n",
       "</style>\n",
       "<table border=\"1\" class=\"dataframe\">\n",
       "  <thead>\n",
       "    <tr style=\"text-align: right;\">\n",
       "      <th></th>\n",
       "      <th>insee</th>\n",
       "      <th>x</th>\n",
       "      <th>y</th>\n",
       "    </tr>\n",
       "  </thead>\n",
       "  <tbody>\n",
       "    <tr>\n",
       "      <th>0</th>\n",
       "      <td>62053</td>\n",
       "      <td>2.143174</td>\n",
       "      <td>50.582893</td>\n",
       "    </tr>\n",
       "    <tr>\n",
       "      <th>1</th>\n",
       "      <td>80284</td>\n",
       "      <td>3.012390</td>\n",
       "      <td>49.717236</td>\n",
       "    </tr>\n",
       "    <tr>\n",
       "      <th>2</th>\n",
       "      <td>31290</td>\n",
       "      <td>0.610023</td>\n",
       "      <td>42.876728</td>\n",
       "    </tr>\n",
       "    <tr>\n",
       "      <th>3</th>\n",
       "      <td>28400</td>\n",
       "      <td>1.514000</td>\n",
       "      <td>48.094594</td>\n",
       "    </tr>\n",
       "    <tr>\n",
       "      <th>4</th>\n",
       "      <td>37220</td>\n",
       "      <td>0.099943</td>\n",
       "      <td>47.193507</td>\n",
       "    </tr>\n",
       "    <tr>\n",
       "      <th>...</th>\n",
       "      <td>...</td>\n",
       "      <td>...</td>\n",
       "      <td>...</td>\n",
       "    </tr>\n",
       "    <tr>\n",
       "      <th>34455</th>\n",
       "      <td>3170</td>\n",
       "      <td>3.092677</td>\n",
       "      <td>46.506657</td>\n",
       "    </tr>\n",
       "    <tr>\n",
       "      <th>34456</th>\n",
       "      <td>14394</td>\n",
       "      <td>-0.162877</td>\n",
       "      <td>49.015889</td>\n",
       "    </tr>\n",
       "    <tr>\n",
       "      <th>34457</th>\n",
       "      <td>29115</td>\n",
       "      <td>-3.895241</td>\n",
       "      <td>48.302289</td>\n",
       "    </tr>\n",
       "    <tr>\n",
       "      <th>34458</th>\n",
       "      <td>49308</td>\n",
       "      <td>-0.496845</td>\n",
       "      <td>47.370808</td>\n",
       "    </tr>\n",
       "    <tr>\n",
       "      <th>34459</th>\n",
       "      <td>19227</td>\n",
       "      <td>1.658044</td>\n",
       "      <td>45.285099</td>\n",
       "    </tr>\n",
       "  </tbody>\n",
       "</table>\n",
       "<p>34460 rows × 3 columns</p>\n",
       "</div>"
      ],
      "text/plain": [
       "       insee         x          y\n",
       "0      62053  2.143174  50.582893\n",
       "1      80284  3.012390  49.717236\n",
       "2      31290  0.610023  42.876728\n",
       "3      28400  1.514000  48.094594\n",
       "4      37220  0.099943  47.193507\n",
       "...      ...       ...        ...\n",
       "34455   3170  3.092677  46.506657\n",
       "34456  14394 -0.162877  49.015889\n",
       "34457  29115 -3.895241  48.302289\n",
       "34458  49308 -0.496845  47.370808\n",
       "34459  19227  1.658044  45.285099\n",
       "\n",
       "[34460 rows x 3 columns]"
      ]
     },
     "execution_count": 35,
     "metadata": {},
     "output_type": "execute_result"
    }
   ],
   "source": [
    "communes_graph"
   ]
  },
  {
   "cell_type": "markdown",
   "metadata": {},
   "source": [
    "Pour récupérer la géométrie de ces communes, on va faire une requête à une url externe de data.gouv :"
   ]
  },
  {
   "cell_type": "code",
   "execution_count": 30,
   "metadata": {},
   "outputs": [],
   "source": [
    "url ='https://www.data.gouv.fr/fr/datasets/r/fb3580f6-e875-408d-809a-ad22fc418581'"
   ]
  },
  {
   "cell_type": "code",
   "execution_count": 31,
   "metadata": {},
   "outputs": [
    {
     "name": "stdout",
     "output_type": "stream",
     "text": [
      "Request status : 200\n"
     ]
    }
   ],
   "source": [
    "r = requests.get(url)\n",
    "\n",
    "print(f\"Request status : {r.status_code}\")\n",
    "\n",
    "data = r.json()\n",
    "\n"
   ]
  },
  {
   "cell_type": "markdown",
   "metadata": {},
   "source": [
    "Conversion du json obtenu en geopandas dataframe :"
   ]
  },
  {
   "cell_type": "code",
   "execution_count": 32,
   "metadata": {},
   "outputs": [],
   "source": [
    "communes_geo = gpd.GeoDataFrame.from_features(data[\"features\"], crs=\"EPSG:4326\")"
   ]
  },
  {
   "cell_type": "code",
   "execution_count": 33,
   "metadata": {},
   "outputs": [
    {
     "name": "stdout",
     "output_type": "stream",
     "text": [
      "EPSG:4326\n"
     ]
    }
   ],
   "source": [
    "print(communes_geo.crs)"
   ]
  },
  {
   "cell_type": "code",
   "execution_count": 34,
   "metadata": {},
   "outputs": [
    {
     "data": {
      "text/html": [
       "<div>\n",
       "<style scoped>\n",
       "    .dataframe tbody tr th:only-of-type {\n",
       "        vertical-align: middle;\n",
       "    }\n",
       "\n",
       "    .dataframe tbody tr th {\n",
       "        vertical-align: top;\n",
       "    }\n",
       "\n",
       "    .dataframe thead th {\n",
       "        text-align: right;\n",
       "    }\n",
       "</style>\n",
       "<table border=\"1\" class=\"dataframe\">\n",
       "  <thead>\n",
       "    <tr style=\"text-align: right;\">\n",
       "      <th></th>\n",
       "      <th>geometry</th>\n",
       "      <th>codgeo</th>\n",
       "      <th>dep</th>\n",
       "      <th>reg</th>\n",
       "      <th>xcl2154</th>\n",
       "      <th>ycl2154</th>\n",
       "      <th>libgeo</th>\n",
       "    </tr>\n",
       "  </thead>\n",
       "  <tbody>\n",
       "    <tr>\n",
       "      <th>0</th>\n",
       "      <td>POLYGON ((4.90497 46.16079, 4.90280 46.15795, ...</td>\n",
       "      <td>01001</td>\n",
       "      <td>01</td>\n",
       "      <td>84</td>\n",
       "      <td>848241</td>\n",
       "      <td>6563021</td>\n",
       "      <td>L'Abergement-Clémenciat</td>\n",
       "    </tr>\n",
       "    <tr>\n",
       "      <th>1</th>\n",
       "      <td>POLYGON ((5.40440 46.00778, 5.41628 46.00056, ...</td>\n",
       "      <td>01002</td>\n",
       "      <td>01</td>\n",
       "      <td>84</td>\n",
       "      <td>887495</td>\n",
       "      <td>6548152</td>\n",
       "      <td>L'Abergement-de-Varey</td>\n",
       "    </tr>\n",
       "    <tr>\n",
       "      <th>2</th>\n",
       "      <td>POLYGON ((5.38637 45.93121, 5.38892 45.93320, ...</td>\n",
       "      <td>01004</td>\n",
       "      <td>01</td>\n",
       "      <td>84</td>\n",
       "      <td>882724</td>\n",
       "      <td>6542583</td>\n",
       "      <td>Ambérieu-en-Bugey</td>\n",
       "    </tr>\n",
       "    <tr>\n",
       "      <th>3</th>\n",
       "      <td>POLYGON ((4.88657 46.01602, 4.88808 46.01061, ...</td>\n",
       "      <td>01005</td>\n",
       "      <td>01</td>\n",
       "      <td>84</td>\n",
       "      <td>847277</td>\n",
       "      <td>6545791</td>\n",
       "      <td>Ambérieux-en-Dombes</td>\n",
       "    </tr>\n",
       "    <tr>\n",
       "      <th>4</th>\n",
       "      <td>POLYGON ((5.59066 45.75997, 5.58396 45.76274, ...</td>\n",
       "      <td>01006</td>\n",
       "      <td>01</td>\n",
       "      <td>84</td>\n",
       "      <td>902191</td>\n",
       "      <td>6519791</td>\n",
       "      <td>Ambléon</td>\n",
       "    </tr>\n",
       "  </tbody>\n",
       "</table>\n",
       "</div>"
      ],
      "text/plain": [
       "                                            geometry codgeo dep reg  xcl2154   \n",
       "0  POLYGON ((4.90497 46.16079, 4.90280 46.15795, ...  01001  01  84   848241  \\\n",
       "1  POLYGON ((5.40440 46.00778, 5.41628 46.00056, ...  01002  01  84   887495   \n",
       "2  POLYGON ((5.38637 45.93121, 5.38892 45.93320, ...  01004  01  84   882724   \n",
       "3  POLYGON ((4.88657 46.01602, 4.88808 46.01061, ...  01005  01  84   847277   \n",
       "4  POLYGON ((5.59066 45.75997, 5.58396 45.76274, ...  01006  01  84   902191   \n",
       "\n",
       "   ycl2154                   libgeo  \n",
       "0  6563021  L'Abergement-Clémenciat  \n",
       "1  6548152    L'Abergement-de-Varey  \n",
       "2  6542583        Ambérieu-en-Bugey  \n",
       "3  6545791      Ambérieux-en-Dombes  \n",
       "4  6519791                  Ambléon  "
      ]
     },
     "execution_count": 34,
     "metadata": {},
     "output_type": "execute_result"
    }
   ],
   "source": [
    "communes_geo.head()"
   ]
  },
  {
   "cell_type": "markdown",
   "metadata": {},
   "source": [
    "Cast pour la jointure :"
   ]
  },
  {
   "cell_type": "markdown",
   "metadata": {},
   "source": [
    "(en effet, le geopandas dataframe posssède des strings en guise d'insee alors que nos communes du graph fonctionnent avec des entiers... les départements commençant par 01, 02, etc... n'ont donc pas de zéro en amont du code insee)"
   ]
  },
  {
   "cell_type": "code",
   "execution_count": 35,
   "metadata": {},
   "outputs": [],
   "source": [
    "communes_graph[\"insee\"] = communes_graph[\"insee\"].apply(lambda v : str(v) if len(str(v))!=4 else \"0\" + str(v))\n"
   ]
  },
  {
   "cell_type": "markdown",
   "metadata": {},
   "source": [
    "Vérification (un 0 a bien été ajouté à l'insee en début)"
   ]
  },
  {
   "cell_type": "code",
   "execution_count": 36,
   "metadata": {},
   "outputs": [
    {
     "data": {
      "text/html": [
       "<div>\n",
       "<style scoped>\n",
       "    .dataframe tbody tr th:only-of-type {\n",
       "        vertical-align: middle;\n",
       "    }\n",
       "\n",
       "    .dataframe tbody tr th {\n",
       "        vertical-align: top;\n",
       "    }\n",
       "\n",
       "    .dataframe thead th {\n",
       "        text-align: right;\n",
       "    }\n",
       "</style>\n",
       "<table border=\"1\" class=\"dataframe\">\n",
       "  <thead>\n",
       "    <tr style=\"text-align: right;\">\n",
       "      <th></th>\n",
       "      <th>insee</th>\n",
       "      <th>x</th>\n",
       "      <th>y</th>\n",
       "    </tr>\n",
       "  </thead>\n",
       "  <tbody>\n",
       "    <tr>\n",
       "      <th>34455</th>\n",
       "      <td>03170</td>\n",
       "      <td>3.092677</td>\n",
       "      <td>46.506657</td>\n",
       "    </tr>\n",
       "  </tbody>\n",
       "</table>\n",
       "</div>"
      ],
      "text/plain": [
       "       insee         x          y\n",
       "34455  03170  3.092677  46.506657"
      ]
     },
     "execution_count": 36,
     "metadata": {},
     "output_type": "execute_result"
    }
   ],
   "source": [
    "communes_graph.loc[communes_graph[\"insee\"]==\"03170\",:]"
   ]
  },
  {
   "cell_type": "markdown",
   "metadata": {},
   "source": [
    "Jointure à gauche (pour ne garder que les communes existantes dans le graph qui sont donc métropolitaines)"
   ]
  },
  {
   "cell_type": "code",
   "execution_count": 37,
   "metadata": {},
   "outputs": [],
   "source": [
    "gdf_communes = communes_graph.merge(communes_geo[['codgeo', 'geometry']], how='left', left_on=\"insee\", right_on=\"codgeo\" )"
   ]
  },
  {
   "cell_type": "code",
   "execution_count": 38,
   "metadata": {},
   "outputs": [],
   "source": [
    "gdf_communes = gpd.GeoDataFrame(gdf_communes)"
   ]
  },
  {
   "cell_type": "code",
   "execution_count": 39,
   "metadata": {},
   "outputs": [
    {
     "data": {
      "text/html": [
       "<div>\n",
       "<style scoped>\n",
       "    .dataframe tbody tr th:only-of-type {\n",
       "        vertical-align: middle;\n",
       "    }\n",
       "\n",
       "    .dataframe tbody tr th {\n",
       "        vertical-align: top;\n",
       "    }\n",
       "\n",
       "    .dataframe thead th {\n",
       "        text-align: right;\n",
       "    }\n",
       "</style>\n",
       "<table border=\"1\" class=\"dataframe\">\n",
       "  <thead>\n",
       "    <tr style=\"text-align: right;\">\n",
       "      <th></th>\n",
       "      <th>insee</th>\n",
       "      <th>x</th>\n",
       "      <th>y</th>\n",
       "      <th>codgeo</th>\n",
       "      <th>geometry</th>\n",
       "    </tr>\n",
       "  </thead>\n",
       "  <tbody>\n",
       "    <tr>\n",
       "      <th>34455</th>\n",
       "      <td>03170</td>\n",
       "      <td>3.092677</td>\n",
       "      <td>46.506657</td>\n",
       "      <td>03170</td>\n",
       "      <td>POLYGON ((3.08502 46.54273, 3.07652 46.54202, ...</td>\n",
       "    </tr>\n",
       "  </tbody>\n",
       "</table>\n",
       "</div>"
      ],
      "text/plain": [
       "       insee         x          y codgeo   \n",
       "34455  03170  3.092677  46.506657  03170  \\\n",
       "\n",
       "                                                geometry  \n",
       "34455  POLYGON ((3.08502 46.54273, 3.07652 46.54202, ...  "
      ]
     },
     "execution_count": 39,
     "metadata": {},
     "output_type": "execute_result"
    }
   ],
   "source": [
    "gdf_communes.loc[gdf_communes[\"insee\"]==\"03170\",:]"
   ]
  },
  {
   "cell_type": "markdown",
   "metadata": {},
   "source": [
    "Visualisation de l'ensemble des communes de France (attention : computation 1 - 2 mins)"
   ]
  },
  {
   "cell_type": "code",
   "execution_count": 40,
   "metadata": {},
   "outputs": [
    {
     "data": {
      "text/plain": [
       "<Axes: >"
      ]
     },
     "execution_count": 40,
     "metadata": {},
     "output_type": "execute_result"
    },
    {
     "data": {
      "image/png": "[encoded data removed]",
      "text/plain": [
       "<Figure size 640x480 with 1 Axes>"
      ]
     },
     "metadata": {},
     "output_type": "display_data"
    }
   ],
   "source": [
    "gdf_communes.plot()"
   ]
  },
  {
   "cell_type": "markdown",
   "metadata": {},
   "source": [
    "---"
   ]
  },
  {
   "cell_type": "markdown",
   "metadata": {},
   "source": [
    "IMPORT DES POINTS ROUTES DU GRAPH :"
   ]
  },
  {
   "cell_type": "markdown",
   "metadata": {},
   "source": [
    "(de 1 à 2 minutes pour cette requête...)"
   ]
  },
  {
   "cell_type": "code",
   "execution_count": 41,
   "metadata": {},
   "outputs": [],
   "source": [
    "with driver.session() as session:\n",
    "\n",
    "    count_list = []\n",
    "\n",
    "    result = session.execute_write(get_all_road_points)\n",
    "\n",
    "driver.close()"
   ]
  },
  {
   "cell_type": "code",
   "execution_count": 42,
   "metadata": {},
   "outputs": [],
   "source": [
    "df_rp = pd.DataFrame(result)"
   ]
  },
  {
   "cell_type": "code",
   "execution_count": 43,
   "metadata": {},
   "outputs": [
    {
     "data": {
      "text/html": [
       "<div>\n",
       "<style scoped>\n",
       "    .dataframe tbody tr th:only-of-type {\n",
       "        vertical-align: middle;\n",
       "    }\n",
       "\n",
       "    .dataframe tbody tr th {\n",
       "        vertical-align: top;\n",
       "    }\n",
       "\n",
       "    .dataframe thead th {\n",
       "        text-align: right;\n",
       "    }\n",
       "</style>\n",
       "<table border=\"1\" class=\"dataframe\">\n",
       "  <thead>\n",
       "    <tr style=\"text-align: right;\">\n",
       "      <th></th>\n",
       "      <th>id</th>\n",
       "      <th>x</th>\n",
       "      <th>y</th>\n",
       "    </tr>\n",
       "  </thead>\n",
       "  <tbody>\n",
       "    <tr>\n",
       "      <th>0</th>\n",
       "      <td>0</td>\n",
       "      <td>5.609986</td>\n",
       "      <td>45.612495</td>\n",
       "    </tr>\n",
       "    <tr>\n",
       "      <th>1</th>\n",
       "      <td>1</td>\n",
       "      <td>5.610649</td>\n",
       "      <td>45.618184</td>\n",
       "    </tr>\n",
       "    <tr>\n",
       "      <th>2</th>\n",
       "      <td>2</td>\n",
       "      <td>5.610845</td>\n",
       "      <td>45.618820</td>\n",
       "    </tr>\n",
       "    <tr>\n",
       "      <th>3</th>\n",
       "      <td>3</td>\n",
       "      <td>5.643739</td>\n",
       "      <td>45.640536</td>\n",
       "    </tr>\n",
       "    <tr>\n",
       "      <th>4</th>\n",
       "      <td>4</td>\n",
       "      <td>5.666526</td>\n",
       "      <td>45.717441</td>\n",
       "    </tr>\n",
       "    <tr>\n",
       "      <th>...</th>\n",
       "      <td>...</td>\n",
       "      <td>...</td>\n",
       "      <td>...</td>\n",
       "    </tr>\n",
       "    <tr>\n",
       "      <th>523303</th>\n",
       "      <td>523303</td>\n",
       "      <td>4.908456</td>\n",
       "      <td>44.269882</td>\n",
       "    </tr>\n",
       "    <tr>\n",
       "      <th>523304</th>\n",
       "      <td>523304</td>\n",
       "      <td>4.763913</td>\n",
       "      <td>44.178254</td>\n",
       "    </tr>\n",
       "    <tr>\n",
       "      <th>523305</th>\n",
       "      <td>523305</td>\n",
       "      <td>4.764050</td>\n",
       "      <td>44.178234</td>\n",
       "    </tr>\n",
       "    <tr>\n",
       "      <th>523306</th>\n",
       "      <td>523306</td>\n",
       "      <td>4.825432</td>\n",
       "      <td>44.096210</td>\n",
       "    </tr>\n",
       "    <tr>\n",
       "      <th>523307</th>\n",
       "      <td>523307</td>\n",
       "      <td>4.688969</td>\n",
       "      <td>44.298924</td>\n",
       "    </tr>\n",
       "  </tbody>\n",
       "</table>\n",
       "<p>523308 rows × 3 columns</p>\n",
       "</div>"
      ],
      "text/plain": [
       "            id         x          y\n",
       "0            0  5.609986  45.612495\n",
       "1            1  5.610649  45.618184\n",
       "2            2  5.610845  45.618820\n",
       "3            3  5.643739  45.640536\n",
       "4            4  5.666526  45.717441\n",
       "...        ...       ...        ...\n",
       "523303  523303  4.908456  44.269882\n",
       "523304  523304  4.763913  44.178254\n",
       "523305  523305  4.764050  44.178234\n",
       "523306  523306  4.825432  44.096210\n",
       "523307  523307  4.688969  44.298924\n",
       "\n",
       "[523308 rows x 3 columns]"
      ]
     },
     "execution_count": 43,
     "metadata": {},
     "output_type": "execute_result"
    }
   ],
   "source": [
    "df_rp"
   ]
  },
  {
   "cell_type": "markdown",
   "metadata": {},
   "source": [
    "Conversion en geopandas dataframe :"
   ]
  },
  {
   "cell_type": "code",
   "execution_count": 44,
   "metadata": {},
   "outputs": [],
   "source": [
    "gdf_rp = gpd.GeoDataFrame(df_rp, geometry=gpd.points_from_xy(df_rp.x, df_rp.y), crs=\"EPSG:4326\")"
   ]
  },
  {
   "cell_type": "code",
   "execution_count": 45,
   "metadata": {},
   "outputs": [
    {
     "data": {
      "text/html": [
       "<div>\n",
       "<style scoped>\n",
       "    .dataframe tbody tr th:only-of-type {\n",
       "        vertical-align: middle;\n",
       "    }\n",
       "\n",
       "    .dataframe tbody tr th {\n",
       "        vertical-align: top;\n",
       "    }\n",
       "\n",
       "    .dataframe thead th {\n",
       "        text-align: right;\n",
       "    }\n",
       "</style>\n",
       "<table border=\"1\" class=\"dataframe\">\n",
       "  <thead>\n",
       "    <tr style=\"text-align: right;\">\n",
       "      <th></th>\n",
       "      <th>id</th>\n",
       "      <th>x</th>\n",
       "      <th>y</th>\n",
       "      <th>geometry</th>\n",
       "    </tr>\n",
       "  </thead>\n",
       "  <tbody>\n",
       "    <tr>\n",
       "      <th>0</th>\n",
       "      <td>0</td>\n",
       "      <td>5.609986</td>\n",
       "      <td>45.612495</td>\n",
       "      <td>POINT (5.60999 45.61249)</td>\n",
       "    </tr>\n",
       "    <tr>\n",
       "      <th>1</th>\n",
       "      <td>1</td>\n",
       "      <td>5.610649</td>\n",
       "      <td>45.618184</td>\n",
       "      <td>POINT (5.61065 45.61818)</td>\n",
       "    </tr>\n",
       "    <tr>\n",
       "      <th>2</th>\n",
       "      <td>2</td>\n",
       "      <td>5.610845</td>\n",
       "      <td>45.618820</td>\n",
       "      <td>POINT (5.61084 45.61882)</td>\n",
       "    </tr>\n",
       "    <tr>\n",
       "      <th>3</th>\n",
       "      <td>3</td>\n",
       "      <td>5.643739</td>\n",
       "      <td>45.640536</td>\n",
       "      <td>POINT (5.64374 45.64054)</td>\n",
       "    </tr>\n",
       "    <tr>\n",
       "      <th>4</th>\n",
       "      <td>4</td>\n",
       "      <td>5.666526</td>\n",
       "      <td>45.717441</td>\n",
       "      <td>POINT (5.66653 45.71744)</td>\n",
       "    </tr>\n",
       "  </tbody>\n",
       "</table>\n",
       "</div>"
      ],
      "text/plain": [
       "   id         x          y                  geometry\n",
       "0   0  5.609986  45.612495  POINT (5.60999 45.61249)\n",
       "1   1  5.610649  45.618184  POINT (5.61065 45.61818)\n",
       "2   2  5.610845  45.618820  POINT (5.61084 45.61882)\n",
       "3   3  5.643739  45.640536  POINT (5.64374 45.64054)\n",
       "4   4  5.666526  45.717441  POINT (5.66653 45.71744)"
      ]
     },
     "execution_count": 45,
     "metadata": {},
     "output_type": "execute_result"
    }
   ],
   "source": [
    "gdf_rp.head()"
   ]
  },
  {
   "cell_type": "markdown",
   "metadata": {},
   "source": [
    "----"
   ]
  },
  {
   "cell_type": "markdown",
   "metadata": {},
   "source": [
    "JOINTURE SPATIALE SOUS GEOPANDAS :"
   ]
  },
  {
   "cell_type": "markdown",
   "metadata": {},
   "source": [
    "On prend un rayon de 5km tout autour des points routes"
   ]
  },
  {
   "cell_type": "markdown",
   "metadata": {},
   "source": [
    "Projection dans un système métrique (EPSG:3857), agrandissement, puis re-projection au système d'origine (EPSG:4326)"
   ]
  },
  {
   "cell_type": "code",
   "execution_count": 46,
   "metadata": {},
   "outputs": [],
   "source": [
    "gdf_rp_2 = gdf_rp.to_crs(crs=3857)"
   ]
  },
  {
   "cell_type": "markdown",
   "metadata": {},
   "source": [
    "\"Gonflement\" des points routes de 5 kilomètres de rayon (dans le repère 3857)"
   ]
  },
  {
   "cell_type": "code",
   "execution_count": 47,
   "metadata": {},
   "outputs": [],
   "source": [
    "gdf_rp_2 = gdf_rp_2.buffer(5000)"
   ]
  },
  {
   "cell_type": "code",
   "execution_count": 48,
   "metadata": {},
   "outputs": [],
   "source": [
    "gdf_rp_3 = copy.copy(gdf_rp)"
   ]
  },
  {
   "cell_type": "code",
   "execution_count": 49,
   "metadata": {},
   "outputs": [],
   "source": [
    "gdf_rp_3.geometry = gdf_rp_2.to_crs(crs=4326).geometry"
   ]
  },
  {
   "cell_type": "code",
   "execution_count": 50,
   "metadata": {},
   "outputs": [
    {
     "data": {
      "text/html": [
       "<div>\n",
       "<style scoped>\n",
       "    .dataframe tbody tr th:only-of-type {\n",
       "        vertical-align: middle;\n",
       "    }\n",
       "\n",
       "    .dataframe tbody tr th {\n",
       "        vertical-align: top;\n",
       "    }\n",
       "\n",
       "    .dataframe thead th {\n",
       "        text-align: right;\n",
       "    }\n",
       "</style>\n",
       "<table border=\"1\" class=\"dataframe\">\n",
       "  <thead>\n",
       "    <tr style=\"text-align: right;\">\n",
       "      <th></th>\n",
       "      <th>id</th>\n",
       "      <th>x</th>\n",
       "      <th>y</th>\n",
       "      <th>geometry</th>\n",
       "    </tr>\n",
       "  </thead>\n",
       "  <tbody>\n",
       "    <tr>\n",
       "      <th>0</th>\n",
       "      <td>0</td>\n",
       "      <td>5.609986</td>\n",
       "      <td>45.612495</td>\n",
       "      <td>POLYGON ((5.65490 45.61249, 5.65469 45.60942, ...</td>\n",
       "    </tr>\n",
       "    <tr>\n",
       "      <th>1</th>\n",
       "      <td>1</td>\n",
       "      <td>5.610649</td>\n",
       "      <td>45.618184</td>\n",
       "      <td>POLYGON ((5.65556 45.61818, 5.65535 45.61510, ...</td>\n",
       "    </tr>\n",
       "    <tr>\n",
       "      <th>2</th>\n",
       "      <td>2</td>\n",
       "      <td>5.610845</td>\n",
       "      <td>45.618820</td>\n",
       "      <td>POLYGON ((5.65576 45.61882, 5.65554 45.61574, ...</td>\n",
       "    </tr>\n",
       "    <tr>\n",
       "      <th>3</th>\n",
       "      <td>3</td>\n",
       "      <td>5.643739</td>\n",
       "      <td>45.640536</td>\n",
       "      <td>POLYGON ((5.68865 45.64054, 5.68844 45.63746, ...</td>\n",
       "    </tr>\n",
       "    <tr>\n",
       "      <th>4</th>\n",
       "      <td>4</td>\n",
       "      <td>5.666526</td>\n",
       "      <td>45.717441</td>\n",
       "      <td>POLYGON ((5.71144 45.71744, 5.71123 45.71437, ...</td>\n",
       "    </tr>\n",
       "  </tbody>\n",
       "</table>\n",
       "</div>"
      ],
      "text/plain": [
       "   id         x          y                                           geometry\n",
       "0   0  5.609986  45.612495  POLYGON ((5.65490 45.61249, 5.65469 45.60942, ...\n",
       "1   1  5.610649  45.618184  POLYGON ((5.65556 45.61818, 5.65535 45.61510, ...\n",
       "2   2  5.610845  45.618820  POLYGON ((5.65576 45.61882, 5.65554 45.61574, ...\n",
       "3   3  5.643739  45.640536  POLYGON ((5.68865 45.64054, 5.68844 45.63746, ...\n",
       "4   4  5.666526  45.717441  POLYGON ((5.71144 45.71744, 5.71123 45.71437, ..."
      ]
     },
     "execution_count": 50,
     "metadata": {},
     "output_type": "execute_result"
    }
   ],
   "source": [
    "gdf_rp_3.head()"
   ]
  },
  {
   "cell_type": "markdown",
   "metadata": {},
   "source": [
    "On obtient bien maintenant des cercles (de rayons 5km) pour chaque point"
   ]
  },
  {
   "cell_type": "markdown",
   "metadata": {},
   "source": [
    "Jointure spatial entre ces points \"gonflés\" de 5km et les gémoétries des communes :"
   ]
  },
  {
   "cell_type": "markdown",
   "metadata": {},
   "source": [
    "(cette énorme (!) jointure spatiale prend entre 1 et 2 minutes)"
   ]
  },
  {
   "cell_type": "code",
   "execution_count": 51,
   "metadata": {},
   "outputs": [],
   "source": [
    "df_join = gdf_communes.sjoin(gdf_rp_3, how=\"inner\")"
   ]
  },
  {
   "cell_type": "code",
   "execution_count": 52,
   "metadata": {},
   "outputs": [
    {
     "data": {
      "text/html": [
       "<div>\n",
       "<style scoped>\n",
       "    .dataframe tbody tr th:only-of-type {\n",
       "        vertical-align: middle;\n",
       "    }\n",
       "\n",
       "    .dataframe tbody tr th {\n",
       "        vertical-align: top;\n",
       "    }\n",
       "\n",
       "    .dataframe thead th {\n",
       "        text-align: right;\n",
       "    }\n",
       "</style>\n",
       "<table border=\"1\" class=\"dataframe\">\n",
       "  <thead>\n",
       "    <tr style=\"text-align: right;\">\n",
       "      <th></th>\n",
       "      <th>insee</th>\n",
       "      <th>x_left</th>\n",
       "      <th>y_left</th>\n",
       "      <th>codgeo</th>\n",
       "      <th>geometry</th>\n",
       "      <th>index_right</th>\n",
       "      <th>id</th>\n",
       "      <th>x_right</th>\n",
       "      <th>y_right</th>\n",
       "    </tr>\n",
       "  </thead>\n",
       "  <tbody>\n",
       "    <tr>\n",
       "      <th>0</th>\n",
       "      <td>62053</td>\n",
       "      <td>2.143174</td>\n",
       "      <td>50.582893</td>\n",
       "      <td>62053</td>\n",
       "      <td>POLYGON ((2.12362 50.60233, 2.12239 50.60111, ...</td>\n",
       "      <td>236362</td>\n",
       "      <td>236362</td>\n",
       "      <td>2.153916</td>\n",
       "      <td>50.533628</td>\n",
       "    </tr>\n",
       "    <tr>\n",
       "      <th>3783</th>\n",
       "      <td>62790</td>\n",
       "      <td>2.152329</td>\n",
       "      <td>50.533161</td>\n",
       "      <td>62790</td>\n",
       "      <td>POLYGON ((2.15315 50.52447, 2.15862 50.52724, ...</td>\n",
       "      <td>236362</td>\n",
       "      <td>236362</td>\n",
       "      <td>2.153916</td>\n",
       "      <td>50.533628</td>\n",
       "    </tr>\n",
       "    <tr>\n",
       "      <th>11641</th>\n",
       "      <td>62453</td>\n",
       "      <td>2.178727</td>\n",
       "      <td>50.530760</td>\n",
       "      <td>62453</td>\n",
       "      <td>POLYGON ((2.19995 50.54347, 2.19278 50.54135, ...</td>\n",
       "      <td>236362</td>\n",
       "      <td>236362</td>\n",
       "      <td>2.153916</td>\n",
       "      <td>50.533628</td>\n",
       "    </tr>\n",
       "    <tr>\n",
       "      <th>13195</th>\n",
       "      <td>62364</td>\n",
       "      <td>2.134929</td>\n",
       "      <td>50.515039</td>\n",
       "      <td>62364</td>\n",
       "      <td>POLYGON ((2.15032 50.49459, 2.15230 50.49601, ...</td>\n",
       "      <td>236362</td>\n",
       "      <td>236362</td>\n",
       "      <td>2.153916</td>\n",
       "      <td>50.533628</td>\n",
       "    </tr>\n",
       "    <tr>\n",
       "      <th>13257</th>\n",
       "      <td>62562</td>\n",
       "      <td>2.165547</td>\n",
       "      <td>50.545919</td>\n",
       "      <td>62562</td>\n",
       "      <td>POLYGON ((2.19240 50.54882, 2.18014 50.54920, ...</td>\n",
       "      <td>236362</td>\n",
       "      <td>236362</td>\n",
       "      <td>2.153916</td>\n",
       "      <td>50.533628</td>\n",
       "    </tr>\n",
       "  </tbody>\n",
       "</table>\n",
       "</div>"
      ],
      "text/plain": [
       "       insee    x_left     y_left codgeo   \n",
       "0      62053  2.143174  50.582893  62053  \\\n",
       "3783   62790  2.152329  50.533161  62790   \n",
       "11641  62453  2.178727  50.530760  62453   \n",
       "13195  62364  2.134929  50.515039  62364   \n",
       "13257  62562  2.165547  50.545919  62562   \n",
       "\n",
       "                                                geometry  index_right      id   \n",
       "0      POLYGON ((2.12362 50.60233, 2.12239 50.60111, ...       236362  236362  \\\n",
       "3783   POLYGON ((2.15315 50.52447, 2.15862 50.52724, ...       236362  236362   \n",
       "11641  POLYGON ((2.19995 50.54347, 2.19278 50.54135, ...       236362  236362   \n",
       "13195  POLYGON ((2.15032 50.49459, 2.15230 50.49601, ...       236362  236362   \n",
       "13257  POLYGON ((2.19240 50.54882, 2.18014 50.54920, ...       236362  236362   \n",
       "\n",
       "        x_right    y_right  \n",
       "0      2.153916  50.533628  \n",
       "3783   2.153916  50.533628  \n",
       "11641  2.153916  50.533628  \n",
       "13195  2.153916  50.533628  \n",
       "13257  2.153916  50.533628  "
      ]
     },
     "execution_count": 52,
     "metadata": {},
     "output_type": "execute_result"
    }
   ],
   "source": [
    "df_join.head()"
   ]
  },
  {
   "cell_type": "code",
   "execution_count": 53,
   "metadata": {},
   "outputs": [
    {
     "data": {
      "text/plain": [
       "3931580"
      ]
     },
     "execution_count": 53,
     "metadata": {},
     "output_type": "execute_result"
    }
   ],
   "source": [
    "len(df_join)"
   ]
  },
  {
   "cell_type": "markdown",
   "metadata": {},
   "source": [
    "Presque 4 millions de relations à créer ! Tout va bien..."
   ]
  },
  {
   "cell_type": "markdown",
   "metadata": {},
   "source": [
    "----"
   ]
  },
  {
   "cell_type": "markdown",
   "metadata": {},
   "source": [
    "REQUETE POUR CREATION DES RELATIONS \"NEARLY_TO\" SOUS NEO4J"
   ]
  },
  {
   "cell_type": "markdown",
   "metadata": {},
   "source": [
    "On épure le dataframe pour préparer les requêtes sous Neo4j"
   ]
  },
  {
   "cell_type": "code",
   "execution_count": 54,
   "metadata": {},
   "outputs": [],
   "source": [
    "df_records = df_join[['insee','id']]"
   ]
  },
  {
   "cell_type": "markdown",
   "metadata": {},
   "source": [
    "On cast à nouveau la colonne \"insee\" pour la reconvertir en Integer, comme dans le graph initial."
   ]
  },
  {
   "cell_type": "code",
   "execution_count": 55,
   "metadata": {},
   "outputs": [
    {
     "name": "stderr",
     "output_type": "stream",
     "text": [
      "/tmp/ipykernel_21859/1365095575.py:1: SettingWithCopyWarning: \n",
      "A value is trying to be set on a copy of a slice from a DataFrame.\n",
      "Try using .loc[row_indexer,col_indexer] = value instead\n",
      "\n",
      "See the caveats in the documentation: https://pandas.pydata.org/pandas-docs/stable/user_guide/indexing.html#returning-a-view-versus-a-copy\n",
      "  df_records['insee'] = df_records['insee'].apply(lambda v : int(v))\n"
     ]
    }
   ],
   "source": [
    "df_records['insee'] = df_records['insee'].apply(lambda v : int(v))"
   ]
  },
  {
   "cell_type": "code",
   "execution_count": 56,
   "metadata": {},
   "outputs": [
    {
     "name": "stdout",
     "output_type": "stream",
     "text": [
      "conversion of objects to parameters list for neo4j...\n"
     ]
    }
   ],
   "source": [
    "print(\"conversion of objects to parameters list for neo4j...\")\n",
    "\n",
    "props_list = df_records.to_dict(\"records\")"
   ]
  },
  {
   "cell_type": "markdown",
   "metadata": {},
   "source": [
    "Il est nécéssaire de lancer la requête sous NEo4j par batch... pour éviter de saturer la mémoire de l'éxécuteur "
   ]
  },
  {
   "cell_type": "code",
   "execution_count": 12,
   "metadata": {},
   "outputs": [],
   "source": [
    "BATCH_SIZE = 50000"
   ]
  },
  {
   "cell_type": "code",
   "execution_count": 10,
   "metadata": {},
   "outputs": [],
   "source": [
    "# --- Batch function ---\n",
    "\n",
    "def batch(iterable, n=1):\n",
    "    l = len(iterable)\n",
    "    for ndx in range(0, l, n):\n",
    "        yield iterable[ndx:min(ndx + n, l)]"
   ]
  },
  {
   "cell_type": "markdown",
   "metadata": {},
   "source": [
    "Requête :"
   ]
  },
  {
   "cell_type": "code",
   "execution_count": 64,
   "metadata": {},
   "outputs": [
    {
     "name": "stderr",
     "output_type": "stream",
     "text": [
      "/tmp/ipykernel_21859/890060475.py:8: DeprecationWarning: write_transaction has been renamed to execute_write\n",
      "  result = session.write_transaction(create_relationship_NEARLY_TO, props_batch)\n"
     ]
    },
    {
     "name": "stdout",
     "output_type": "stream",
     "text": [
      "Number of nodes created : 50000...\n",
      "Number of nodes created : 100000...\n",
      "Number of nodes created : 150000...\n",
      "Number of nodes created : 200000...\n",
      "Number of nodes created : 250000...\n",
      "Number of nodes created : 300000...\n",
      "Number of nodes created : 350000...\n",
      "Number of nodes created : 400000...\n",
      "Number of nodes created : 450000...\n",
      "Number of nodes created : 500000...\n",
      "Number of nodes created : 550000...\n",
      "Number of nodes created : 600000...\n",
      "Number of nodes created : 650000...\n",
      "Number of nodes created : 700000...\n",
      "Number of nodes created : 750000...\n",
      "Number of nodes created : 800000...\n",
      "Number of nodes created : 850000...\n",
      "Number of nodes created : 900000...\n",
      "Number of nodes created : 950000...\n",
      "Number of nodes created : 1000000...\n",
      "Number of nodes created : 1050000...\n",
      "Number of nodes created : 1100000...\n",
      "Number of nodes created : 1150000...\n",
      "Number of nodes created : 1200000...\n",
      "Number of nodes created : 1250000...\n",
      "Number of nodes created : 1300000...\n",
      "Number of nodes created : 1350000...\n",
      "Number of nodes created : 1400000...\n",
      "Number of nodes created : 1450000...\n",
      "Number of nodes created : 1500000...\n",
      "Number of nodes created : 1550000...\n",
      "Number of nodes created : 1600000...\n",
      "Number of nodes created : 1650000...\n",
      "Number of nodes created : 1700000...\n",
      "Number of nodes created : 1750000...\n",
      "Number of nodes created : 1800000...\n",
      "Number of nodes created : 1850000...\n",
      "Number of nodes created : 1900000...\n",
      "Number of nodes created : 1950000...\n",
      "Number of nodes created : 2000000...\n",
      "Number of nodes created : 2050000...\n",
      "Number of nodes created : 2100000...\n",
      "Number of nodes created : 2150000...\n",
      "Number of nodes created : 2200000...\n",
      "Number of nodes created : 2250000...\n",
      "Number of nodes created : 2300000...\n",
      "Number of nodes created : 2350000...\n",
      "Number of nodes created : 2400000...\n",
      "Number of nodes created : 2450000...\n",
      "Number of nodes created : 2500000...\n",
      "Number of nodes created : 2550000...\n",
      "Number of nodes created : 2600000...\n",
      "Number of nodes created : 2650000...\n",
      "Number of nodes created : 2700000...\n",
      "Number of nodes created : 2750000...\n",
      "Number of nodes created : 2800000...\n",
      "Number of nodes created : 2850000...\n",
      "Number of nodes created : 2900000...\n",
      "Number of nodes created : 2950000...\n",
      "Number of nodes created : 3000000...\n",
      "Number of nodes created : 3050000...\n",
      "Number of nodes created : 3100000...\n",
      "Number of nodes created : 3150000...\n",
      "Number of nodes created : 3200000...\n",
      "Number of nodes created : 3250000...\n",
      "Number of nodes created : 3300000...\n",
      "Number of nodes created : 3350000...\n",
      "Number of nodes created : 3400000...\n",
      "Number of nodes created : 3450000...\n",
      "Number of nodes created : 3500000...\n",
      "Number of nodes created : 3550000...\n",
      "Number of nodes created : 3600000...\n",
      "Number of nodes created : 3650000...\n",
      "Number of nodes created : 3700000...\n",
      "Number of nodes created : 3750000...\n",
      "Number of nodes created : 3800000...\n",
      "Number of nodes created : 3850000...\n",
      "Number of nodes created : 3900000...\n",
      "Number of nodes created : 3931580...\n",
      "Bath_list: [50000, 50000, 50000, 50000, 50000, 50000, 50000, 50000, 50000, 50000, 50000, 50000, 50000, 50000, 50000, 50000, 50000, 50000, 50000, 50000, 50000, 50000, 50000, 50000, 50000, 50000, 50000, 50000, 50000, 50000, 50000, 50000, 50000, 50000, 50000, 50000, 50000, 50000, 50000, 50000, 50000, 50000, 50000, 50000, 50000, 50000, 50000, 50000, 50000, 50000, 50000, 50000, 50000, 50000, 50000, 50000, 50000, 50000, 50000, 50000, 50000, 50000, 50000, 50000, 50000, 50000, 50000, 50000, 50000, 50000, 50000, 50000, 50000, 50000, 50000, 50000, 50000, 50000, 31580]\n",
      "Total Numbers of nodes created/updates: 3931580\n"
     ]
    }
   ],
   "source": [
    "with driver.session() as session:\n",
    "\n",
    "    count_list = []\n",
    "\n",
    "    # Batch the writing session :\n",
    "\n",
    "    for props_batch in batch(props_list, BATCH_SIZE):\n",
    "        result = session.write_transaction(create_relationship_NEARLY_TO, props_batch)\n",
    "        count_list.append(result[0]['COUNT'])\n",
    "        nb_updates = sum(count_list)\n",
    "        print(f'Number of nodes created : {nb_updates}...')\n",
    "\n",
    "        \n",
    "\n",
    "    driver.close()\n",
    "\n",
    "print(f'Bath_list: {count_list}')\n",
    "\n",
    "print(f'Total Numbers of nodes created/updates: {nb_updates}')"
   ]
  },
  {
   "cell_type": "markdown",
   "metadata": {},
   "source": [
    "Une génération de 4 presque millions de relations qui devrait rester extrêmement rapide (5 minutes de mon côté)"
   ]
  },
  {
   "cell_type": "markdown",
   "metadata": {},
   "source": [
    "Vérification des communes orphelines (sans relations \"NEARLY_TO\" avec au moins 1 point route)"
   ]
  },
  {
   "cell_type": "code",
   "execution_count": 65,
   "metadata": {},
   "outputs": [],
   "source": [
    "with driver.session() as session:\n",
    "\n",
    "    count_list = []\n",
    "\n",
    "    result = session.execute_write(get_all_communes_with_no_nearly_road)\n",
    "\n",
    "driver.close()\n",
    "\n",
    "df = pd.DataFrame(result)"
   ]
  },
  {
   "cell_type": "code",
   "execution_count": 66,
   "metadata": {},
   "outputs": [
    {
     "data": {
      "text/html": [
       "<div>\n",
       "<style scoped>\n",
       "    .dataframe tbody tr th:only-of-type {\n",
       "        vertical-align: middle;\n",
       "    }\n",
       "\n",
       "    .dataframe tbody tr th {\n",
       "        vertical-align: top;\n",
       "    }\n",
       "\n",
       "    .dataframe thead th {\n",
       "        text-align: right;\n",
       "    }\n",
       "</style>\n",
       "<table border=\"1\" class=\"dataframe\">\n",
       "  <thead>\n",
       "    <tr style=\"text-align: right;\">\n",
       "      <th></th>\n",
       "      <th>insee</th>\n",
       "    </tr>\n",
       "  </thead>\n",
       "  <tbody>\n",
       "    <tr>\n",
       "      <th>0</th>\n",
       "      <td>56152</td>\n",
       "    </tr>\n",
       "    <tr>\n",
       "      <th>1</th>\n",
       "      <td>17323</td>\n",
       "    </tr>\n",
       "    <tr>\n",
       "      <th>2</th>\n",
       "      <td>73047</td>\n",
       "    </tr>\n",
       "    <tr>\n",
       "      <th>3</th>\n",
       "      <td>29084</td>\n",
       "    </tr>\n",
       "    <tr>\n",
       "      <th>4</th>\n",
       "      <td>17486</td>\n",
       "    </tr>\n",
       "    <tr>\n",
       "      <th>5</th>\n",
       "      <td>48054</td>\n",
       "    </tr>\n",
       "    <tr>\n",
       "      <th>6</th>\n",
       "      <td>56086</td>\n",
       "    </tr>\n",
       "    <tr>\n",
       "      <th>7</th>\n",
       "      <td>56069</td>\n",
       "    </tr>\n",
       "    <tr>\n",
       "      <th>8</th>\n",
       "      <td>17385</td>\n",
       "    </tr>\n",
       "    <tr>\n",
       "      <th>9</th>\n",
       "      <td>56085</td>\n",
       "    </tr>\n",
       "    <tr>\n",
       "      <th>10</th>\n",
       "      <td>85113</td>\n",
       "    </tr>\n",
       "    <tr>\n",
       "      <th>11</th>\n",
       "      <td>17337</td>\n",
       "    </tr>\n",
       "    <tr>\n",
       "      <th>12</th>\n",
       "      <td>17004</td>\n",
       "    </tr>\n",
       "    <tr>\n",
       "      <th>13</th>\n",
       "      <td>17140</td>\n",
       "    </tr>\n",
       "    <tr>\n",
       "      <th>14</th>\n",
       "      <td>29155</td>\n",
       "    </tr>\n",
       "    <tr>\n",
       "      <th>15</th>\n",
       "      <td>56241</td>\n",
       "    </tr>\n",
       "    <tr>\n",
       "      <th>16</th>\n",
       "      <td>56114</td>\n",
       "    </tr>\n",
       "    <tr>\n",
       "      <th>17</th>\n",
       "      <td>29083</td>\n",
       "    </tr>\n",
       "    <tr>\n",
       "      <th>18</th>\n",
       "      <td>69168</td>\n",
       "    </tr>\n",
       "    <tr>\n",
       "      <th>19</th>\n",
       "      <td>56009</td>\n",
       "    </tr>\n",
       "  </tbody>\n",
       "</table>\n",
       "</div>"
      ],
      "text/plain": [
       "    insee\n",
       "0   56152\n",
       "1   17323\n",
       "2   73047\n",
       "3   29084\n",
       "4   17486\n",
       "5   48054\n",
       "6   56086\n",
       "7   56069\n",
       "8   17385\n",
       "9   56085\n",
       "10  85113\n",
       "11  17337\n",
       "12  17004\n",
       "13  17140\n",
       "14  29155\n",
       "15  56241\n",
       "16  56114\n",
       "17  29083\n",
       "18  69168\n",
       "19  56009"
      ]
     },
     "execution_count": 66,
     "metadata": {},
     "output_type": "execute_result"
    }
   ],
   "source": [
    "df"
   ]
  },
  {
   "cell_type": "markdown",
   "metadata": {},
   "source": [
    "Après vérification méticuleuse de la liste des 20 communes, elles sont toutes soit des communes situées sur des îles (donc ce ne sont pas des communes de \"passage\", soit des communes vraiment très isolées dans les montagnes, situées dans des cols escarpés ou cul-de-sac...)"
   ]
  },
  {
   "cell_type": "markdown",
   "metadata": {},
   "source": [
    "Toute sauf une commune, la Commune de Rochetaillé-sur-Saône (code insee : 69168) !... qui se situe en plein coeur de lyon. Pour uen raison étrange, Lyon possède un centre sans point route."
   ]
  },
  {
   "cell_type": "markdown",
   "metadata": {},
   "source": [
    "On va donc artificiellement créer des relations \"NEARLY_TO\" avec cette commune pour des points routes proches de 7km. (au lieu de 5km) :"
   ]
  },
  {
   "cell_type": "code",
   "execution_count": 68,
   "metadata": {},
   "outputs": [
    {
     "name": "stdout",
     "output_type": "stream",
     "text": [
      "Total Numbers of edges created: 122\n"
     ]
    }
   ],
   "source": [
    "with driver.session() as session:\n",
    "\n",
    "    result = session.execute_write(create_edge_NEARLY_TO_just_for_one_insee, 69168, 7000)\n",
    "\n",
    "driver.close()\n",
    "\n",
    "nb_nodes = result[0]['count']\n",
    "                \n",
    "print(f'Total Numbers of edges created: {nb_nodes}')"
   ]
  },
  {
   "cell_type": "markdown",
   "metadata": {},
   "source": [
    "----"
   ]
  },
  {
   "cell_type": "markdown",
   "metadata": {},
   "source": [
    "TRAVAUX SUR LES RELATIONS NEARLY_TO"
   ]
  },
  {
   "cell_type": "markdown",
   "metadata": {},
   "source": [
    "Il est maintenant nécéssaire d'ajouter une propriété de distance aux relations NEARLY_TO, pour la re^quete suivante."
   ]
  },
  {
   "cell_type": "code",
   "execution_count": 69,
   "metadata": {},
   "outputs": [
    {
     "name": "stdout",
     "output_type": "stream",
     "text": [
      "Total Numbers of add propertie: 7863390\n"
     ]
    }
   ],
   "source": [
    "with driver.session() as session:\n",
    "\n",
    "    result = session.execute_write(compute_point_distance_NEARLY_TO)\n",
    "\n",
    "driver.close()\n",
    "\n",
    "nb_nodes = result[0]['count']\n",
    "                \n",
    "print(f'Total Numbers of add propertie: {nb_nodes}')"
   ]
  },
  {
   "cell_type": "markdown",
   "metadata": {},
   "source": [
    "Avec cette relation de distance, on peut maintenant, pour chaque commune, repérer la relation NEARLY_TO qui possède la plus petite distance, et ainsi repérer le point route le plus près de la commune, qui possèdera en plus une relation de privilège supplémentaire intitulée \"VERY_NEARLY_TO\". Cette relation sera utile pour optimiser ensuite l'algorithme de plus court chemin.\n",
    "Pour deux communes indiquées en source et en destination, l'alogorithme commencera par déplacer le point de départ au point route le plus proche, et idem pour le point d'arriver."
   ]
  },
  {
   "cell_type": "code",
   "execution_count": 70,
   "metadata": {},
   "outputs": [
    {
     "name": "stdout",
     "output_type": "stream",
     "text": [
      "Total Numbers of relationships created: 34441\n"
     ]
    }
   ],
   "source": [
    "with driver.session() as session:\n",
    "\n",
    "    result = session.execute_write(create_relationships_VERY_NEARLY_TO)\n",
    "\n",
    "driver.close()\n",
    "\n",
    "nb_nodes = result[0]['count']\n",
    "                \n",
    "print(f'Total Numbers of relationships created: {nb_nodes}')"
   ]
  },
  {
   "cell_type": "markdown",
   "metadata": {},
   "source": [
    "---"
   ]
  },
  {
   "cell_type": "markdown",
   "metadata": {},
   "source": [
    "AJOUT DE D'AUTRES RELATION \"VERY_NEARLY_TO\""
   ]
  },
  {
   "cell_type": "markdown",
   "metadata": {},
   "source": [
    "Pour les îles (et petits villages reclus) qui n'étaient pas reliées, nous créons maintenant des relations \"VERY_NEARLY_TO\" \"à la main\" pour que chaque île soit reliée à un unique point route qui correspond au port principal qui y mène, et chaque petit village éloigné dans les montagnes, au plus proche village... Ainsi, si l'île est la destination d'un trajet, l'algorithme de plus court chemin pourra y accéder et scorer toutes les communes qui y mènent. "
   ]
  },
  {
   "cell_type": "code",
   "execution_count": 7,
   "metadata": {},
   "outputs": [
    {
     "data": {
      "text/html": [
       "<div>\n",
       "<style scoped>\n",
       "    .dataframe tbody tr th:only-of-type {\n",
       "        vertical-align: middle;\n",
       "    }\n",
       "\n",
       "    .dataframe tbody tr th {\n",
       "        vertical-align: top;\n",
       "    }\n",
       "\n",
       "    .dataframe thead th {\n",
       "        text-align: right;\n",
       "    }\n",
       "</style>\n",
       "<table border=\"1\" class=\"dataframe\">\n",
       "  <thead>\n",
       "    <tr style=\"text-align: right;\">\n",
       "      <th></th>\n",
       "      <th>insee</th>\n",
       "    </tr>\n",
       "  </thead>\n",
       "  <tbody>\n",
       "    <tr>\n",
       "      <th>0</th>\n",
       "      <td>56152</td>\n",
       "    </tr>\n",
       "    <tr>\n",
       "      <th>1</th>\n",
       "      <td>17323</td>\n",
       "    </tr>\n",
       "    <tr>\n",
       "      <th>2</th>\n",
       "      <td>73047</td>\n",
       "    </tr>\n",
       "    <tr>\n",
       "      <th>3</th>\n",
       "      <td>29084</td>\n",
       "    </tr>\n",
       "    <tr>\n",
       "      <th>4</th>\n",
       "      <td>17486</td>\n",
       "    </tr>\n",
       "    <tr>\n",
       "      <th>5</th>\n",
       "      <td>48054</td>\n",
       "    </tr>\n",
       "    <tr>\n",
       "      <th>6</th>\n",
       "      <td>56086</td>\n",
       "    </tr>\n",
       "    <tr>\n",
       "      <th>7</th>\n",
       "      <td>56069</td>\n",
       "    </tr>\n",
       "    <tr>\n",
       "      <th>8</th>\n",
       "      <td>17385</td>\n",
       "    </tr>\n",
       "    <tr>\n",
       "      <th>9</th>\n",
       "      <td>56085</td>\n",
       "    </tr>\n",
       "    <tr>\n",
       "      <th>10</th>\n",
       "      <td>85113</td>\n",
       "    </tr>\n",
       "    <tr>\n",
       "      <th>11</th>\n",
       "      <td>17337</td>\n",
       "    </tr>\n",
       "    <tr>\n",
       "      <th>12</th>\n",
       "      <td>17004</td>\n",
       "    </tr>\n",
       "    <tr>\n",
       "      <th>13</th>\n",
       "      <td>17140</td>\n",
       "    </tr>\n",
       "    <tr>\n",
       "      <th>14</th>\n",
       "      <td>29155</td>\n",
       "    </tr>\n",
       "    <tr>\n",
       "      <th>15</th>\n",
       "      <td>56241</td>\n",
       "    </tr>\n",
       "    <tr>\n",
       "      <th>16</th>\n",
       "      <td>56114</td>\n",
       "    </tr>\n",
       "    <tr>\n",
       "      <th>17</th>\n",
       "      <td>29083</td>\n",
       "    </tr>\n",
       "    <tr>\n",
       "      <th>18</th>\n",
       "      <td>56009</td>\n",
       "    </tr>\n",
       "  </tbody>\n",
       "</table>\n",
       "</div>"
      ],
      "text/plain": [
       "    insee\n",
       "0   56152\n",
       "1   17323\n",
       "2   73047\n",
       "3   29084\n",
       "4   17486\n",
       "5   48054\n",
       "6   56086\n",
       "7   56069\n",
       "8   17385\n",
       "9   56085\n",
       "10  85113\n",
       "11  17337\n",
       "12  17004\n",
       "13  17140\n",
       "14  29155\n",
       "15  56241\n",
       "16  56114\n",
       "17  29083\n",
       "18  56009"
      ]
     },
     "execution_count": 7,
     "metadata": {},
     "output_type": "execute_result"
    }
   ],
   "source": [
    "with driver.session() as session:\n",
    "\n",
    "    result = session.execute_write(get_all_communes_with_no_very_nearly_road)\n",
    "\n",
    "driver.close()\n",
    "\n",
    "df = pd.DataFrame(result)\n",
    "\n",
    "df"
   ]
  },
  {
   "cell_type": "markdown",
   "metadata": {},
   "source": [
    "Travail de repérage méticuleux et d'assocation communes/point routes \"à la main\" de repérage entre les points du graph et google map..."
   ]
  },
  {
   "cell_type": "code",
   "execution_count": 41,
   "metadata": {},
   "outputs": [],
   "source": [
    "list_records = [\n",
    "    {\"insee\":56152, \"pr_x\":-3.1269295, \"pr_y\":47.4771205},\n",
    "    {\"insee\":17323, \"pr_x\":-1.1522208, \"pr_y\":45.8436947},\n",
    "    {\"insee\":73047, \"pr_x\":6.9078997, \"pr_y\":45.2850301},\n",
    "    {\"insee\":29084, \"pr_x\":-4.7775583, \"pr_y\":48.359313},\n",
    "    {\"insee\":17486, \"pr_x\":-1.1522208, \"pr_y\":45.8436947},\n",
    "    {\"insee\":48054, \"pr_x\":3.7394928, \"pr_y\":44.4901744},\n",
    "    {\"insee\":56086, \"pr_x\":-3.1269295, \"pr_y\":47.4771205},\n",
    "    {\"insee\":56069, \"pr_x\":-3.3584235, \"pr_y\":47.7413205},\n",
    "    {\"insee\":17385, \"pr_x\":-1.1522208, \"pr_y\":45.8436947},\n",
    "    {\"insee\":56085, \"pr_x\":-3.1269295, \"pr_y\":47.4771205},\n",
    "    {\"insee\":85113, \"pr_x\":-2.1365096, \"pr_y\":46.8913332},\n",
    "    {\"insee\":17337, \"pr_x\":-1.1522208, \"pr_y\":45.8436947},\n",
    "    {\"insee\":17004, \"pr_x\":-1.1235936, \"pr_y\":46.0027603},\n",
    "    {\"insee\":17140, \"pr_x\":-1.1522208, \"pr_y\":45.8436947},\n",
    "    {\"insee\":29155, \"pr_x\":-4.7775583, \"pr_y\":48.359313},\n",
    "    {\"insee\":56241, \"pr_x\":-3.1269295, \"pr_y\":47.4771205},\n",
    "    {\"insee\":56114, \"pr_x\":-3.1269295, \"pr_y\":47.4771205},\n",
    "    {\"insee\":29083, \"pr_x\":-4.5571762, \"pr_y\":48.0096189},\n",
    "    {\"insee\":56009, \"pr_x\":-3.1269295, \"pr_y\":47.4771205}]"
   ]
  },
  {
   "cell_type": "code",
   "execution_count": null,
   "metadata": {},
   "outputs": [],
   "source": [
    "with driver.session() as session:\n",
    "\n",
    "    count_list = []\n",
    "\n",
    "    # Batch the writing session :\n",
    "\n",
    "    for props_batch in batch(list_records, BATCH_SIZE):\n",
    "        result = session.write_transaction(create_additionnal_VERY_NEARLY_TO, props_batch)\n",
    "   \n",
    "    driver.close()\n",
    "\n"
   ]
  },
  {
   "cell_type": "code",
   "execution_count": 43,
   "metadata": {},
   "outputs": [
    {
     "data": {
      "text/plain": [
       "[{'c.insee': 56152, 'p.x': -3.1269295, 'p.y': 47.4771205},\n",
       " {'c.insee': 17323, 'p.x': -1.1522208, 'p.y': 45.8436947},\n",
       " {'c.insee': 73047, 'p.x': 6.9078997, 'p.y': 45.2850301},\n",
       " {'c.insee': 29084, 'p.x': -4.7775583, 'p.y': 48.359313},\n",
       " {'c.insee': 17486, 'p.x': -1.1522208, 'p.y': 45.8436947},\n",
       " {'c.insee': 48054, 'p.x': 3.7394928, 'p.y': 44.4901744},\n",
       " {'c.insee': 56086, 'p.x': -3.1269295, 'p.y': 47.4771205},\n",
       " {'c.insee': 56069, 'p.x': -3.3584235, 'p.y': 47.7413205},\n",
       " {'c.insee': 17385, 'p.x': -1.1522208, 'p.y': 45.8436947},\n",
       " {'c.insee': 56085, 'p.x': -3.1269295, 'p.y': 47.4771205},\n",
       " {'c.insee': 85113, 'p.x': -2.1365096, 'p.y': 46.8913332},\n",
       " {'c.insee': 17337, 'p.x': -1.1522208, 'p.y': 45.8436947},\n",
       " {'c.insee': 17140, 'p.x': -1.1522208, 'p.y': 45.8436947},\n",
       " {'c.insee': 29155, 'p.x': -4.7775583, 'p.y': 48.359313},\n",
       " {'c.insee': 56241, 'p.x': -3.1269295, 'p.y': 47.4771205},\n",
       " {'c.insee': 56114, 'p.x': -3.1269295, 'p.y': 47.4771205},\n",
       " {'c.insee': 29083, 'p.x': -4.5571762, 'p.y': 48.0096189},\n",
       " {'c.insee': 56009, 'p.x': -3.1269295, 'p.y': 47.4771205}]"
      ]
     },
     "execution_count": 43,
     "metadata": {},
     "output_type": "execute_result"
    }
   ],
   "source": [
    "result"
   ]
  },
  {
   "cell_type": "markdown",
   "metadata": {},
   "source": [
    "FIN DU NOTEBOOK"
   ]
  },
  {
   "cell_type": "markdown",
   "metadata": {},
   "source": [
    "---"
   ]
  },
  {
   "cell_type": "markdown",
   "metadata": {},
   "source": [
    "[obsolète]"
   ]
  },
  {
   "cell_type": "markdown",
   "metadata": {},
   "source": [
    "Ajout de travel_time en prppriété (tout à zéro en type Float). Ce \"travel-time\" sera indispensable pour les alogorithmes de plus court chemin. Le temps de trajet des relations \"NEARLY TO\" sera négligeable."
   ]
  },
  {
   "cell_type": "code",
   "execution_count": 57,
   "metadata": {},
   "outputs": [
    {
     "name": "stdout",
     "output_type": "stream",
     "text": [
      "Total Numbers of add propertie: 7863268\n"
     ]
    }
   ],
   "source": [
    "\"\"\" with driver.session() as session:\n",
    "\n",
    "    result = session.execute_write(set_travel_time_zero)\n",
    "\n",
    "driver.close()\n",
    "\n",
    "nb_nodes = result[0]['count']\n",
    "                \n",
    "print(f'Total Numbers of add propertie: {nb_nodes}') \"\"\" "
   ]
  },
  {
   "cell_type": "markdown",
   "metadata": {},
   "source": [
    "----"
   ]
  },
  {
   "cell_type": "markdown",
   "metadata": {},
   "source": [
    "PARTIE DE TEST (optionnel)"
   ]
  },
  {
   "cell_type": "markdown",
   "metadata": {},
   "source": [
    "Les bouts de code initiaux pour test :"
   ]
  },
  {
   "cell_type": "markdown",
   "metadata": {},
   "source": [
    "Simplement pour visualiser si besoin le processus de \"buffer\" et projections pas-à-pas..."
   ]
  },
  {
   "cell_type": "code",
   "execution_count": 73,
   "metadata": {},
   "outputs": [],
   "source": [
    "X_LOW = 4.266392\n",
    "\n",
    "X_HIGH = 5.366894\n",
    "\n",
    "Y_LOW = 45.433801\n",
    "\n",
    "Y_HIGH = 46.138016"
   ]
  },
  {
   "cell_type": "code",
   "execution_count": 74,
   "metadata": {},
   "outputs": [],
   "source": [
    "to_keep = (gdf_rp['x'] > X_LOW) & ((gdf_rp['x'] < X_HIGH)) & (gdf_rp['y'] > Y_LOW) & ((gdf_rp['y'] < Y_HIGH))\n",
    "\n",
    "gdf_rp_test = gdf_rp.loc[to_keep, :]"
   ]
  },
  {
   "cell_type": "code",
   "execution_count": 75,
   "metadata": {},
   "outputs": [
    {
     "data": {
      "text/plain": [
       "9234"
      ]
     },
     "execution_count": 75,
     "metadata": {},
     "output_type": "execute_result"
    }
   ],
   "source": [
    "len(gdf_rp_test)"
   ]
  },
  {
   "cell_type": "code",
   "execution_count": 76,
   "metadata": {},
   "outputs": [
    {
     "data": {
      "text/plain": [
       "<Geographic 2D CRS: EPSG:4326>\n",
       "Name: WGS 84\n",
       "Axis Info [ellipsoidal]:\n",
       "- Lat[north]: Geodetic latitude (degree)\n",
       "- Lon[east]: Geodetic longitude (degree)\n",
       "Area of Use:\n",
       "- name: World.\n",
       "- bounds: (-180.0, -90.0, 180.0, 90.0)\n",
       "Datum: World Geodetic System 1984 ensemble\n",
       "- Ellipsoid: WGS 84\n",
       "- Prime Meridian: Greenwich"
      ]
     },
     "execution_count": 76,
     "metadata": {},
     "output_type": "execute_result"
    }
   ],
   "source": [
    "gdf_rp_test.crs"
   ]
  },
  {
   "cell_type": "code",
   "execution_count": 52,
   "metadata": {},
   "outputs": [
    {
     "name": "stderr",
     "output_type": "stream",
     "text": [
      "/tmp/ipykernel_7183/1414254789.py:1: UserWarning: Geometry is in a geographic CRS. Results from 'buffer' are likely incorrect. Use 'GeoSeries.to_crs()' to re-project geometries to a projected CRS before this operation.\n",
      "\n",
      "  gdf_rp_test.buffer(0.02).plot()\n"
     ]
    },
    {
     "data": {
      "text/plain": [
       "<Axes: >"
      ]
     },
     "execution_count": 52,
     "metadata": {},
     "output_type": "execute_result"
    },
    {
     "data": {
      "image/png": "[encoded data removed]",
      "text/plain": [
       "<Figure size 640x480 with 1 Axes>"
      ]
     },
     "metadata": {},
     "output_type": "display_data"
    }
   ],
   "source": [
    "gdf_rp_test.buffer(0.02).plot()"
   ]
  },
  {
   "cell_type": "code",
   "execution_count": 77,
   "metadata": {},
   "outputs": [],
   "source": [
    "gdf_rp_test_2 = gdf_rp_test.to_crs(crs=3857)"
   ]
  },
  {
   "cell_type": "code",
   "execution_count": 78,
   "metadata": {},
   "outputs": [
    {
     "data": {
      "text/plain": [
       "<Axes: >"
      ]
     },
     "execution_count": 78,
     "metadata": {},
     "output_type": "execute_result"
    },
    {
     "data": {
      "image/png": "[encoded data removed]",
      "text/plain": [
       "<Figure size 640x480 with 1 Axes>"
      ]
     },
     "metadata": {},
     "output_type": "display_data"
    }
   ],
   "source": [
    "gdf_rp_test_2.buffer(5000).plot()"
   ]
  },
  {
   "cell_type": "code",
   "execution_count": 79,
   "metadata": {},
   "outputs": [],
   "source": [
    "gdf_rp_test_2 = gdf_rp_test_2.buffer(5000)"
   ]
  },
  {
   "cell_type": "code",
   "execution_count": 80,
   "metadata": {},
   "outputs": [],
   "source": [
    "import copy"
   ]
  },
  {
   "cell_type": "code",
   "execution_count": 81,
   "metadata": {},
   "outputs": [],
   "source": [
    "gdf_rp_test_3 = copy.copy(gdf_rp_test)"
   ]
  },
  {
   "cell_type": "code",
   "execution_count": 82,
   "metadata": {},
   "outputs": [],
   "source": [
    "gdf_rp_test_3.geometry = gdf_rp_test_2.to_crs(crs=4326).geometry"
   ]
  },
  {
   "cell_type": "code",
   "execution_count": 83,
   "metadata": {},
   "outputs": [
    {
     "data": {
      "text/plain": [
       "<Axes: >"
      ]
     },
     "execution_count": 83,
     "metadata": {},
     "output_type": "execute_result"
    },
    {
     "data": {
      "image/png": "[encoded data removed]",
      "text/plain": [
       "<Figure size 640x480 with 1 Axes>"
      ]
     },
     "metadata": {},
     "output_type": "display_data"
    }
   ],
   "source": [
    "gdf_rp_test_3.plot()"
   ]
  },
  {
   "cell_type": "code",
   "execution_count": 84,
   "metadata": {},
   "outputs": [
    {
     "data": {
      "text/html": [
       "<div>\n",
       "<style scoped>\n",
       "    .dataframe tbody tr th:only-of-type {\n",
       "        vertical-align: middle;\n",
       "    }\n",
       "\n",
       "    .dataframe tbody tr th {\n",
       "        vertical-align: top;\n",
       "    }\n",
       "\n",
       "    .dataframe thead th {\n",
       "        text-align: right;\n",
       "    }\n",
       "</style>\n",
       "<table border=\"1\" class=\"dataframe\">\n",
       "  <thead>\n",
       "    <tr style=\"text-align: right;\">\n",
       "      <th></th>\n",
       "      <th>insee</th>\n",
       "      <th>x</th>\n",
       "      <th>y</th>\n",
       "      <th>geometry</th>\n",
       "    </tr>\n",
       "  </thead>\n",
       "  <tbody>\n",
       "    <tr>\n",
       "      <th>26121</th>\n",
       "      <td>69063</td>\n",
       "      <td>4.841157</td>\n",
       "      <td>45.822966</td>\n",
       "      <td>POLYGON ((4.82695 45.82333, 4.82695 45.82361, ...</td>\n",
       "    </tr>\n",
       "  </tbody>\n",
       "</table>\n",
       "</div>"
      ],
      "text/plain": [
       "       insee         x          y   \n",
       "26121  69063  4.841157  45.822966  \\\n",
       "\n",
       "                                                geometry  \n",
       "26121  POLYGON ((4.82695 45.82333, 4.82695 45.82361, ...  "
      ]
     },
     "execution_count": 84,
     "metadata": {},
     "output_type": "execute_result"
    }
   ],
   "source": [
    "gdf_communes.loc[gdf_communes['insee']=='69063',:]"
   ]
  },
  {
   "cell_type": "code",
   "execution_count": 85,
   "metadata": {},
   "outputs": [],
   "source": [
    "to_keep = (gdf_communes['x'] > X_LOW) & ((gdf_communes['x'] < X_HIGH)) & (gdf_communes['y'] > Y_LOW) & ((gdf_communes['y'] < Y_HIGH))\n",
    "\n",
    "gdf_communes_test = gdf_communes.loc[to_keep, :]"
   ]
  },
  {
   "cell_type": "code",
   "execution_count": 86,
   "metadata": {},
   "outputs": [
    {
     "data": {
      "text/html": [
       "<div>\n",
       "<style scoped>\n",
       "    .dataframe tbody tr th:only-of-type {\n",
       "        vertical-align: middle;\n",
       "    }\n",
       "\n",
       "    .dataframe tbody tr th {\n",
       "        vertical-align: top;\n",
       "    }\n",
       "\n",
       "    .dataframe thead th {\n",
       "        text-align: right;\n",
       "    }\n",
       "</style>\n",
       "<table border=\"1\" class=\"dataframe\">\n",
       "  <thead>\n",
       "    <tr style=\"text-align: right;\">\n",
       "      <th></th>\n",
       "      <th>insee</th>\n",
       "      <th>x</th>\n",
       "      <th>y</th>\n",
       "      <th>geometry</th>\n",
       "    </tr>\n",
       "  </thead>\n",
       "  <tbody>\n",
       "    <tr>\n",
       "      <th>21</th>\n",
       "      <td>38487</td>\n",
       "      <td>4.844174</td>\n",
       "      <td>45.559629</td>\n",
       "      <td>POLYGON ((4.81602 45.56613, 4.81606 45.56615, ...</td>\n",
       "    </tr>\n",
       "    <tr>\n",
       "      <th>65</th>\n",
       "      <td>01238</td>\n",
       "      <td>4.824100</td>\n",
       "      <td>45.906800</td>\n",
       "      <td>POLYGON ((4.80350 45.90037, 4.80351 45.90048, ...</td>\n",
       "    </tr>\n",
       "    <tr>\n",
       "      <th>137</th>\n",
       "      <td>69276</td>\n",
       "      <td>4.858310</td>\n",
       "      <td>45.673800</td>\n",
       "      <td>POLYGON ((4.82932 45.66034, 4.82940 45.66088, ...</td>\n",
       "    </tr>\n",
       "    <tr>\n",
       "      <th>200</th>\n",
       "      <td>69019</td>\n",
       "      <td>4.748655</td>\n",
       "      <td>46.108938</td>\n",
       "      <td>POLYGON ((4.69084 46.13332, 4.69177 46.13374, ...</td>\n",
       "    </tr>\n",
       "    <tr>\n",
       "      <th>322</th>\n",
       "      <td>69279</td>\n",
       "      <td>5.047562</td>\n",
       "      <td>45.796518</td>\n",
       "      <td>POLYGON ((5.01304 45.79964, 5.01305 45.79969, ...</td>\n",
       "    </tr>\n",
       "    <tr>\n",
       "      <th>...</th>\n",
       "      <td>...</td>\n",
       "      <td>...</td>\n",
       "      <td>...</td>\n",
       "      <td>...</td>\n",
       "    </tr>\n",
       "    <tr>\n",
       "      <th>34109</th>\n",
       "      <td>69122</td>\n",
       "      <td>4.701603</td>\n",
       "      <td>45.912081</td>\n",
       "      <td>POLYGON ((4.68494 45.90648, 4.68507 45.90685, ...</td>\n",
       "    </tr>\n",
       "    <tr>\n",
       "      <th>34326</th>\n",
       "      <td>42128</td>\n",
       "      <td>4.301470</td>\n",
       "      <td>45.921500</td>\n",
       "      <td>POLYGON ((4.28326 45.93652, 4.28344 45.93704, ...</td>\n",
       "    </tr>\n",
       "    <tr>\n",
       "      <th>34328</th>\n",
       "      <td>01325</td>\n",
       "      <td>5.188784</td>\n",
       "      <td>45.940261</td>\n",
       "      <td>POLYGON ((5.12539 45.96830, 5.12543 45.96858, ...</td>\n",
       "    </tr>\n",
       "    <tr>\n",
       "      <th>34398</th>\n",
       "      <td>42055</td>\n",
       "      <td>4.465240</td>\n",
       "      <td>45.596401</td>\n",
       "      <td>POLYGON ((4.45010 45.58704, 4.45013 45.58708, ...</td>\n",
       "    </tr>\n",
       "    <tr>\n",
       "      <th>34436</th>\n",
       "      <td>69133</td>\n",
       "      <td>4.780400</td>\n",
       "      <td>45.633685</td>\n",
       "      <td>POLYGON ((4.75602 45.63447, 4.75602 45.63487, ...</td>\n",
       "    </tr>\n",
       "  </tbody>\n",
       "</table>\n",
       "<p>526 rows × 4 columns</p>\n",
       "</div>"
      ],
      "text/plain": [
       "       insee         x          y   \n",
       "21     38487  4.844174  45.559629  \\\n",
       "65     01238  4.824100  45.906800   \n",
       "137    69276  4.858310  45.673800   \n",
       "200    69019  4.748655  46.108938   \n",
       "322    69279  5.047562  45.796518   \n",
       "...      ...       ...        ...   \n",
       "34109  69122  4.701603  45.912081   \n",
       "34326  42128  4.301470  45.921500   \n",
       "34328  01325  5.188784  45.940261   \n",
       "34398  42055  4.465240  45.596401   \n",
       "34436  69133  4.780400  45.633685   \n",
       "\n",
       "                                                geometry  \n",
       "21     POLYGON ((4.81602 45.56613, 4.81606 45.56615, ...  \n",
       "65     POLYGON ((4.80350 45.90037, 4.80351 45.90048, ...  \n",
       "137    POLYGON ((4.82932 45.66034, 4.82940 45.66088, ...  \n",
       "200    POLYGON ((4.69084 46.13332, 4.69177 46.13374, ...  \n",
       "322    POLYGON ((5.01304 45.79964, 5.01305 45.79969, ...  \n",
       "...                                                  ...  \n",
       "34109  POLYGON ((4.68494 45.90648, 4.68507 45.90685, ...  \n",
       "34326  POLYGON ((4.28326 45.93652, 4.28344 45.93704, ...  \n",
       "34328  POLYGON ((5.12539 45.96830, 5.12543 45.96858, ...  \n",
       "34398  POLYGON ((4.45010 45.58704, 4.45013 45.58708, ...  \n",
       "34436  POLYGON ((4.75602 45.63447, 4.75602 45.63487, ...  \n",
       "\n",
       "[526 rows x 4 columns]"
      ]
     },
     "execution_count": 86,
     "metadata": {},
     "output_type": "execute_result"
    }
   ],
   "source": [
    "gdf_communes_test"
   ]
  },
  {
   "cell_type": "code",
   "execution_count": 91,
   "metadata": {},
   "outputs": [
    {
     "data": {
      "text/plain": [
       "<Axes: >"
      ]
     },
     "execution_count": 91,
     "metadata": {},
     "output_type": "execute_result"
    },
    {
     "data": {
      "image/png": "[encoded data removed]",
      "text/plain": [
       "<Figure size 640x480 with 1 Axes>"
      ]
     },
     "metadata": {},
     "output_type": "display_data"
    }
   ],
   "source": [
    "gdf_communes_test.loc[gdf_communes_test[\"insee\"]=='69063',:].plot()"
   ]
  },
  {
   "cell_type": "code",
   "execution_count": 88,
   "metadata": {},
   "outputs": [
    {
     "data": {
      "text/html": [
       "<div>\n",
       "<style scoped>\n",
       "    .dataframe tbody tr th:only-of-type {\n",
       "        vertical-align: middle;\n",
       "    }\n",
       "\n",
       "    .dataframe tbody tr th {\n",
       "        vertical-align: top;\n",
       "    }\n",
       "\n",
       "    .dataframe thead th {\n",
       "        text-align: right;\n",
       "    }\n",
       "</style>\n",
       "<table border=\"1\" class=\"dataframe\">\n",
       "  <thead>\n",
       "    <tr style=\"text-align: right;\">\n",
       "      <th></th>\n",
       "      <th>insee</th>\n",
       "      <th>x_left</th>\n",
       "      <th>y_left</th>\n",
       "      <th>geometry</th>\n",
       "      <th>index_right</th>\n",
       "      <th>id</th>\n",
       "      <th>x_right</th>\n",
       "      <th>y_right</th>\n",
       "    </tr>\n",
       "  </thead>\n",
       "  <tbody>\n",
       "    <tr>\n",
       "      <th>21</th>\n",
       "      <td>38487</td>\n",
       "      <td>4.844174</td>\n",
       "      <td>45.559629</td>\n",
       "      <td>POLYGON ((4.81602 45.56613, 4.81606 45.56615, ...</td>\n",
       "      <td>28941</td>\n",
       "      <td>28941</td>\n",
       "      <td>4.868996</td>\n",
       "      <td>45.521974</td>\n",
       "    </tr>\n",
       "    <tr>\n",
       "      <th>444</th>\n",
       "      <td>38544</td>\n",
       "      <td>4.874770</td>\n",
       "      <td>45.525240</td>\n",
       "      <td>POLYGON ((4.83589 45.54388, 4.83675 45.54479, ...</td>\n",
       "      <td>28941</td>\n",
       "      <td>28941</td>\n",
       "      <td>4.868996</td>\n",
       "      <td>45.521974</td>\n",
       "    </tr>\n",
       "    <tr>\n",
       "      <th>733</th>\n",
       "      <td>69235</td>\n",
       "      <td>4.859964</td>\n",
       "      <td>45.535052</td>\n",
       "      <td>POLYGON ((4.78858 45.52640, 4.79008 45.52701, ...</td>\n",
       "      <td>28941</td>\n",
       "      <td>28941</td>\n",
       "      <td>4.868996</td>\n",
       "      <td>45.521974</td>\n",
       "    </tr>\n",
       "    <tr>\n",
       "      <th>5115</th>\n",
       "      <td>38199</td>\n",
       "      <td>4.907812</td>\n",
       "      <td>45.496399</td>\n",
       "      <td>POLYGON ((4.89223 45.49226, 4.89224 45.49244, ...</td>\n",
       "      <td>28941</td>\n",
       "      <td>28941</td>\n",
       "      <td>4.868996</td>\n",
       "      <td>45.521974</td>\n",
       "    </tr>\n",
       "    <tr>\n",
       "      <th>5471</th>\n",
       "      <td>69007</td>\n",
       "      <td>4.811206</td>\n",
       "      <td>45.488877</td>\n",
       "      <td>POLYGON ((4.77019 45.50532, 4.77095 45.50546, ...</td>\n",
       "      <td>28941</td>\n",
       "      <td>28941</td>\n",
       "      <td>4.868996</td>\n",
       "      <td>45.521974</td>\n",
       "    </tr>\n",
       "    <tr>\n",
       "      <th>...</th>\n",
       "      <td>...</td>\n",
       "      <td>...</td>\n",
       "      <td>...</td>\n",
       "      <td>...</td>\n",
       "      <td>...</td>\n",
       "      <td>...</td>\n",
       "      <td>...</td>\n",
       "      <td>...</td>\n",
       "    </tr>\n",
       "    <tr>\n",
       "      <th>32148</th>\n",
       "      <td>69060</td>\n",
       "      <td>4.494008</td>\n",
       "      <td>46.100221</td>\n",
       "      <td>POLYGON ((4.46693 46.11569, 4.46696 46.11572, ...</td>\n",
       "      <td>48804</td>\n",
       "      <td>48804</td>\n",
       "      <td>4.574349</td>\n",
       "      <td>46.112625</td>\n",
       "    </tr>\n",
       "    <tr>\n",
       "      <th>25687</th>\n",
       "      <td>69124</td>\n",
       "      <td>4.571121</td>\n",
       "      <td>46.112225</td>\n",
       "      <td>POLYGON ((4.53001 46.12107, 4.53006 46.12112, ...</td>\n",
       "      <td>49324</td>\n",
       "      <td>49324</td>\n",
       "      <td>4.524746</td>\n",
       "      <td>46.119717</td>\n",
       "    </tr>\n",
       "    <tr>\n",
       "      <th>32148</th>\n",
       "      <td>69060</td>\n",
       "      <td>4.494008</td>\n",
       "      <td>46.100221</td>\n",
       "      <td>POLYGON ((4.46693 46.11569, 4.46696 46.11572, ...</td>\n",
       "      <td>49324</td>\n",
       "      <td>49324</td>\n",
       "      <td>4.524746</td>\n",
       "      <td>46.119717</td>\n",
       "    </tr>\n",
       "    <tr>\n",
       "      <th>25687</th>\n",
       "      <td>69124</td>\n",
       "      <td>4.571121</td>\n",
       "      <td>46.112225</td>\n",
       "      <td>POLYGON ((4.53001 46.12107, 4.53006 46.12112, ...</td>\n",
       "      <td>49325</td>\n",
       "      <td>49325</td>\n",
       "      <td>4.530218</td>\n",
       "      <td>46.121162</td>\n",
       "    </tr>\n",
       "    <tr>\n",
       "      <th>32148</th>\n",
       "      <td>69060</td>\n",
       "      <td>4.494008</td>\n",
       "      <td>46.100221</td>\n",
       "      <td>POLYGON ((4.46693 46.11569, 4.46696 46.11572, ...</td>\n",
       "      <td>49325</td>\n",
       "      <td>49325</td>\n",
       "      <td>4.530218</td>\n",
       "      <td>46.121162</td>\n",
       "    </tr>\n",
       "  </tbody>\n",
       "</table>\n",
       "<p>75941 rows × 8 columns</p>\n",
       "</div>"
      ],
      "text/plain": [
       "       insee    x_left     y_left   \n",
       "21     38487  4.844174  45.559629  \\\n",
       "444    38544  4.874770  45.525240   \n",
       "733    69235  4.859964  45.535052   \n",
       "5115   38199  4.907812  45.496399   \n",
       "5471   69007  4.811206  45.488877   \n",
       "...      ...       ...        ...   \n",
       "32148  69060  4.494008  46.100221   \n",
       "25687  69124  4.571121  46.112225   \n",
       "32148  69060  4.494008  46.100221   \n",
       "25687  69124  4.571121  46.112225   \n",
       "32148  69060  4.494008  46.100221   \n",
       "\n",
       "                                                geometry  index_right     id   \n",
       "21     POLYGON ((4.81602 45.56613, 4.81606 45.56615, ...        28941  28941  \\\n",
       "444    POLYGON ((4.83589 45.54388, 4.83675 45.54479, ...        28941  28941   \n",
       "733    POLYGON ((4.78858 45.52640, 4.79008 45.52701, ...        28941  28941   \n",
       "5115   POLYGON ((4.89223 45.49226, 4.89224 45.49244, ...        28941  28941   \n",
       "5471   POLYGON ((4.77019 45.50532, 4.77095 45.50546, ...        28941  28941   \n",
       "...                                                  ...          ...    ...   \n",
       "32148  POLYGON ((4.46693 46.11569, 4.46696 46.11572, ...        48804  48804   \n",
       "25687  POLYGON ((4.53001 46.12107, 4.53006 46.12112, ...        49324  49324   \n",
       "32148  POLYGON ((4.46693 46.11569, 4.46696 46.11572, ...        49324  49324   \n",
       "25687  POLYGON ((4.53001 46.12107, 4.53006 46.12112, ...        49325  49325   \n",
       "32148  POLYGON ((4.46693 46.11569, 4.46696 46.11572, ...        49325  49325   \n",
       "\n",
       "        x_right    y_right  \n",
       "21     4.868996  45.521974  \n",
       "444    4.868996  45.521974  \n",
       "733    4.868996  45.521974  \n",
       "5115   4.868996  45.521974  \n",
       "5471   4.868996  45.521974  \n",
       "...         ...        ...  \n",
       "32148  4.574349  46.112625  \n",
       "25687  4.524746  46.119717  \n",
       "32148  4.524746  46.119717  \n",
       "25687  4.530218  46.121162  \n",
       "32148  4.530218  46.121162  \n",
       "\n",
       "[75941 rows x 8 columns]"
      ]
     },
     "execution_count": 88,
     "metadata": {},
     "output_type": "execute_result"
    }
   ],
   "source": [
    "df_join = gdf_communes_test.sjoin(gdf_rp_test_3, how=\"inner\")\n",
    "df_join"
   ]
  },
  {
   "cell_type": "code",
   "execution_count": 89,
   "metadata": {},
   "outputs": [],
   "source": [
    "df_test = df_join.loc[df_join['insee']=='69063',:]"
   ]
  },
  {
   "cell_type": "code",
   "execution_count": 90,
   "metadata": {},
   "outputs": [
    {
     "ename": "ValueError",
     "evalue": "aspect must be finite and positive ",
     "output_type": "error",
     "traceback": [
      "\u001b[0;31m---------------------------------------------------------------------------\u001b[0m",
      "\u001b[0;31mValueError\u001b[0m                                Traceback (most recent call last)",
      "Cell \u001b[0;32mIn[90], line 1\u001b[0m\n\u001b[0;32m----> 1\u001b[0m df_test\u001b[39m.\u001b[39;49mplot()\n",
      "File \u001b[0;32m~/miniconda3/envs/ECartoMobile/lib/python3.11/site-packages/geopandas/plotting.py:968\u001b[0m, in \u001b[0;36mGeoplotAccessor.__call__\u001b[0;34m(self, *args, **kwargs)\u001b[0m\n\u001b[1;32m    966\u001b[0m kind \u001b[39m=\u001b[39m kwargs\u001b[39m.\u001b[39mpop(\u001b[39m\"\u001b[39m\u001b[39mkind\u001b[39m\u001b[39m\"\u001b[39m, \u001b[39m\"\u001b[39m\u001b[39mgeo\u001b[39m\u001b[39m\"\u001b[39m)\n\u001b[1;32m    967\u001b[0m \u001b[39mif\u001b[39;00m kind \u001b[39m==\u001b[39m \u001b[39m\"\u001b[39m\u001b[39mgeo\u001b[39m\u001b[39m\"\u001b[39m:\n\u001b[0;32m--> 968\u001b[0m     \u001b[39mreturn\u001b[39;00m plot_dataframe(data, \u001b[39m*\u001b[39;49margs, \u001b[39m*\u001b[39;49m\u001b[39m*\u001b[39;49mkwargs)\n\u001b[1;32m    969\u001b[0m \u001b[39mif\u001b[39;00m kind \u001b[39min\u001b[39;00m \u001b[39mself\u001b[39m\u001b[39m.\u001b[39m_pandas_kinds:\n\u001b[1;32m    970\u001b[0m     \u001b[39m# Access pandas plots\u001b[39;00m\n\u001b[1;32m    971\u001b[0m     \u001b[39mreturn\u001b[39;00m PlotAccessor(data)(kind\u001b[39m=\u001b[39mkind, \u001b[39m*\u001b[39m\u001b[39m*\u001b[39mkwargs)\n",
      "File \u001b[0;32m~/miniconda3/envs/ECartoMobile/lib/python3.11/site-packages/geopandas/plotting.py:679\u001b[0m, in \u001b[0;36mplot_dataframe\u001b[0;34m(df, column, cmap, color, ax, cax, categorical, legend, scheme, k, vmin, vmax, markersize, figsize, legend_kwds, categories, classification_kwds, missing_kwds, aspect, **style_kwds)\u001b[0m\n\u001b[1;32m    677\u001b[0m     bounds \u001b[39m=\u001b[39m df\u001b[39m.\u001b[39mtotal_bounds\n\u001b[1;32m    678\u001b[0m     y_coord \u001b[39m=\u001b[39m np\u001b[39m.\u001b[39mmean([bounds[\u001b[39m1\u001b[39m], bounds[\u001b[39m3\u001b[39m]])\n\u001b[0;32m--> 679\u001b[0m     ax\u001b[39m.\u001b[39;49mset_aspect(\u001b[39m1\u001b[39;49m \u001b[39m/\u001b[39;49m np\u001b[39m.\u001b[39;49mcos(y_coord \u001b[39m*\u001b[39;49m np\u001b[39m.\u001b[39;49mpi \u001b[39m/\u001b[39;49m \u001b[39m180\u001b[39;49m))\n\u001b[1;32m    680\u001b[0m     \u001b[39m# formula ported from R package sp\u001b[39;00m\n\u001b[1;32m    681\u001b[0m     \u001b[39m# https://github.com/edzer/sp/blob/master/R/mapasp.R\u001b[39;00m\n\u001b[1;32m    682\u001b[0m \u001b[39melse\u001b[39;00m:\n\u001b[1;32m    683\u001b[0m     ax\u001b[39m.\u001b[39mset_aspect(\u001b[39m\"\u001b[39m\u001b[39mequal\u001b[39m\u001b[39m\"\u001b[39m)\n",
      "File \u001b[0;32m~/miniconda3/envs/ECartoMobile/lib/python3.11/site-packages/matplotlib/axes/_base.py:1669\u001b[0m, in \u001b[0;36m_AxesBase.set_aspect\u001b[0;34m(self, aspect, adjustable, anchor, share)\u001b[0m\n\u001b[1;32m   1667\u001b[0m     aspect \u001b[39m=\u001b[39m \u001b[39mfloat\u001b[39m(aspect)  \u001b[39m# raise ValueError if necessary\u001b[39;00m\n\u001b[1;32m   1668\u001b[0m     \u001b[39mif\u001b[39;00m aspect \u001b[39m<\u001b[39m\u001b[39m=\u001b[39m \u001b[39m0\u001b[39m \u001b[39mor\u001b[39;00m \u001b[39mnot\u001b[39;00m np\u001b[39m.\u001b[39misfinite(aspect):\n\u001b[0;32m-> 1669\u001b[0m         \u001b[39mraise\u001b[39;00m \u001b[39mValueError\u001b[39;00m(\u001b[39m\"\u001b[39m\u001b[39maspect must be finite and positive \u001b[39m\u001b[39m\"\u001b[39m)\n\u001b[1;32m   1671\u001b[0m \u001b[39mif\u001b[39;00m share:\n\u001b[1;32m   1672\u001b[0m     axes \u001b[39m=\u001b[39m {sibling \u001b[39mfor\u001b[39;00m name \u001b[39min\u001b[39;00m \u001b[39mself\u001b[39m\u001b[39m.\u001b[39m_axis_names\n\u001b[1;32m   1673\u001b[0m             \u001b[39mfor\u001b[39;00m sibling \u001b[39min\u001b[39;00m \u001b[39mself\u001b[39m\u001b[39m.\u001b[39m_shared_axes[name]\u001b[39m.\u001b[39mget_siblings(\u001b[39mself\u001b[39m)}\n",
      "\u001b[0;31mValueError\u001b[0m: aspect must be finite and positive "
     ]
    },
    {
     "data": {
      "image/png": "[encoded data removed]",
      "text/plain": [
       "<Figure size 640x480 with 1 Axes>"
      ]
     },
     "metadata": {},
     "output_type": "display_data"
    }
   ],
   "source": [
    "df_test.plot()"
   ]
  },
  {
   "cell_type": "code",
   "execution_count": 131,
   "metadata": {},
   "outputs": [],
   "source": [
    "df_points_test = gpd.GeoDataFrame(df_test[['x_right', 'y_right']], geometry=gpd.points_from_xy(df_test.x_right, df_test.y_right), crs=\"EPSG:4326\")"
   ]
  },
  {
   "cell_type": "code",
   "execution_count": 133,
   "metadata": {},
   "outputs": [
    {
     "data": {
      "text/html": [
       "<div>\n",
       "<style scoped>\n",
       "    .dataframe tbody tr th:only-of-type {\n",
       "        vertical-align: middle;\n",
       "    }\n",
       "\n",
       "    .dataframe tbody tr th {\n",
       "        vertical-align: top;\n",
       "    }\n",
       "\n",
       "    .dataframe thead th {\n",
       "        text-align: right;\n",
       "    }\n",
       "</style>\n",
       "<table border=\"1\" class=\"dataframe\">\n",
       "  <thead>\n",
       "    <tr style=\"text-align: right;\">\n",
       "      <th></th>\n",
       "      <th>x_right</th>\n",
       "      <th>y_right</th>\n",
       "      <th>geometry</th>\n",
       "    </tr>\n",
       "  </thead>\n",
       "  <tbody>\n",
       "    <tr>\n",
       "      <th>32419</th>\n",
       "      <td>5.484926</td>\n",
       "      <td>43.576321</td>\n",
       "      <td>POINT (5.48493 43.57632)</td>\n",
       "    </tr>\n",
       "    <tr>\n",
       "      <th>32419</th>\n",
       "      <td>5.484354</td>\n",
       "      <td>43.592557</td>\n",
       "      <td>POINT (5.48435 43.59256)</td>\n",
       "    </tr>\n",
       "    <tr>\n",
       "      <th>32419</th>\n",
       "      <td>5.472590</td>\n",
       "      <td>43.582517</td>\n",
       "      <td>POINT (5.47259 43.58252)</td>\n",
       "    </tr>\n",
       "    <tr>\n",
       "      <th>32419</th>\n",
       "      <td>5.472473</td>\n",
       "      <td>43.582559</td>\n",
       "      <td>POINT (5.47247 43.58256)</td>\n",
       "    </tr>\n",
       "    <tr>\n",
       "      <th>32419</th>\n",
       "      <td>5.472681</td>\n",
       "      <td>43.582598</td>\n",
       "      <td>POINT (5.47268 43.58260)</td>\n",
       "    </tr>\n",
       "    <tr>\n",
       "      <th>...</th>\n",
       "      <td>...</td>\n",
       "      <td>...</td>\n",
       "      <td>...</td>\n",
       "    </tr>\n",
       "    <tr>\n",
       "      <th>32419</th>\n",
       "      <td>5.428322</td>\n",
       "      <td>43.547641</td>\n",
       "      <td>POINT (5.42832 43.54764)</td>\n",
       "    </tr>\n",
       "    <tr>\n",
       "      <th>32419</th>\n",
       "      <td>5.429799</td>\n",
       "      <td>43.549955</td>\n",
       "      <td>POINT (5.42980 43.54996)</td>\n",
       "    </tr>\n",
       "    <tr>\n",
       "      <th>32419</th>\n",
       "      <td>5.426434</td>\n",
       "      <td>43.550309</td>\n",
       "      <td>POINT (5.42643 43.55031)</td>\n",
       "    </tr>\n",
       "    <tr>\n",
       "      <th>32419</th>\n",
       "      <td>5.426493</td>\n",
       "      <td>43.550382</td>\n",
       "      <td>POINT (5.42649 43.55038)</td>\n",
       "    </tr>\n",
       "    <tr>\n",
       "      <th>32419</th>\n",
       "      <td>5.426946</td>\n",
       "      <td>43.550467</td>\n",
       "      <td>POINT (5.42695 43.55047)</td>\n",
       "    </tr>\n",
       "  </tbody>\n",
       "</table>\n",
       "<p>2472 rows × 3 columns</p>\n",
       "</div>"
      ],
      "text/plain": [
       "        x_right    y_right                  geometry\n",
       "32419  5.484926  43.576321  POINT (5.48493 43.57632)\n",
       "32419  5.484354  43.592557  POINT (5.48435 43.59256)\n",
       "32419  5.472590  43.582517  POINT (5.47259 43.58252)\n",
       "32419  5.472473  43.582559  POINT (5.47247 43.58256)\n",
       "32419  5.472681  43.582598  POINT (5.47268 43.58260)\n",
       "...         ...        ...                       ...\n",
       "32419  5.428322  43.547641  POINT (5.42832 43.54764)\n",
       "32419  5.429799  43.549955  POINT (5.42980 43.54996)\n",
       "32419  5.426434  43.550309  POINT (5.42643 43.55031)\n",
       "32419  5.426493  43.550382  POINT (5.42649 43.55038)\n",
       "32419  5.426946  43.550467  POINT (5.42695 43.55047)\n",
       "\n",
       "[2472 rows x 3 columns]"
      ]
     },
     "execution_count": 133,
     "metadata": {},
     "output_type": "execute_result"
    }
   ],
   "source": [
    "df_points_test"
   ]
  },
  {
   "cell_type": "code",
   "execution_count": 134,
   "metadata": {},
   "outputs": [
    {
     "data": {
      "text/plain": [
       "<Axes: >"
      ]
     },
     "execution_count": 134,
     "metadata": {},
     "output_type": "execute_result"
    },
    {
     "data": {
      "image/png": "[encoded data removed]",
      "text/plain": [
       "<Figure size 640x480 with 1 Axes>"
      ]
     },
     "metadata": {},
     "output_type": "display_data"
    }
   ],
   "source": [
    "f, ax = plt.subplots()\n",
    "df_test.plot(ax=ax)\n",
    "df_points_test.plot(ax=ax)"
   ]
  },
  {
   "cell_type": "markdown",
   "metadata": {},
   "source": [
    "---"
   ]
  },
  {
   "attachments": {},
   "cell_type": "markdown",
   "metadata": {},
   "source": [
    "EDGES COMMUNES / ROAD_POINT"
   ]
  },
  {
   "attachments": {},
   "cell_type": "markdown",
   "metadata": {},
   "source": [
    "Ardoise : pour effacer toute relation \"NEARLY_TO\" anciennes"
   ]
  },
  {
   "cell_type": "code",
   "execution_count": 74,
   "metadata": {},
   "outputs": [
    {
     "name": "stdout",
     "output_type": "stream",
     "text": [
      "[{'batches': 79, 'total': 7863268}]\n"
     ]
    }
   ],
   "source": [
    "\"\"\" with driver.session() as session:\n",
    "\n",
    "    count_list = []\n",
    "\n",
    "    result = session.execute_write(delete_all_edges_NEARLY_TO)\n",
    "\n",
    "driver.close()\n",
    "\n",
    "print(result)\"\"\""
   ]
  }
 ],
 "metadata": {
  "kernelspec": {
   "display_name": "ECartoMobile",
   "language": "python",
   "name": "python3"
  },
  "language_info": {
   "codemirror_mode": {
    "name": "ipython",
    "version": 3
   },
   "file_extension": ".py",
   "mimetype": "text/x-python",
   "name": "python",
   "nbconvert_exporter": "python",
   "pygments_lexer": "ipython3",
   "version": "3.11.3"
  },
  "orig_nbformat": 4
 },
 "nbformat": 4,
 "nbformat_minor": 2
}
