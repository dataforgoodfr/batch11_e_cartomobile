{
 "cells": [
  {
   "attachments": {},
   "cell_type": "markdown",
   "metadata": {},
   "source": [
    "#### Génération d'un index \"point\" spatial sous Neo4j pour tous les objets"
   ]
  },
  {
   "attachments": {},
   "cell_type": "markdown",
   "metadata": {},
   "source": [
    "Objectifs :\n",
    "- Génération d'un label ROAD_POINT pour les points routes\n",
    "- Génération d'un index par code insee pour les communes (afin d'optimiser les requêtes sur les communes)\n",
    "- Génération d'un index spatial pour tous les objets CITY, ROAD_POINT, (et NATIONAL ROAD_POINT)"
   ]
  },
  {
   "cell_type": "code",
   "execution_count": 4,
   "metadata": {},
   "outputs": [],
   "source": [
    "from neo4j import GraphDatabase, basic_auth"
   ]
  },
  {
   "cell_type": "markdown",
   "metadata": {},
   "source": [
    "Requêtes Neo4j :"
   ]
  },
  {
   "cell_type": "code",
   "execution_count": 2,
   "metadata": {},
   "outputs": [],
   "source": [
    "def create_labels_road_points(tx):\n",
    "\n",
    "    query = \"MATCH (n) WHERE ToString(n.street_count)=n.street_count \\\n",
    "            SET n:ROAD_POINT RETURN count(n)\"\n",
    "    \n",
    "    result = tx.run(query)\n",
    "    return result.data()"
   ]
  },
  {
   "cell_type": "code",
   "execution_count": 3,
   "metadata": {},
   "outputs": [],
   "source": [
    "def create_insee_index(tx):\n",
    "\n",
    "    query = \"  CREATE INDEX insee IF NOT EXISTS \\\n",
    "            FOR (c:CITY) \\\n",
    "            ON c.insee\"\n",
    "\n",
    "    result = tx.run(query)\n",
    "    return result.data()"
   ]
  },
  {
   "cell_type": "code",
   "execution_count": 4,
   "metadata": {},
   "outputs": [],
   "source": [
    "def create_point_location(tx, entity):\n",
    "\n",
    "    query = \"  MATCH (n1:\" + entity + \") \\\n",
    "            SET n1.location = point({longitude:n1.x, latitude:n1.y}) \\\n",
    "            RETURN count(n1) AS count\"\n",
    "\n",
    "    result = tx.run(query)\n",
    "    return result.data()"
   ]
  },
  {
   "cell_type": "code",
   "execution_count": 5,
   "metadata": {},
   "outputs": [],
   "source": [
    "def change_type_string_integer(tx, entity):\n",
    "\n",
    "    query = \"  MATCH (n:\" + entity + \") \\\n",
    "            SET n.insee = ToInteger(n.insee) \\\n",
    "            RETURN count(n) AS count\"\n",
    "\n",
    "    result = tx.run(query)\n",
    "    return result.data()"
   ]
  },
  {
   "cell_type": "code",
   "execution_count": 6,
   "metadata": {},
   "outputs": [],
   "source": [
    "def change_type_string_float_integer_RELATED(tx):\n",
    "\n",
    "    query = \"  MATCH ()-[r:RELATED_TO]-() \\\n",
    "            SET r.speed_kph = ToFloat(r.speed_kph) \\\n",
    "            SET r.speed_kph = ToFloat(r.speed_kph) \\\n",
    "            RETURN count(r) AS count\"\n",
    "\n",
    "    result = tx.run(query)\n",
    "    return result.data()"
   ]
  },
  {
   "cell_type": "code",
   "execution_count": 7,
   "metadata": {},
   "outputs": [],
   "source": [
    "def change_type_string_float(tx, entity):\n",
    "\n",
    "    query = \"  MATCH (n1:\" + entity + \") \\\n",
    "            SET n1.x = toFloat(n1.x) \\\n",
    "            SET n1.y = toFloat(n1.y) \\\n",
    "            RETURN count(n1) AS count\"\n",
    "\n",
    "    result = tx.run(query)\n",
    "    return result.data()"
   ]
  },
  {
   "cell_type": "code",
   "execution_count": 8,
   "metadata": {},
   "outputs": [],
   "source": [
    "def create_index_communes(tx):\n",
    "    query = \"  CREATE POINT INDEX city_point_index IF NOT EXISTS \\\n",
    "            FOR (n:CITY) \\\n",
    "            ON n.location \"\n",
    "\n",
    "    result = tx.run(query)\n",
    "    return result.data()"
   ]
  },
  {
   "cell_type": "code",
   "execution_count": 9,
   "metadata": {},
   "outputs": [],
   "source": [
    "def create_index_road_point(tx):\n",
    "    query = \"  CREATE POINT INDEX road_point_index IF NOT EXISTS \\\n",
    "            FOR (n:ROAD_POINT) \\\n",
    "            ON n.location \"\n",
    "\n",
    "    result = tx.run(query)\n",
    "    return result.data()"
   ]
  },
  {
   "cell_type": "code",
   "execution_count": 1,
   "metadata": {},
   "outputs": [],
   "source": [
    "def convert_travel_time_RELATED(tx):\n",
    "    query = \"  MATCH ()-[r:RELATED]-() \\\n",
    "            SET r.travel_time = toInteger(r.travel_time) \\\n",
    "            RETURN count(*) AS count \"\n",
    "\n",
    "    result = tx.run(query)\n",
    "    return result.data()"
   ]
  },
  {
   "cell_type": "code",
   "execution_count": 5,
   "metadata": {},
   "outputs": [],
   "source": [
    "\"\"\" def create_spatial_index_national_point(tx):\n",
    "\n",
    "    query = \"  MATCH ()-[r:LINKED_TO]-() \\\n",
    "            SET r.location = point({longitude:r.x_1, latitude:r.y_1}) \\\n",
    "            RETURN count(r) AS count\"\n",
    "\n",
    "    result = tx.run(query)\n",
    "    return result.data() \"\"\""
   ]
  },
  {
   "cell_type": "code",
   "execution_count": 6,
   "metadata": {},
   "outputs": [],
   "source": [
    "\"\"\" def create_spatial_index_national_point_2(tx):\n",
    "\n",
    "    query = \"  MATCH ()-[r:LINKED_TO]-() \\\n",
    "            SET r.location_2 = point({longitude:r.x_2, latitude:r.y_2}) \\\n",
    "            RETURN count(r) AS count\"\n",
    "\n",
    "    result = tx.run(query)\n",
    "    return result.data() \"\"\""
   ]
  },
  {
   "cell_type": "code",
   "execution_count": 7,
   "metadata": {},
   "outputs": [],
   "source": [
    "\"\"\" def create_spatial_index_national_point_center(tx):\n",
    "\n",
    "    query = \"  MATCH ()-[r:LINKED_TO]-() \\\n",
    "            SET r.location_center = point({longitude:r.x_center, latitude:r.y_center}) \\\n",
    "            RETURN count(r) AS count\"\n",
    "\n",
    "    result = tx.run(query)\n",
    "    return result.data() \"\"\""
   ]
  },
  {
   "cell_type": "code",
   "execution_count": 2,
   "metadata": {},
   "outputs": [],
   "source": [
    "PASSWORD_NEO4J = 'passwordneo4j'"
   ]
  },
  {
   "cell_type": "code",
   "execution_count": 5,
   "metadata": {},
   "outputs": [],
   "source": [
    "driver = GraphDatabase.driver(\n",
    "  \"bolt://localhost:7687\",\n",
    "  auth=basic_auth(\"neo4j\", PASSWORD_NEO4J))"
   ]
  },
  {
   "cell_type": "markdown",
   "metadata": {},
   "source": [
    "Label generation for road points :"
   ]
  },
  {
   "cell_type": "code",
   "execution_count": 13,
   "metadata": {},
   "outputs": [],
   "source": [
    "with driver.session() as session:\n",
    "\n",
    "    result = session.execute_write(create_labels_road_points)\n",
    "\n",
    "driver.close()"
   ]
  },
  {
   "cell_type": "code",
   "execution_count": 14,
   "metadata": {},
   "outputs": [
    {
     "data": {
      "text/plain": [
       "523308"
      ]
     },
     "execution_count": 14,
     "metadata": {},
     "output_type": "execute_result"
    }
   ],
   "source": [
    "result[0]['count(n)']"
   ]
  },
  {
   "cell_type": "markdown",
   "metadata": {},
   "source": [
    "Index generation :"
   ]
  },
  {
   "cell_type": "markdown",
   "metadata": {},
   "source": [
    "Add index from insee value for communes (de type RANGE INDEX):"
   ]
  },
  {
   "cell_type": "code",
   "execution_count": 15,
   "metadata": {},
   "outputs": [],
   "source": [
    "with driver.session() as session:\n",
    "\n",
    "    count_list = []\n",
    "\n",
    "    result = session.execute_write(create_insee_index)\n",
    "\n",
    "driver.close()"
   ]
  },
  {
   "cell_type": "markdown",
   "metadata": {},
   "source": [
    "Suivre la création de l'index en exécutant une requête \"SHOW INDEX\" depuis le navigateur..."
   ]
  },
  {
   "cell_type": "markdown",
   "metadata": {},
   "source": [
    "Autre besoin : convertir les insee des communes en type \"Integer\" (afin d'optimiser la recherche indexée)"
   ]
  },
  {
   "cell_type": "code",
   "execution_count": 16,
   "metadata": {},
   "outputs": [
    {
     "name": "stdout",
     "output_type": "stream",
     "text": [
      "Total Numbers of conversion: 34460\n"
     ]
    }
   ],
   "source": [
    "with driver.session() as session:\n",
    "\n",
    "    count_list = []\n",
    "\n",
    "    result = session.execute_write(change_type_string_integer, 'CITY')\n",
    "\n",
    "driver.close()\n",
    "\n",
    "nb_nodes = result[0]['count']\n",
    "                \n",
    "print(f'Total Numbers of conversion: {nb_nodes}')"
   ]
  },
  {
   "attachments": {},
   "cell_type": "markdown",
   "metadata": {},
   "source": [
    "Add spatial index for communes (type POINT INDEX):"
   ]
  },
  {
   "cell_type": "markdown",
   "metadata": {},
   "source": [
    "En 2 requêtes (la première sert à créer les points \"location\")..."
   ]
  },
  {
   "cell_type": "code",
   "execution_count": 17,
   "metadata": {},
   "outputs": [
    {
     "name": "stdout",
     "output_type": "stream",
     "text": [
      "Total Numbers of points created : 34460\n"
     ]
    }
   ],
   "source": [
    "with driver.session() as session:\n",
    "\n",
    "    count_list = []\n",
    "\n",
    "    result = session.execute_write(create_point_location, 'CITY')\n",
    "\n",
    "driver.close()\n",
    "\n",
    "nb_nodes = result[0]['count']\n",
    "                \n",
    "print(f'Total Numbers of points created : {nb_nodes}')"
   ]
  },
  {
   "cell_type": "code",
   "execution_count": 18,
   "metadata": {},
   "outputs": [],
   "source": [
    "with driver.session() as session:\n",
    "\n",
    "    count_list = []\n",
    "\n",
    "    result = session.execute_write(create_index_communes)\n",
    "\n",
    "driver.close()"
   ]
  },
  {
   "cell_type": "markdown",
   "metadata": {},
   "source": [
    "Suivre la création de l'index en exécutant une requête \"SHOW INDEX\" depuis le navigateur..."
   ]
  },
  {
   "attachments": {},
   "cell_type": "markdown",
   "metadata": {},
   "source": [
    "Add index for road_point :"
   ]
  },
  {
   "attachments": {},
   "cell_type": "markdown",
   "metadata": {},
   "source": [
    "Before that, we must convert x and y coords to float..."
   ]
  },
  {
   "cell_type": "code",
   "execution_count": 20,
   "metadata": {},
   "outputs": [
    {
     "name": "stdout",
     "output_type": "stream",
     "text": [
      "Total Numbers of conversion : 523308\n"
     ]
    }
   ],
   "source": [
    "with driver.session() as session:\n",
    "\n",
    "    count_list = []\n",
    "\n",
    "    result = session.execute_write(change_type_string_float, 'ROAD_POINT')\n",
    "\n",
    "driver.close()\n",
    "\n",
    "nb_points = result[0]['count']\n",
    "                \n",
    "print(f'Total Numbers of conversion : {nb_points}')"
   ]
  },
  {
   "cell_type": "markdown",
   "metadata": {},
   "source": [
    "Ajout d'un index de type spatial (type POINT INDEX) aux points routes :"
   ]
  },
  {
   "cell_type": "markdown",
   "metadata": {},
   "source": [
    "En 2 requêtes (la première sert à créer les points \"location\")..."
   ]
  },
  {
   "cell_type": "code",
   "execution_count": 21,
   "metadata": {},
   "outputs": [
    {
     "name": "stdout",
     "output_type": "stream",
     "text": [
      "Total Numbers of points created : 523308\n"
     ]
    }
   ],
   "source": [
    "with driver.session() as session:\n",
    "\n",
    "    count_list = []\n",
    "\n",
    "    result = session.execute_write(create_point_location, 'ROAD_POINT')\n",
    "\n",
    "driver.close()\n",
    "\n",
    "nb_points = result[0]['count']\n",
    "                \n",
    "print(f'Total Numbers of points created : {nb_points}')"
   ]
  },
  {
   "cell_type": "code",
   "execution_count": 22,
   "metadata": {},
   "outputs": [],
   "source": [
    "with driver.session() as session:\n",
    "\n",
    "    count_list = []\n",
    "\n",
    "    result = session.execute_write(create_index_road_point)\n",
    "\n",
    "driver.close()"
   ]
  },
  {
   "cell_type": "markdown",
   "metadata": {},
   "source": [
    "Suivre la création de l'index en exécutant une requête \"SHOW INDEX\" depuis le navigateur..."
   ]
  },
  {
   "cell_type": "markdown",
   "metadata": {},
   "source": [
    "Dernière chose : convertir les \"travel_time\" en type Integer (pour les algoritmes qui vont suivre) :\n",
    "(le temps de trajet est donc ici arrondi à la minute)"
   ]
  },
  {
   "cell_type": "code",
   "execution_count": 6,
   "metadata": {},
   "outputs": [
    {
     "name": "stdout",
     "output_type": "stream",
     "text": [
      "Total Numbers of conversion : 2132278\n"
     ]
    }
   ],
   "source": [
    "with driver.session() as session:\n",
    "\n",
    "    count_list = []\n",
    "\n",
    "    result = session.execute_write(convert_travel_time_RELATED)\n",
    "\n",
    "driver.close()\n",
    "\n",
    "nb_points = result[0]['count']\n",
    "                \n",
    "print(f'Total Numbers of conversion : {nb_points}')"
   ]
  },
  {
   "cell_type": "markdown",
   "metadata": {},
   "source": [
    "(dans le résultat affiché, il y a deux fois plus de résultats que de relations... tout est normal !)"
   ]
  },
  {
   "cell_type": "markdown",
   "metadata": {},
   "source": [
    "---"
   ]
  },
  {
   "cell_type": "markdown",
   "metadata": {},
   "source": [
    "OPTIONNEL : Création des index pour les points NATIONAL_POINT (non utilisés)"
   ]
  },
  {
   "attachments": {},
   "cell_type": "markdown",
   "metadata": {},
   "source": [
    "Moreover, We must create index for road points... first, the edges :"
   ]
  },
  {
   "cell_type": "code",
   "execution_count": 9,
   "metadata": {},
   "outputs": [],
   "source": [
    "\"\"\"with driver.session() as session:\n",
    "\n",
    "    count_list = []\n",
    "\n",
    "    result = session.execute_write(create_spatial_index_national_point)\n",
    "\n",
    "driver.close() \"\"\""
   ]
  },
  {
   "cell_type": "code",
   "execution_count": 12,
   "metadata": {},
   "outputs": [],
   "source": [
    "\"\"\" with driver.session() as session:\n",
    "\n",
    "    count_list = []\n",
    "\n",
    "    result = session.execute_write(create_spatial_index_national_point_2)\n",
    "\n",
    "driver.close() \"\"\""
   ]
  },
  {
   "cell_type": "code",
   "execution_count": 14,
   "metadata": {},
   "outputs": [],
   "source": [
    "\"\"\" with driver.session() as session:\n",
    "\n",
    "    count_list = []\n",
    "\n",
    "    result = session.execute_write(create_spatial_index_national_point_center)\n",
    "\n",
    "driver.close() \"\"\""
   ]
  },
  {
   "attachments": {},
   "cell_type": "markdown",
   "metadata": {},
   "source": [
    "Add spatial index for National Road Points :"
   ]
  },
  {
   "cell_type": "code",
   "execution_count": 10,
   "metadata": {},
   "outputs": [
    {
     "name": "stdout",
     "output_type": "stream",
     "text": [
      "Total Numbers of index created : 6309\n"
     ]
    }
   ],
   "source": [
    "\"\"\"  with driver.session() as session:\n",
    "\n",
    "    count_list = []\n",
    "\n",
    "    result = session.execute_write(create_spatial_index, 'NATIONAL_ROAD_POINT')\n",
    "\n",
    "driver.close()\n",
    "\n",
    "nb_points = result[0]['count']\n",
    "                \n",
    "print(f'Total Numbers of index created : {nb_points}') \"\"\""
   ]
  }
 ],
 "metadata": {
  "kernelspec": {
   "display_name": "ECartoMobile",
   "language": "python",
   "name": "python3"
  },
  "language_info": {
   "codemirror_mode": {
    "name": "ipython",
    "version": 3
   },
   "file_extension": ".py",
   "mimetype": "text/x-python",
   "name": "python",
   "nbconvert_exporter": "python",
   "pygments_lexer": "ipython3",
   "version": "3.11.3"
  },
  "orig_nbformat": 4
 },
 "nbformat": 4,
 "nbformat_minor": 2
}
