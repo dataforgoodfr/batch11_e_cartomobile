{
 "cells": [
  {
   "attachments": {},
   "cell_type": "markdown",
   "metadata": {},
   "source": [
    "#### Computation de différentes relation \"plus proche\" entre les différents objets"
   ]
  },
  {
   "cell_type": "markdown",
   "metadata": {},
   "source": [
    "---- PROCESSUS À REVOIR ! ----"
   ]
  },
  {
   "attachments": {},
   "cell_type": "markdown",
   "metadata": {},
   "source": [
    "Objectifs :\n",
    "\n",
    "- Génération de relations \"plus proche point géospatial\" entre différents objets, pour la computation des scores :\n",
    "    - CITY / ROAD_POINT : tous les points routes à moins de 500m (correction : à moins de 5km)\n",
    "    - OU, si impossible, les maximun 2 points routes à moins de 5km (correction : à moins de 7km)\n",
    "    - OU, si impossible, les maximun 1 points routes à moins de 30km"
   ]
  },
  {
   "attachments": {},
   "cell_type": "markdown",
   "metadata": {},
   "source": [
    "Imports :"
   ]
  },
  {
   "cell_type": "code",
   "execution_count": 1,
   "metadata": {},
   "outputs": [],
   "source": [
    "import geopandas as gpd\n",
    "import pandas as pd\n",
    "\n",
    "import numpy as np\n",
    "import matplotlib.pyplot as plt\n",
    "import plotly.express as px\n",
    "\n",
    "\n",
    "from neo4j import GraphDatabase, basic_auth"
   ]
  },
  {
   "attachments": {},
   "cell_type": "markdown",
   "metadata": {},
   "source": [
    "Neo4j session :"
   ]
  },
  {
   "cell_type": "code",
   "execution_count": 2,
   "metadata": {},
   "outputs": [],
   "source": [
    "PASSWORD_NEO4J = 'passwordneo4j'"
   ]
  },
  {
   "cell_type": "code",
   "execution_count": 3,
   "metadata": {},
   "outputs": [],
   "source": [
    "driver = GraphDatabase.driver(\n",
    "  \"bolt://localhost:7687\",\n",
    "  auth=basic_auth(\"neo4j\", PASSWORD_NEO4J))"
   ]
  },
  {
   "cell_type": "code",
   "execution_count": 12,
   "metadata": {},
   "outputs": [],
   "source": [
    "DISTANCE_NEARLY_TO = 5000 # 5km\n",
    "\n",
    "LIMIT_DISTANCE_FOR_2_EDGES = 7000 #7km\n",
    "\n",
    "LIMIT_DISTANCE_FOR_1_EDGE = 30000 #30km"
   ]
  },
  {
   "cell_type": "markdown",
   "metadata": {},
   "source": [
    "----"
   ]
  },
  {
   "attachments": {},
   "cell_type": "markdown",
   "metadata": {},
   "source": [
    "##### Neo4j requests :"
   ]
  },
  {
   "cell_type": "markdown",
   "metadata": {},
   "source": [
    "Requête ardoise :"
   ]
  },
  {
   "cell_type": "code",
   "execution_count": 4,
   "metadata": {},
   "outputs": [],
   "source": [
    "\"\"\" def delete_all_edges_NEARLY_TO(tx):\n",
    "\n",
    "    query = \"MATCH ()-[r:NEARLY_TO]-() \\\n",
    "                WHERE r.distance > 500 \\\n",
    "            DELETE r \\\n",
    "            RETURN count(*) AS COUNT\"\n",
    "\n",
    "    result = tx.run(query)\n",
    "    return result.data() \"\"\" "
   ]
  },
  {
   "cell_type": "code",
   "execution_count": 5,
   "metadata": {},
   "outputs": [],
   "source": [
    "def get_all_communes(tx):\n",
    "\n",
    "    query = \"MATCH (n:CITY) RETURN n.insee as insee\"\n",
    "\n",
    "    result = tx.run(query)\n",
    "    return result.data()\n"
   ]
  },
  {
   "cell_type": "code",
   "execution_count": 18,
   "metadata": {},
   "outputs": [],
   "source": [
    "def get_all_communes_with_no_nearly_road(tx):\n",
    "\n",
    "    query = \"MATCH (n:CITY) WHERE NOT EXISTS ((n)-[:NEARLY_TO]-()) RETURN n.insee as insee\"\n",
    "\n",
    "    result = tx.run(query)\n",
    "    return result.data()\n"
   ]
  },
  {
   "cell_type": "code",
   "execution_count": 13,
   "metadata": {},
   "outputs": [],
   "source": [
    "def create_dist_edge_per_batch_CITY(tx, props_list, DISTANCE_NEARLY_TO):\n",
    "\n",
    "    query = \"   UNWIND $props_list AS map \\\n",
    "                MATCH (n:CITY) WHERE n.insee = map.insee \\\n",
    "                MATCH (p:ROAD_POINT) WHERE point.distance(n.location, p.location) < \" + DISTANCE_NEARLY_TO + \" \\\n",
    "                CREATE (p)-[r:NEARLY_TO]->(n) \\\n",
    "                SET r.distance = point.distance(n.location, p.location) \\\n",
    "                RETURN n.insee as insee, count(*) as edge_created\"\n",
    "\n",
    "    result = tx.run(query, props_list=props_list)\n",
    "    return result.data()"
   ]
  },
  {
   "cell_type": "code",
   "execution_count": 16,
   "metadata": {},
   "outputs": [],
   "source": [
    "def create_dist_edge_per_batch_CITY_2_edges_limit(tx, props_list, LIMIT_DISTANCE_FOR_2_EDGES):\n",
    "\n",
    "    query = \"  UNWIND $props_list AS map \\\n",
    "                    CALL { \\\n",
    "                    WITH map \\\n",
    "                    MATCH (n:CITY) WHERE n.insee = map.insee \\\n",
    "                    MATCH (p:ROAD_POINT) WHERE point.distance(n.location, p.location) < \" + LIMIT_DISTANCE_FOR_2_EDGES + \" \\\n",
    "                    RETURN n, p \\\n",
    "                    ORDER BY point.distance(n.location, p.location) \\\n",
    "                    LIMIT 2 } \\\n",
    "                CREATE (p)-[r:NEARLY_TO]->(n) \\\n",
    "                SET r.distance = point.distance(n.location, p.location) \\\n",
    "                RETURN n.insee as insee, count(*) as edge_created \"\n",
    "\n",
    "    result = tx.run(query, props_list=props_list)\n",
    "    return result.data()"
   ]
  },
  {
   "cell_type": "code",
   "execution_count": 17,
   "metadata": {},
   "outputs": [],
   "source": [
    "def create_dist_edge_per_batch_CITY_1_edge_limit(tx, props_list, LIMIT_DISTANCE_FOR_1_EDGE):\n",
    "\n",
    "    query = \"  UNWIND $props_list AS map \\\n",
    "                    CALL { \\\n",
    "                    WITH map \\\n",
    "                    MATCH (n:CITY) WHERE n.insee = map.insee \\\n",
    "                    MATCH (p:ROAD_POINT) WHERE point.distance(n.location, p.location) < \" + LIMIT_DISTANCE_FOR_1_EDGE + \" \\\n",
    "                    RETURN n, p \\\n",
    "                    ORDER BY point.distance(n.location, p.location) \\\n",
    "                    LIMIT 1 } \\\n",
    "                CREATE (p)-[r:NEARLY_TO]->(n) \\\n",
    "                SET r.distance = point.distance(n.location, p.location) \\\n",
    "                RETURN n.insee as insee, count(*) as edge_created \"\n",
    "\n",
    "    result = tx.run(query, props_list=props_list)\n",
    "    return result.data()"
   ]
  },
  {
   "attachments": {},
   "cell_type": "markdown",
   "metadata": {},
   "source": [
    "---"
   ]
  },
  {
   "attachments": {},
   "cell_type": "markdown",
   "metadata": {},
   "source": [
    "EDGES COMMUNES / ROAD_POINT"
   ]
  },
  {
   "attachments": {},
   "cell_type": "markdown",
   "metadata": {},
   "source": [
    "Ardoise : pour effacer toute relation \"NEARLY_TO\" anciennes"
   ]
  },
  {
   "cell_type": "code",
   "execution_count": 5,
   "metadata": {},
   "outputs": [
    {
     "name": "stdout",
     "output_type": "stream",
     "text": [
      "[{'COUNT': 12082}]\n"
     ]
    }
   ],
   "source": [
    "with driver.session() as session:\n",
    "\n",
    "    count_list = []\n",
    "\n",
    "    result = session.execute_write(delete_all_edges_NEARLY_TO)\n",
    "\n",
    "driver.close()\n",
    "\n",
    "print(result) "
   ]
  },
  {
   "cell_type": "markdown",
   "metadata": {},
   "source": [
    "---"
   ]
  },
  {
   "attachments": {},
   "cell_type": "markdown",
   "metadata": {},
   "source": [
    "Récupération de tous les points CITY et leur code insee dans le graph :"
   ]
  },
  {
   "cell_type": "code",
   "execution_count": 6,
   "metadata": {},
   "outputs": [],
   "source": [
    "with driver.session() as session:\n",
    "\n",
    "    count_list = []\n",
    "\n",
    "    result = session.execute_write(get_all_communes)\n",
    "\n",
    "driver.close()"
   ]
  },
  {
   "cell_type": "code",
   "execution_count": 7,
   "metadata": {},
   "outputs": [],
   "source": [
    "df_communes = pd.DataFrame(result)"
   ]
  },
  {
   "cell_type": "code",
   "execution_count": 8,
   "metadata": {},
   "outputs": [
    {
     "name": "stdout",
     "output_type": "stream",
     "text": [
      "<class 'pandas.core.frame.DataFrame'>\n",
      "RangeIndex: 34460 entries, 0 to 34459\n",
      "Data columns (total 1 columns):\n",
      " #   Column  Non-Null Count  Dtype\n",
      "---  ------  --------------  -----\n",
      " 0   insee   34460 non-null  int64\n",
      "dtypes: int64(1)\n",
      "memory usage: 269.3 KB\n"
     ]
    }
   ],
   "source": [
    "df_communes.info()"
   ]
  },
  {
   "cell_type": "code",
   "execution_count": 15,
   "metadata": {},
   "outputs": [],
   "source": [
    "#df_communes = df_communes.iloc[0:100]"
   ]
  },
  {
   "attachments": {},
   "cell_type": "markdown",
   "metadata": {},
   "source": [
    "Transformation en liste \"records\", pour batching :"
   ]
  },
  {
   "cell_type": "code",
   "execution_count": 9,
   "metadata": {},
   "outputs": [
    {
     "name": "stdout",
     "output_type": "stream",
     "text": [
      "conversion of objects to parameters list for neo4j...\n"
     ]
    }
   ],
   "source": [
    "print(\"conversion of objects to parameters list for neo4j...\")\n",
    "\n",
    "props_list = df_communes.to_dict(\"records\")"
   ]
  },
  {
   "cell_type": "code",
   "execution_count": 10,
   "metadata": {},
   "outputs": [],
   "source": [
    "BATCH_SIZE = 1000"
   ]
  },
  {
   "cell_type": "code",
   "execution_count": 11,
   "metadata": {},
   "outputs": [],
   "source": [
    "# --- Batch function ---\n",
    "\n",
    "def batch(iterable, n=1):\n",
    "    l = len(iterable)\n",
    "    for ndx in range(0, l, n):\n",
    "        yield iterable[ndx:min(ndx + n, l)]"
   ]
  },
  {
   "cell_type": "code",
   "execution_count": 35,
   "metadata": {},
   "outputs": [
    {
     "name": "stdout",
     "output_type": "stream",
     "text": [
      "batch 1 done : 1000 cities done\n",
      "batch 2 done : 1000 cities done\n",
      "batch 3 done : 1000 cities done\n",
      "batch 4 done : 1000 cities done\n",
      "batch 5 done : 1000 cities done\n",
      "batch 6 done : 1000 cities done\n",
      "batch 7 done : 1000 cities done\n",
      "batch 8 done : 1000 cities done\n",
      "batch 9 done : 1000 cities done\n",
      "batch 10 done : 1000 cities done\n",
      "batch 11 done : 1000 cities done\n",
      "batch 12 done : 1000 cities done\n",
      "batch 13 done : 1000 cities done\n",
      "batch 14 done : 1000 cities done\n",
      "batch 15 done : 1000 cities done\n",
      "batch 16 done : 1000 cities done\n",
      "batch 17 done : 1000 cities done\n",
      "batch 18 done : 1000 cities done\n",
      "batch 19 done : 1000 cities done\n",
      "batch 20 done : 1000 cities done\n",
      "batch 21 done : 1000 cities done\n",
      "batch 22 done : 1000 cities done\n",
      "batch 23 done : 1000 cities done\n",
      "batch 24 done : 1000 cities done\n",
      "batch 25 done : 1000 cities done\n",
      "batch 26 done : 1000 cities done\n",
      "batch 27 done : 1000 cities done\n",
      "batch 28 done : 1000 cities done\n",
      "batch 29 done : 1000 cities done\n",
      "batch 30 done : 1000 cities done\n",
      "batch 31 done : 1000 cities done\n",
      "batch 32 done : 1000 cities done\n",
      "batch 33 done : 1000 cities done\n",
      "batch 34 done : 1000 cities done\n",
      "batch 35 done : 1000 cities done\n"
     ]
    }
   ],
   "source": [
    "with driver.session() as session:\n",
    "\n",
    "    all_result = []\n",
    "\n",
    "    df_result = pd.DataFrame()\n",
    "\n",
    "    # Batch the writing session :\n",
    "\n",
    "    for i, props_batch in enumerate(batch(props_list, BATCH_SIZE)):\n",
    "        result = session.execute_write(create_dist_edge_per_batch_CITY, props_batch)\n",
    "        all_result.append(result)\n",
    "\n",
    "        print(f'batch {i + 1} done. {BATCH_SIZE*(i+1)} cities processed...')\n",
    "\n",
    "        df_result = pd.concat([df_result, pd.DataFrame(result)])\n",
    "\n",
    "    driver.close()\n"
   ]
  },
  {
   "attachments": {},
   "cell_type": "markdown",
   "metadata": {},
   "source": [
    "Résultat de la première passe :"
   ]
  },
  {
   "cell_type": "code",
   "execution_count": 36,
   "metadata": {},
   "outputs": [
    {
     "data": {
      "text/html": [
       "<div>\n",
       "<style scoped>\n",
       "    .dataframe tbody tr th:only-of-type {\n",
       "        vertical-align: middle;\n",
       "    }\n",
       "\n",
       "    .dataframe tbody tr th {\n",
       "        vertical-align: top;\n",
       "    }\n",
       "\n",
       "    .dataframe thead th {\n",
       "        text-align: right;\n",
       "    }\n",
       "</style>\n",
       "<table border=\"1\" class=\"dataframe\">\n",
       "  <thead>\n",
       "    <tr style=\"text-align: right;\">\n",
       "      <th></th>\n",
       "      <th>insee</th>\n",
       "      <th>edge_created</th>\n",
       "    </tr>\n",
       "  </thead>\n",
       "  <tbody>\n",
       "    <tr>\n",
       "      <th>0</th>\n",
       "      <td>62053</td>\n",
       "      <td>1</td>\n",
       "    </tr>\n",
       "    <tr>\n",
       "      <th>1</th>\n",
       "      <td>31290</td>\n",
       "      <td>2</td>\n",
       "    </tr>\n",
       "    <tr>\n",
       "      <th>2</th>\n",
       "      <td>28400</td>\n",
       "      <td>1</td>\n",
       "    </tr>\n",
       "    <tr>\n",
       "      <th>3</th>\n",
       "      <td>42333</td>\n",
       "      <td>1</td>\n",
       "    </tr>\n",
       "    <tr>\n",
       "      <th>4</th>\n",
       "      <td>25393</td>\n",
       "      <td>1</td>\n",
       "    </tr>\n",
       "    <tr>\n",
       "      <th>...</th>\n",
       "      <td>...</td>\n",
       "      <td>...</td>\n",
       "    </tr>\n",
       "    <tr>\n",
       "      <th>326</th>\n",
       "      <td>32101</td>\n",
       "      <td>2</td>\n",
       "    </tr>\n",
       "    <tr>\n",
       "      <th>327</th>\n",
       "      <td>03170</td>\n",
       "      <td>1</td>\n",
       "    </tr>\n",
       "    <tr>\n",
       "      <th>328</th>\n",
       "      <td>14394</td>\n",
       "      <td>2</td>\n",
       "    </tr>\n",
       "    <tr>\n",
       "      <th>329</th>\n",
       "      <td>49308</td>\n",
       "      <td>5</td>\n",
       "    </tr>\n",
       "    <tr>\n",
       "      <th>330</th>\n",
       "      <td>19227</td>\n",
       "      <td>4</td>\n",
       "    </tr>\n",
       "  </tbody>\n",
       "</table>\n",
       "<p>24557 rows × 2 columns</p>\n",
       "</div>"
      ],
      "text/plain": [
       "     insee  edge_created\n",
       "0    62053             1\n",
       "1    31290             2\n",
       "2    28400             1\n",
       "3    42333             1\n",
       "4    25393             1\n",
       "..     ...           ...\n",
       "326  32101             2\n",
       "327  03170             1\n",
       "328  14394             2\n",
       "329  49308             5\n",
       "330  19227             4\n",
       "\n",
       "[24557 rows x 2 columns]"
      ]
     },
     "execution_count": 36,
     "metadata": {},
     "output_type": "execute_result"
    }
   ],
   "source": [
    "df_result"
   ]
  },
  {
   "attachments": {},
   "cell_type": "markdown",
   "metadata": {},
   "source": [
    "On récupère les communes qui n'ont eu aucune route..."
   ]
  },
  {
   "cell_type": "code",
   "execution_count": 47,
   "metadata": {},
   "outputs": [],
   "source": [
    "df_communes_2 = df_communes.merge(df_result, how='outer', on='insee')"
   ]
  },
  {
   "cell_type": "code",
   "execution_count": 68,
   "metadata": {},
   "outputs": [],
   "source": [
    "df_communes_2 = df_communes_2.loc[df_communes_2['edge_created'].isna(),['insee']]"
   ]
  },
  {
   "cell_type": "code",
   "execution_count": 69,
   "metadata": {},
   "outputs": [
    {
     "data": {
      "text/html": [
       "<div>\n",
       "<style scoped>\n",
       "    .dataframe tbody tr th:only-of-type {\n",
       "        vertical-align: middle;\n",
       "    }\n",
       "\n",
       "    .dataframe tbody tr th {\n",
       "        vertical-align: top;\n",
       "    }\n",
       "\n",
       "    .dataframe thead th {\n",
       "        text-align: right;\n",
       "    }\n",
       "</style>\n",
       "<table border=\"1\" class=\"dataframe\">\n",
       "  <thead>\n",
       "    <tr style=\"text-align: right;\">\n",
       "      <th></th>\n",
       "      <th>insee</th>\n",
       "    </tr>\n",
       "  </thead>\n",
       "  <tbody>\n",
       "    <tr>\n",
       "      <th>1</th>\n",
       "      <td>37220</td>\n",
       "    </tr>\n",
       "    <tr>\n",
       "      <th>2</th>\n",
       "      <td>40180</td>\n",
       "    </tr>\n",
       "    <tr>\n",
       "      <th>3</th>\n",
       "      <td>92051</td>\n",
       "    </tr>\n",
       "    <tr>\n",
       "      <th>4</th>\n",
       "      <td>04040</td>\n",
       "    </tr>\n",
       "    <tr>\n",
       "      <th>5</th>\n",
       "      <td>62395</td>\n",
       "    </tr>\n",
       "    <tr>\n",
       "      <th>...</th>\n",
       "      <td>...</td>\n",
       "    </tr>\n",
       "    <tr>\n",
       "      <th>9898</th>\n",
       "      <td>37022</td>\n",
       "    </tr>\n",
       "    <tr>\n",
       "      <th>9899</th>\n",
       "      <td>54001</td>\n",
       "    </tr>\n",
       "    <tr>\n",
       "      <th>9900</th>\n",
       "      <td>54083</td>\n",
       "    </tr>\n",
       "    <tr>\n",
       "      <th>9901</th>\n",
       "      <td>11101</td>\n",
       "    </tr>\n",
       "    <tr>\n",
       "      <th>9902</th>\n",
       "      <td>29115</td>\n",
       "    </tr>\n",
       "  </tbody>\n",
       "</table>\n",
       "<p>9887 rows × 1 columns</p>\n",
       "</div>"
      ],
      "text/plain": [
       "      insee\n",
       "1     37220\n",
       "2     40180\n",
       "3     92051\n",
       "4     04040\n",
       "5     62395\n",
       "...     ...\n",
       "9898  37022\n",
       "9899  54001\n",
       "9900  54083\n",
       "9901  11101\n",
       "9902  29115\n",
       "\n",
       "[9887 rows x 1 columns]"
      ]
     },
     "execution_count": 69,
     "metadata": {},
     "output_type": "execute_result"
    }
   ],
   "source": [
    "df_communes_2"
   ]
  },
  {
   "attachments": {},
   "cell_type": "markdown",
   "metadata": {},
   "source": [
    "2ème passe : Pour ces communes, on agrandit le rayon à 2km et on limite à 5 routes"
   ]
  },
  {
   "cell_type": "code",
   "execution_count": 79,
   "metadata": {},
   "outputs": [
    {
     "name": "stdout",
     "output_type": "stream",
     "text": [
      "conversion of objects to parameters list for neo4j...\n"
     ]
    }
   ],
   "source": [
    "print(\"conversion of objects to parameters list for neo4j...\")\n",
    "\n",
    "props_list = df_communes_2.to_dict(\"records\")"
   ]
  },
  {
   "cell_type": "code",
   "execution_count": 15,
   "metadata": {},
   "outputs": [
    {
     "name": "stdout",
     "output_type": "stream",
     "text": [
      "batch 1 done : 1000 cities done\n",
      "batch 2 done : 2000 cities done\n",
      "batch 3 done : 3000 cities done\n",
      "batch 4 done : 4000 cities done\n",
      "batch 5 done : 5000 cities done\n",
      "batch 6 done : 6000 cities done\n",
      "batch 7 done : 7000 cities done\n",
      "batch 8 done : 8000 cities done\n",
      "batch 9 done : 9000 cities done\n",
      "batch 10 done : 10000 cities done\n"
     ]
    }
   ],
   "source": [
    "with driver.session() as session:\n",
    "\n",
    "    all_result = []\n",
    "\n",
    "    df_result = pd.DataFrame()\n",
    "\n",
    "    # Batch the writing session :\n",
    "\n",
    "    for i, props_batch in enumerate(batch(props_list, BATCH_SIZE)):\n",
    "        result = session.execute_write(create_dist_edge_per_batch_CITY_2km, props_batch)\n",
    "        all_result.append(result)\n",
    "\n",
    "        print(f'batch {i + 1} done : {BATCH_SIZE*(i+1)} cities done')\n",
    "\n",
    "        df_result = pd.concat([df_result, pd.DataFrame(result)])\n",
    "\n",
    "    driver.close()\n"
   ]
  },
  {
   "attachments": {},
   "cell_type": "markdown",
   "metadata": {},
   "source": [
    "---"
   ]
  },
  {
   "attachments": {},
   "cell_type": "markdown",
   "metadata": {},
   "source": [
    "Si Echec du process... Clause de rattrapage ici, pour retrouver les communes orphelines (sans relation \"NEARLY_TO\")"
   ]
  },
  {
   "cell_type": "code",
   "execution_count": 16,
   "metadata": {},
   "outputs": [],
   "source": [
    "with driver.session() as session:\n",
    "\n",
    "    count_list = []\n",
    "\n",
    "    result = session.execute_write(get_all_communes_with_no_nearly_road)\n",
    "\n",
    "driver.close()\n",
    "\n",
    "df = pd.DataFrame(result)"
   ]
  },
  {
   "cell_type": "code",
   "execution_count": 17,
   "metadata": {},
   "outputs": [
    {
     "data": {
      "text/html": [
       "<div>\n",
       "<style scoped>\n",
       "    .dataframe tbody tr th:only-of-type {\n",
       "        vertical-align: middle;\n",
       "    }\n",
       "\n",
       "    .dataframe tbody tr th {\n",
       "        vertical-align: top;\n",
       "    }\n",
       "\n",
       "    .dataframe thead th {\n",
       "        text-align: right;\n",
       "    }\n",
       "</style>\n",
       "<table border=\"1\" class=\"dataframe\">\n",
       "  <thead>\n",
       "    <tr style=\"text-align: right;\">\n",
       "      <th></th>\n",
       "      <th>insee</th>\n",
       "    </tr>\n",
       "  </thead>\n",
       "  <tbody>\n",
       "    <tr>\n",
       "      <th>0</th>\n",
       "      <td>04148</td>\n",
       "    </tr>\n",
       "    <tr>\n",
       "      <th>1</th>\n",
       "      <td>23255</td>\n",
       "    </tr>\n",
       "    <tr>\n",
       "      <th>2</th>\n",
       "      <td>79243</td>\n",
       "    </tr>\n",
       "    <tr>\n",
       "      <th>3</th>\n",
       "      <td>80698</td>\n",
       "    </tr>\n",
       "    <tr>\n",
       "      <th>4</th>\n",
       "      <td>21108</td>\n",
       "    </tr>\n",
       "    <tr>\n",
       "      <th>...</th>\n",
       "      <td>...</td>\n",
       "    </tr>\n",
       "    <tr>\n",
       "      <th>1407</th>\n",
       "      <td>41013</td>\n",
       "    </tr>\n",
       "    <tr>\n",
       "      <th>1408</th>\n",
       "      <td>24004</td>\n",
       "    </tr>\n",
       "    <tr>\n",
       "      <th>1409</th>\n",
       "      <td>81187</td>\n",
       "    </tr>\n",
       "    <tr>\n",
       "      <th>1410</th>\n",
       "      <td>14244</td>\n",
       "    </tr>\n",
       "    <tr>\n",
       "      <th>1411</th>\n",
       "      <td>11101</td>\n",
       "    </tr>\n",
       "  </tbody>\n",
       "</table>\n",
       "<p>1412 rows × 1 columns</p>\n",
       "</div>"
      ],
      "text/plain": [
       "      insee\n",
       "0     04148\n",
       "1     23255\n",
       "2     79243\n",
       "3     80698\n",
       "4     21108\n",
       "...     ...\n",
       "1407  41013\n",
       "1408  24004\n",
       "1409  81187\n",
       "1410  14244\n",
       "1411  11101\n",
       "\n",
       "[1412 rows x 1 columns]"
      ]
     },
     "execution_count": 17,
     "metadata": {},
     "output_type": "execute_result"
    }
   ],
   "source": [
    "df"
   ]
  },
  {
   "cell_type": "code",
   "execution_count": 18,
   "metadata": {},
   "outputs": [
    {
     "name": "stdout",
     "output_type": "stream",
     "text": [
      "conversion of objects to parameters list for neo4j...\n"
     ]
    }
   ],
   "source": [
    "print(\"conversion of objects to parameters list for neo4j...\")\n",
    "\n",
    "props_list = df.to_dict(\"records\")"
   ]
  },
  {
   "cell_type": "code",
   "execution_count": 15,
   "metadata": {},
   "outputs": [
    {
     "ename": "CypherSyntaxError",
     "evalue": "{code: Neo.ClientError.Statement.SyntaxError} {message: Variable `p` not defined (line 1, column 198 (offset: 197))\n\"  UNWIND $props_list AS map                     CALL {                     WITH map                     MATCH (n:CITY) WHERE n.insee = map.insee                     WITH point.distance(n.location, p.location) as dist                     MATCH (p:ROAD_POINT) WHERE dist < 2000                     RETURN n, p, dist                     ORDER BY dist                     LIMIT 5 }                 CREATE (p)-[r:NEARLY_TO]->(n)                 SET r.distance = dist                 RETURN n.insee as insee, count(*) as edge_created\"\n                                                                                                                                                                                                      ^}",
     "output_type": "error",
     "traceback": [
      "\u001b[0;31m---------------------------------------------------------------------------\u001b[0m",
      "\u001b[0;31mCypherSyntaxError\u001b[0m                         Traceback (most recent call last)",
      "Cell \u001b[0;32mIn[15], line 10\u001b[0m\n\u001b[1;32m      7\u001b[0m \u001b[39m# Batch the writing session :\u001b[39;00m\n\u001b[1;32m      9\u001b[0m \u001b[39mfor\u001b[39;00m i, props_batch \u001b[39min\u001b[39;00m \u001b[39menumerate\u001b[39m(batch(props_list, BATCH_SIZE)):\n\u001b[0;32m---> 10\u001b[0m     result \u001b[39m=\u001b[39m session\u001b[39m.\u001b[39;49mexecute_write(create_dist_edge_per_batch_CITY_2km, props_batch)\n\u001b[1;32m     11\u001b[0m     all_result\u001b[39m.\u001b[39mappend(result)\n\u001b[1;32m     13\u001b[0m     \u001b[39mprint\u001b[39m(\u001b[39mf\u001b[39m\u001b[39m'\u001b[39m\u001b[39mbatch \u001b[39m\u001b[39m{\u001b[39;00mi\u001b[39m \u001b[39m\u001b[39m+\u001b[39m\u001b[39m \u001b[39m\u001b[39m1\u001b[39m\u001b[39m}\u001b[39;00m\u001b[39m done : \u001b[39m\u001b[39m{\u001b[39;00mBATCH_SIZE\u001b[39m*\u001b[39m(i\u001b[39m+\u001b[39m\u001b[39m1\u001b[39m)\u001b[39m}\u001b[39;00m\u001b[39m cities done\u001b[39m\u001b[39m'\u001b[39m)\n",
      "File \u001b[0;32m~/miniconda3/envs/ECartoMobile/lib/python3.11/site-packages/neo4j/_sync/work/session.py:697\u001b[0m, in \u001b[0;36mSession.execute_write\u001b[0;34m(self, transaction_function, *args, **kwargs)\u001b[0m\n\u001b[1;32m    652\u001b[0m \u001b[39mdef\u001b[39;00m \u001b[39mexecute_write\u001b[39m(\n\u001b[1;32m    653\u001b[0m     \u001b[39mself\u001b[39m,\n\u001b[1;32m    654\u001b[0m     transaction_function: t\u001b[39m.\u001b[39mCallable[\n\u001b[0;32m   (...)\u001b[0m\n\u001b[1;32m    657\u001b[0m     \u001b[39m*\u001b[39margs: _P\u001b[39m.\u001b[39margs,  \u001b[39m*\u001b[39m\u001b[39m*\u001b[39mkwargs: _P\u001b[39m.\u001b[39mkwargs\n\u001b[1;32m    658\u001b[0m ) \u001b[39m-\u001b[39m\u001b[39m>\u001b[39m _R:\n\u001b[1;32m    659\u001b[0m \u001b[39m    \u001b[39m\u001b[39m\"\"\"Execute a unit of work in a managed write transaction.\u001b[39;00m\n\u001b[1;32m    660\u001b[0m \n\u001b[1;32m    661\u001b[0m \u001b[39m    .. note::\u001b[39;00m\n\u001b[0;32m   (...)\u001b[0m\n\u001b[1;32m    695\u001b[0m \u001b[39m    .. versionadded:: 5.0\u001b[39;00m\n\u001b[1;32m    696\u001b[0m \u001b[39m    \"\"\"\u001b[39;00m\n\u001b[0;32m--> 697\u001b[0m     \u001b[39mreturn\u001b[39;00m \u001b[39mself\u001b[39;49m\u001b[39m.\u001b[39;49m_run_transaction(\n\u001b[1;32m    698\u001b[0m         WRITE_ACCESS, transaction_function, \u001b[39m*\u001b[39;49margs, \u001b[39m*\u001b[39;49m\u001b[39m*\u001b[39;49mkwargs\n\u001b[1;32m    699\u001b[0m     )\n",
      "File \u001b[0;32m~/miniconda3/envs/ECartoMobile/lib/python3.11/site-packages/neo4j/_sync/work/session.py:512\u001b[0m, in \u001b[0;36mSession._run_transaction\u001b[0;34m(self, access_mode, transaction_function, *args, **kwargs)\u001b[0m\n\u001b[1;32m    510\u001b[0m tx \u001b[39m=\u001b[39m \u001b[39mself\u001b[39m\u001b[39m.\u001b[39m_transaction\n\u001b[1;32m    511\u001b[0m \u001b[39mtry\u001b[39;00m:\n\u001b[0;32m--> 512\u001b[0m     result \u001b[39m=\u001b[39m transaction_function(tx, \u001b[39m*\u001b[39;49margs, \u001b[39m*\u001b[39;49m\u001b[39m*\u001b[39;49mkwargs)\n\u001b[1;32m    513\u001b[0m \u001b[39mexcept\u001b[39;00m asyncio\u001b[39m.\u001b[39mCancelledError:\n\u001b[1;32m    514\u001b[0m     \u001b[39m# if cancellation callback has not been called yet:\u001b[39;00m\n\u001b[1;32m    515\u001b[0m     \u001b[39mif\u001b[39;00m \u001b[39mself\u001b[39m\u001b[39m.\u001b[39m_transaction \u001b[39mis\u001b[39;00m \u001b[39mnot\u001b[39;00m \u001b[39mNone\u001b[39;00m:\n",
      "Cell \u001b[0;32mIn[11], line 16\u001b[0m, in \u001b[0;36mcreate_dist_edge_per_batch_CITY_2km\u001b[0;34m(tx, props_list)\u001b[0m\n\u001b[1;32m      1\u001b[0m \u001b[39mdef\u001b[39;00m \u001b[39mcreate_dist_edge_per_batch_CITY_2km\u001b[39m(tx, props_list):\n\u001b[1;32m      3\u001b[0m     query \u001b[39m=\u001b[39m \u001b[39m\"\u001b[39m\u001b[39m  UNWIND $props_list AS map \u001b[39m\u001b[39m\\\u001b[39;00m\n\u001b[1;32m      4\u001b[0m \u001b[39m                    CALL \u001b[39m\u001b[39m{\u001b[39m\u001b[39m \u001b[39m\u001b[39m\\\u001b[39;00m\n\u001b[1;32m      5\u001b[0m \u001b[39m                    WITH map \u001b[39m\u001b[39m\\\u001b[39;00m\n\u001b[0;32m   (...)\u001b[0m\n\u001b[1;32m     13\u001b[0m \u001b[39m                SET r.distance = dist \u001b[39m\u001b[39m\\\u001b[39;00m\n\u001b[1;32m     14\u001b[0m \u001b[39m                RETURN n.insee as insee, count(*) as edge_created \u001b[39m\u001b[39m\"\u001b[39m\n\u001b[0;32m---> 16\u001b[0m     result \u001b[39m=\u001b[39m tx\u001b[39m.\u001b[39;49mrun(query, props_list\u001b[39m=\u001b[39;49mprops_list)\n\u001b[1;32m     17\u001b[0m     \u001b[39mreturn\u001b[39;00m result\u001b[39m.\u001b[39mdata()\n",
      "File \u001b[0;32m~/miniconda3/envs/ECartoMobile/lib/python3.11/site-packages/neo4j/_sync/work/transaction.py:159\u001b[0m, in \u001b[0;36mTransactionBase.run\u001b[0;34m(self, query, parameters, **kwparameters)\u001b[0m\n\u001b[1;32m    156\u001b[0m \u001b[39mself\u001b[39m\u001b[39m.\u001b[39m_results\u001b[39m.\u001b[39mappend(result)\n\u001b[1;32m    158\u001b[0m parameters \u001b[39m=\u001b[39m \u001b[39mdict\u001b[39m(parameters \u001b[39mor\u001b[39;00m {}, \u001b[39m*\u001b[39m\u001b[39m*\u001b[39mkwparameters)\n\u001b[0;32m--> 159\u001b[0m result\u001b[39m.\u001b[39;49m_tx_ready_run(query, parameters)\n\u001b[1;32m    161\u001b[0m \u001b[39mreturn\u001b[39;00m result\n",
      "File \u001b[0;32m~/miniconda3/envs/ECartoMobile/lib/python3.11/site-packages/neo4j/_sync/work/result.py:116\u001b[0m, in \u001b[0;36mResult._tx_ready_run\u001b[0;34m(self, query, parameters)\u001b[0m\n\u001b[1;32m    112\u001b[0m \u001b[39mdef\u001b[39;00m \u001b[39m_tx_ready_run\u001b[39m(\u001b[39mself\u001b[39m, query, parameters):\n\u001b[1;32m    113\u001b[0m     \u001b[39m# BEGIN+RUN does not carry any extra on the RUN message.\u001b[39;00m\n\u001b[1;32m    114\u001b[0m     \u001b[39m# BEGIN {extra}\u001b[39;00m\n\u001b[1;32m    115\u001b[0m     \u001b[39m# RUN \"query\" {parameters} {extra}\u001b[39;00m\n\u001b[0;32m--> 116\u001b[0m     \u001b[39mself\u001b[39;49m\u001b[39m.\u001b[39;49m_run(query, parameters, \u001b[39mNone\u001b[39;49;00m, \u001b[39mNone\u001b[39;49;00m, \u001b[39mNone\u001b[39;49;00m, \u001b[39mNone\u001b[39;49;00m, \u001b[39mNone\u001b[39;49;00m, \u001b[39mNone\u001b[39;49;00m)\n",
      "File \u001b[0;32m~/miniconda3/envs/ECartoMobile/lib/python3.11/site-packages/neo4j/_sync/work/result.py:166\u001b[0m, in \u001b[0;36mResult._run\u001b[0;34m(self, query, parameters, db, imp_user, access_mode, bookmarks, notifications_min_severity, notifications_disabled_categories)\u001b[0m\n\u001b[1;32m    164\u001b[0m \u001b[39mself\u001b[39m\u001b[39m.\u001b[39m_pull()\n\u001b[1;32m    165\u001b[0m \u001b[39mself\u001b[39m\u001b[39m.\u001b[39m_connection\u001b[39m.\u001b[39msend_all()\n\u001b[0;32m--> 166\u001b[0m \u001b[39mself\u001b[39;49m\u001b[39m.\u001b[39;49m_attach()\n",
      "File \u001b[0;32m~/miniconda3/envs/ECartoMobile/lib/python3.11/site-packages/neo4j/_sync/work/result.py:274\u001b[0m, in \u001b[0;36mResult._attach\u001b[0;34m(self)\u001b[0m\n\u001b[1;32m    272\u001b[0m \u001b[39mif\u001b[39;00m \u001b[39mself\u001b[39m\u001b[39m.\u001b[39m_exhausted \u001b[39mis\u001b[39;00m \u001b[39mFalse\u001b[39;00m:\n\u001b[1;32m    273\u001b[0m     \u001b[39mwhile\u001b[39;00m \u001b[39mself\u001b[39m\u001b[39m.\u001b[39m_attached \u001b[39mis\u001b[39;00m \u001b[39mFalse\u001b[39;00m:\n\u001b[0;32m--> 274\u001b[0m         \u001b[39mself\u001b[39;49m\u001b[39m.\u001b[39;49m_connection\u001b[39m.\u001b[39;49mfetch_message()\n",
      "File \u001b[0;32m~/miniconda3/envs/ECartoMobile/lib/python3.11/site-packages/neo4j/_sync/io/_common.py:180\u001b[0m, in \u001b[0;36mConnectionErrorHandler.__getattr__.<locals>.outer.<locals>.inner\u001b[0;34m(*args, **kwargs)\u001b[0m\n\u001b[1;32m    178\u001b[0m \u001b[39mdef\u001b[39;00m \u001b[39minner\u001b[39m(\u001b[39m*\u001b[39margs, \u001b[39m*\u001b[39m\u001b[39m*\u001b[39mkwargs):\n\u001b[1;32m    179\u001b[0m     \u001b[39mtry\u001b[39;00m:\n\u001b[0;32m--> 180\u001b[0m         func(\u001b[39m*\u001b[39;49margs, \u001b[39m*\u001b[39;49m\u001b[39m*\u001b[39;49mkwargs)\n\u001b[1;32m    181\u001b[0m     \u001b[39mexcept\u001b[39;00m (Neo4jError, ServiceUnavailable, SessionExpired) \u001b[39mas\u001b[39;00m exc:\n\u001b[1;32m    182\u001b[0m         \u001b[39massert\u001b[39;00m \u001b[39mnot\u001b[39;00m asyncio\u001b[39m.\u001b[39miscoroutinefunction(\u001b[39mself\u001b[39m\u001b[39m.\u001b[39m__on_error)\n",
      "File \u001b[0;32m~/miniconda3/envs/ECartoMobile/lib/python3.11/site-packages/neo4j/_sync/io/_bolt.py:803\u001b[0m, in \u001b[0;36mBolt.fetch_message\u001b[0;34m(self)\u001b[0m\n\u001b[1;32m    799\u001b[0m \u001b[39m# Receive exactly one message\u001b[39;00m\n\u001b[1;32m    800\u001b[0m tag, fields \u001b[39m=\u001b[39m \u001b[39mself\u001b[39m\u001b[39m.\u001b[39minbox\u001b[39m.\u001b[39mpop(\n\u001b[1;32m    801\u001b[0m     hydration_hooks\u001b[39m=\u001b[39m\u001b[39mself\u001b[39m\u001b[39m.\u001b[39mresponses[\u001b[39m0\u001b[39m]\u001b[39m.\u001b[39mhydration_hooks\n\u001b[1;32m    802\u001b[0m )\n\u001b[0;32m--> 803\u001b[0m res \u001b[39m=\u001b[39m \u001b[39mself\u001b[39;49m\u001b[39m.\u001b[39;49m_process_message(tag, fields)\n\u001b[1;32m    804\u001b[0m \u001b[39mself\u001b[39m\u001b[39m.\u001b[39midle_since \u001b[39m=\u001b[39m perf_counter()\n\u001b[1;32m    805\u001b[0m \u001b[39mreturn\u001b[39;00m res\n",
      "File \u001b[0;32m~/miniconda3/envs/ECartoMobile/lib/python3.11/site-packages/neo4j/_sync/io/_bolt5.py:360\u001b[0m, in \u001b[0;36mBolt5x0._process_message\u001b[0;34m(self, tag, fields)\u001b[0m\n\u001b[1;32m    358\u001b[0m \u001b[39mself\u001b[39m\u001b[39m.\u001b[39m_server_state_manager\u001b[39m.\u001b[39mstate \u001b[39m=\u001b[39m \u001b[39mself\u001b[39m\u001b[39m.\u001b[39mserver_states\u001b[39m.\u001b[39mFAILED\n\u001b[1;32m    359\u001b[0m \u001b[39mtry\u001b[39;00m:\n\u001b[0;32m--> 360\u001b[0m     response\u001b[39m.\u001b[39;49mon_failure(summary_metadata \u001b[39mor\u001b[39;49;00m {})\n\u001b[1;32m    361\u001b[0m \u001b[39mexcept\u001b[39;00m (ServiceUnavailable, DatabaseUnavailable):\n\u001b[1;32m    362\u001b[0m     \u001b[39mif\u001b[39;00m \u001b[39mself\u001b[39m\u001b[39m.\u001b[39mpool:\n",
      "File \u001b[0;32m~/miniconda3/envs/ECartoMobile/lib/python3.11/site-packages/neo4j/_sync/io/_common.py:247\u001b[0m, in \u001b[0;36mResponse.on_failure\u001b[0;34m(self, metadata)\u001b[0m\n\u001b[1;32m    245\u001b[0m handler \u001b[39m=\u001b[39m \u001b[39mself\u001b[39m\u001b[39m.\u001b[39mhandlers\u001b[39m.\u001b[39mget(\u001b[39m\"\u001b[39m\u001b[39mon_summary\u001b[39m\u001b[39m\"\u001b[39m)\n\u001b[1;32m    246\u001b[0m Util\u001b[39m.\u001b[39mcallback(handler)\n\u001b[0;32m--> 247\u001b[0m \u001b[39mraise\u001b[39;00m Neo4jError\u001b[39m.\u001b[39mhydrate(\u001b[39m*\u001b[39m\u001b[39m*\u001b[39mmetadata)\n",
      "\u001b[0;31mCypherSyntaxError\u001b[0m: {code: Neo.ClientError.Statement.SyntaxError} {message: Variable `p` not defined (line 1, column 198 (offset: 197))\n\"  UNWIND $props_list AS map                     CALL {                     WITH map                     MATCH (n:CITY) WHERE n.insee = map.insee                     WITH point.distance(n.location, p.location) as dist                     MATCH (p:ROAD_POINT) WHERE dist < 2000                     RETURN n, p, dist                     ORDER BY dist                     LIMIT 5 }                 CREATE (p)-[r:NEARLY_TO]->(n)                 SET r.distance = dist                 RETURN n.insee as insee, count(*) as edge_created\"\n                                                                                                                                                                                                      ^}"
     ]
    }
   ],
   "source": [
    "with driver.session() as session:\n",
    "\n",
    "    all_result = []\n",
    "\n",
    "    df_result = pd.DataFrame()\n",
    "\n",
    "    # Batch the writing session :\n",
    "\n",
    "    for i, props_batch in enumerate(batch(props_list, BATCH_SIZE)):\n",
    "        result = session.execute_write(create_dist_edge_per_batch_CITY_2km, props_batch)\n",
    "        all_result.append(result)\n",
    "\n",
    "        print(f'batch {i + 1} done : {BATCH_SIZE*(i+1)} cities done')\n",
    "\n",
    "        df_result = pd.concat([df_result, pd.DataFrame(result)])\n",
    "\n",
    "    driver.close()\n"
   ]
  },
  {
   "cell_type": "code",
   "execution_count": 23,
   "metadata": {},
   "outputs": [],
   "source": [
    "df_communes_3 = df.merge(df_result, how='outer', on='insee')"
   ]
  },
  {
   "cell_type": "code",
   "execution_count": 24,
   "metadata": {},
   "outputs": [
    {
     "data": {
      "text/html": [
       "<div>\n",
       "<style scoped>\n",
       "    .dataframe tbody tr th:only-of-type {\n",
       "        vertical-align: middle;\n",
       "    }\n",
       "\n",
       "    .dataframe tbody tr th {\n",
       "        vertical-align: top;\n",
       "    }\n",
       "\n",
       "    .dataframe thead th {\n",
       "        text-align: right;\n",
       "    }\n",
       "</style>\n",
       "<table border=\"1\" class=\"dataframe\">\n",
       "  <thead>\n",
       "    <tr style=\"text-align: right;\">\n",
       "      <th></th>\n",
       "      <th>insee</th>\n",
       "      <th>edge_created</th>\n",
       "    </tr>\n",
       "  </thead>\n",
       "  <tbody>\n",
       "    <tr>\n",
       "      <th>0</th>\n",
       "      <td>04148</td>\n",
       "      <td>NaN</td>\n",
       "    </tr>\n",
       "    <tr>\n",
       "      <th>1</th>\n",
       "      <td>23255</td>\n",
       "      <td>NaN</td>\n",
       "    </tr>\n",
       "    <tr>\n",
       "      <th>2</th>\n",
       "      <td>79243</td>\n",
       "      <td>NaN</td>\n",
       "    </tr>\n",
       "    <tr>\n",
       "      <th>3</th>\n",
       "      <td>80698</td>\n",
       "      <td>NaN</td>\n",
       "    </tr>\n",
       "    <tr>\n",
       "      <th>4</th>\n",
       "      <td>21108</td>\n",
       "      <td>NaN</td>\n",
       "    </tr>\n",
       "    <tr>\n",
       "      <th>...</th>\n",
       "      <td>...</td>\n",
       "      <td>...</td>\n",
       "    </tr>\n",
       "    <tr>\n",
       "      <th>7312</th>\n",
       "      <td>37022</td>\n",
       "      <td>5.0</td>\n",
       "    </tr>\n",
       "    <tr>\n",
       "      <th>7313</th>\n",
       "      <td>54001</td>\n",
       "      <td>4.0</td>\n",
       "    </tr>\n",
       "    <tr>\n",
       "      <th>7314</th>\n",
       "      <td>54083</td>\n",
       "      <td>1.0</td>\n",
       "    </tr>\n",
       "    <tr>\n",
       "      <th>7315</th>\n",
       "      <td>11101</td>\n",
       "      <td>NaN</td>\n",
       "    </tr>\n",
       "    <tr>\n",
       "      <th>7316</th>\n",
       "      <td>29115</td>\n",
       "      <td>2.0</td>\n",
       "    </tr>\n",
       "  </tbody>\n",
       "</table>\n",
       "<p>7317 rows × 2 columns</p>\n",
       "</div>"
      ],
      "text/plain": [
       "      insee  edge_created\n",
       "0     04148           NaN\n",
       "1     23255           NaN\n",
       "2     79243           NaN\n",
       "3     80698           NaN\n",
       "4     21108           NaN\n",
       "...     ...           ...\n",
       "7312  37022           5.0\n",
       "7313  54001           4.0\n",
       "7314  54083           1.0\n",
       "7315  11101           NaN\n",
       "7316  29115           2.0\n",
       "\n",
       "[7317 rows x 2 columns]"
      ]
     },
     "execution_count": 24,
     "metadata": {},
     "output_type": "execute_result"
    }
   ],
   "source": [
    "df_communes_3"
   ]
  },
  {
   "attachments": {},
   "cell_type": "markdown",
   "metadata": {},
   "source": [
    "3ème passe : On récupère les communes toujours orphelines malgré tout... Cette fois_ci , distance à 5km limité à 2 résultats."
   ]
  },
  {
   "cell_type": "code",
   "execution_count": 25,
   "metadata": {},
   "outputs": [],
   "source": [
    "df_communes_3 = df_communes_3.loc[df_communes_3['edge_created'].isna(),['insee']]"
   ]
  },
  {
   "cell_type": "code",
   "execution_count": null,
   "metadata": {},
   "outputs": [],
   "source": [
    "print(\"conversion of objects to parameters list for neo4j...\")\n",
    "\n",
    "props_list = df.to_dict(\"records\")"
   ]
  },
  {
   "cell_type": "code",
   "execution_count": 19,
   "metadata": {},
   "outputs": [],
   "source": [
    "with driver.session() as session:\n",
    "\n",
    "    count_list = []\n",
    "\n",
    "    result = session.execute_write(get_all_communes_with_no_nearly_road)\n",
    "\n",
    "driver.close()\n",
    "\n",
    "df = pd.DataFrame(result)"
   ]
  },
  {
   "cell_type": "code",
   "execution_count": 20,
   "metadata": {},
   "outputs": [
    {
     "name": "stdout",
     "output_type": "stream",
     "text": [
      "conversion of objects to parameters list for neo4j...\n"
     ]
    }
   ],
   "source": [
    "print(\"conversion of objects to parameters list for neo4j...\")\n",
    "\n",
    "props_list = df.to_dict(\"records\")"
   ]
  },
  {
   "cell_type": "code",
   "execution_count": 23,
   "metadata": {},
   "outputs": [
    {
     "name": "stdout",
     "output_type": "stream",
     "text": [
      "batch 1 done : 1000 cities done\n",
      "batch 2 done : 2000 cities done\n"
     ]
    }
   ],
   "source": [
    "with driver.session() as session:\n",
    "\n",
    "    all_result = []\n",
    "\n",
    "    df_result = pd.DataFrame()\n",
    "\n",
    "    # Batch the writing session :\n",
    "\n",
    "    for i, props_batch in enumerate(batch(props_list, BATCH_SIZE)):\n",
    "        result = session.execute_write(create_dist_edge_per_batch_CITY_5km, props_batch)\n",
    "        all_result.append(result)\n",
    "\n",
    "        print(f'batch {i + 1} done : {BATCH_SIZE*(i+1)} cities done')\n",
    "\n",
    "        df_result = pd.concat([df_result, pd.DataFrame(result)])\n",
    "\n",
    "    driver.close()"
   ]
  },
  {
   "cell_type": "code",
   "execution_count": 25,
   "metadata": {},
   "outputs": [],
   "source": [
    "df_communes_4 = df.merge(df_result, how='outer', on='insee')"
   ]
  },
  {
   "cell_type": "code",
   "execution_count": 26,
   "metadata": {},
   "outputs": [],
   "source": [
    "df_communes_4 = df_communes_4.loc[df_communes_4['edge_created'].isna(),['insee']]"
   ]
  },
  {
   "cell_type": "code",
   "execution_count": 27,
   "metadata": {},
   "outputs": [
    {
     "name": "stdout",
     "output_type": "stream",
     "text": [
      "conversion of objects to parameters list for neo4j...\n"
     ]
    }
   ],
   "source": [
    "print(\"conversion of objects to parameters list for neo4j...\")\n",
    "\n",
    "props_list = df_communes_4.to_dict(\"records\")"
   ]
  },
  {
   "cell_type": "code",
   "execution_count": 30,
   "metadata": {},
   "outputs": [
    {
     "name": "stdout",
     "output_type": "stream",
     "text": [
      "batch 1 done : 1000 cities done\n"
     ]
    }
   ],
   "source": [
    "with driver.session() as session:\n",
    "\n",
    "    all_result = []\n",
    "\n",
    "    df_result = pd.DataFrame()\n",
    "\n",
    "    # Batch the writing session :\n",
    "\n",
    "    for i, props_batch in enumerate(batch(props_list, BATCH_SIZE)):\n",
    "        result = session.execute_write(create_dist_edge_per_batch_CITY_30km, props_batch)\n",
    "        all_result.append(result)\n",
    "\n",
    "        print(f'batch {i + 1} done : {BATCH_SIZE*(i+1)} cities done')\n",
    "\n",
    "        df_result = pd.concat([df_result, pd.DataFrame(result)])\n",
    "\n",
    "    driver.close()\n"
   ]
  },
  {
   "cell_type": "code",
   "execution_count": 31,
   "metadata": {},
   "outputs": [
    {
     "data": {
      "text/html": [
       "<div>\n",
       "<style scoped>\n",
       "    .dataframe tbody tr th:only-of-type {\n",
       "        vertical-align: middle;\n",
       "    }\n",
       "\n",
       "    .dataframe tbody tr th {\n",
       "        vertical-align: top;\n",
       "    }\n",
       "\n",
       "    .dataframe thead th {\n",
       "        text-align: right;\n",
       "    }\n",
       "</style>\n",
       "<table border=\"1\" class=\"dataframe\">\n",
       "  <thead>\n",
       "    <tr style=\"text-align: right;\">\n",
       "      <th></th>\n",
       "      <th>insee</th>\n",
       "      <th>edge_created</th>\n",
       "    </tr>\n",
       "  </thead>\n",
       "  <tbody>\n",
       "    <tr>\n",
       "      <th>0</th>\n",
       "      <td>56152</td>\n",
       "      <td>1</td>\n",
       "    </tr>\n",
       "    <tr>\n",
       "      <th>1</th>\n",
       "      <td>17323</td>\n",
       "      <td>1</td>\n",
       "    </tr>\n",
       "    <tr>\n",
       "      <th>2</th>\n",
       "      <td>73047</td>\n",
       "      <td>1</td>\n",
       "    </tr>\n",
       "    <tr>\n",
       "      <th>3</th>\n",
       "      <td>29084</td>\n",
       "      <td>1</td>\n",
       "    </tr>\n",
       "    <tr>\n",
       "      <th>4</th>\n",
       "      <td>17486</td>\n",
       "      <td>1</td>\n",
       "    </tr>\n",
       "    <tr>\n",
       "      <th>5</th>\n",
       "      <td>48054</td>\n",
       "      <td>1</td>\n",
       "    </tr>\n",
       "    <tr>\n",
       "      <th>6</th>\n",
       "      <td>05064</td>\n",
       "      <td>1</td>\n",
       "    </tr>\n",
       "    <tr>\n",
       "      <th>7</th>\n",
       "      <td>38073</td>\n",
       "      <td>1</td>\n",
       "    </tr>\n",
       "    <tr>\n",
       "      <th>8</th>\n",
       "      <td>40081</td>\n",
       "      <td>1</td>\n",
       "    </tr>\n",
       "    <tr>\n",
       "      <th>9</th>\n",
       "      <td>56086</td>\n",
       "      <td>1</td>\n",
       "    </tr>\n",
       "    <tr>\n",
       "      <th>10</th>\n",
       "      <td>56069</td>\n",
       "      <td>1</td>\n",
       "    </tr>\n",
       "    <tr>\n",
       "      <th>11</th>\n",
       "      <td>17385</td>\n",
       "      <td>1</td>\n",
       "    </tr>\n",
       "    <tr>\n",
       "      <th>12</th>\n",
       "      <td>24241</td>\n",
       "      <td>1</td>\n",
       "    </tr>\n",
       "    <tr>\n",
       "      <th>13</th>\n",
       "      <td>69034</td>\n",
       "      <td>1</td>\n",
       "    </tr>\n",
       "    <tr>\n",
       "      <th>14</th>\n",
       "      <td>48167</td>\n",
       "      <td>1</td>\n",
       "    </tr>\n",
       "    <tr>\n",
       "      <th>15</th>\n",
       "      <td>56085</td>\n",
       "      <td>1</td>\n",
       "    </tr>\n",
       "    <tr>\n",
       "      <th>16</th>\n",
       "      <td>04016</td>\n",
       "      <td>1</td>\n",
       "    </tr>\n",
       "    <tr>\n",
       "      <th>17</th>\n",
       "      <td>38375</td>\n",
       "      <td>1</td>\n",
       "    </tr>\n",
       "    <tr>\n",
       "      <th>18</th>\n",
       "      <td>85113</td>\n",
       "      <td>1</td>\n",
       "    </tr>\n",
       "    <tr>\n",
       "      <th>19</th>\n",
       "      <td>17337</td>\n",
       "      <td>1</td>\n",
       "    </tr>\n",
       "    <tr>\n",
       "      <th>20</th>\n",
       "      <td>69266</td>\n",
       "      <td>1</td>\n",
       "    </tr>\n",
       "    <tr>\n",
       "      <th>21</th>\n",
       "      <td>69063</td>\n",
       "      <td>1</td>\n",
       "    </tr>\n",
       "    <tr>\n",
       "      <th>22</th>\n",
       "      <td>17140</td>\n",
       "      <td>1</td>\n",
       "    </tr>\n",
       "    <tr>\n",
       "      <th>23</th>\n",
       "      <td>29155</td>\n",
       "      <td>1</td>\n",
       "    </tr>\n",
       "    <tr>\n",
       "      <th>24</th>\n",
       "      <td>48119</td>\n",
       "      <td>1</td>\n",
       "    </tr>\n",
       "    <tr>\n",
       "      <th>25</th>\n",
       "      <td>56241</td>\n",
       "      <td>1</td>\n",
       "    </tr>\n",
       "    <tr>\n",
       "      <th>26</th>\n",
       "      <td>64092</td>\n",
       "      <td>1</td>\n",
       "    </tr>\n",
       "    <tr>\n",
       "      <th>27</th>\n",
       "      <td>56114</td>\n",
       "      <td>1</td>\n",
       "    </tr>\n",
       "    <tr>\n",
       "      <th>28</th>\n",
       "      <td>29083</td>\n",
       "      <td>1</td>\n",
       "    </tr>\n",
       "    <tr>\n",
       "      <th>29</th>\n",
       "      <td>56009</td>\n",
       "      <td>1</td>\n",
       "    </tr>\n",
       "  </tbody>\n",
       "</table>\n",
       "</div>"
      ],
      "text/plain": [
       "    insee  edge_created\n",
       "0   56152             1\n",
       "1   17323             1\n",
       "2   73047             1\n",
       "3   29084             1\n",
       "4   17486             1\n",
       "5   48054             1\n",
       "6   05064             1\n",
       "7   38073             1\n",
       "8   40081             1\n",
       "9   56086             1\n",
       "10  56069             1\n",
       "11  17385             1\n",
       "12  24241             1\n",
       "13  69034             1\n",
       "14  48167             1\n",
       "15  56085             1\n",
       "16  04016             1\n",
       "17  38375             1\n",
       "18  85113             1\n",
       "19  17337             1\n",
       "20  69266             1\n",
       "21  69063             1\n",
       "22  17140             1\n",
       "23  29155             1\n",
       "24  48119             1\n",
       "25  56241             1\n",
       "26  64092             1\n",
       "27  56114             1\n",
       "28  29083             1\n",
       "29  56009             1"
      ]
     },
     "execution_count": 31,
     "metadata": {},
     "output_type": "execute_result"
    }
   ],
   "source": [
    "df_result"
   ]
  },
  {
   "cell_type": "code",
   "execution_count": 32,
   "metadata": {},
   "outputs": [],
   "source": [
    "with driver.session() as session:\n",
    "\n",
    "    count_list = []\n",
    "\n",
    "    result = session.execute_write(get_all_communes_with_no_nearly_road)\n",
    "\n",
    "driver.close()\n",
    "\n",
    "df = pd.DataFrame(result)"
   ]
  },
  {
   "cell_type": "code",
   "execution_count": 33,
   "metadata": {},
   "outputs": [
    {
     "data": {
      "text/html": [
       "<div>\n",
       "<style scoped>\n",
       "    .dataframe tbody tr th:only-of-type {\n",
       "        vertical-align: middle;\n",
       "    }\n",
       "\n",
       "    .dataframe tbody tr th {\n",
       "        vertical-align: top;\n",
       "    }\n",
       "\n",
       "    .dataframe thead th {\n",
       "        text-align: right;\n",
       "    }\n",
       "</style>\n",
       "<table border=\"1\" class=\"dataframe\">\n",
       "  <thead>\n",
       "    <tr style=\"text-align: right;\">\n",
       "      <th></th>\n",
       "    </tr>\n",
       "  </thead>\n",
       "  <tbody>\n",
       "  </tbody>\n",
       "</table>\n",
       "</div>"
      ],
      "text/plain": [
       "Empty DataFrame\n",
       "Columns: []\n",
       "Index: []"
      ]
     },
     "execution_count": 33,
     "metadata": {},
     "output_type": "execute_result"
    }
   ],
   "source": [
    "df"
   ]
  }
 ],
 "metadata": {
  "kernelspec": {
   "display_name": "ECartoMobile",
   "language": "python",
   "name": "python3"
  },
  "language_info": {
   "codemirror_mode": {
    "name": "ipython",
    "version": 3
   },
   "file_extension": ".py",
   "mimetype": "text/x-python",
   "name": "python",
   "nbconvert_exporter": "python",
   "pygments_lexer": "ipython3",
   "version": "3.11.3"
  },
  "orig_nbformat": 4
 },
 "nbformat": 4,
 "nbformat_minor": 2
}
