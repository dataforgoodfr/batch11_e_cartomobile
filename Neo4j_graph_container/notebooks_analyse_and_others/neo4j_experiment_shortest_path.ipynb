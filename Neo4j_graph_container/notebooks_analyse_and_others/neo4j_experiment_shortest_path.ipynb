{
 "cells": [
  {
   "cell_type": "markdown",
   "metadata": {},
   "source": [
    "#### Experimentation du principes de tirages de plus court chemins entre sources et destinations à l'échelle global"
   ]
  },
  {
   "cell_type": "markdown",
   "metadata": {},
   "source": [
    "Objectif :"
   ]
  },
  {
   "cell_type": "markdown",
   "metadata": {},
   "source": [
    "- Avant tout, convertir les données du graphe Noe4j utiles dans les bons types (code insee -> Integer, travel_time -> Float)\n",
    "\n",
    "- Récupérer, à l'échelle du territoire global cette fois, les deux listes sources et destinations, organisées sur la distribution respectives du nombres de véhicules immatriculés (pour les sources) et du score touristique (pour les destinations)\n",
    "\n",
    "- Expérimenter une preuve de concept de 10 000 tirages aléatoires entre source et destination (pris aléatoirement dans les deux listes), avec requête sous Neo4j et algorithme de plus court chemin.\n",
    "\n",
    "- Les résultats s'organisent en chemin de noeud. Dans la même requête Neo4j, il faut ensuite transformer ces noeuds de ROAD_POINT en communes les plus proches. La reqête est ainsi décomposée en 2 sous-requêtes.\n",
    "\n",
    "- Récupérer le résultat final sous forme d'un dataframe (ou d'une liste de liste)"
   ]
  },
  {
   "cell_type": "markdown",
   "metadata": {},
   "source": [
    "Imports :"
   ]
  },
  {
   "cell_type": "code",
   "execution_count": 1,
   "metadata": {},
   "outputs": [],
   "source": [
    "import numpy as np\n",
    "\n",
    "import random\n",
    "\n",
    "import pandas as pd\n",
    "\n",
    "import pickle\n",
    "\n",
    "from neo4j import GraphDatabase, basic_auth\n",
    "\n",
    "import plotly.express as px\n",
    "\n",
    "import geopy.distance"
   ]
  },
  {
   "cell_type": "code",
   "execution_count": 2,
   "metadata": {},
   "outputs": [],
   "source": [
    "PASSWORD_NEO4J = 'passwordneo4j'"
   ]
  },
  {
   "cell_type": "code",
   "execution_count": 3,
   "metadata": {},
   "outputs": [],
   "source": [
    "driver = GraphDatabase.driver(\n",
    "  \"bolt://localhost:7687\",\n",
    "  auth=basic_auth(\"neo4j\", PASSWORD_NEO4J))"
   ]
  },
  {
   "cell_type": "code",
   "execution_count": 4,
   "metadata": {},
   "outputs": [],
   "source": [
    "NB_DRAWS = 10000\n",
    "\n",
    "RATIO_EXCLUDE = 0.3 # proportion des neouds exclus du chemin (pour éviter une surrestimation des grandes villes de départ)\n",
    "\n",
    "MINIMAL_SUBPATH = 6 # longueur de chemin final minimal (après réduction grâce au ratio précédent) pour que ce chemin soit pris en compte et transmis"
   ]
  },
  {
   "cell_type": "markdown",
   "metadata": {},
   "source": [
    "---"
   ]
  },
  {
   "cell_type": "markdown",
   "metadata": {},
   "source": [
    "Cypher Request :"
   ]
  },
  {
   "cell_type": "code",
   "execution_count": 1,
   "metadata": {},
   "outputs": [],
   "source": [
    "def convert_insee_to_integer(tx):\n",
    "\n",
    "    query = \"MATCH (c:CITY) \\\n",
    "                SET c.insee = ToInteger(c.insee)\"\n",
    "    \n",
    "    result = tx.run(query)\n",
    "    return result.data()"
   ]
  },
  {
   "cell_type": "code",
   "execution_count": 9,
   "metadata": {},
   "outputs": [],
   "source": [
    "def convert_travel_time_to_float(tx):\n",
    "\n",
    "    query = \"MATCH ()-[r:RELATED]-() \\\n",
    "                SET r.travel_time = round(ToFloat(r.travel_time), 2)\"\n",
    "    \n",
    "    result = tx.run(query)\n",
    "    return result.data()"
   ]
  },
  {
   "cell_type": "code",
   "execution_count": 88,
   "metadata": {},
   "outputs": [],
   "source": [
    "def travel_time_to_NEARLY_rel(tx):\n",
    "\n",
    "    query = \"MATCH ()-[r:NEARLY_TO]-() \\\n",
    "                SET r.travel_time = ToFloat(0)\"\n",
    "    \n",
    "    result = tx.run(query)\n",
    "    return result.data()"
   ]
  },
  {
   "cell_type": "code",
   "execution_count": 5,
   "metadata": {},
   "outputs": [],
   "source": [
    "def projection_graph(tx):\n",
    "\n",
    "    query = \"CALL gds.graph.project( \\\n",
    "    'map_shortest_path_5', \\\n",
    "    { \\\n",
    "        CITY: {properties: ['insee', 'x', 'y']}, \\\n",
    "        ROAD_POINT: {properties: ['x', 'y']} \\\n",
    "            }, \\\n",
    "    { \\\n",
    "        NEARLY_TO: {properties:'travel_time', orientation : 'UNDIRECTED'}, \\\n",
    "        RELATED: {properties:'travel_time', orientation : 'NATURAL'} \\\n",
    "        }) \\\n",
    "    YIELD graphName, nodeProjection,  nodeCount, relationshipProjection, relationshipCount \\\n",
    "    RETURN graphName, nodeProjection,  nodeCount, relationshipProjection, relationshipCount\"\n",
    "\n",
    "    result = tx.run(query)\n",
    "    return result.data()\n"
   ]
  },
  {
   "cell_type": "markdown",
   "metadata": {},
   "source": [
    "Algorithme de Dijkstra :"
   ]
  },
  {
   "cell_type": "code",
   "execution_count": 137,
   "metadata": {},
   "outputs": [],
   "source": [
    "def shortest_path_new(tx, props_list, minimal_duration):\n",
    "\n",
    "    query = \"UNWIND $props_list AS map \\\n",
    "            MATCH (source:CITY {insee: map.source_insee}), (target:CITY {insee: map.target_insee}) \\\n",
    "                CALL gds.shortestPath.dijkstra.stream( \\\n",
    "                'map_shortest_path_5', \\\n",
    "                    { \\\n",
    "                    sourceNode: source, \\\n",
    "                    targetNode: target, \\\n",
    "                    relationshipWeightProperty: 'travel_time' \\\n",
    "                        }) \\\n",
    "            YIELD nodeIds, totalCost, costs \\\n",
    "            CALL apoc.when( \\\n",
    "                totalCost >= \" + str(minimal_duration) + \", \\\n",
    "                    ' MATCH (p:ROAD_POINT)-[NEARLY_TO]->(c:CITY) \\\n",
    "                    WHERE ID(p) IN nodeIds \\\n",
    "                    RETURN apoc.coll.toSet(collect(c.insee)) AS col', \\\n",
    "                    'RETURN NULL AS col', \\\n",
    "                    {nodeIds : nodeIds} \\\n",
    "                    ) \\\n",
    "                    YIELD value \\\n",
    "                RETURN map.source_insee AS source, map.target_insee AS target, value.col AS collection, totalCost, costs\"\n",
    "    \n",
    "    \n",
    "    result = tx.run(query, props_list = props_list)\n",
    "    return result.data()"
   ]
  },
  {
   "cell_type": "code",
   "execution_count": 92,
   "metadata": {},
   "outputs": [],
   "source": [
    "def shortest_path(tx, props_list):\n",
    "\n",
    "    query = \"UNWIND $props_list AS map \\\n",
    "            MATCH (source:CITY {insee: map.source_insee}), (target:CITY {insee: map.target_insee}) \\\n",
    "                CALL gds.shortestPath.dijkstra.stream( \\\n",
    "                'map_shortest_path_5', \\\n",
    "                    { \\\n",
    "                    sourceNode: source, \\\n",
    "                    targetNode: target, \\\n",
    "                    relationshipWeightProperty: 'travel_time' \\\n",
    "                        }) \\\n",
    "            YIELD nodeIds, totalCost, costs \\\n",
    "            CALL { \\\n",
    "                    WITH nodeIds \\\n",
    "                    MATCH (p:ROAD_POINT)-[NEARLY_TO]->(c:CITY) \\\n",
    "                    WHERE ID(p) IN nodeIds \\\n",
    "                    RETURN apoc.coll.toSet(collect(c.insee)) AS collection \\\n",
    "                }\\\n",
    "                RETURN map.source_insee AS source, map.target_insee AS target, collection, totalCost, costs\"\n",
    "    \n",
    "    \n",
    "    result = tx.run(query, props_list = props_list)\n",
    "    return result.data()\n",
    "\n",
    "    #WITH nodeIds[ToInteger(size(nodeIds)*\"+ str(ratio) + \")..] AS path_list \\\n"
   ]
  },
  {
   "cell_type": "markdown",
   "metadata": {},
   "source": [
    "Autre essai d'alogorithme  (A*) (attention: en réalité, trois fois plus long !) :"
   ]
  },
  {
   "cell_type": "code",
   "execution_count": 25,
   "metadata": {},
   "outputs": [],
   "source": [
    "\"\"\" def shortest_path_A(tx, props_list):\n",
    "\n",
    "    query = \"UNWIND $props_list AS map \\\n",
    "            MATCH (source:CITY {insee: map.source_insee}), (target:CITY {insee: map.target_insee}) \\\n",
    "                CALL gds.shortestPath.astar.stream( \\\n",
    "                'map_shortest_path_4', \\\n",
    "                    { \\\n",
    "                    sourceNode: source, \\\n",
    "                    targetNode: target, \\\n",
    "                    latitudeProperty: 'y', \\\n",
    "                    longitudeProperty: 'x', \\\n",
    "                    relationshipWeightProperty: 'travel_time' \\\n",
    "                        }) \\\n",
    "            YIELD nodeIds, \\\n",
    "            CALL { \\\n",
    "                        WITH nodeIds \\\n",
    "                        MATCH (p:ROAD_POINT)-[NEARLY_TO]->(c:CITY) \\\n",
    "                        WHERE ID(p) IN nodeIds \\\n",
    "                        RETURN apoc.coll.toSet(collect(c.insee)) AS collection \\\n",
    "                }\\\n",
    "                RETURN collection\"\n",
    "    \n",
    "    \n",
    "    result = tx.run(query, props_list = props_list)\n",
    "    return result.data() \"\"\""
   ]
  },
  {
   "cell_type": "code",
   "execution_count": 7,
   "metadata": {},
   "outputs": [],
   "source": [
    "def get_communes_nearliest(tx, props_list):\n",
    "\n",
    "    query = \"UNWIND $props_list AS map \\\n",
    "                CALL { \\\n",
    "                        WITH map \\\n",
    "                        MATCH (p:ROAD_POINT)-[NEARLY_TO]->(c:CITY) \\\n",
    "                        WHERE ID(p) IN map.nodeIds \\\n",
    "                        RETURN apoc.coll.toSet(collect(c.insee)) AS collection \\\n",
    "                } \\\n",
    "                RETURN collection\"\n",
    "    \n",
    "    result = tx.run(query, props_list = props_list)\n",
    "    return result.data()"
   ]
  },
  {
   "cell_type": "code",
   "execution_count": 8,
   "metadata": {},
   "outputs": [],
   "source": [
    "def get_all_communes_with_coords(tx):\n",
    "\n",
    "    query = \"MATCH (n:CITY) RETURN n.insee as insee, n.x as x, n.y as y\"\n",
    "\n",
    "    result = tx.run(query)\n",
    "    return result.data()\n"
   ]
  },
  {
   "cell_type": "markdown",
   "metadata": {},
   "source": [
    "---"
   ]
  },
  {
   "cell_type": "markdown",
   "metadata": {},
   "source": [
    "Requêtes de preprocessing :"
   ]
  },
  {
   "cell_type": "markdown",
   "metadata": {},
   "source": [
    "Conversion des codes insee en entiers (pour accélérer les calculs)"
   ]
  },
  {
   "cell_type": "code",
   "execution_count": 228,
   "metadata": {},
   "outputs": [
    {
     "name": "stdout",
     "output_type": "stream",
     "text": [
      "[]\n"
     ]
    }
   ],
   "source": [
    "with driver.session() as session:\n",
    "\n",
    "    result = session.execute_write(convert_insee_to_integer)\n",
    "\n",
    "driver.close()\n",
    "\n",
    "print(result)"
   ]
  },
  {
   "cell_type": "markdown",
   "metadata": {},
   "source": [
    "Conversion des \"travel_time\" des routes en float (car les \"travel_time\" vont servir de poids aux algorithmes de plus court chemins)"
   ]
  },
  {
   "cell_type": "code",
   "execution_count": 229,
   "metadata": {},
   "outputs": [
    {
     "name": "stdout",
     "output_type": "stream",
     "text": [
      "[]\n"
     ]
    }
   ],
   "source": [
    "with driver.session() as session:\n",
    "\n",
    "    result = session.execute_write(convert_travel_time_to_float)\n",
    "\n",
    "driver.close()\n",
    "\n",
    "print(result)"
   ]
  },
  {
   "cell_type": "markdown",
   "metadata": {},
   "source": [
    "Ajout d'un \"travel_time\" par défaut à zéro pour les relations \"NEARLY_TO\" entre CITY et ROAD POINT pour prévenir les bugs"
   ]
  },
  {
   "cell_type": "code",
   "execution_count": 89,
   "metadata": {},
   "outputs": [
    {
     "name": "stdout",
     "output_type": "stream",
     "text": [
      "[]\n"
     ]
    }
   ],
   "source": [
    "with driver.session() as session:\n",
    "\n",
    "    result = session.execute_write(travel_time_to_NEARLY_rel)\n",
    "\n",
    "driver.close()\n",
    "\n",
    "print(result)"
   ]
  },
  {
   "cell_type": "markdown",
   "metadata": {},
   "source": [
    "---"
   ]
  },
  {
   "cell_type": "markdown",
   "metadata": {},
   "source": [
    "Requête de projection (pour emploi de l'algo de plus court chemin)"
   ]
  },
  {
   "cell_type": "code",
   "execution_count": 9,
   "metadata": {},
   "outputs": [
    {
     "name": "stdout",
     "output_type": "stream",
     "text": [
      "[{'graphName': 'map_shortest_path_5', 'nodeProjection': {'ROAD_POINT': {'label': 'ROAD_POINT', 'properties': {'x': {'defaultValue': None, 'property': 'x'}, 'y': {'defaultValue': None, 'property': 'y'}}}, 'CITY': {'label': 'CITY', 'properties': {'insee': {'defaultValue': None, 'property': 'insee'}, 'x': {'defaultValue': None, 'property': 'x'}, 'y': {'defaultValue': None, 'property': 'y'}}}}, 'nodeCount': 557768, 'relationshipProjection': {'RELATED': {'orientation': 'NATURAL', 'indexInverse': False, 'aggregation': 'DEFAULT', 'type': 'RELATED', 'properties': {'travel_time': {'defaultValue': None, 'property': 'travel_time', 'aggregation': 'DEFAULT'}}}, 'NEARLY_TO': {'orientation': 'UNDIRECTED', 'indexInverse': False, 'aggregation': 'DEFAULT', 'type': 'NEARLY_TO', 'properties': {'travel_time': {'defaultValue': None, 'property': 'travel_time', 'aggregation': 'DEFAULT'}}}}, 'relationshipCount': 1359891}]\n"
     ]
    }
   ],
   "source": [
    "with driver.session() as session:\n",
    "\n",
    "    count_list = []\n",
    "\n",
    "    result = session.execute_write(projection_graph)\n",
    "\n",
    "driver.close()\n",
    "\n",
    "print(result)"
   ]
  },
  {
   "cell_type": "markdown",
   "metadata": {},
   "source": [
    "----"
   ]
  },
  {
   "cell_type": "markdown",
   "metadata": {},
   "source": [
    "Récupération des listes aléatoires de sources et destinations :"
   ]
  },
  {
   "cell_type": "code",
   "execution_count": 10,
   "metadata": {},
   "outputs": [],
   "source": [
    "with open('./datas/source_list_test.pkl', 'rb') as f:\n",
    "    source_list = pickle.load(f)\n",
    "\n",
    "with open('./datas/target_list_test.pkl', 'rb') as f:\n",
    "    target_list = pickle.load(f)"
   ]
  },
  {
   "cell_type": "markdown",
   "metadata": {},
   "source": [
    "Shuffling (selon nombre de tirages)"
   ]
  },
  {
   "cell_type": "code",
   "execution_count": 11,
   "metadata": {},
   "outputs": [],
   "source": [
    "shuffle_source = [random.choice(source_list) for i in range(NB_DRAWS)]\n",
    "shuffle_target = [random.choice(target_list) for i in range(NB_DRAWS)]"
   ]
  },
  {
   "cell_type": "markdown",
   "metadata": {},
   "source": [
    "Conversion en dataframe :"
   ]
  },
  {
   "cell_type": "code",
   "execution_count": 12,
   "metadata": {},
   "outputs": [],
   "source": [
    "df_shuffle = pd.DataFrame({\"source_insee\" : shuffle_source, \"target_insee\" : shuffle_target})"
   ]
  },
  {
   "cell_type": "code",
   "execution_count": 99,
   "metadata": {},
   "outputs": [],
   "source": [
    "# df_shuffle_test = df_shuffle.iloc[0:10,:]"
   ]
  },
  {
   "cell_type": "code",
   "execution_count": 152,
   "metadata": {},
   "outputs": [],
   "source": [
    "props_list = df_shuffle.to_dict('records')[0:10]"
   ]
  },
  {
   "cell_type": "code",
   "execution_count": 153,
   "metadata": {},
   "outputs": [
    {
     "data": {
      "text/plain": [
       "[{'source_insee': 34057, 'target_insee': 1283},\n",
       " {'source_insee': 87048, 'target_insee': 67306},\n",
       " {'source_insee': 38389, 'target_insee': 66065},\n",
       " {'source_insee': 6152, 'target_insee': 66004},\n",
       " {'source_insee': 31303, 'target_insee': 74139},\n",
       " {'source_insee': 62397, 'target_insee': 68335},\n",
       " {'source_insee': 60172, 'target_insee': 62472},\n",
       " {'source_insee': 13001, 'target_insee': 75056},\n",
       " {'source_insee': 94065, 'target_insee': 76656},\n",
       " {'source_insee': 69275, 'target_insee': 69253}]"
      ]
     },
     "execution_count": 153,
     "metadata": {},
     "output_type": "execute_result"
    }
   ],
   "source": [
    "props_list"
   ]
  },
  {
   "cell_type": "code",
   "execution_count": 154,
   "metadata": {},
   "outputs": [],
   "source": [
    "with driver.session() as session:\n",
    "\n",
    "    result = session.execute_write(shortest_path_new, props_list, MINIMAL_TIME)\n",
    "\n",
    "    #print(result[0])\n",
    "\n",
    "    #result = session.execute_write(get_communes_nearliest, result)\n",
    "\n",
    "driver.close()"
   ]
  },
  {
   "cell_type": "code",
   "execution_count": 155,
   "metadata": {},
   "outputs": [],
   "source": [
    "paths = pd.DataFrame(result)"
   ]
  },
  {
   "cell_type": "code",
   "execution_count": 156,
   "metadata": {},
   "outputs": [
    {
     "data": {
      "text/html": [
       "<div>\n",
       "<style scoped>\n",
       "    .dataframe tbody tr th:only-of-type {\n",
       "        vertical-align: middle;\n",
       "    }\n",
       "\n",
       "    .dataframe tbody tr th {\n",
       "        vertical-align: top;\n",
       "    }\n",
       "\n",
       "    .dataframe thead th {\n",
       "        text-align: right;\n",
       "    }\n",
       "</style>\n",
       "<table border=\"1\" class=\"dataframe\">\n",
       "  <thead>\n",
       "    <tr style=\"text-align: right;\">\n",
       "      <th></th>\n",
       "      <th>source</th>\n",
       "      <th>target</th>\n",
       "      <th>collection</th>\n",
       "      <th>totalCost</th>\n",
       "      <th>costs</th>\n",
       "    </tr>\n",
       "  </thead>\n",
       "  <tbody>\n",
       "    <tr>\n",
       "      <th>0</th>\n",
       "      <td>34057</td>\n",
       "      <td>1283</td>\n",
       "      <td>[34057, 34327, 30116, 30221, 84027, 7022, 2634...</td>\n",
       "      <td>13953.5</td>\n",
       "      <td>[0.0, 0.0, 26.0, 27.6, 27.700000000000003, 30....</td>\n",
       "    </tr>\n",
       "    <tr>\n",
       "      <th>1</th>\n",
       "      <td>87048</td>\n",
       "      <td>67306</td>\n",
       "      <td>[87048, 87014, 23002, 23149, 71590, 71040, 711...</td>\n",
       "      <td>23354.9</td>\n",
       "      <td>[0.0, 0.0, 40.8, 41.099999999999994, 45.599999...</td>\n",
       "    </tr>\n",
       "    <tr>\n",
       "      <th>2</th>\n",
       "      <td>38389</td>\n",
       "      <td>66065</td>\n",
       "      <td>[38389, 38288, 38480, 38484, 38544, 69189, 383...</td>\n",
       "      <td>17542.1</td>\n",
       "      <td>[0.0, 0.0, 403.5, 403.5, 403.5, 405.8, 411.1, ...</td>\n",
       "    </tr>\n",
       "    <tr>\n",
       "      <th>3</th>\n",
       "      <td>6152</td>\n",
       "      <td>66004</td>\n",
       "      <td>[6152, 6007, 83133, 83099, 13025, 30258, 30341...</td>\n",
       "      <td>20629.7</td>\n",
       "      <td>[0.0, 0.0, 143.8, 145.3, 145.70000000000002, 1...</td>\n",
       "    </tr>\n",
       "    <tr>\n",
       "      <th>4</th>\n",
       "      <td>31303</td>\n",
       "      <td>74139</td>\n",
       "      <td>[31303, 31576, 11430, 11438, 11106, 34183, 301...</td>\n",
       "      <td>22723.2</td>\n",
       "      <td>[0.0, 0.0, 57.4, 58.199999999999996, 63.199999...</td>\n",
       "    </tr>\n",
       "    <tr>\n",
       "      <th>5</th>\n",
       "      <td>62397</td>\n",
       "      <td>68335</td>\n",
       "      <td>[62397, 62031, 62203, 62174, 62078, 62038, 626...</td>\n",
       "      <td>20360.9</td>\n",
       "      <td>[0.0, 0.0, 45.3, 46.099999999999994, 47.8, 49....</td>\n",
       "    </tr>\n",
       "    <tr>\n",
       "      <th>6</th>\n",
       "      <td>60172</td>\n",
       "      <td>62472</td>\n",
       "      <td>[60172, 95149, 95352, 95026, 95456, 60398, 600...</td>\n",
       "      <td>7341.3</td>\n",
       "      <td>[0.0, 0.0, 101.8, 103.7, 104.3, 105.3999999999...</td>\n",
       "    </tr>\n",
       "    <tr>\n",
       "      <th>7</th>\n",
       "      <td>13001</td>\n",
       "      <td>75056</td>\n",
       "      <td>[13001, 7022, 26347, 26380, 26119, 26247, 2633...</td>\n",
       "      <td>26290.9</td>\n",
       "      <td>[0.0, 0.0, 62.6, 66.3, 78.89999999999999, 92.3...</td>\n",
       "    </tr>\n",
       "    <tr>\n",
       "      <th>8</th>\n",
       "      <td>94065</td>\n",
       "      <td>76656</td>\n",
       "      <td>None</td>\n",
       "      <td>5948.5</td>\n",
       "      <td>[0.0, 0.0, 30.3, 36.3, 37.9, 38.69999999999999...</td>\n",
       "    </tr>\n",
       "    <tr>\n",
       "      <th>9</th>\n",
       "      <td>69275</td>\n",
       "      <td>69253</td>\n",
       "      <td>None</td>\n",
       "      <td>2326.9</td>\n",
       "      <td>[0.0, 0.0, 2.9, 4.0, 6.0, 23.3, 29.5, 64.9, 66...</td>\n",
       "    </tr>\n",
       "  </tbody>\n",
       "</table>\n",
       "</div>"
      ],
      "text/plain": [
       "   source  target                                         collection   \n",
       "0   34057    1283  [34057, 34327, 30116, 30221, 84027, 7022, 2634...  \\\n",
       "1   87048   67306  [87048, 87014, 23002, 23149, 71590, 71040, 711...   \n",
       "2   38389   66065  [38389, 38288, 38480, 38484, 38544, 69189, 383...   \n",
       "3    6152   66004  [6152, 6007, 83133, 83099, 13025, 30258, 30341...   \n",
       "4   31303   74139  [31303, 31576, 11430, 11438, 11106, 34183, 301...   \n",
       "5   62397   68335  [62397, 62031, 62203, 62174, 62078, 62038, 626...   \n",
       "6   60172   62472  [60172, 95149, 95352, 95026, 95456, 60398, 600...   \n",
       "7   13001   75056  [13001, 7022, 26347, 26380, 26119, 26247, 2633...   \n",
       "8   94065   76656                                               None   \n",
       "9   69275   69253                                               None   \n",
       "\n",
       "   totalCost                                              costs  \n",
       "0    13953.5  [0.0, 0.0, 26.0, 27.6, 27.700000000000003, 30....  \n",
       "1    23354.9  [0.0, 0.0, 40.8, 41.099999999999994, 45.599999...  \n",
       "2    17542.1  [0.0, 0.0, 403.5, 403.5, 403.5, 405.8, 411.1, ...  \n",
       "3    20629.7  [0.0, 0.0, 143.8, 145.3, 145.70000000000002, 1...  \n",
       "4    22723.2  [0.0, 0.0, 57.4, 58.199999999999996, 63.199999...  \n",
       "5    20360.9  [0.0, 0.0, 45.3, 46.099999999999994, 47.8, 49....  \n",
       "6     7341.3  [0.0, 0.0, 101.8, 103.7, 104.3, 105.3999999999...  \n",
       "7    26290.9  [0.0, 0.0, 62.6, 66.3, 78.89999999999999, 92.3...  \n",
       "8     5948.5  [0.0, 0.0, 30.3, 36.3, 37.9, 38.69999999999999...  \n",
       "9     2326.9  [0.0, 0.0, 2.9, 4.0, 6.0, 23.3, 29.5, 64.9, 66...  "
      ]
     },
     "execution_count": 156,
     "metadata": {},
     "output_type": "execute_result"
    }
   ],
   "source": [
    "paths"
   ]
  },
  {
   "cell_type": "code",
   "execution_count": 176,
   "metadata": {},
   "outputs": [],
   "source": [
    "with driver.session() as session:\n",
    "\n",
    "    result = session.execute_read(shortest_path, props_list)\n",
    "\n",
    "    #print(result[0])\n",
    "\n",
    "    #result = session.execute_write(get_communes_nearliest, result)\n",
    "\n",
    "driver.close()"
   ]
  },
  {
   "cell_type": "code",
   "execution_count": 179,
   "metadata": {},
   "outputs": [
    {
     "data": {
      "text/plain": [
       "list"
      ]
     },
     "execution_count": 179,
     "metadata": {},
     "output_type": "execute_result"
    }
   ],
   "source": [
    "type(result)"
   ]
  },
  {
   "cell_type": "code",
   "execution_count": 158,
   "metadata": {},
   "outputs": [],
   "source": [
    "paths = pd.DataFrame(result)"
   ]
  },
  {
   "cell_type": "code",
   "execution_count": 159,
   "metadata": {},
   "outputs": [
    {
     "data": {
      "text/html": [
       "<div>\n",
       "<style scoped>\n",
       "    .dataframe tbody tr th:only-of-type {\n",
       "        vertical-align: middle;\n",
       "    }\n",
       "\n",
       "    .dataframe tbody tr th {\n",
       "        vertical-align: top;\n",
       "    }\n",
       "\n",
       "    .dataframe thead th {\n",
       "        text-align: right;\n",
       "    }\n",
       "</style>\n",
       "<table border=\"1\" class=\"dataframe\">\n",
       "  <thead>\n",
       "    <tr style=\"text-align: right;\">\n",
       "      <th></th>\n",
       "      <th>source</th>\n",
       "      <th>target</th>\n",
       "      <th>collection</th>\n",
       "      <th>totalCost</th>\n",
       "      <th>costs</th>\n",
       "    </tr>\n",
       "  </thead>\n",
       "  <tbody>\n",
       "    <tr>\n",
       "      <th>0</th>\n",
       "      <td>34057</td>\n",
       "      <td>1283</td>\n",
       "      <td>[34057, 34327, 30116, 30221, 84027, 7022, 2634...</td>\n",
       "      <td>13953.5</td>\n",
       "      <td>[0.0, 0.0, 26.0, 27.6, 27.700000000000003, 30....</td>\n",
       "    </tr>\n",
       "    <tr>\n",
       "      <th>1</th>\n",
       "      <td>87048</td>\n",
       "      <td>67306</td>\n",
       "      <td>[87048, 87014, 23002, 23149, 71590, 71040, 711...</td>\n",
       "      <td>23354.9</td>\n",
       "      <td>[0.0, 0.0, 40.8, 41.099999999999994, 45.599999...</td>\n",
       "    </tr>\n",
       "    <tr>\n",
       "      <th>2</th>\n",
       "      <td>38389</td>\n",
       "      <td>66065</td>\n",
       "      <td>[38389, 38288, 38480, 38484, 38544, 69189, 383...</td>\n",
       "      <td>17542.1</td>\n",
       "      <td>[0.0, 0.0, 403.5, 403.5, 403.5, 405.8, 411.1, ...</td>\n",
       "    </tr>\n",
       "    <tr>\n",
       "      <th>3</th>\n",
       "      <td>6152</td>\n",
       "      <td>66004</td>\n",
       "      <td>[6152, 6007, 83133, 83099, 13025, 30258, 30341...</td>\n",
       "      <td>20629.7</td>\n",
       "      <td>[0.0, 0.0, 143.8, 145.3, 145.70000000000002, 1...</td>\n",
       "    </tr>\n",
       "    <tr>\n",
       "      <th>4</th>\n",
       "      <td>31303</td>\n",
       "      <td>74139</td>\n",
       "      <td>[31303, 31576, 11430, 11438, 11106, 34183, 301...</td>\n",
       "      <td>22723.2</td>\n",
       "      <td>[0.0, 0.0, 57.4, 58.199999999999996, 63.199999...</td>\n",
       "    </tr>\n",
       "    <tr>\n",
       "      <th>5</th>\n",
       "      <td>62397</td>\n",
       "      <td>68335</td>\n",
       "      <td>[62397, 62031, 62203, 62174, 62078, 62038, 626...</td>\n",
       "      <td>20360.9</td>\n",
       "      <td>[0.0, 0.0, 45.3, 46.099999999999994, 47.8, 49....</td>\n",
       "    </tr>\n",
       "    <tr>\n",
       "      <th>6</th>\n",
       "      <td>60172</td>\n",
       "      <td>62472</td>\n",
       "      <td>[60172, 95149, 95352, 95026, 95456, 60398, 600...</td>\n",
       "      <td>7341.3</td>\n",
       "      <td>[0.0, 0.0, 101.8, 103.7, 104.3, 105.3999999999...</td>\n",
       "    </tr>\n",
       "    <tr>\n",
       "      <th>7</th>\n",
       "      <td>13001</td>\n",
       "      <td>75056</td>\n",
       "      <td>[13001, 7022, 26347, 26380, 26119, 26247, 2633...</td>\n",
       "      <td>26290.9</td>\n",
       "      <td>[0.0, 0.0, 62.6, 66.3, 78.89999999999999, 92.3...</td>\n",
       "    </tr>\n",
       "    <tr>\n",
       "      <th>8</th>\n",
       "      <td>94065</td>\n",
       "      <td>76656</td>\n",
       "      <td>[94065, 94021, 94003, 92049, 92046, 92075, 920...</td>\n",
       "      <td>5948.5</td>\n",
       "      <td>[0.0, 0.0, 30.3, 36.3, 37.9, 38.69999999999999...</td>\n",
       "    </tr>\n",
       "    <tr>\n",
       "      <th>9</th>\n",
       "      <td>69275</td>\n",
       "      <td>69253</td>\n",
       "      <td>[69275, 69277, 69287, 69298, 69283, 38487, 385...</td>\n",
       "      <td>2326.9</td>\n",
       "      <td>[0.0, 0.0, 2.9, 4.0, 6.0, 23.3, 29.5, 64.9, 66...</td>\n",
       "    </tr>\n",
       "  </tbody>\n",
       "</table>\n",
       "</div>"
      ],
      "text/plain": [
       "   source  target                                         collection   \n",
       "0   34057    1283  [34057, 34327, 30116, 30221, 84027, 7022, 2634...  \\\n",
       "1   87048   67306  [87048, 87014, 23002, 23149, 71590, 71040, 711...   \n",
       "2   38389   66065  [38389, 38288, 38480, 38484, 38544, 69189, 383...   \n",
       "3    6152   66004  [6152, 6007, 83133, 83099, 13025, 30258, 30341...   \n",
       "4   31303   74139  [31303, 31576, 11430, 11438, 11106, 34183, 301...   \n",
       "5   62397   68335  [62397, 62031, 62203, 62174, 62078, 62038, 626...   \n",
       "6   60172   62472  [60172, 95149, 95352, 95026, 95456, 60398, 600...   \n",
       "7   13001   75056  [13001, 7022, 26347, 26380, 26119, 26247, 2633...   \n",
       "8   94065   76656  [94065, 94021, 94003, 92049, 92046, 92075, 920...   \n",
       "9   69275   69253  [69275, 69277, 69287, 69298, 69283, 38487, 385...   \n",
       "\n",
       "   totalCost                                              costs  \n",
       "0    13953.5  [0.0, 0.0, 26.0, 27.6, 27.700000000000003, 30....  \n",
       "1    23354.9  [0.0, 0.0, 40.8, 41.099999999999994, 45.599999...  \n",
       "2    17542.1  [0.0, 0.0, 403.5, 403.5, 403.5, 405.8, 411.1, ...  \n",
       "3    20629.7  [0.0, 0.0, 143.8, 145.3, 145.70000000000002, 1...  \n",
       "4    22723.2  [0.0, 0.0, 57.4, 58.199999999999996, 63.199999...  \n",
       "5    20360.9  [0.0, 0.0, 45.3, 46.099999999999994, 47.8, 49....  \n",
       "6     7341.3  [0.0, 0.0, 101.8, 103.7, 104.3, 105.3999999999...  \n",
       "7    26290.9  [0.0, 0.0, 62.6, 66.3, 78.89999999999999, 92.3...  \n",
       "8     5948.5  [0.0, 0.0, 30.3, 36.3, 37.9, 38.69999999999999...  \n",
       "9     2326.9  [0.0, 0.0, 2.9, 4.0, 6.0, 23.3, 29.5, 64.9, 66...  "
      ]
     },
     "execution_count": 159,
     "metadata": {},
     "output_type": "execute_result"
    }
   ],
   "source": [
    "paths"
   ]
  },
  {
   "cell_type": "code",
   "execution_count": 34,
   "metadata": {},
   "outputs": [],
   "source": [
    "\"\"\"paths[\"length_collection\"] = paths['collection'].apply(lambda list : len(list))\n",
    "paths[\"length_costs\"] = paths['costs'].apply(lambda list : len(list)) \"\"\""
   ]
  },
  {
   "cell_type": "code",
   "execution_count": 78,
   "metadata": {},
   "outputs": [],
   "source": [
    "MINIMAL_TIME = 7200 # 2 heures de routes soit en moyenne 120-200 km (autonomie usuelle sans recharge)"
   ]
  },
  {
   "cell_type": "code",
   "execution_count": 160,
   "metadata": {},
   "outputs": [],
   "source": [
    "paths = paths.loc[paths[\"totalCost\"] >= MINIMAL_TIME,:]"
   ]
  },
  {
   "cell_type": "code",
   "execution_count": 161,
   "metadata": {},
   "outputs": [
    {
     "data": {
      "text/html": [
       "<div>\n",
       "<style scoped>\n",
       "    .dataframe tbody tr th:only-of-type {\n",
       "        vertical-align: middle;\n",
       "    }\n",
       "\n",
       "    .dataframe tbody tr th {\n",
       "        vertical-align: top;\n",
       "    }\n",
       "\n",
       "    .dataframe thead th {\n",
       "        text-align: right;\n",
       "    }\n",
       "</style>\n",
       "<table border=\"1\" class=\"dataframe\">\n",
       "  <thead>\n",
       "    <tr style=\"text-align: right;\">\n",
       "      <th></th>\n",
       "      <th>source</th>\n",
       "      <th>target</th>\n",
       "      <th>collection</th>\n",
       "      <th>totalCost</th>\n",
       "      <th>costs</th>\n",
       "    </tr>\n",
       "  </thead>\n",
       "  <tbody>\n",
       "    <tr>\n",
       "      <th>0</th>\n",
       "      <td>34057</td>\n",
       "      <td>1283</td>\n",
       "      <td>[34057, 34327, 30116, 30221, 84027, 7022, 2634...</td>\n",
       "      <td>13953.5</td>\n",
       "      <td>[0.0, 0.0, 26.0, 27.6, 27.700000000000003, 30....</td>\n",
       "    </tr>\n",
       "    <tr>\n",
       "      <th>1</th>\n",
       "      <td>87048</td>\n",
       "      <td>67306</td>\n",
       "      <td>[87048, 87014, 23002, 23149, 71590, 71040, 711...</td>\n",
       "      <td>23354.9</td>\n",
       "      <td>[0.0, 0.0, 40.8, 41.099999999999994, 45.599999...</td>\n",
       "    </tr>\n",
       "    <tr>\n",
       "      <th>2</th>\n",
       "      <td>38389</td>\n",
       "      <td>66065</td>\n",
       "      <td>[38389, 38288, 38480, 38484, 38544, 69189, 383...</td>\n",
       "      <td>17542.1</td>\n",
       "      <td>[0.0, 0.0, 403.5, 403.5, 403.5, 405.8, 411.1, ...</td>\n",
       "    </tr>\n",
       "    <tr>\n",
       "      <th>3</th>\n",
       "      <td>6152</td>\n",
       "      <td>66004</td>\n",
       "      <td>[6152, 6007, 83133, 83099, 13025, 30258, 30341...</td>\n",
       "      <td>20629.7</td>\n",
       "      <td>[0.0, 0.0, 143.8, 145.3, 145.70000000000002, 1...</td>\n",
       "    </tr>\n",
       "    <tr>\n",
       "      <th>4</th>\n",
       "      <td>31303</td>\n",
       "      <td>74139</td>\n",
       "      <td>[31303, 31576, 11430, 11438, 11106, 34183, 301...</td>\n",
       "      <td>22723.2</td>\n",
       "      <td>[0.0, 0.0, 57.4, 58.199999999999996, 63.199999...</td>\n",
       "    </tr>\n",
       "    <tr>\n",
       "      <th>5</th>\n",
       "      <td>62397</td>\n",
       "      <td>68335</td>\n",
       "      <td>[62397, 62031, 62203, 62174, 62078, 62038, 626...</td>\n",
       "      <td>20360.9</td>\n",
       "      <td>[0.0, 0.0, 45.3, 46.099999999999994, 47.8, 49....</td>\n",
       "    </tr>\n",
       "    <tr>\n",
       "      <th>6</th>\n",
       "      <td>60172</td>\n",
       "      <td>62472</td>\n",
       "      <td>[60172, 95149, 95352, 95026, 95456, 60398, 600...</td>\n",
       "      <td>7341.3</td>\n",
       "      <td>[0.0, 0.0, 101.8, 103.7, 104.3, 105.3999999999...</td>\n",
       "    </tr>\n",
       "    <tr>\n",
       "      <th>7</th>\n",
       "      <td>13001</td>\n",
       "      <td>75056</td>\n",
       "      <td>[13001, 7022, 26347, 26380, 26119, 26247, 2633...</td>\n",
       "      <td>26290.9</td>\n",
       "      <td>[0.0, 0.0, 62.6, 66.3, 78.89999999999999, 92.3...</td>\n",
       "    </tr>\n",
       "  </tbody>\n",
       "</table>\n",
       "</div>"
      ],
      "text/plain": [
       "   source  target                                         collection   \n",
       "0   34057    1283  [34057, 34327, 30116, 30221, 84027, 7022, 2634...  \\\n",
       "1   87048   67306  [87048, 87014, 23002, 23149, 71590, 71040, 711...   \n",
       "2   38389   66065  [38389, 38288, 38480, 38484, 38544, 69189, 383...   \n",
       "3    6152   66004  [6152, 6007, 83133, 83099, 13025, 30258, 30341...   \n",
       "4   31303   74139  [31303, 31576, 11430, 11438, 11106, 34183, 301...   \n",
       "5   62397   68335  [62397, 62031, 62203, 62174, 62078, 62038, 626...   \n",
       "6   60172   62472  [60172, 95149, 95352, 95026, 95456, 60398, 600...   \n",
       "7   13001   75056  [13001, 7022, 26347, 26380, 26119, 26247, 2633...   \n",
       "\n",
       "   totalCost                                              costs  \n",
       "0    13953.5  [0.0, 0.0, 26.0, 27.6, 27.700000000000003, 30....  \n",
       "1    23354.9  [0.0, 0.0, 40.8, 41.099999999999994, 45.599999...  \n",
       "2    17542.1  [0.0, 0.0, 403.5, 403.5, 403.5, 405.8, 411.1, ...  \n",
       "3    20629.7  [0.0, 0.0, 143.8, 145.3, 145.70000000000002, 1...  \n",
       "4    22723.2  [0.0, 0.0, 57.4, 58.199999999999996, 63.199999...  \n",
       "5    20360.9  [0.0, 0.0, 45.3, 46.099999999999994, 47.8, 49....  \n",
       "6     7341.3  [0.0, 0.0, 101.8, 103.7, 104.3, 105.3999999999...  \n",
       "7    26290.9  [0.0, 0.0, 62.6, 66.3, 78.89999999999999, 92.3...  "
      ]
     },
     "execution_count": 161,
     "metadata": {},
     "output_type": "execute_result"
    }
   ],
   "source": [
    "paths"
   ]
  },
  {
   "cell_type": "code",
   "execution_count": null,
   "metadata": {},
   "outputs": [],
   "source": [
    "vis"
   ]
  },
  {
   "cell_type": "code",
   "execution_count": 81,
   "metadata": {},
   "outputs": [],
   "source": [
    "# Binary Search in python\n",
    "\n",
    "\n",
    "def binarySearch(array, x, low, high):\n",
    "\n",
    "    if high >= low:\n",
    "\n",
    "        mid = low + (high - low)//2\n",
    "\n",
    "        # If found at mid, then return it\n",
    "        if array[mid] == x:\n",
    "            return mid\n",
    "\n",
    "        # Search the left half\n",
    "        elif array[mid] > x:\n",
    "            return binarySearch(array, x, low, mid-1)\n",
    "\n",
    "        # Search the right half\n",
    "        else:\n",
    "            return binarySearch(array, x, mid + 1, high)\n",
    "\n",
    "    else:\n",
    "        return low"
   ]
  },
  {
   "cell_type": "code",
   "execution_count": 83,
   "metadata": {},
   "outputs": [],
   "source": [
    "def filter_begining(df, minimal_duration):\n",
    "\n",
    "    costs_list = df[\"costs\"].tolist()\n",
    "    collection_list = df[\"collection\"].tolist()\n",
    "\n",
    "    new_collection = []\n",
    "\n",
    "    df_len = len(df)\n",
    "\n",
    "    for i in range(df_len):\n",
    "\n",
    "        communes_array = collection_list[i]\n",
    "\n",
    "        len_communes_array = len(communes_array)\n",
    "\n",
    "        costs_array = costs_list[i]\n",
    "\n",
    "        len_costs_array = len(costs_array)\n",
    "\n",
    "        index_min = binarySearch(costs_array, minimal_duration, 0, len_costs_array - 1)\n",
    "\n",
    "        ratio = index_min / len_costs_array\n",
    "\n",
    "        index_begin = int(ratio*len_communes_array)\n",
    "\n",
    "        new_collection.append(communes_array[index_begin:])\n",
    "\n",
    "    df[\"collection\"] = new_collection\n",
    "\n",
    "    df.drop([\"costs\"], axis=1, inplace=True)\n",
    "\n",
    "    return df\n"
   ]
  },
  {
   "cell_type": "code",
   "execution_count": 172,
   "metadata": {},
   "outputs": [
    {
     "name": "stderr",
     "output_type": "stream",
     "text": [
      "/tmp/ipykernel_5433/309902433.py:28: SettingWithCopyWarning:\n",
      "\n",
      "\n",
      "A value is trying to be set on a copy of a slice from a DataFrame.\n",
      "Try using .loc[row_indexer,col_indexer] = value instead\n",
      "\n",
      "See the caveats in the documentation: https://pandas.pydata.org/pandas-docs/stable/user_guide/indexing.html#returning-a-view-versus-a-copy\n",
      "\n",
      "/tmp/ipykernel_5433/309902433.py:30: SettingWithCopyWarning:\n",
      "\n",
      "\n",
      "A value is trying to be set on a copy of a slice from a DataFrame\n",
      "\n",
      "See the caveats in the documentation: https://pandas.pydata.org/pandas-docs/stable/user_guide/indexing.html#returning-a-view-versus-a-copy\n",
      "\n"
     ]
    }
   ],
   "source": [
    "paths = filter_begining(paths, MINIMAL_TIME)"
   ]
  },
  {
   "cell_type": "code",
   "execution_count": 173,
   "metadata": {},
   "outputs": [
    {
     "data": {
      "text/html": [
       "<div>\n",
       "<style scoped>\n",
       "    .dataframe tbody tr th:only-of-type {\n",
       "        vertical-align: middle;\n",
       "    }\n",
       "\n",
       "    .dataframe tbody tr th {\n",
       "        vertical-align: top;\n",
       "    }\n",
       "\n",
       "    .dataframe thead th {\n",
       "        text-align: right;\n",
       "    }\n",
       "</style>\n",
       "<table border=\"1\" class=\"dataframe\">\n",
       "  <thead>\n",
       "    <tr style=\"text-align: right;\">\n",
       "      <th></th>\n",
       "      <th>source</th>\n",
       "      <th>target</th>\n",
       "      <th>collection</th>\n",
       "      <th>totalCost</th>\n",
       "    </tr>\n",
       "  </thead>\n",
       "  <tbody>\n",
       "    <tr>\n",
       "      <th>0</th>\n",
       "      <td>34057</td>\n",
       "      <td>1283</td>\n",
       "      <td>[26333, 26160, 38487, 69295, 69298, 69287, 692...</td>\n",
       "      <td>13953.5</td>\n",
       "    </tr>\n",
       "    <tr>\n",
       "      <th>1</th>\n",
       "      <td>87048</td>\n",
       "      <td>67306</td>\n",
       "      <td>[21512, 21412, 21712, 21037, 21428, 52519, 521...</td>\n",
       "      <td>23354.9</td>\n",
       "    </tr>\n",
       "    <tr>\n",
       "      <th>2</th>\n",
       "      <td>38389</td>\n",
       "      <td>66065</td>\n",
       "      <td>[26247, 26119, 26380, 26347, 26339, 26235, 840...</td>\n",
       "      <td>17542.1</td>\n",
       "    </tr>\n",
       "    <tr>\n",
       "      <th>3</th>\n",
       "      <td>6152</td>\n",
       "      <td>66004</td>\n",
       "      <td>[34183, 11106, 11024, 66174, 66230, 66007, 661...</td>\n",
       "      <td>20629.7</td>\n",
       "    </tr>\n",
       "    <tr>\n",
       "      <th>4</th>\n",
       "      <td>31303</td>\n",
       "      <td>74139</td>\n",
       "      <td>[7022, 38368, 38331, 38105, 38222, 38386, 3837...</td>\n",
       "      <td>22723.2</td>\n",
       "    </tr>\n",
       "    <tr>\n",
       "      <th>5</th>\n",
       "      <td>62397</td>\n",
       "      <td>68335</td>\n",
       "      <td>[2785, 2382, 2330, 2756, 2282, 2218, 2229, 247...</td>\n",
       "      <td>20360.9</td>\n",
       "    </tr>\n",
       "    <tr>\n",
       "      <th>6</th>\n",
       "      <td>60172</td>\n",
       "      <td>62472</td>\n",
       "      <td>[62698, 62472]</td>\n",
       "      <td>7341.3</td>\n",
       "    </tr>\n",
       "    <tr>\n",
       "      <th>7</th>\n",
       "      <td>13001</td>\n",
       "      <td>75056</td>\n",
       "      <td>[1430, 1151, 1355, 1343, 1332, 1320, 71448, 71...</td>\n",
       "      <td>26290.9</td>\n",
       "    </tr>\n",
       "  </tbody>\n",
       "</table>\n",
       "</div>"
      ],
      "text/plain": [
       "   source  target                                         collection   \n",
       "0   34057    1283  [26333, 26160, 38487, 69295, 69298, 69287, 692...  \\\n",
       "1   87048   67306  [21512, 21412, 21712, 21037, 21428, 52519, 521...   \n",
       "2   38389   66065  [26247, 26119, 26380, 26347, 26339, 26235, 840...   \n",
       "3    6152   66004  [34183, 11106, 11024, 66174, 66230, 66007, 661...   \n",
       "4   31303   74139  [7022, 38368, 38331, 38105, 38222, 38386, 3837...   \n",
       "5   62397   68335  [2785, 2382, 2330, 2756, 2282, 2218, 2229, 247...   \n",
       "6   60172   62472                                     [62698, 62472]   \n",
       "7   13001   75056  [1430, 1151, 1355, 1343, 1332, 1320, 71448, 71...   \n",
       "\n",
       "   totalCost  \n",
       "0    13953.5  \n",
       "1    23354.9  \n",
       "2    17542.1  \n",
       "3    20629.7  \n",
       "4    22723.2  \n",
       "5    20360.9  \n",
       "6     7341.3  \n",
       "7    26290.9  "
      ]
     },
     "execution_count": 173,
     "metadata": {},
     "output_type": "execute_result"
    }
   ],
   "source": [
    "paths"
   ]
  },
  {
   "cell_type": "code",
   "execution_count": 133,
   "metadata": {},
   "outputs": [],
   "source": [
    "paths.to_parquet(\"./datas/path_sample_10000_new.parquet\")"
   ]
  },
  {
   "cell_type": "markdown",
   "metadata": {},
   "source": [
    "Re-import :"
   ]
  },
  {
   "cell_type": "code",
   "execution_count": 38,
   "metadata": {},
   "outputs": [],
   "source": [
    "\"\"\"test_df = pd.read_parquet(\"./datas/test_paths_mini.parquet\")\"\"\""
   ]
  },
  {
   "cell_type": "markdown",
   "metadata": {},
   "source": [
    "----"
   ]
  },
  {
   "cell_type": "markdown",
   "metadata": {},
   "source": [
    "Visualisations de test"
   ]
  },
  {
   "cell_type": "markdown",
   "metadata": {},
   "source": [
    "Réupération des coordonnées des communes :"
   ]
  },
  {
   "cell_type": "code",
   "execution_count": 150,
   "metadata": {},
   "outputs": [],
   "source": [
    "with driver.session() as session:\n",
    "\n",
    "    result = session.execute_write(get_all_communes_with_coords)\n",
    "\n",
    "driver.close()\n",
    "\n",
    "df_communes = pd.DataFrame(result)"
   ]
  },
  {
   "cell_type": "code",
   "execution_count": 169,
   "metadata": {},
   "outputs": [],
   "source": [
    "def visualize_one_path(df, index):\n",
    "\n",
    "    index_list = df.iloc[index,2]\n",
    "\n",
    "    print(index_list)\n",
    "\n",
    "    print(f\" Path : {index_list}\")\n",
    "\n",
    "    df_reduce = df_communes.loc[df_communes['insee'].isin(index_list),:]\n",
    "\n",
    "    fig = px.scatter_mapbox(df_reduce, lat='y', lon='x', hover_name='insee', mapbox_style='open-street-map')\n",
    "\n",
    "    fig.show()\n",
    "\n",
    "    "
   ]
  },
  {
   "cell_type": "code",
   "execution_count": 175,
   "metadata": {},
   "outputs": [
    {
     "data": {
      "text/html": [
       "<div>\n",
       "<style scoped>\n",
       "    .dataframe tbody tr th:only-of-type {\n",
       "        vertical-align: middle;\n",
       "    }\n",
       "\n",
       "    .dataframe tbody tr th {\n",
       "        vertical-align: top;\n",
       "    }\n",
       "\n",
       "    .dataframe thead th {\n",
       "        text-align: right;\n",
       "    }\n",
       "</style>\n",
       "<table border=\"1\" class=\"dataframe\">\n",
       "  <thead>\n",
       "    <tr style=\"text-align: right;\">\n",
       "      <th></th>\n",
       "      <th>source</th>\n",
       "      <th>target</th>\n",
       "      <th>collection</th>\n",
       "      <th>totalCost</th>\n",
       "    </tr>\n",
       "  </thead>\n",
       "  <tbody>\n",
       "    <tr>\n",
       "      <th>0</th>\n",
       "      <td>34057</td>\n",
       "      <td>1283</td>\n",
       "      <td>[26333, 26160, 38487, 69295, 69298, 69287, 692...</td>\n",
       "      <td>13953.5</td>\n",
       "    </tr>\n",
       "    <tr>\n",
       "      <th>1</th>\n",
       "      <td>87048</td>\n",
       "      <td>67306</td>\n",
       "      <td>[21512, 21412, 21712, 21037, 21428, 52519, 521...</td>\n",
       "      <td>23354.9</td>\n",
       "    </tr>\n",
       "    <tr>\n",
       "      <th>2</th>\n",
       "      <td>38389</td>\n",
       "      <td>66065</td>\n",
       "      <td>[26247, 26119, 26380, 26347, 26339, 26235, 840...</td>\n",
       "      <td>17542.1</td>\n",
       "    </tr>\n",
       "    <tr>\n",
       "      <th>3</th>\n",
       "      <td>6152</td>\n",
       "      <td>66004</td>\n",
       "      <td>[34183, 11106, 11024, 66174, 66230, 66007, 661...</td>\n",
       "      <td>20629.7</td>\n",
       "    </tr>\n",
       "    <tr>\n",
       "      <th>4</th>\n",
       "      <td>31303</td>\n",
       "      <td>74139</td>\n",
       "      <td>[7022, 38368, 38331, 38105, 38222, 38386, 3837...</td>\n",
       "      <td>22723.2</td>\n",
       "    </tr>\n",
       "    <tr>\n",
       "      <th>5</th>\n",
       "      <td>62397</td>\n",
       "      <td>68335</td>\n",
       "      <td>[2785, 2382, 2330, 2756, 2282, 2218, 2229, 247...</td>\n",
       "      <td>20360.9</td>\n",
       "    </tr>\n",
       "    <tr>\n",
       "      <th>6</th>\n",
       "      <td>60172</td>\n",
       "      <td>62472</td>\n",
       "      <td>[62698, 62472]</td>\n",
       "      <td>7341.3</td>\n",
       "    </tr>\n",
       "    <tr>\n",
       "      <th>7</th>\n",
       "      <td>13001</td>\n",
       "      <td>75056</td>\n",
       "      <td>[1430, 1151, 1355, 1343, 1332, 1320, 71448, 71...</td>\n",
       "      <td>26290.9</td>\n",
       "    </tr>\n",
       "  </tbody>\n",
       "</table>\n",
       "</div>"
      ],
      "text/plain": [
       "   source  target                                         collection   \n",
       "0   34057    1283  [26333, 26160, 38487, 69295, 69298, 69287, 692...  \\\n",
       "1   87048   67306  [21512, 21412, 21712, 21037, 21428, 52519, 521...   \n",
       "2   38389   66065  [26247, 26119, 26380, 26347, 26339, 26235, 840...   \n",
       "3    6152   66004  [34183, 11106, 11024, 66174, 66230, 66007, 661...   \n",
       "4   31303   74139  [7022, 38368, 38331, 38105, 38222, 38386, 3837...   \n",
       "5   62397   68335  [2785, 2382, 2330, 2756, 2282, 2218, 2229, 247...   \n",
       "6   60172   62472                                     [62698, 62472]   \n",
       "7   13001   75056  [1430, 1151, 1355, 1343, 1332, 1320, 71448, 71...   \n",
       "\n",
       "   totalCost  \n",
       "0    13953.5  \n",
       "1    23354.9  \n",
       "2    17542.1  \n",
       "3    20629.7  \n",
       "4    22723.2  \n",
       "5    20360.9  \n",
       "6     7341.3  \n",
       "7    26290.9  "
      ]
     },
     "execution_count": 175,
     "metadata": {},
     "output_type": "execute_result"
    }
   ],
   "source": [
    "paths"
   ]
  },
  {
   "cell_type": "code",
   "execution_count": 174,
   "metadata": {},
   "outputs": [
    {
     "name": "stdout",
     "output_type": "stream",
     "text": [
      "[34183, 11106, 11024, 66174, 66230, 66007, 66103, 66161, 66054, 66223, 66193, 66125, 66010, 66047, 66157, 66105, 66004]\n",
      " Path : [34183, 11106, 11024, 66174, 66230, 66007, 66103, 66161, 66054, 66223, 66193, 66125, 66010, 66047, 66157, 66105, 66004]\n"
     ]
    },
    {
     "data": {
      "application/vnd.plotly.v1+json": {
       "config": {
        "plotlyServerURL": "https://plot.ly"
       },
       "data": [
        {
         "hovertemplate": "<b>%{hovertext}</b><br><br>y=%{lat}<br>x=%{lon}<extra></extra>",
         "hovertext": [
          66230,
          66125,
          66157,
          66054,
          66004,
          66193,
          66007,
          66105,
          34183,
          66223,
          66047,
          66010,
          11024,
          66103,
          11106,
          66161,
          66174
         ],
         "lat": [
          42.6450647,
          42.5552259,
          42.5860676,
          42.6137737,
          42.5776604,
          42.5682659,
          42.663411,
          42.5866989,
          43.2900051,
          42.5873137,
          42.5670807,
          42.556271499999994,
          43.1236647,
          42.6420936,
          43.2347407,
          42.610029350000005,
          42.6802608
         ],
         "legendgroup": "",
         "lon": [
          2.5287445,
          2.2701269,
          2.1823493,
          2.3557561,
          2.0726719,
          2.3225246,
          2.4858428,
          2.1183325,
          3.1279229,
          2.3673177,
          2.1617958,
          2.1888017544724265,
          2.9924502,
          2.4852352,
          3.0585293,
          2.39133067250345,
          2.743105
         ],
         "marker": {
          "color": "#636efa"
         },
         "mode": "markers",
         "name": "",
         "showlegend": false,
         "subplot": "mapbox",
         "type": "scattermapbox"
        }
       ],
       "layout": {
        "legend": {
         "tracegroupgap": 0
        },
        "mapbox": {
         "center": {
          "lat": 42.711036955882356,
          "lon": 2.4619315957044634
         },
         "domain": {
          "x": [
           0,
           1
          ],
          "y": [
           0,
           1
          ]
         },
         "style": "open-street-map",
         "zoom": 8
        },
        "margin": {
         "t": 60
        },
        "template": {
         "data": {
          "bar": [
           {
            "error_x": {
             "color": "#2a3f5f"
            },
            "error_y": {
             "color": "#2a3f5f"
            },
            "marker": {
             "line": {
              "color": "#E5ECF6",
              "width": 0.5
             },
             "pattern": {
              "fillmode": "overlay",
              "size": 10,
              "solidity": 0.2
             }
            },
            "type": "bar"
           }
          ],
          "barpolar": [
           {
            "marker": {
             "line": {
              "color": "#E5ECF6",
              "width": 0.5
             },
             "pattern": {
              "fillmode": "overlay",
              "size": 10,
              "solidity": 0.2
             }
            },
            "type": "barpolar"
           }
          ],
          "carpet": [
           {
            "aaxis": {
             "endlinecolor": "#2a3f5f",
             "gridcolor": "white",
             "linecolor": "white",
             "minorgridcolor": "white",
             "startlinecolor": "#2a3f5f"
            },
            "baxis": {
             "endlinecolor": "#2a3f5f",
             "gridcolor": "white",
             "linecolor": "white",
             "minorgridcolor": "white",
             "startlinecolor": "#2a3f5f"
            },
            "type": "carpet"
           }
          ],
          "choropleth": [
           {
            "colorbar": {
             "outlinewidth": 0,
             "ticks": ""
            },
            "type": "choropleth"
           }
          ],
          "contour": [
           {
            "colorbar": {
             "outlinewidth": 0,
             "ticks": ""
            },
            "colorscale": [
             [
              0,
              "#0d0887"
             ],
             [
              0.1111111111111111,
              "#46039f"
             ],
             [
              0.2222222222222222,
              "#7201a8"
             ],
             [
              0.3333333333333333,
              "#9c179e"
             ],
             [
              0.4444444444444444,
              "#bd3786"
             ],
             [
              0.5555555555555556,
              "#d8576b"
             ],
             [
              0.6666666666666666,
              "#ed7953"
             ],
             [
              0.7777777777777778,
              "#fb9f3a"
             ],
             [
              0.8888888888888888,
              "#fdca26"
             ],
             [
              1,
              "#f0f921"
             ]
            ],
            "type": "contour"
           }
          ],
          "contourcarpet": [
           {
            "colorbar": {
             "outlinewidth": 0,
             "ticks": ""
            },
            "type": "contourcarpet"
           }
          ],
          "heatmap": [
           {
            "colorbar": {
             "outlinewidth": 0,
             "ticks": ""
            },
            "colorscale": [
             [
              0,
              "#0d0887"
             ],
             [
              0.1111111111111111,
              "#46039f"
             ],
             [
              0.2222222222222222,
              "#7201a8"
             ],
             [
              0.3333333333333333,
              "#9c179e"
             ],
             [
              0.4444444444444444,
              "#bd3786"
             ],
             [
              0.5555555555555556,
              "#d8576b"
             ],
             [
              0.6666666666666666,
              "#ed7953"
             ],
             [
              0.7777777777777778,
              "#fb9f3a"
             ],
             [
              0.8888888888888888,
              "#fdca26"
             ],
             [
              1,
              "#f0f921"
             ]
            ],
            "type": "heatmap"
           }
          ],
          "heatmapgl": [
           {
            "colorbar": {
             "outlinewidth": 0,
             "ticks": ""
            },
            "colorscale": [
             [
              0,
              "#0d0887"
             ],
             [
              0.1111111111111111,
              "#46039f"
             ],
             [
              0.2222222222222222,
              "#7201a8"
             ],
             [
              0.3333333333333333,
              "#9c179e"
             ],
             [
              0.4444444444444444,
              "#bd3786"
             ],
             [
              0.5555555555555556,
              "#d8576b"
             ],
             [
              0.6666666666666666,
              "#ed7953"
             ],
             [
              0.7777777777777778,
              "#fb9f3a"
             ],
             [
              0.8888888888888888,
              "#fdca26"
             ],
             [
              1,
              "#f0f921"
             ]
            ],
            "type": "heatmapgl"
           }
          ],
          "histogram": [
           {
            "marker": {
             "pattern": {
              "fillmode": "overlay",
              "size": 10,
              "solidity": 0.2
             }
            },
            "type": "histogram"
           }
          ],
          "histogram2d": [
           {
            "colorbar": {
             "outlinewidth": 0,
             "ticks": ""
            },
            "colorscale": [
             [
              0,
              "#0d0887"
             ],
             [
              0.1111111111111111,
              "#46039f"
             ],
             [
              0.2222222222222222,
              "#7201a8"
             ],
             [
              0.3333333333333333,
              "#9c179e"
             ],
             [
              0.4444444444444444,
              "#bd3786"
             ],
             [
              0.5555555555555556,
              "#d8576b"
             ],
             [
              0.6666666666666666,
              "#ed7953"
             ],
             [
              0.7777777777777778,
              "#fb9f3a"
             ],
             [
              0.8888888888888888,
              "#fdca26"
             ],
             [
              1,
              "#f0f921"
             ]
            ],
            "type": "histogram2d"
           }
          ],
          "histogram2dcontour": [
           {
            "colorbar": {
             "outlinewidth": 0,
             "ticks": ""
            },
            "colorscale": [
             [
              0,
              "#0d0887"
             ],
             [
              0.1111111111111111,
              "#46039f"
             ],
             [
              0.2222222222222222,
              "#7201a8"
             ],
             [
              0.3333333333333333,
              "#9c179e"
             ],
             [
              0.4444444444444444,
              "#bd3786"
             ],
             [
              0.5555555555555556,
              "#d8576b"
             ],
             [
              0.6666666666666666,
              "#ed7953"
             ],
             [
              0.7777777777777778,
              "#fb9f3a"
             ],
             [
              0.8888888888888888,
              "#fdca26"
             ],
             [
              1,
              "#f0f921"
             ]
            ],
            "type": "histogram2dcontour"
           }
          ],
          "mesh3d": [
           {
            "colorbar": {
             "outlinewidth": 0,
             "ticks": ""
            },
            "type": "mesh3d"
           }
          ],
          "parcoords": [
           {
            "line": {
             "colorbar": {
              "outlinewidth": 0,
              "ticks": ""
             }
            },
            "type": "parcoords"
           }
          ],
          "pie": [
           {
            "automargin": true,
            "type": "pie"
           }
          ],
          "scatter": [
           {
            "fillpattern": {
             "fillmode": "overlay",
             "size": 10,
             "solidity": 0.2
            },
            "type": "scatter"
           }
          ],
          "scatter3d": [
           {
            "line": {
             "colorbar": {
              "outlinewidth": 0,
              "ticks": ""
             }
            },
            "marker": {
             "colorbar": {
              "outlinewidth": 0,
              "ticks": ""
             }
            },
            "type": "scatter3d"
           }
          ],
          "scattercarpet": [
           {
            "marker": {
             "colorbar": {
              "outlinewidth": 0,
              "ticks": ""
             }
            },
            "type": "scattercarpet"
           }
          ],
          "scattergeo": [
           {
            "marker": {
             "colorbar": {
              "outlinewidth": 0,
              "ticks": ""
             }
            },
            "type": "scattergeo"
           }
          ],
          "scattergl": [
           {
            "marker": {
             "colorbar": {
              "outlinewidth": 0,
              "ticks": ""
             }
            },
            "type": "scattergl"
           }
          ],
          "scattermapbox": [
           {
            "marker": {
             "colorbar": {
              "outlinewidth": 0,
              "ticks": ""
             }
            },
            "type": "scattermapbox"
           }
          ],
          "scatterpolar": [
           {
            "marker": {
             "colorbar": {
              "outlinewidth": 0,
              "ticks": ""
             }
            },
            "type": "scatterpolar"
           }
          ],
          "scatterpolargl": [
           {
            "marker": {
             "colorbar": {
              "outlinewidth": 0,
              "ticks": ""
             }
            },
            "type": "scatterpolargl"
           }
          ],
          "scatterternary": [
           {
            "marker": {
             "colorbar": {
              "outlinewidth": 0,
              "ticks": ""
             }
            },
            "type": "scatterternary"
           }
          ],
          "surface": [
           {
            "colorbar": {
             "outlinewidth": 0,
             "ticks": ""
            },
            "colorscale": [
             [
              0,
              "#0d0887"
             ],
             [
              0.1111111111111111,
              "#46039f"
             ],
             [
              0.2222222222222222,
              "#7201a8"
             ],
             [
              0.3333333333333333,
              "#9c179e"
             ],
             [
              0.4444444444444444,
              "#bd3786"
             ],
             [
              0.5555555555555556,
              "#d8576b"
             ],
             [
              0.6666666666666666,
              "#ed7953"
             ],
             [
              0.7777777777777778,
              "#fb9f3a"
             ],
             [
              0.8888888888888888,
              "#fdca26"
             ],
             [
              1,
              "#f0f921"
             ]
            ],
            "type": "surface"
           }
          ],
          "table": [
           {
            "cells": {
             "fill": {
              "color": "#EBF0F8"
             },
             "line": {
              "color": "white"
             }
            },
            "header": {
             "fill": {
              "color": "#C8D4E3"
             },
             "line": {
              "color": "white"
             }
            },
            "type": "table"
           }
          ]
         },
         "layout": {
          "annotationdefaults": {
           "arrowcolor": "#2a3f5f",
           "arrowhead": 0,
           "arrowwidth": 1
          },
          "autotypenumbers": "strict",
          "coloraxis": {
           "colorbar": {
            "outlinewidth": 0,
            "ticks": ""
           }
          },
          "colorscale": {
           "diverging": [
            [
             0,
             "#8e0152"
            ],
            [
             0.1,
             "#c51b7d"
            ],
            [
             0.2,
             "#de77ae"
            ],
            [
             0.3,
             "#f1b6da"
            ],
            [
             0.4,
             "#fde0ef"
            ],
            [
             0.5,
             "#f7f7f7"
            ],
            [
             0.6,
             "#e6f5d0"
            ],
            [
             0.7,
             "#b8e186"
            ],
            [
             0.8,
             "#7fbc41"
            ],
            [
             0.9,
             "#4d9221"
            ],
            [
             1,
             "#276419"
            ]
           ],
           "sequential": [
            [
             0,
             "#0d0887"
            ],
            [
             0.1111111111111111,
             "#46039f"
            ],
            [
             0.2222222222222222,
             "#7201a8"
            ],
            [
             0.3333333333333333,
             "#9c179e"
            ],
            [
             0.4444444444444444,
             "#bd3786"
            ],
            [
             0.5555555555555556,
             "#d8576b"
            ],
            [
             0.6666666666666666,
             "#ed7953"
            ],
            [
             0.7777777777777778,
             "#fb9f3a"
            ],
            [
             0.8888888888888888,
             "#fdca26"
            ],
            [
             1,
             "#f0f921"
            ]
           ],
           "sequentialminus": [
            [
             0,
             "#0d0887"
            ],
            [
             0.1111111111111111,
             "#46039f"
            ],
            [
             0.2222222222222222,
             "#7201a8"
            ],
            [
             0.3333333333333333,
             "#9c179e"
            ],
            [
             0.4444444444444444,
             "#bd3786"
            ],
            [
             0.5555555555555556,
             "#d8576b"
            ],
            [
             0.6666666666666666,
             "#ed7953"
            ],
            [
             0.7777777777777778,
             "#fb9f3a"
            ],
            [
             0.8888888888888888,
             "#fdca26"
            ],
            [
             1,
             "#f0f921"
            ]
           ]
          },
          "colorway": [
           "#636efa",
           "#EF553B",
           "#00cc96",
           "#ab63fa",
           "#FFA15A",
           "#19d3f3",
           "#FF6692",
           "#B6E880",
           "#FF97FF",
           "#FECB52"
          ],
          "font": {
           "color": "#2a3f5f"
          },
          "geo": {
           "bgcolor": "white",
           "lakecolor": "white",
           "landcolor": "#E5ECF6",
           "showlakes": true,
           "showland": true,
           "subunitcolor": "white"
          },
          "hoverlabel": {
           "align": "left"
          },
          "hovermode": "closest",
          "mapbox": {
           "style": "light"
          },
          "paper_bgcolor": "white",
          "plot_bgcolor": "#E5ECF6",
          "polar": {
           "angularaxis": {
            "gridcolor": "white",
            "linecolor": "white",
            "ticks": ""
           },
           "bgcolor": "#E5ECF6",
           "radialaxis": {
            "gridcolor": "white",
            "linecolor": "white",
            "ticks": ""
           }
          },
          "scene": {
           "xaxis": {
            "backgroundcolor": "#E5ECF6",
            "gridcolor": "white",
            "gridwidth": 2,
            "linecolor": "white",
            "showbackground": true,
            "ticks": "",
            "zerolinecolor": "white"
           },
           "yaxis": {
            "backgroundcolor": "#E5ECF6",
            "gridcolor": "white",
            "gridwidth": 2,
            "linecolor": "white",
            "showbackground": true,
            "ticks": "",
            "zerolinecolor": "white"
           },
           "zaxis": {
            "backgroundcolor": "#E5ECF6",
            "gridcolor": "white",
            "gridwidth": 2,
            "linecolor": "white",
            "showbackground": true,
            "ticks": "",
            "zerolinecolor": "white"
           }
          },
          "shapedefaults": {
           "line": {
            "color": "#2a3f5f"
           }
          },
          "ternary": {
           "aaxis": {
            "gridcolor": "white",
            "linecolor": "white",
            "ticks": ""
           },
           "baxis": {
            "gridcolor": "white",
            "linecolor": "white",
            "ticks": ""
           },
           "bgcolor": "#E5ECF6",
           "caxis": {
            "gridcolor": "white",
            "linecolor": "white",
            "ticks": ""
           }
          },
          "title": {
           "x": 0.05
          },
          "xaxis": {
           "automargin": true,
           "gridcolor": "white",
           "linecolor": "white",
           "ticks": "",
           "title": {
            "standoff": 15
           },
           "zerolinecolor": "white",
           "zerolinewidth": 2
          },
          "yaxis": {
           "automargin": true,
           "gridcolor": "white",
           "linecolor": "white",
           "ticks": "",
           "title": {
            "standoff": 15
           },
           "zerolinecolor": "white",
           "zerolinewidth": 2
          }
         }
        }
       }
      }
     },
     "metadata": {},
     "output_type": "display_data"
    }
   ],
   "source": [
    "visualize_one_path(paths, 3)"
   ]
  }
 ],
 "metadata": {
  "kernelspec": {
   "display_name": "ECartoMobile",
   "language": "python",
   "name": "python3"
  },
  "language_info": {
   "codemirror_mode": {
    "name": "ipython",
    "version": 3
   },
   "file_extension": ".py",
   "mimetype": "text/x-python",
   "name": "python",
   "nbconvert_exporter": "python",
   "pygments_lexer": "ipython3",
   "version": "3.11.3"
  },
  "orig_nbformat": 4
 },
 "nbformat": 4,
 "nbformat_minor": 2
}
